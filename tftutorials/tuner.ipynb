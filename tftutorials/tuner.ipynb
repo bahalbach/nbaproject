{
 "cells": [
  {
   "cell_type": "code",
   "execution_count": 2,
   "metadata": {},
   "outputs": [],
   "source": [
    "# setup\n",
    "\n",
    "import tensorflow as tf\n",
    "import tensorflow.keras\n",
    "import keras_tuner as kt\n",
    "keras = tensorflow.keras"
   ]
  },
  {
   "cell_type": "code",
   "execution_count": null,
   "metadata": {},
   "outputs": [],
   "source": [
    "# from tensorflow import keras"
   ]
  },
  {
   "cell_type": "code",
   "execution_count": 3,
   "metadata": {},
   "outputs": [],
   "source": [
    "# Download and prepare the dataset\n",
    "\n",
    "(img_train, label_train), (img_test, label_test) = keras.datasets.fashion_mnist.load_data()\n",
    "\n",
    "# Normalize pixel values\n",
    "img_train = img_train.astype('float32') / 255.0\n",
    "img_test = img_test.astype('float32') / 255.0\n"
   ]
  },
  {
   "cell_type": "code",
   "execution_count": 4,
   "metadata": {},
   "outputs": [],
   "source": [
    "# define hypermodel\n",
    "# can use a model builder func or subclass HyperModel\n",
    "\n",
    "def model_builder(hp: kt.HyperParameters):\n",
    "    model = keras.Sequential()\n",
    "    model.add(keras.layers.Flatten(input_shape=(28, 28)))\n",
    "\n",
    "    # tune num units in first dense layer [32, 512]\n",
    "    hp_units = hp.Int('units', min_value=32, max_value=512, step=32)\n",
    "    model.add(keras.layers.Dense(units=hp_units, activation='relu'))\n",
    "    model.add(keras.layers.Dense(10))\n",
    "\n",
    "    # tune learning rate for optimizer\n",
    "    hp_learning_rate = hp.Choice('learning_rate', values=[1e-2, 1e-3, 1e-4])\n",
    "\n",
    "    model.compile(optimizer=keras.optimizers.Adam(learning_rate=hp_learning_rate),\n",
    "                  loss=keras.losses.SparseCategoricalCrossentropy(from_logits=True), metrics=['accuracy'])\n",
    "\n",
    "    return model\n",
    "    "
   ]
  },
  {
   "cell_type": "code",
   "execution_count": 5,
   "metadata": {},
   "outputs": [
    {
     "name": "stdout",
     "output_type": "stream",
     "text": [
      "Trial 30 Complete [00h 00m 41s]\n",
      "val_accuracy: 0.8872500061988831\n",
      "\n",
      "Best val_accuracy So Far: 0.8895000219345093\n",
      "Total elapsed time: 00h 11m 38s\n",
      "INFO:tensorflow:Oracle triggered exit\n",
      "\n",
      "The hyperparameter search is complete. The optimal number of units in the first densely-connected\n",
      "layer is 416 and the optimal learning rate for the optimizer\n",
      "is 0.001.\n",
      "\n"
     ]
    }
   ],
   "source": [
    "# create tuner and find best model\n",
    "\n",
    "tuner = kt.Hyperband(model_builder, objective='val_accuracy', max_epochs=10,\n",
    "                     factor=3, directory='my_dir', project_name='intro_to_kt')\n",
    "stop_early = keras.callbacks.EarlyStopping(monitor='val_loss', patience=5)\n",
    "\n",
    "tuner.search(img_train, label_train, epochs=50,\n",
    "             validation_split=0.2, callbacks=[stop_early])\n",
    "\n",
    "best_hps=tuner.get_best_hyperparameters(num_trials=1)[0]\n",
    "print(f\"\"\"\n",
    "The hyperparameter search is complete. The optimal number of units in the first densely-connected\n",
    "layer is {best_hps.get('units')} and the optimal learning rate for the optimizer\n",
    "is {best_hps.get('learning_rate')}.\n",
    "\"\"\")\n"
   ]
  },
  {
   "cell_type": "code",
   "execution_count": 6,
   "metadata": {},
   "outputs": [
    {
     "name": "stdout",
     "output_type": "stream",
     "text": [
      "Epoch 1/50\n",
      "1500/1500 [==============================] - 7s 5ms/step - loss: 0.4942 - accuracy: 0.8251 - val_loss: 0.4052 - val_accuracy: 0.8527\n",
      "Epoch 2/50\n",
      "1500/1500 [==============================] - 7s 5ms/step - loss: 0.3710 - accuracy: 0.8633 - val_loss: 0.3796 - val_accuracy: 0.8584\n",
      "Epoch 3/50\n",
      "1500/1500 [==============================] - 7s 5ms/step - loss: 0.3317 - accuracy: 0.8783 - val_loss: 0.3715 - val_accuracy: 0.8643\n",
      "Epoch 4/50\n",
      "1500/1500 [==============================] - 6s 4ms/step - loss: 0.3056 - accuracy: 0.8866 - val_loss: 0.3347 - val_accuracy: 0.8777\n",
      "Epoch 5/50\n",
      "1500/1500 [==============================] - 6s 4ms/step - loss: 0.2860 - accuracy: 0.8928 - val_loss: 0.3476 - val_accuracy: 0.8767\n",
      "Epoch 6/50\n",
      "1500/1500 [==============================] - 6s 4ms/step - loss: 0.2717 - accuracy: 0.8984 - val_loss: 0.3496 - val_accuracy: 0.8749\n",
      "Epoch 7/50\n",
      "1500/1500 [==============================] - 6s 4ms/step - loss: 0.2590 - accuracy: 0.9041 - val_loss: 0.3371 - val_accuracy: 0.8824\n",
      "Epoch 8/50\n",
      "1500/1500 [==============================] - 6s 4ms/step - loss: 0.2429 - accuracy: 0.9099 - val_loss: 0.3164 - val_accuracy: 0.8861\n",
      "Epoch 9/50\n",
      "1500/1500 [==============================] - 6s 4ms/step - loss: 0.2334 - accuracy: 0.9119 - val_loss: 0.3153 - val_accuracy: 0.8882\n",
      "Epoch 10/50\n",
      "1500/1500 [==============================] - 6s 4ms/step - loss: 0.2246 - accuracy: 0.9166 - val_loss: 0.3069 - val_accuracy: 0.8935\n",
      "Epoch 11/50\n",
      "1500/1500 [==============================] - 6s 4ms/step - loss: 0.2170 - accuracy: 0.9182 - val_loss: 0.3411 - val_accuracy: 0.8833\n",
      "Epoch 12/50\n",
      "1500/1500 [==============================] - 7s 4ms/step - loss: 0.2077 - accuracy: 0.9220 - val_loss: 0.3489 - val_accuracy: 0.8845\n",
      "Epoch 13/50\n",
      "1500/1500 [==============================] - 5s 4ms/step - loss: 0.2012 - accuracy: 0.9248 - val_loss: 0.3272 - val_accuracy: 0.8919\n",
      "Epoch 14/50\n",
      "1500/1500 [==============================] - 6s 4ms/step - loss: 0.1896 - accuracy: 0.9288 - val_loss: 0.3349 - val_accuracy: 0.8938\n",
      "Epoch 15/50\n",
      "1500/1500 [==============================] - 8s 5ms/step - loss: 0.1875 - accuracy: 0.9298 - val_loss: 0.3169 - val_accuracy: 0.8951\n",
      "Epoch 16/50\n",
      "1500/1500 [==============================] - 9s 6ms/step - loss: 0.1798 - accuracy: 0.9324 - val_loss: 0.3473 - val_accuracy: 0.8907\n",
      "Epoch 17/50\n",
      "1500/1500 [==============================] - 7s 5ms/step - loss: 0.1744 - accuracy: 0.9342 - val_loss: 0.3267 - val_accuracy: 0.8966\n",
      "Epoch 18/50\n",
      "1500/1500 [==============================] - 10s 6ms/step - loss: 0.1688 - accuracy: 0.9366 - val_loss: 0.3617 - val_accuracy: 0.8823\n",
      "Epoch 19/50\n",
      "1500/1500 [==============================] - 6s 4ms/step - loss: 0.1624 - accuracy: 0.9391 - val_loss: 0.3541 - val_accuracy: 0.8932\n",
      "Epoch 20/50\n",
      "1500/1500 [==============================] - 7s 4ms/step - loss: 0.1600 - accuracy: 0.9400 - val_loss: 0.3855 - val_accuracy: 0.8850\n",
      "Epoch 21/50\n",
      "1500/1500 [==============================] - 7s 5ms/step - loss: 0.1520 - accuracy: 0.9422 - val_loss: 0.3633 - val_accuracy: 0.8939\n",
      "Epoch 22/50\n",
      "1500/1500 [==============================] - 6s 4ms/step - loss: 0.1490 - accuracy: 0.9434 - val_loss: 0.3561 - val_accuracy: 0.8963\n",
      "Epoch 23/50\n",
      "1500/1500 [==============================] - 5s 3ms/step - loss: 0.1440 - accuracy: 0.9458 - val_loss: 0.3497 - val_accuracy: 0.8970\n",
      "Epoch 24/50\n",
      "1500/1500 [==============================] - 6s 4ms/step - loss: 0.1410 - accuracy: 0.9469 - val_loss: 0.3717 - val_accuracy: 0.8947\n",
      "Epoch 25/50\n",
      "1500/1500 [==============================] - 5s 4ms/step - loss: 0.1352 - accuracy: 0.9495 - val_loss: 0.3554 - val_accuracy: 0.8971\n",
      "Epoch 26/50\n",
      "1500/1500 [==============================] - 5s 4ms/step - loss: 0.1325 - accuracy: 0.9494 - val_loss: 0.3876 - val_accuracy: 0.8917\n",
      "Epoch 27/50\n",
      "1500/1500 [==============================] - 5s 4ms/step - loss: 0.1269 - accuracy: 0.9525 - val_loss: 0.3968 - val_accuracy: 0.8907\n",
      "Epoch 28/50\n",
      "1500/1500 [==============================] - 5s 4ms/step - loss: 0.1247 - accuracy: 0.9535 - val_loss: 0.3836 - val_accuracy: 0.8967\n",
      "Epoch 29/50\n",
      "1500/1500 [==============================] - 5s 3ms/step - loss: 0.1202 - accuracy: 0.9546 - val_loss: 0.3939 - val_accuracy: 0.8929\n",
      "Epoch 30/50\n",
      "1500/1500 [==============================] - 5s 4ms/step - loss: 0.1191 - accuracy: 0.9552 - val_loss: 0.4053 - val_accuracy: 0.8906\n",
      "Epoch 31/50\n",
      "1500/1500 [==============================] - 6s 4ms/step - loss: 0.1158 - accuracy: 0.9564 - val_loss: 0.4218 - val_accuracy: 0.8946\n",
      "Epoch 32/50\n",
      "1500/1500 [==============================] - 5s 3ms/step - loss: 0.1129 - accuracy: 0.9583 - val_loss: 0.4250 - val_accuracy: 0.8944\n",
      "Epoch 33/50\n",
      "1500/1500 [==============================] - 5s 4ms/step - loss: 0.1084 - accuracy: 0.9598 - val_loss: 0.4413 - val_accuracy: 0.8892\n",
      "Epoch 34/50\n",
      "1500/1500 [==============================] - 7s 4ms/step - loss: 0.1097 - accuracy: 0.9596 - val_loss: 0.4116 - val_accuracy: 0.8972\n",
      "Epoch 35/50\n",
      "1500/1500 [==============================] - 6s 4ms/step - loss: 0.1034 - accuracy: 0.9611 - val_loss: 0.4988 - val_accuracy: 0.8864\n",
      "Epoch 36/50\n",
      "1500/1500 [==============================] - 5s 4ms/step - loss: 0.1001 - accuracy: 0.9624 - val_loss: 0.4593 - val_accuracy: 0.8917\n",
      "Epoch 37/50\n",
      "1500/1500 [==============================] - 5s 3ms/step - loss: 0.0995 - accuracy: 0.9618 - val_loss: 0.4847 - val_accuracy: 0.8884\n",
      "Epoch 38/50\n",
      "1500/1500 [==============================] - 5s 3ms/step - loss: 0.0962 - accuracy: 0.9640 - val_loss: 0.4416 - val_accuracy: 0.8958\n",
      "Epoch 39/50\n",
      "1500/1500 [==============================] - 5s 4ms/step - loss: 0.0976 - accuracy: 0.9621 - val_loss: 0.4696 - val_accuracy: 0.8938\n",
      "Epoch 40/50\n",
      "1500/1500 [==============================] - 6s 4ms/step - loss: 0.0933 - accuracy: 0.9649 - val_loss: 0.4779 - val_accuracy: 0.8892\n",
      "Epoch 41/50\n",
      "1500/1500 [==============================] - 5s 3ms/step - loss: 0.0882 - accuracy: 0.9672 - val_loss: 0.4931 - val_accuracy: 0.8895\n",
      "Epoch 42/50\n",
      "1500/1500 [==============================] - 5s 3ms/step - loss: 0.0876 - accuracy: 0.9676 - val_loss: 0.5060 - val_accuracy: 0.8932\n",
      "Epoch 43/50\n",
      "1500/1500 [==============================] - 5s 3ms/step - loss: 0.0852 - accuracy: 0.9685 - val_loss: 0.4892 - val_accuracy: 0.8906\n",
      "Epoch 44/50\n",
      "1500/1500 [==============================] - 5s 3ms/step - loss: 0.0854 - accuracy: 0.9679 - val_loss: 0.5182 - val_accuracy: 0.8947\n",
      "Epoch 45/50\n",
      "1500/1500 [==============================] - 5s 4ms/step - loss: 0.0833 - accuracy: 0.9693 - val_loss: 0.5091 - val_accuracy: 0.8936\n",
      "Epoch 46/50\n",
      "1500/1500 [==============================] - 5s 3ms/step - loss: 0.0813 - accuracy: 0.9694 - val_loss: 0.4931 - val_accuracy: 0.8967\n",
      "Epoch 47/50\n",
      "1500/1500 [==============================] - 6s 4ms/step - loss: 0.0788 - accuracy: 0.9707 - val_loss: 0.5195 - val_accuracy: 0.8963\n",
      "Epoch 48/50\n",
      "1500/1500 [==============================] - 5s 3ms/step - loss: 0.0779 - accuracy: 0.9716 - val_loss: 0.5447 - val_accuracy: 0.8953\n",
      "Epoch 49/50\n",
      "1500/1500 [==============================] - 5s 3ms/step - loss: 0.0777 - accuracy: 0.9705 - val_loss: 0.5507 - val_accuracy: 0.8922\n",
      "Epoch 50/50\n",
      "1500/1500 [==============================] - 5s 3ms/step - loss: 0.0781 - accuracy: 0.9708 - val_loss: 0.5203 - val_accuracy: 0.8923\n",
      "Best epoch: 33\n"
     ]
    }
   ],
   "source": [
    "# build model with optimal hyperparameters and train\n",
    "model: keras.Model = tuner.hypermodel.build(best_hps)\n",
    "history: keras.callbacks.History = model.fit(img_train, label_train, epochs=50, validation_split=0.2)\n",
    "\n",
    "val_acc_per_epoch = history.history['val_accuracy']\n",
    "best_epoch = val_acc_per_epoch.index(max(val_acc_per_epoch))\n",
    "\n",
    "print('Best epoch: %d' % (best_epoch,))"
   ]
  },
  {
   "cell_type": "code",
   "execution_count": 7,
   "metadata": {},
   "outputs": [
    {
     "data": {
      "text/plain": [
       "keras.callbacks.History"
      ]
     },
     "execution_count": 7,
     "metadata": {},
     "output_type": "execute_result"
    }
   ],
   "source": [
    "type(history)"
   ]
  }
 ],
 "metadata": {
  "interpreter": {
   "hash": "a8590208259839df94eb6993e24edc5fa127f3c6a8a3318c28674b5b9a9a2d23"
  },
  "kernelspec": {
   "display_name": "Python 3.9.2 64-bit ('.venv39': venv)",
   "language": "python",
   "name": "python3"
  },
  "language_info": {
   "codemirror_mode": {
    "name": "ipython",
    "version": 3
   },
   "file_extension": ".py",
   "mimetype": "text/x-python",
   "name": "python",
   "nbconvert_exporter": "python",
   "pygments_lexer": "ipython3",
   "version": "3.9.2"
  },
  "orig_nbformat": 4
 },
 "nbformat": 4,
 "nbformat_minor": 2
}
