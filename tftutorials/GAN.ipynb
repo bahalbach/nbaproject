{
 "cells": [
  {
   "cell_type": "code",
   "execution_count": 1,
   "metadata": {},
   "outputs": [],
   "source": [
    "# import libraries\n",
    "\n",
    "import tensorflow as tf\n",
    "\n",
    "# load dataset \n"
   ]
  }
 ],
 "metadata": {
  "interpreter": {
   "hash": "a8590208259839df94eb6993e24edc5fa127f3c6a8a3318c28674b5b9a9a2d23"
  },
  "kernelspec": {
   "display_name": "Python 3.9.2 64-bit ('.venv39': venv)",
   "language": "python",
   "name": "python3"
  },
  "language_info": {
   "codemirror_mode": {
    "name": "ipython",
    "version": 3
   },
   "file_extension": ".py",
   "mimetype": "text/x-python",
   "name": "python",
   "nbconvert_exporter": "python",
   "pygments_lexer": "ipython3",
   "version": "3.9.2"
  },
  "orig_nbformat": 4
 },
 "nbformat": 4,
 "nbformat_minor": 2
}
