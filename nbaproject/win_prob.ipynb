{
 "cells": [
  {
   "cell_type": "code",
   "execution_count": 1,
   "metadata": {},
   "outputs": [
    {
     "name": "stdout",
     "output_type": "stream",
     "text": [
      "Loaded  2000-01 16:19:20.074786\n",
      "Loaded  2001-02 16:19:29.311277\n",
      "Loaded  2002-03 16:19:37.126806\n",
      "Loaded  2003-04 16:19:43.592080\n",
      "Loaded  2004-05 16:19:51.426698\n"
     ]
    }
   ],
   "source": [
    "from datetime import datetime\n",
    "from nba import NbaTracker\n",
    "import importlib\n",
    "import nba\n",
    "importlib.reload(nba)\n",
    "\n",
    "# data starts from 2000-01\n",
    "seasons = [\n",
    "    \"2000-01\",\n",
    "    \"2001-02\",\n",
    "    \"2002-03\",\n",
    "    \"2003-04\",\n",
    "    \"2004-05\",\n",
    "    \"2005-06\",\n",
    "    \"2006-07\",\n",
    "    \"2007-08\",\n",
    "    \"2008-09\",\n",
    "    \"2009-10\",\n",
    "    \"2010-11\",\n",
    "    \"2011-12\",\n",
    "    \"2012-13\",\n",
    "    \"2013-14\",\n",
    "    \"2014-15\",\n",
    "    \"2015-16\",\n",
    "    \"2016-17\",\n",
    "    \"2017-18\",\n",
    "    \"2018-19\",\n",
    "    \"2019-20\",\n",
    "    \"2020-21\"\n",
    "]  # 19-20 was bubble season\n",
    "\n",
    "nbaTracker = NbaTracker()\n",
    "for season_name in seasons[:5]:\n",
    "    nbaTracker.load_season(season_name)\n",
    "    print(\"Loaded \", season_name, datetime.now().time())"
   ]
  },
  {
   "cell_type": "code",
   "execution_count": 2,
   "metadata": {},
   "outputs": [],
   "source": [
    "import pandas as pd\n",
    "df = pd.read_csv(\"C:/Users/bhalb/nbaproject/data/possession_data.csv\")\n"
   ]
  },
  {
   "cell_type": "code",
   "execution_count": null,
   "metadata": {},
   "outputs": [],
   "source": [
    "import matplotlib.pyplot as plt\n",
    "import numpy as np\n",
    "import pandas as pd\n",
    "from sklearn.model_selection import train_test_split\n",
    "train, test = train_test_split(df, random_state=5325)\n"
   ]
  },
  {
   "cell_type": "code",
   "execution_count": null,
   "metadata": {},
   "outputs": [],
   "source": [
    "plot = train.sample(n=100000).copy()\n"
   ]
  },
  {
   "cell_type": "code",
   "execution_count": null,
   "metadata": {},
   "outputs": [],
   "source": [
    "plot.plot(kind='scatter', x=\"time\", y=\"score_margin\", alpha=0.1, c=plot[\"is_win\"], cmap=plt.get_cmap(\"jet\"), colorbar=True, figsize=(\n",
    "    10, 7))"
   ]
  },
  {
   "cell_type": "code",
   "execution_count": null,
   "metadata": {},
   "outputs": [],
   "source": [
    "plot[\"time\"] = (2880 - plot[\"seconds_left\"])\n"
   ]
  },
  {
   "cell_type": "code",
   "execution_count": null,
   "metadata": {},
   "outputs": [],
   "source": [
    "plot[\"timescore\"] = plot[\"time\"] * plot[\"score_margin\"]\n",
    "plot[\"timescore\"].hist()\n"
   ]
  },
  {
   "cell_type": "code",
   "execution_count": null,
   "metadata": {},
   "outputs": [],
   "source": [
    "plot[\"certainty\"] = np.abs(plot[\"score_margin\"]) * plot[\"time\"]\n"
   ]
  },
  {
   "cell_type": "code",
   "execution_count": null,
   "metadata": {},
   "outputs": [],
   "source": [
    "X_train = train.drop(\"is_win\", axis=1)\n"
   ]
  },
  {
   "cell_type": "code",
   "execution_count": null,
   "metadata": {},
   "outputs": [],
   "source": [
    "X_train.values[:,0].max()"
   ]
  },
  {
   "cell_type": "code",
   "execution_count": null,
   "metadata": {},
   "outputs": [],
   "source": [
    "from sklearn.base import BaseEstimator, TransformerMixin\n",
    "# transformers act on array not df\n",
    "left_ix = 0\n",
    "score_ix = 1\n",
    "home_ix = 2\n",
    "\n",
    "\n",
    "class CombinedAttrAdder(BaseEstimator, TransformerMixin):\n",
    "    def __init__(self) -> None:\n",
    "        pass\n",
    "\n",
    "    def fit(self, X, y=None):\n",
    "        self.max_time = X[:, left_ix].max()\n",
    "        return self\n",
    "\n",
    "    def transform(self, X, y=None):\n",
    "        time = (self.max_time - X[:, left_ix]) / self.max_time\n",
    "        timescore = time * X[:, score_ix]\n",
    "        return np.c_[X[:, home_ix], time, X[:, score_ix], timescore]\n"
   ]
  },
  {
   "cell_type": "code",
   "execution_count": null,
   "metadata": {},
   "outputs": [],
   "source": [
    "from sklearn.compose import make_column_transformer\n",
    "from sklearn.preprocessing import StandardScaler\n",
    "from sklearn.pipeline import Pipeline\n",
    "\n",
    "ct = make_column_transformer(\n",
    "    ('passthrough', [0, 1]), (StandardScaler(), [2, 3]),)\n",
    "pipeline = Pipeline([('attr_added', CombinedAttrAdder()), ('ct', ct)])\n"
   ]
  },
  {
   "cell_type": "code",
   "execution_count": null,
   "metadata": {},
   "outputs": [],
   "source": [
    "X_train = pipeline.fit_transform(train.drop(\"is_win\", axis=1).to_numpy())\n",
    "y_train = train[\"is_win\"]\n"
   ]
  },
  {
   "cell_type": "code",
   "execution_count": null,
   "metadata": {},
   "outputs": [],
   "source": [
    "from sklearn.linear_model import SGDClassifier, LogisticRegression\n",
    "from sklearn.tree import DecisionTreeClassifier\n",
    "from sklearn.svm import SVC\n",
    "clf = SVC()\n",
    "clf.fit(X_train, y_train.ravel())\n"
   ]
  },
  {
   "cell_type": "code",
   "execution_count": null,
   "metadata": {},
   "outputs": [],
   "source": [
    "test = np.array([[200, -2, 0]])\n",
    "clf.predict_proba(pipeline.transform(test))\n"
   ]
  },
  {
   "cell_type": "code",
   "execution_count": null,
   "metadata": {},
   "outputs": [],
   "source": [
    "print(clf.predict(X_train[:10]), '\\n', y_train.values[:10])\n"
   ]
  }
 ],
 "metadata": {
  "interpreter": {
   "hash": "a8590208259839df94eb6993e24edc5fa127f3c6a8a3318c28674b5b9a9a2d23"
  },
  "kernelspec": {
   "display_name": "Python 3.9.2 64-bit ('.venv39': venv)",
   "language": "python",
   "name": "python3"
  },
  "language_info": {
   "codemirror_mode": {
    "name": "ipython",
    "version": 3
   },
   "file_extension": ".py",
   "mimetype": "text/x-python",
   "name": "python",
   "nbconvert_exporter": "python",
   "pygments_lexer": "ipython3",
   "version": "3.9.2"
  },
  "orig_nbformat": 4
 },
 "nbformat": 4,
 "nbformat_minor": 2
}
