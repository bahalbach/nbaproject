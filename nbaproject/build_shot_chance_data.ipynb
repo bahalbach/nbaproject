{
 "cells": [
  {
   "cell_type": "code",
   "execution_count": 1,
   "metadata": {},
   "outputs": [],
   "source": [
    "%load_ext autoreload\n",
    "%autoreload 2\n"
   ]
  },
  {
   "cell_type": "code",
   "execution_count": 2,
   "metadata": {},
   "outputs": [],
   "source": [
    "from nba import NbaTracker\n",
    "from build_shot_chance_data import process_season\n",
    "nbaTracker = NbaTracker()\n",
    "# nbaTracker.add_season(\"2000-01\")"
   ]
  },
  {
   "cell_type": "code",
   "execution_count": 3,
   "metadata": {},
   "outputs": [],
   "source": [
    "from nba_api.stats.static.players import find_player_by_id\n",
    "from nba_api.stats.static.teams import find_team_name_by_id\n",
    "\n",
    "\n",
    "def get_player_names(event):\n",
    "    for team, players in event.current_players.items():\n",
    "        print(find_team_name_by_id(team)['nickname'], list(\n",
    "            map(lambda pid: find_player_by_id(pid)['full_name'], players)))\n",
    "    if hasattr(event, \"player1_id\"):\n",
    "        print(\"player1\", find_player_by_id(event.player1_id)['full_name'] if event.player1_id else 0)\n",
    "    if hasattr(event, \"player2_id\"):\n",
    "        print(\"player2\", find_player_by_id(event.player2_id)['full_name'])\n",
    "    if hasattr(event, \"player3_id\"):\n",
    "        print(\"player3\", find_player_by_id(event.player3_id)['full_name'])\n",
    "\n"
   ]
  },
  {
   "cell_type": "code",
   "execution_count": 45,
   "metadata": {},
   "outputs": [
    {
     "name": "stdout",
     "output_type": "stream",
     "text": [
      "prcessed 100 games\n",
      "prcessed 200 games\n",
      "prcessed 300 games\n",
      "prcessed 400 games\n",
      "prcessed 500 games\n",
      "prcessed 600 games\n",
      "prcessed 700 games\n",
      "prcessed 800 games\n",
      "prcessed 900 games\n",
      "prcessed 1000 games\n",
      "prcessed 1100 games\n",
      "prcessed 1200 games\n",
      "         321287312 function calls (232458087 primitive calls) in 406.315 seconds\n",
      "\n",
      "   Ordered by: standard name\n",
      "\n",
      "   ncalls  tottime  percall  cumtime  percall filename:lineno(function)\n",
      "        1    0.580    0.580  412.954  412.954 <string>:1(<module>)\n",
      "     1230    0.003    0.000    0.003    0.000 <string>:2(__init__)\n",
      "       30    0.000    0.000    0.000    0.000 Season.py:156(reset_season)\n",
      "    66073    0.353    0.000    4.614    0.000 __init__.py:1056(flush)\n",
      "    58693    0.344    0.000    4.744    0.000 __init__.py:1067(emit)\n",
      "     1230    0.016    0.000    0.386    0.000 __init__.py:1144(close)\n",
      "     1230    0.004    0.000    0.770    0.001 __init__.py:1166(_open)\n",
      "    58693    0.212    0.000    5.726    0.000 __init__.py:1174(emit)\n",
      "    58693    0.108    0.000    0.147    0.000 __init__.py:119(getLevelName)\n",
      "     3690    0.004    0.000    0.004    0.000 __init__.py:1202(stream)\n",
      "    57463    0.354    0.000   13.023    0.000 __init__.py:1420(debug)\n",
      "     1230    0.013    0.000    1.253    0.001 __init__.py:1432(info)\n",
      "    58693    0.673    0.000    1.577    0.000 __init__.py:1510(findCaller)\n",
      "    58693    0.217    0.000    5.039    0.000 __init__.py:1546(makeRecord)\n",
      "    58693    0.112    0.000    0.183    0.000 __init__.py:156(<lambda>)\n",
      "    58693    0.392    0.000   13.811    0.000 __init__.py:1561(_log)\n",
      "    58693    0.175    0.000    6.802    0.000 __init__.py:1587(handle)\n",
      "    58693    0.260    0.000    6.562    0.000 __init__.py:1641(callHandlers)\n",
      "    58693    0.098    0.000    0.098    0.000 __init__.py:1685(isEnabledFor)\n",
      "     1230    0.010    0.000    0.016    0.000 __init__.py:1904(basicConfig)\n",
      "     1230    0.008    0.000    1.261    0.001 __init__.py:2085(info)\n",
      "    57463    0.315    0.000   13.359    0.000 __init__.py:2095(debug)\n",
      "     1230    0.089    0.000    2.235    0.002 __init__.py:2122(shutdown)\n",
      "    11070    0.015    0.000    0.022    0.000 __init__.py:214(_acquireLock)\n",
      "    11070    0.012    0.000    0.015    0.000 __init__.py:223(_releaseLock)\n",
      "     4920    0.084    0.000   14.098    0.003 __init__.py:274(load)\n",
      "    58693    1.703    0.000    4.822    0.000 __init__.py:278(__init__)\n",
      "     8621    0.094    0.000   13.970    0.002 __init__.py:299(loads)\n",
      "    58693    0.106    0.000    0.106    0.000 __init__.py:354(getMessage)\n",
      "    58693    0.114    0.000    0.192    0.000 __init__.py:417(usesTime)\n",
      "    58693    0.288    0.000    0.288    0.000 __init__.py:425(_format)\n",
      "    58693    0.108    0.000    0.396    0.000 __init__.py:428(format)\n",
      "    58693    0.113    0.000    0.305    0.000 __init__.py:624(usesTime)\n",
      "    58693    0.073    0.000    0.469    0.000 __init__.py:630(formatMessage)\n",
      "    58693    0.248    0.000    1.128    0.000 __init__.py:646(format)\n",
      "   117386    0.112    0.000    0.112    0.000 __init__.py:787(filter)\n",
      "   135836    0.206    0.000    0.321    0.000 __init__.py:892(acquire)\n",
      "   135836    0.146    0.000    0.193    0.000 __init__.py:899(release)\n",
      "    58693    0.125    0.000    1.253    0.000 __init__.py:912(format)\n",
      "    58693    0.272    0.000    6.302    0.000 __init__.py:935(handle)\n",
      "     3690    0.002    0.000    0.002    0.000 __init__.py:959(flush)\n",
      "     9840    0.029    0.000    0.064    0.000 __init__.py:968(close)\n",
      "     8621    0.043    0.000    0.118    0.000 _bootlocale.py:11(getpreferredencoding)\n",
      "  4666270    2.817    0.000    6.664    0.000 abc.py:96(__instancecheck__)\n",
      "     3690    0.038    0.000   16.664    0.005 abs_data_loader.py:12(decorated_method)\n",
      "     3690    0.033    0.000   17.908    0.005 base.py:21(make_list_of_dicts)\n",
      "     3690    2.977    0.001    2.977    0.001 base.py:31(<listcomp>)\n",
      "     6150   15.875    0.003   16.109    0.003 base.py:33(dedupe_events_row_set)\n",
      "     3690    0.023    0.000   19.999    0.005 base.py:49(data)\n",
      "     1230    0.005    0.000    0.005    0.000 base.py:56(league)\n",
      "     1230    0.002    0.000    0.002    0.000 boxscore.py:18(__init__)\n",
      "     3690    0.009    0.000    0.084    0.000 boxscore.py:35(team_items)\n",
      "     3690    0.037    0.000    0.075    0.000 boxscore.py:40(<listcomp>)\n",
      "        1    0.595    0.595  412.373  412.373 build_shot_chance_data.py:261(process_season)\n",
      "      109    0.000    0.000    0.000    0.000 build_shot_chance_data.py:28(is_fouling_team_in_penalty)\n",
      "     1230   23.536    0.019  278.081    0.226 build_shot_chance_data.py:282(process_game)\n",
      "       67    0.000    0.000    0.006    0.000 build_shot_chance_data.py:34(find_free_throw_shooter)\n",
      "     4932    0.006    0.000    0.007    0.000 build_shot_chance_data.py:60(is_jumpball_violation)\n",
      "      276    0.001    0.000    0.001    0.000 build_shot_chance_data.py:64(is_jumpball_turnover)\n",
      "53921/53913    1.120    0.000    2.292    0.000 build_shot_chance_data.py:73(get_num_fta_from_foul)\n",
      "     1230    0.003    0.000    0.003    0.000 codecs.py:186(__init__)\n",
      "     8621    0.013    0.000    0.013    0.000 codecs.py:260(__init__)\n",
      "     8621    0.033    0.000    0.790    0.000 cp1252.py:22(decode)\n",
      "     3701    0.059    0.000    0.059    0.000 decoder.py:284(__init__)\n",
      "     8621    0.085    0.000   12.733    0.001 decoder.py:332(decode)\n",
      "     8621   12.566    0.001   12.566    0.001 decoder.py:343(raw_decode)\n",
      "       55    0.000    0.000    0.002    0.000 ejection.py:14(__init__)\n",
      "     5009    0.013    0.000    0.180    0.000 end_of_period.py:14(__init__)\n",
      "     1230    0.006    0.000    0.091    0.000 enhanced_pbp_factory.py:27(__init__)\n",
      "     1230    0.036    0.000    0.085    0.000 enhanced_pbp_factory.py:31(_load_event_classes)\n",
      "     1230    0.029    0.000    0.043    0.000 enhanced_pbp_factory.py:33(<listcomp>)\n",
      "   568315    0.458    0.000    0.608    0.000 enhanced_pbp_factory.py:46(get_event_class)\n",
      " 11371544   24.471    0.000   28.836    0.000 enhanced_pbp_item.py:112(seconds_remaining)\n",
      "391823/391715    4.763    0.000   73.157    0.000 enhanced_pbp_item.py:140(get_offense_team_id)\n",
      "   603706    4.325    0.000   98.253    0.000 enhanced_pbp_item.py:145(is_penalty_event)\n",
      "     3319    0.007    0.000    0.167    0.000 enhanced_pbp_item.py:180(count_as_possession)\n",
      "763678/759448    3.208    0.000   26.288    0.000 enhanced_pbp_item.py:205(is_possession_ending_event)\n",
      "2441/2439    0.016    0.000    0.181    0.000 enhanced_pbp_item.py:265(_is_jump_ball_possession_ending_event)\n",
      "   568315   10.803    0.000   17.800    0.000 enhanced_pbp_item.py:44(__init__)\n",
      "  1066745    9.065    0.000   37.044    0.000 enhanced_pbp_item.py:52(get_all_events_at_current_time)\n",
      "  1837425    0.702    0.000    0.702    0.000 enhanced_pbp_item.py:69(<lambda>)\n",
      "83575728/1553856   63.239    0.000  133.367    0.000 enhanced_pbp_item.py:71(current_players)\n",
      "  1360631    1.175    0.000    1.634    0.000 enum.py:745(__hash__)\n",
      "   208050    0.501    0.000    6.942    0.000 field_goal.py:14(__init__)\n",
      "    94065    0.194    0.000    5.509    0.000 field_goal.py:146(is_and1)\n",
      "     5207    0.015    0.000    0.056    0.000 field_goal.py:152(<listcomp>)\n",
      "  3543683    1.648    0.000    1.648    0.000 field_goal.py:17(is_made)\n",
      "    20164    0.223    0.000    0.523    0.000 field_goal.py:223(_check_if_make_ends_possession_when_1_foul)\n",
      "   663125    0.589    0.000    0.589    0.000 field_goal.py:24(shot_value)\n",
      "   113985    0.204    0.000    0.310    0.000 field_goal.py:27(is_blocked)\n",
      "   312141    1.097    0.000    2.592    0.000 field_goal.py:283(_check_if_make_ends_possession_when_not_1_foul)\n",
      "   312141    0.135    0.000    0.135    0.000 field_goal.py:291(<listcomp>)\n",
      "      103    0.000    0.000    0.000    0.000 field_goal.py:309(<listcomp>)\n",
      "   974823    0.426    0.000    0.426    0.000 field_goal.py:31(get_offense_team_id)\n",
      "      103    0.000    0.000    0.002    0.000 field_goal.py:314(<listcomp>)\n",
      "   332305    1.502    0.000   16.340    0.000 field_goal.py:320(is_make_that_does_not_end_possession)\n",
      "   132741    0.271    0.000    0.394    0.000 field_goal.py:61(is_corner_3)\n",
      "   983343    3.770    0.000    7.685    0.000 field_goal.py:74(distance)\n",
      "   431182    1.710    0.000    8.607    0.000 field_goal.py:92(shot_type)\n",
      "     2460    0.006    0.000    0.008    0.000 file.py:14(__init__)\n",
      "     1230    0.006    0.000    0.011    0.000 file.py:15(__init__)\n",
      "     2460    0.046    0.000   10.908    0.004 file.py:17(load_data)\n",
      "     1230    0.001    0.000    0.001    0.000 file.py:18(__init__)\n",
      "     1230    0.067    0.000    5.719    0.005 file.py:21(load_data)\n",
      "     2460    0.055    0.000   10.861    0.004 file_loader.py:16(_load_data_from_file)\n",
      "    15542    0.006    0.000    0.006    0.000 foul.py:103(is_clear_path_foul)\n",
      "    58671    0.029    0.000    0.029    0.000 foul.py:107(is_double_foul)\n",
      "   566688    0.423    0.000    0.423    0.000 foul.py:111(is_technical)\n",
      "   299755    0.127    0.000    0.127    0.000 foul.py:115(is_flagrant1)\n",
      "   298765    0.110    0.000    0.110    0.000 foul.py:119(is_flagrant2)\n",
      "    51325    0.107    0.000    0.171    0.000 foul.py:121(counts_as_personal_foul)\n",
      "   490129    0.186    0.000    0.186    0.000 foul.py:123(is_double_technical)\n",
      "   264860    0.121    0.000    0.121    0.000 foul.py:127(is_defensive_3_seconds)\n",
      "    73745    0.034    0.000    0.034    0.000 foul.py:131(is_delay_of_game)\n",
      "   242928    0.166    0.000    0.166    0.000 foul.py:135(is_charge)\n",
      "    31647    0.013    0.000    0.013    0.000 foul.py:139(is_personal_block_foul)\n",
      "    51325    0.138    0.000    1.770    0.000 foul.py:14(__init__)\n",
      "    21780    0.008    0.000    0.008    0.000 foul.py:143(is_personal_take_foul)\n",
      "    43883    0.019    0.000    0.019    0.000 foul.py:147(is_shooting_block_foul)\n",
      "      106    0.001    0.000    0.002    0.000 foul.py:17(number_of_fta_for_foul)\n",
      "   299633    0.526    0.000    0.763    0.000 foul.py:54(is_flagrant)\n",
      "   168069    0.071    0.000    0.071    0.000 foul.py:79(is_personal_foul)\n",
      "   127661    0.061    0.000    0.061    0.000 foul.py:83(is_shooting_foul)\n",
      "   110310    0.051    0.000    0.051    0.000 foul.py:87(is_loose_ball_foul)\n",
      "   239736    0.111    0.000    0.111    0.000 foul.py:91(is_offensive_foul)\n",
      "    51325    0.146    0.000    0.236    0.000 foul.py:94(counts_towards_penalty)\n",
      "    25326    0.012    0.000    0.012    0.000 foul.py:95(is_inbound_foul)\n",
      "    70371    0.032    0.000    0.032    0.000 foul.py:99(is_away_from_play_foul)\n",
      "    50839    0.210    0.000    0.827    0.000 free_throw.py:101(is_away_from_play_ft)\n",
      "       65    0.000    0.000    0.000    0.000 free_throw.py:137(<lambda>)\n",
      "    57463    0.144    0.000    1.930    0.000 free_throw.py:14(__init__)\n",
      "    50811    0.107    0.000    0.615    0.000 free_throw.py:147(is_inbound_foul_ft)\n",
      "   142563    0.929    0.000    1.408    0.000 free_throw.py:160(foul_that_led_to_ft)\n",
      "   567948    0.344    0.000    0.344    0.000 free_throw.py:17(is_made)\n",
      "    62584    0.070    0.000    0.070    0.000 free_throw.py:214(num_ft_for_trip)\n",
      "     5228    0.074    0.000    0.150    0.000 free_throw.py:226(free_throw_type)\n",
      "   106909    0.056    0.000    0.056    0.000 free_throw.py:24(get_offense_team_id)\n",
      "   254090    0.149    0.000    0.149    0.000 free_throw.py:30(is_ft_1_of_1)\n",
      "    57515    0.053    0.000    0.053    0.000 free_throw.py:35(is_ft_1_of_2)\n",
      "   157709    0.072    0.000    0.072    0.000 free_throw.py:39(is_ft_2_of_2)\n",
      "    32484    0.018    0.000    0.018    0.000 free_throw.py:43(is_ft_1_of_3)\n",
      "      212    0.000    0.000    0.000    0.000 free_throw.py:45(is_first_ft)\n",
      "    33163    0.018    0.000    0.018    0.000 free_throw.py:48(is_ft_2_of_3)\n",
      "    40890    0.018    0.000    0.018    0.000 free_throw.py:52(is_ft_3_of_3)\n",
      "   246162    0.224    0.000    0.224    0.000 free_throw.py:56(is_technical_ft)\n",
      "   132056    0.470    0.000    0.745    0.000 free_throw.py:59(is_end_ft)\n",
      "    93338    0.055    0.000    0.055    0.000 free_throw.py:60(is_flagrant_ft)\n",
      "   124361    0.059    0.000    0.059    0.000 free_throw.py:75(is_ft_1pt)\n",
      "    83727    0.046    0.000    0.046    0.000 free_throw.py:83(is_ft_2pt)\n",
      "    43489    0.076    0.000    0.123    0.000 free_throw.py:89(shot_value)\n",
      "    82224    0.038    0.000    0.038    0.000 free_throw.py:91(is_ft_3pt)\n",
      "     1230    0.116    0.000  133.691    0.109 game.py:33(__init__)\n",
      "    41820    0.039    0.000    0.350    0.000 game.py:35(<lambda>)\n",
      "     1230    0.019    0.000    0.033    0.000 game.py:36(<listcomp>)\n",
      "     1230    0.021    0.000    0.034    0.000 game.py:39(<dictcomp>)\n",
      "        1    0.000    0.000    0.002    0.002 games.py:27(final_games)\n",
      "        1    0.001    0.001    0.002    0.002 games.py:32(<listcomp>)\n",
      "    58693    0.285    0.000    0.530    0.000 genericpath.py:121(_splitext)\n",
      "     3701    0.025    0.000    0.647    0.000 genericpath.py:27(isfile)\n",
      "    54120    0.030    0.000    0.042    0.000 inspect.py:159(isfunction)\n",
      "    41820    0.026    0.000    0.040    0.000 inspect.py:286(isbuiltin)\n",
      "    41820    0.079    0.000    0.311    0.000 inspect.py:295(isroutine)\n",
      "     1230    0.120    0.000    0.588    0.000 inspect.py:326(getmembers)\n",
      "    30750    0.008    0.000    0.008    0.000 inspect.py:367(<lambda>)\n",
      "    31980    0.018    0.000    0.025    0.000 inspect.py:73(isclass)\n",
      "    54120    0.029    0.000    0.041    0.000 inspect.py:81(ismethod)\n",
      "    30750    0.057    0.000    0.140    0.000 inspect.py:91(ismethoddescriptor)\n",
      "     5004    0.038    0.000    0.314    0.000 iostream.py:206(schedule)\n",
      "       72    0.000    0.000    0.000    0.000 iostream.py:418(_is_master_process)\n",
      "       72    0.000    0.000    0.000    0.000 iostream.py:437(_schedule_flush)\n",
      "     2460    0.051    0.000    1.592    0.001 iostream.py:451(flush)\n",
      "       72    0.000    0.000    0.004    0.000 iostream.py:500(write)\n",
      "     5004    0.011    0.000    0.011    0.000 iostream.py:96(_event_pipe)\n",
      "     2077    0.010    0.000    0.084    0.000 jump_ball.py:14(__init__)\n",
      "     3429    0.017    0.000    0.170    0.000 jump_ball.py:17(get_offense_team_id)\n",
      "        4    0.000    0.000    0.000    0.000 loader.py:111(<listcomp>)\n",
      "     1230    0.200    0.000    0.205    0.000 loader.py:114(_fix_order_when_technical_foul_before_period_start)\n",
      "     1230    0.035    0.000    1.548    0.001 loader.py:127(_load_bad_possession_overrides)\n",
      "     2460    0.027    0.000   90.517    0.037 loader.py:34(__init__)\n",
      "     1230    0.014    0.000   15.331    0.012 loader.py:35(__init__)\n",
      "     1230    0.019    0.000    2.047    0.002 loader.py:39(_make_boxscore_items)\n",
      "     1230    0.048    0.000    1.659    0.001 loader.py:40(<listcomp>)\n",
      "     1230    0.005    0.000    0.140    0.000 loader.py:41(<listcomp>)\n",
      "     1230    0.017    0.000    9.573    0.008 loader.py:42(_make_shot_items)\n",
      "     1230    0.326    0.000    7.448    0.006 loader.py:43(<listcomp>)\n",
      "     1230    0.026    0.000    2.101    0.002 loader.py:45(make_list_of_dicts)\n",
      "     1230    0.011    0.000   87.300    0.071 loader.py:53(__init__)\n",
      "     2460    0.865    0.000    0.865    0.000 loader.py:57(<listcomp>)\n",
      "     1230    0.138    0.000   77.523    0.063 loader.py:57(_make_pbp_items)\n",
      "     1230    1.853    0.002   21.700    0.018 loader.py:60(<listcomp>)\n",
      "     1230    0.044    0.000  129.634    0.105 loader.py:60(__init__)\n",
      "     1230    0.196    0.000    0.477    0.000 loader.py:68(<listcomp>)\n",
      "     1230    0.468    0.000   16.100    0.013 loader.py:68(_add_shot_x_y_coords)\n",
      "     1230    0.127    0.000    0.127    0.000 loader.py:70(<dictcomp>)\n",
      "        4    0.000    0.000    0.000    0.000 loader.py:75(league)\n",
      "     1230    0.455    0.000    1.986    0.002 loader.py:82(_check_rebound_event_order)\n",
      "     1230    0.388    0.000   21.290    0.017 loader.py:89(_check_that_possessions_alternate)\n",
      "   208804    0.602    0.000    0.785    0.000 nba_dataclasses.py:508(is_reboundable)\n",
      "   570393    4.653    0.000    6.431    0.000 nba_dataclasses.py:516(is_last_event_correct)\n",
      "   568329    8.854    0.000   70.423    0.000 nba_dataclasses.py:78(get_foul_lineup)\n",
      "  2841645    1.842    0.000    1.842    0.000 nba_dataclasses.py:84(<lambda>)\n",
      "  2841645    1.818    0.000    1.818    0.000 nba_dataclasses.py:88(<lambda>)\n",
      "     1230    0.064    0.000    1.576    0.001 nba_enhanced_pbp_loader.py:102(_load_possession_changing_event_overrides)\n",
      "     1230    4.910    0.004   19.607    0.016 nba_enhanced_pbp_loader.py:21(_add_extra_attrs_to_all_events)\n",
      "   105672    0.044    0.000    0.044    0.000 nba_enhanced_pbp_loader.py:46(<lambda>)\n",
      "     1244    0.001    0.000    0.001    0.000 nba_enhanced_pbp_loader.py:48(<lambda>)\n",
      "      161    0.000    0.000    0.000    0.000 nba_enhanced_pbp_loader.py:59(<lambda>)\n",
      "     1505    0.001    0.000    0.001    0.000 nba_enhanced_pbp_loader.py:64(<lambda>)\n",
      "     1230    0.038    0.000    4.422    0.004 nba_enhanced_pbp_loader.py:90(_set_period_start_items)\n",
      "     1230    0.781    0.001   16.690    0.014 nba_possession_loader.py:15(_split_events_by_possession)\n",
      "     1230    0.639    0.001    2.286    0.002 nba_possession_loader.py:29(_add_extra_attrs_to_all_possessions)\n",
      "   796759    0.354    0.000    1.287    0.000 nba_possession_loader.py:35(<genexpr>)\n",
      "   925958    2.401    0.000    3.024    0.000 nba_utils.py:18(seconds_from_time)\n",
      "    58693    0.377    0.000    0.458    0.000 ntpath.py:124(splitdrive)\n",
      "    58693    0.850    0.000    1.485    0.000 ntpath.py:180(split)\n",
      "    58693    0.195    0.000    0.762    0.000 ntpath.py:203(splitext)\n",
      "    58693    0.135    0.000    1.621    0.000 ntpath.py:214(basename)\n",
      "    58693    0.066    0.000    0.086    0.000 ntpath.py:34(_get_bothseps)\n",
      "   117386    0.403    0.000    0.656    0.000 ntpath.py:44(normcase)\n",
      "48477/3701    0.191    0.000    1.009    0.000 overrides.py:16(<dictcomp>)\n",
      "    67812    0.184    0.000    0.334    0.000 overrides.py:21(<listcomp>)\n",
      "   112588    0.168    0.000    0.168    0.000 overrides.py:26(convert_to_int_but_keep_game_id_string)\n",
      "     3701    0.025    0.000    1.291    0.000 overrides.py:5(decode)\n",
      "204429/3701    0.350    0.000    1.040    0.000 overrides.py:9(_decode)\n",
      "     4920    0.039    0.000    0.369    0.000 pathlib.py:1068(__new__)\n",
      "     4920    0.007    0.000    0.007    0.000 pathlib.py:1078(_init)\n",
      "     4920    0.014    0.000    0.920    0.000 pathlib.py:1216(stat)\n",
      "     4920    0.027    0.000    0.952    0.000 pathlib.py:1433(is_file)\n",
      "     4920    0.037    0.000    0.042    0.000 pathlib.py:145(splitroot)\n",
      "     4920    0.105    0.000    0.212    0.000 pathlib.py:63(parse_parts)\n",
      "     4920    0.059    0.000    0.283    0.000 pathlib.py:671(_parse_args)\n",
      "     4920    0.032    0.000    0.323    0.000 pathlib.py:691(_from_parts)\n",
      "     4920    0.020    0.000    0.026    0.000 pathlib.py:714(_format_parsed_parts)\n",
      "     4920    0.035    0.000    0.061    0.000 pathlib.py:731(__str__)\n",
      "     4920    0.015    0.000    0.076    0.000 pathlib.py:741(__fspath__)\n",
      "   958300    2.044    0.000   43.418    0.000 possession.py:109(offense_team_id)\n",
      "        4    0.000    0.000    0.000    0.000 possession.py:194(previous_possession_ending_event)\n",
      "   239575    0.280    0.000    0.280    0.000 possession.py:28(__init__)\n",
      "   239575    0.457    0.000    0.639    0.000 possession.py:47(start_time)\n",
      "   239575    1.323    0.000   13.324    0.000 possession.py:63(start_score_margin)\n",
      "        4    0.000    0.000    0.000    0.000 possession.py:80(get_team_ids)\n",
      "        4    0.000    0.000    0.000    0.000 possession.py:86(<listcomp>)\n",
      "        4    0.000    0.000    0.000    0.000 possession.py:95(<listcomp>)\n",
      "     1230    0.002    0.000    0.002    0.000 possessions.py:20(__init__)\n",
      "    58693    0.041    0.000    0.041    0.000 process.py:189(name)\n",
      "    58693    0.036    0.000    0.036    0.000 process.py:37(current_process)\n",
      "   723792    1.392    0.000    5.259    0.000 rebound.py:115(is_buzzer_beater_rebound_at_shot_time)\n",
      "   127959    0.322    0.000    4.309    0.000 rebound.py:23(__init__)\n",
      "   247788    0.569    0.000   16.042    0.000 rebound.py:26(get_offense_team_id)\n",
      "   751183    3.026    0.000   42.500    0.000 rebound.py:30(is_real_rebound)\n",
      "  2682141    4.265    0.000    6.703    0.000 rebound.py:46(missed_shot)\n",
      "   719212    1.580    0.000   26.813    0.000 rebound.py:65(is_turnover_placeholder)\n",
      "   751183    0.466    0.000    0.466    0.000 rebound.py:75(is_placeholder)\n",
      "   724427    1.230    0.000    6.017    0.000 rebound.py:81(is_non_live_ft_placeholder)\n",
      "   392810    0.513    0.000    1.456    0.000 rebound.py:84(oreb)\n",
      "   736460    1.001    0.000    1.256    0.000 rebound.py:92(is_buzzer_beater_placeholder)\n",
      "     2245    0.006    0.000    0.078    0.000 replay.py:14(__init__)\n",
      "     2245    0.002    0.000    0.002    0.000 replay.py:17(support_ruling)\n",
      "     2245    0.001    0.000    0.001    0.000 replay.py:21(overturn_ruling)\n",
      "     2245    0.001    0.000    0.001    0.000 replay.py:25(ruling_stands)\n",
      "     5004    0.237    0.000    0.237    0.000 socket.py:480(send)\n",
      "     5009    0.014    0.000    0.020    0.000 start_of_period.py:150(get_team_starting_with_ball)\n",
      "     5009    0.024    0.000    0.212    0.000 start_of_period.py:17(__init__)\n",
      "    25045    0.017    0.000    0.017    0.000 start_of_period.py:171(get_offense_team_id)\n",
      "     5009    2.514    0.001    3.959    0.001 start_of_period.py:177(_get_players_who_started_period_with_team_map)\n",
      "     5009    0.019    0.000    4.364    0.001 start_of_period.py:20(get_period_starters)\n",
      "     5009    0.101    0.000    0.149    0.000 start_of_period.py:239(_split_up_starters_by_team)\n",
      "     5009    0.018    0.000    0.207    0.000 start_of_period.py:258(_check_both_teams_have_5_starters)\n",
      "     5009    0.030    0.000    4.344    0.001 start_of_period.py:323(_get_period_starters_from_period_events)\n",
      "  1563877    0.817    0.000    0.817    0.000 start_of_period.py:62(current_players)\n",
      "       11    0.000    0.000    0.000    0.000 start_of_period.py:69(league)\n",
      "    28538    0.914    0.000    1.745    0.000 stats_nba_boxscore_item.py:13(__init__)\n",
      "     7380    0.004    0.000    0.004    0.000 stats_nba_boxscore_item.py:17(data)\n",
      "     1230    0.000    0.000    0.000    0.000 stats_nba_game_item.py:22(data)\n",
      "     1230    0.000    0.000    0.000    0.000 stats_nba_game_item.py:29(is_final)\n",
      "   207895    3.598    0.000    7.121    0.000 stats_nba_shot.py:8(__init__)\n",
      "    55030    0.138    0.000    1.806    0.000 substitution.py:14(__init__)\n",
      "7733640/1176139   29.861    0.000  122.481    0.000 substitution.py:17(current_players)\n",
      " 38668200    9.628    0.000    9.628    0.000 substitution.py:17(outgoing_player_id)\n",
      "  7733640   26.785    0.000   38.708    0.000 substitution.py:24(<listcomp>)\n",
      "  7980636    2.361    0.000    2.361    0.000 substitution.py:24(incoming_player_id)\n",
      "     7464    0.010    0.000    0.021    0.000 threading.py:1039(_wait_for_tstate_lock)\n",
      "    58693    0.109    0.000    0.109    0.000 threading.py:1053(name)\n",
      "     7464    0.025    0.000    0.050    0.000 threading.py:1093(is_alive)\n",
      "    58693    0.099    0.000    0.118    0.000 threading.py:1318(current_thread)\n",
      "     2460    0.036    0.000    0.036    0.000 threading.py:228(__init__)\n",
      "     2460    0.004    0.000    0.006    0.000 threading.py:256(__enter__)\n",
      "     2460    0.005    0.000    0.006    0.000 threading.py:259(__exit__)\n",
      "     2328    0.003    0.000    0.004    0.000 threading.py:265(_release_save)\n",
      "     2328    0.006    0.000    0.009    0.000 threading.py:268(_acquire_restore)\n",
      "     2328    0.003    0.000    0.004    0.000 threading.py:271(_is_owned)\n",
      "     2328    0.028    0.000    1.087    0.000 threading.py:280(wait)\n",
      "     2460    0.012    0.000    0.068    0.000 threading.py:521(__init__)\n",
      "     7464    0.004    0.000    0.004    0.000 threading.py:529(is_set)\n",
      "     2460    0.036    0.000    1.136    0.000 threading.py:556(wait)\n",
      "    16508    0.050    0.000    0.599    0.000 timeout.py:14(__init__)\n",
      "    51184    0.050    0.000    0.073    0.000 turnover.py:12(is_steal)\n",
      "    35384    0.086    0.000    1.247    0.000 turnover.py:14(__init__)\n",
      "   193772    0.224    0.000    0.315    0.000 turnover.py:17(get_offense_team_id)\n",
      "   387934    0.178    0.000    0.178    0.000 turnover.py:25(is_no_turnover)\n",
      "    19151    0.024    0.000    0.036    0.000 turnover.py:29(is_bad_pass)\n",
      "     6823    0.008    0.000    0.015    0.000 turnover.py:33(is_lost_ball)\n",
      "     5514    0.003    0.000    0.003    0.000 turnover.py:37(is_travel)\n",
      "     2019    0.001    0.000    0.001    0.000 turnover.py:41(is_3_second_violation)\n",
      "     5993    0.004    0.000    0.004    0.000 turnover.py:45(is_shot_clock_violation)\n",
      "     4401    0.003    0.000    0.003    0.000 turnover.py:49(is_offensive_goaltending)\n",
      "     4219    0.002    0.000    0.002    0.000 turnover.py:53(is_lane_violation)\n",
      "     1984    0.001    0.000    0.001    0.000 turnover.py:57(is_kicked_ball)\n",
      "     3438    0.002    0.000    0.002    0.000 turnover.py:61(is_step_out_of_bounds)\n",
      "     7942    0.006    0.000    0.006    0.000 turnover.py:65(is_lost_ball_out_of_bounds)\n",
      "    12222    0.014    0.000    0.015    0.000 turnover.py:72(is_bad_pass_out_of_bounds)\n",
      "     2201    0.006    0.000    0.080    0.000 violation.py:14(__init__)\n",
      "     1621    0.001    0.000    0.001    0.000 violation.py:17(is_delay_of_game)\n",
      "     3078    0.002    0.000    0.002    0.000 violation.py:21(is_goaltend_violation)\n",
      "     1349    0.001    0.000    0.001    0.000 violation.py:25(is_lane_violation)\n",
      "       79    0.000    0.000    0.000    0.000 violation.py:29(is_jumpball_violation)\n",
      "     1036    0.001    0.000    0.001    0.000 violation.py:33(is_kicked_ball_violation)\n",
      "     1063    0.001    0.000    0.001    0.000 violation.py:37(is_double_lane_violation)\n",
      "     4920    0.008    0.000    0.008    0.000 {built-in method __new__ of type object at 0x00007FFAE45E4C60}\n",
      "  4666270    3.847    0.000    3.847    0.000 {built-in method _abc._abc_instancecheck}\n",
      "     8621    0.758    0.000    0.758    0.000 {built-in method _codecs.charmap_decode}\n",
      "     2460    0.002    0.000    0.002    0.000 {built-in method _imp.lock_held}\n",
      "     8621    0.075    0.000    0.075    0.000 {built-in method _locale._getdefaultlocale}\n",
      "     8621    0.010    0.000    0.010    0.000 {built-in method _stat.S_ISREG}\n",
      "     4788    0.031    0.000    0.031    0.000 {built-in method _thread.allocate_lock}\n",
      "   117386    0.060    0.000    0.060    0.000 {built-in method _thread.get_ident}\n",
      "   239575    0.306    0.000    1.590    0.000 {built-in method builtins.any}\n",
      "   941315    0.310    0.000    0.310    0.000 {built-in method builtins.delattr}\n",
      "     1230    0.041    0.000    0.041    0.000 {built-in method builtins.dir}\n",
      "        1    0.000    0.000  412.954  412.954 {built-in method builtins.exec}\n",
      "    44280    0.033    0.000    0.033    0.000 {built-in method builtins.getattr}\n",
      "  8331563    3.342    0.000    3.904    0.000 {built-in method builtins.hasattr}\n",
      "  1360631    0.459    0.000    0.459    0.000 {built-in method builtins.hash}\n",
      " 25079964   10.293    0.000   16.957    0.000 {built-in method builtins.isinstance}\n",
      "  4330065    1.188    0.000    1.188    0.000 {built-in method builtins.len}\n",
      "   402980    0.429    0.000    0.429    0.000 {built-in method builtins.max}\n",
      "   235181    0.111    0.000    0.111    0.000 {built-in method builtins.min}\n",
      "       12    0.000    0.000    0.004    0.000 {built-in method builtins.print}\n",
      "   983188    2.432    0.000    2.432    0.000 {built-in method builtins.round}\n",
      " 11415519    4.547    0.000    4.547    0.000 {built-in method builtins.setattr}\n",
      "  2203468    3.270    0.000    3.972    0.000 {built-in method builtins.sorted}\n",
      "     9851    2.092    0.000    2.227    0.000 {built-in method io.open}\n",
      "   983188    0.822    0.000    0.822    0.000 {built-in method math.sqrt}\n",
      "   298385    0.110    0.000    0.110    0.000 {built-in method nt.fspath}\n",
      "    58765    0.065    0.000    0.065    0.000 {built-in method nt.getpid}\n",
      "     8621    1.448    0.000    1.524    0.000 {built-in method nt.stat}\n",
      "    58693    0.071    0.000    0.071    0.000 {built-in method sys._getframe}\n",
      "    29520    0.033    0.000    0.033    0.000 {built-in method sys.intern}\n",
      "    58693    0.075    0.000    0.075    0.000 {built-in method time.time}\n",
      "     2460    0.002    0.000    0.002    0.000 {method '__enter__' of '_thread.lock' objects}\n",
      "     8621    0.389    0.000    0.389    0.000 {method '__exit__' of '_io._IOBase' objects}\n",
      "     2460    0.001    0.000    0.001    0.000 {method '__exit__' of '_thread.lock' objects}\n",
      "   143216    0.123    0.000    0.123    0.000 {method 'acquire' of '_thread.RLock' objects}\n",
      "    16776    1.046    0.000    1.046    0.000 {method 'acquire' of '_thread.lock' objects}\n",
      "    41820    0.016    0.000    0.016    0.000 {method 'add' of 'set' objects}\n",
      "     7332    0.004    0.000    0.004    0.000 {method 'append' of 'collections.deque' objects}\n",
      "  3116238    1.101    0.000    1.101    0.000 {method 'append' of 'list' objects}\n",
      "     1230    0.338    0.000    0.338    0.000 {method 'close' of '_io.TextIOWrapper' objects}\n",
      "  1704945    3.619    0.000    3.619    0.000 {method 'copy' of 'collections.defaultdict' objects}\n",
      "  7733640    3.195    0.000    3.195    0.000 {method 'copy' of 'dict' objects}\n",
      "        1    0.000    0.000    0.000    0.000 {method 'disable' of '_lsprof.Profiler' objects}\n",
      "    17242    0.007    0.000    0.007    0.000 {method 'end' of 're.Match' objects}\n",
      "    61500    0.025    0.000    0.025    0.000 {method 'endswith' of 'str' objects}\n",
      "    58693    0.078    0.000    0.078    0.000 {method 'find' of 'str' objects}\n",
      "    63613    2.381    0.000    2.381    0.000 {method 'flush' of '_io.TextIOWrapper' objects}\n",
      " 16493090    4.346    0.000    4.346    0.000 {method 'get' of 'dict' objects}\n",
      "     3690    0.003    0.000    0.003    0.000 {method 'index' of 'list' objects}\n",
      "  1668612    2.737    0.000    2.737    0.000 {method 'items' of 'dict' objects}\n",
      "     4920    0.006    0.000    0.006    0.000 {method 'join' of 'str' objects}\n",
      "  1611034    0.543    0.000    0.543    0.000 {method 'keys' of 'dict' objects}\n",
      "  5901010    1.455    0.000    1.455    0.000 {method 'lower' of 'str' objects}\n",
      "     4920    0.005    0.000    0.005    0.000 {method 'lstrip' of 'str' objects}\n",
      "    17242    0.069    0.000    0.069    0.000 {method 'match' of 're.Pattern' objects}\n",
      "     3690    0.002    0.000    0.002    0.000 {method 'pop' of 'dict' objects}\n",
      "     8621    1.005    0.000    1.796    0.000 {method 'read' of '_io.TextIOWrapper' objects}\n",
      "   143216    0.051    0.000    0.051    0.000 {method 'release' of '_thread.RLock' objects}\n",
      "     2328    0.001    0.000    0.001    0.000 {method 'release' of '_thread.lock' objects}\n",
      "   185919    0.116    0.000    0.116    0.000 {method 'replace' of 'str' objects}\n",
      "     4920    0.003    0.000    0.003    0.000 {method 'reverse' of 'list' objects}\n",
      "   176079    0.181    0.000    0.181    0.000 {method 'rfind' of 'str' objects}\n",
      "    58693    0.056    0.000    0.056    0.000 {method 'rstrip' of 'str' objects}\n",
      "     1230    0.015    0.000    0.022    0.000 {method 'sort' of 'list' objects}\n",
      " 12302732    4.999    0.000    4.999    0.000 {method 'split' of 'str' objects}\n",
      "     8621    0.016    0.000    0.016    0.000 {method 'startswith' of 'str' objects}\n",
      "     2460    0.023    0.000    0.023    0.000 {method 'sub' of 're.Pattern' objects}\n",
      "        1    0.000    0.000    0.000    0.000 {method 'values' of 'dict' objects}\n",
      "    58693    0.227    0.000    0.227    0.000 {method 'write' of '_io.TextIOWrapper' objects}\n",
      "\n",
      "\n"
     ]
    }
   ],
   "source": [
    "import cProfile\n",
    "cProfile.run(\"process_season(season)\")"
   ]
  },
  {
   "cell_type": "code",
   "execution_count": 46,
   "metadata": {},
   "outputs": [
    {
     "name": "stdout",
     "output_type": "stream",
     "text": [
      "Already loaded 2015-16\n",
      "prcessed 100 games\n",
      "shot has already been rebounded <StatsTurnover GameId: 0021500195, Description: Chalmers Kicked Ball Violation Turnover (P1.T15), Time: 0:12, EventNum: 357>\n",
      "has exception\n"
     ]
    }
   ],
   "source": [
    "\n",
    "nbaTracker.add_season(\"2015-16\")\n",
    "season = nbaTracker.seasons[\"2015-16\"]\n",
    "\n",
    "try:\n",
    "    games = process_season(season)\n",
    "except Exception as e:\n",
    "    eargs = e.args\n",
    "    print(\"has exception\")\n"
   ]
  },
  {
   "cell_type": "code",
   "execution_count": 49,
   "metadata": {},
   "outputs": [
    {
     "name": "stdout",
     "output_type": "stream",
     "text": [
      "Already loaded 2016-17\n",
      "double lane violation jumpball missing player3_id\n",
      "no second violator for double lane violation <StatsViolation GameId: 0021600060, Description: Gasol Violation:Double Lane (J.Tiven), Time: 9:05, EventNum: 271>\n",
      "prcessed 100 games\n",
      "corrected jumpball to 1610612740\n",
      "prcessed 200 games\n",
      "prcessed 300 games\n",
      "no second violator for double lane violation <StatsViolation GameId: 0021600378, Description: Young Violation:Double Lane (K.Fitzgerald), Time: 4:02, EventNum: 268>\n",
      "prcessed 400 games\n",
      "prcessed 500 games\n",
      "not adding delay of game fts\n",
      "prcessed 600 games\n",
      "no second violator for double lane violation <StatsViolation GameId: 0021600684, Description: Noel Violation:Double Lane (K.Fitzgerald), Time: 1:15, EventNum: 253>\n",
      "prcessed 700 games\n",
      "prcessed 800 games\n",
      "prcessed 900 games\n",
      "corrected jumpball to 1610612746\n",
      "prcessed 1000 games\n",
      "double lane violation jumpball missing player3_id\n",
      "no second violator for double lane violation <StatsViolation GameId: 0021601013, Description: Jordan Violation:Double Lane (R.Garretson), Time: 6:46, EventNum: 428>\n",
      "prcessed 1100 games\n",
      "No expected free throws <StatsFreeThrow GameId: 0021601152, Description: McGee Free Throw Flagrant 3 of 3 (10 PTS), Time: 0:06, EventNum: 534>\n"
     ]
    }
   ],
   "source": [
    "\n",
    "nbaTracker.add_season(\"2016-17\")\n",
    "season = nbaTracker.seasons[\"2016-17\"]\n",
    "\n",
    "try:\n",
    "    games2 = process_season(season)\n",
    "except Exception as e:\n",
    "    eargs = e.args\n",
    "    # raise e\n"
   ]
  },
  {
   "cell_type": "code",
   "execution_count": 48,
   "metadata": {},
   "outputs": [
    {
     "data": {
      "text/plain": [
       "1610612750"
      ]
     },
     "execution_count": 48,
     "metadata": {},
     "output_type": "execute_result"
    }
   ],
   "source": [
    "eargs[0].events[0].team_id"
   ]
  },
  {
   "cell_type": "code",
   "execution_count": 41,
   "metadata": {},
   "outputs": [
    {
     "data": {
      "text/plain": [
       "[<StatsStartOfPeriod GameId: 0021600778, Description: , Time: 12:00, EventNum: 353>,\n",
       " <StatsFoul GameId: 0021600778, Description: Gibson T.FOUL (P2.T0) (K.Mauer), Time: 12:00, EventNum: 354>,\n",
       " <StatsReplay GameId: 0021600778, Description: , Time: 12:00, EventNum: 355>,\n",
       " <StatsFoul GameId: 0021600778, Description: Barnes T.FOUL (P0.T0) (K.Mauer), Time: 12:00, EventNum: 356>,\n",
       " <StatsFoul GameId: 0021600778, Description: Cousins T.FOUL (P2.T0) (K.Mauer), Time: 12:00, EventNum: 357>,\n",
       " <StatsFreeThrow GameId: 0021600778, Description: MISS McDermott Free Throw Technical, Time: 12:00, EventNum: 358>,\n",
       " <StatsRebound GameId: 0021600778, Description: Bulls Rebound, Time: 12:00, EventNum: 359>,\n",
       " <StatsTurnover GameId: 0021600778, Description: Collison STEAL (1 STL): Mirotic Lost Ball Turnover (P1.T5), Time: 11:43, EventNum: 360>]"
      ]
     },
     "execution_count": 41,
     "metadata": {},
     "output_type": "execute_result"
    }
   ],
   "source": [
    "eargs[0].previous_possession.previous_possession.previous_possession.previous_possession.previous_possession.events\n"
   ]
  },
  {
   "cell_type": "code",
   "execution_count": 50,
   "metadata": {},
   "outputs": [
    {
     "data": {
      "text/plain": [
       "[<StatsFieldGoal GameId: 0021601152, Description: Barnes BLOCK (1 BLK): MISS Satoransky 28' 3PT Jump Shot, Time: 0:25, EventNum: 525>,\n",
       " <StatsRebound GameId: 0021601152, Description: Barnes REBOUND (Off:0 Def:2), Time: 0:24, EventNum: 526>]"
      ]
     },
     "execution_count": 50,
     "metadata": {},
     "output_type": "execute_result"
    }
   ],
   "source": [
    "eargs[0].previous_possession.events\n"
   ]
  },
  {
   "cell_type": "code",
   "execution_count": 51,
   "metadata": {},
   "outputs": [
    {
     "data": {
      "text/plain": [
       "[<StatsFoul GameId: 0021601152, Description: Jennings FLAGRANT.FOUL.TYPE1 (P4.PN) (T.Brothers), Time: 0:06, EventNum: 528>,\n",
       " <StatsReplay GameId: 0021601152, Description: , Time: 0:06, EventNum: 529>,\n",
       " <StatsFreeThrow GameId: 0021601152, Description: MISS McGee Free Throw Flagrant 1 of 3, Time: 0:06, EventNum: 530>,\n",
       " <StatsRebound GameId: 0021601152, Description: WARRIORS Rebound, Time: 0:06, EventNum: 531>,\n",
       " <StatsFreeThrow GameId: 0021601152, Description: McGee Free Throw Flagrant 2 of 3 (9 PTS), Time: 0:06, EventNum: 532>,\n",
       " <StatsFreeThrow GameId: 0021601152, Description: McGee Free Throw Flagrant 3 of 3 (10 PTS), Time: 0:06, EventNum: 534>,\n",
       " <StatsSubstitution GameId: 0021601152, Description: SUB: McCaw FOR Green, Time: 0:06, EventNum: 536>,\n",
       " <StatsSubstitution GameId: 0021601152, Description: SUB: McAdoo FOR Curry, Time: 0:06, EventNum: 537>,\n",
       " <StatsTimeout GameId: 0021601152, Description: Wizards Timeout: Regular (Reg.6 Short 1), Time: 0:06, EventNum: 538>,\n",
       " <StatsEndOfPeriod GameId: 0021601152, Description: , Time: 0:00, EventNum: 541>]"
      ]
     },
     "execution_count": 51,
     "metadata": {},
     "output_type": "execute_result"
    }
   ],
   "source": [
    "eargs[0].events"
   ]
  },
  {
   "cell_type": "code",
   "execution_count": 15,
   "metadata": {},
   "outputs": [
    {
     "data": {
      "text/plain": [
       "[<StatsTurnover GameId: 0021600296, Description: Finney-Smith STEAL (1 STL): Canaan Bad Pass Turnover (P1.T11), Time: 7:42, EventNum: 315>]"
      ]
     },
     "execution_count": 15,
     "metadata": {},
     "output_type": "execute_result"
    }
   ],
   "source": [
    "eargs[0].next_possession.events"
   ]
  },
  {
   "cell_type": "code",
   "execution_count": 19,
   "metadata": {},
   "outputs": [
    {
     "name": "stdout",
     "output_type": "stream",
     "text": [
      "Already loaded 2017-18\n",
      "w fts 0 <StatsFoul GameId: 0021700020, Description: Smith Personal Take Foul (P3.PN) (S.Corbin), Time: 0:01, EventNum: 665>\n",
      "treat as missed foul\n",
      "prcessed 100 games\n",
      "w fts 0 <StatsFoul GameId: 0021700200, Description: Covington Personal Take Foul (P3.PN) (Z.Zarba), Time: 1:42, EventNum: 491>\n",
      "treat as missed foul\n",
      "prcessed 200 games\n",
      "prcessed 300 games\n",
      "0 ft afp off foul\n",
      "<StatsFoul GameId: 0021700346, Description: Cunningham AWAY.FROM.PLAY.FOUL (P2.PN) (J.Orr), Time: 2:47, EventNum: 136> [<StatsFoul GameId: 0021700346, Description: Cunningham AWAY.FROM.PLAY.FOUL (P2.PN) (J.Orr), Time: 2:47, EventNum: 136>, <StatsTurnover GameId: 0021700346, Description: Cunningham Foul Turnover (P1.T4), Time: 2:47, EventNum: 138>]\n",
      "prcessed 400 games\n",
      "prcessed 500 games\n",
      "prcessed 600 games\n",
      "prcessed 700 games\n",
      "prcessed 800 games\n",
      "0 ft afp off foul\n",
      "<StatsFoul GameId: 0021700862, Description: Moore AWAY.FROM.PLAY.FOUL (P2.T4) (M.Ervin), Time: 1:44, EventNum: 491> [<StatsFoul GameId: 0021700862, Description: Moore AWAY.FROM.PLAY.FOUL (P2.T4) (M.Ervin), Time: 1:44, EventNum: 491>, <StatsTurnover GameId: 0021700862, Description: Moore Foul Turnover (P2.T10), Time: 1:44, EventNum: 493>]\n",
      "prcessed 900 games\n",
      "prcessed 1000 games\n",
      "prcessed 1100 games\n",
      "prcessed 1200 games\n"
     ]
    }
   ],
   "source": [
    "nbaTracker.add_season(\"2017-18\")\n",
    "season = nbaTracker.seasons[\"2017-18\"]\n",
    "\n",
    "try:\n",
    "    games3 = process_season(season)\n",
    "except Exception as e:\n",
    "    eargs = e.args\n",
    "    raise e\n"
   ]
  },
  {
   "cell_type": "code",
   "execution_count": 17,
   "metadata": {},
   "outputs": [
    {
     "data": {
      "text/plain": [
       "[<StatsFoul GameId: 0021700306, Description: Hardaway Jr. C.P.FOUL (P3.T3) (J.Goble), Time: 8:48, EventNum: 513>,\n",
       " <StatsSubstitution GameId: 0021700306, Description: SUB: Baker FOR Hardaway Jr., Time: 8:48, EventNum: 517>,\n",
       " <StatsSubstitution GameId: 0021700306, Description: SUB: Hernangomez FOR O'Quinn, Time: 8:48, EventNum: 518>,\n",
       " <StatsReplay GameId: 0021700306, Description: , Time: 8:48, EventNum: 516>,\n",
       " <StatsFieldGoal GameId: 0021700306, Description: Richardson 2' Alley Oop Layup (12 PTS) (Johnson 1 AST), Time: 8:37, EventNum: 521>]"
      ]
     },
     "execution_count": 17,
     "metadata": {},
     "output_type": "execute_result"
    }
   ],
   "source": [
    "games3[0].events"
   ]
  },
  {
   "cell_type": "code",
   "execution_count": 18,
   "metadata": {},
   "outputs": [
    {
     "data": {
      "text/plain": [
       "0"
      ]
     },
     "execution_count": 18,
     "metadata": {},
     "output_type": "execute_result"
    }
   ],
   "source": [
    "games3[0].events[3].event_action_type \n"
   ]
  },
  {
   "cell_type": "code",
   "execution_count": 13,
   "metadata": {},
   "outputs": [
    {
     "data": {
      "text/plain": [
       "PossessionTry(try_start=TryStart(start_type=<TryStartType.STEAL: 10>, game_time_left=638.0, period_time_left=638.0, start_player1_id=1627832, start_player2_id=201988, start_player3_id=None, rebound_shot_type=None), offense_is_home=True, lineup=FoulLineup(offense_team=1610612761, offense_players=(101139, 1626153, 1627751, 1627832, 1628384), offense_fouls=(3, 1, 0, 0, 3), defense_team=1610612759, defense_players=(1938, 200752, 201988, 203530, 203937), defense_fouls=(2, 3, 1, 3, 3)), fouls_to_give=2, in_penalty=False, score_margin=-1, time_passed=0.0, try_result=TryResult(result_type=<TryResultType.SHOOTING_FOUL_2: 13>, game_time_left=638.0, period_time_left=638.0, result_player1_id=201988, result_player2_id=1627832, result_player3_id=None, result_player4_id=None, shot_type=None, shot_distance=None, shot_X=None, shot_Y=None, num_fts=2))"
      ]
     },
     "execution_count": 13,
     "metadata": {},
     "output_type": "execute_result"
    }
   ],
   "source": [
    "games3[1][-2]"
   ]
  },
  {
   "cell_type": "code",
   "execution_count": 20,
   "metadata": {},
   "outputs": [
    {
     "name": "stdout",
     "output_type": "stream",
     "text": [
      "prcessed 100 games\n",
      "prcessed 200 games\n",
      "prcessed 300 games\n",
      "prcessed 400 games\n",
      "prcessed 500 games\n",
      "prcessed 600 games\n",
      "prcessed 700 games\n",
      "prcessed 800 games\n",
      "prcessed 900 games\n",
      "prcessed 1000 games\n",
      "prcessed 1100 games\n",
      "prcessed 1200 games\n"
     ]
    }
   ],
   "source": [
    "nbaTracker.add_season(\"2018-19\")\n",
    "season = nbaTracker.seasons[\"2018-19\"]\n",
    "\n",
    "try:\n",
    "    games4 = process_season(season)\n",
    "except Exception as e:\n",
    "    eargs = e.args\n",
    "    raise e\n"
   ]
  },
  {
   "cell_type": "code",
   "execution_count": 28,
   "metadata": {},
   "outputs": [
    {
     "data": {
      "text/plain": [
       "[<StatsFoul GameId: 0021800546, Description: S. Hill P.FOUL (P2.PN) (K.Fitzgerald), Time: 3:46, EventNum: 261>,\n",
       " <StatsViolation GameId: 0021800546, Description: Covington Lane Violation, Time: 3:46, EventNum: 312>,\n",
       " <StatsFreeThrow GameId: 0021800546, Description: Towns Free Throw 2 of 2 (6 PTS), Time: 3:46, EventNum: 313>]"
      ]
     },
     "execution_count": 28,
     "metadata": {},
     "output_type": "execute_result"
    }
   ],
   "source": [
    "games2.events"
   ]
  },
  {
   "cell_type": "code",
   "execution_count": 33,
   "metadata": {},
   "outputs": [
    {
     "data": {
      "text/plain": [
       "7"
      ]
     },
     "execution_count": 33,
     "metadata": {},
     "output_type": "execute_result"
    }
   ],
   "source": [
    "games2.events[1].event_type\n"
   ]
  },
  {
   "cell_type": "code",
   "execution_count": 34,
   "metadata": {},
   "outputs": [
    {
     "data": {
      "text/plain": [
       "2"
      ]
     },
     "execution_count": 34,
     "metadata": {},
     "output_type": "execute_result"
    }
   ],
   "source": [
    "from build_shot_chance_data import get_num_fta_from_foul\n",
    "get_num_fta_from_foul(games2.events[0])"
   ]
  },
  {
   "cell_type": "code",
   "execution_count": 22,
   "metadata": {},
   "outputs": [
    {
     "data": {
      "text/plain": [
       "1610612738"
      ]
     },
     "execution_count": 22,
     "metadata": {},
     "output_type": "execute_result"
    }
   ],
   "source": [
    "games3[0].events[1].team_id\n"
   ]
  },
  {
   "cell_type": "code",
   "execution_count": 21,
   "metadata": {},
   "outputs": [
    {
     "data": {
      "text/plain": [
       "1610612752"
      ]
     },
     "execution_count": 21,
     "metadata": {},
     "output_type": "execute_result"
    }
   ],
   "source": [
    "games3[0].next_possession.events[0].team_id\n"
   ]
  },
  {
   "cell_type": "code",
   "execution_count": 8,
   "metadata": {},
   "outputs": [],
   "source": [
    "i = 2"
   ]
  },
  {
   "cell_type": "code",
   "execution_count": 13,
   "metadata": {},
   "outputs": [
    {
     "data": {
      "text/plain": [
       "(49, 47)"
      ]
     },
     "execution_count": 13,
     "metadata": {},
     "output_type": "execute_result"
    }
   ],
   "source": [
    "tries = games[i].tries\n",
    "fts = len(games[i].free_throws) + len(games[i].free_throw_goaltends) + len(games[i].lane_violations)\n",
    "res_fts = sum(map(lambda t: t.try_result.num_fts, tries))\n",
    "fts, res_fts"
   ]
  },
  {
   "cell_type": "code",
   "execution_count": 15,
   "metadata": {},
   "outputs": [
    {
     "data": {
      "text/plain": [
       "(49, 0, 0)"
      ]
     },
     "execution_count": 15,
     "metadata": {},
     "output_type": "execute_result"
    }
   ],
   "source": [
    "len(games[i].free_throws), len(games[i].free_throw_goaltends), len(games[i].lane_violations)\n"
   ]
  },
  {
   "cell_type": "code",
   "execution_count": 9,
   "metadata": {},
   "outputs": [
    {
     "data": {
      "text/plain": [
       "(2, 0, 0)"
      ]
     },
     "execution_count": 9,
     "metadata": {},
     "output_type": "execute_result"
    }
   ],
   "source": [
    "games[i].team_techs"
   ]
  },
  {
   "cell_type": "code",
   "execution_count": 10,
   "metadata": {},
   "outputs": [
    {
     "data": {
      "text/plain": [
       "({}, {203110: 1}, 0)"
      ]
     },
     "execution_count": 10,
     "metadata": {},
     "output_type": "execute_result"
    }
   ],
   "source": [
    "games[i].technicals"
   ]
  },
  {
   "cell_type": "code",
   "execution_count": 25,
   "metadata": {},
   "outputs": [],
   "source": [
    "from nba_dataclasses import TryResultType\n",
    "counts = {i: 0 for i in TryResultType}\n",
    "ft_nums = {i: {} for i in TryResultType}\n",
    "next_result_same_team = {i: {True: 0, False: 0} for i in TryResultType}\n"
   ]
  },
  {
   "cell_type": "code",
   "execution_count": 1,
   "metadata": {},
   "outputs": [
    {
     "name": "stdout",
     "output_type": "stream",
     "text": [
      "TryResultType.OTHER 0\n",
      "TryResultType.AWAY_FROM_PLAY_0FTS_FOUL 0\n",
      "TryResultType.PENALTY_OFF_FOUL_TURNOVER 0\n",
      "TryResultType.JUMP_BALL 0\n",
      "TryResultType.HELD_BALL 0\n",
      "TryResultType.MISTAKE_CALL 0\n",
      "TryResultType.EXCESS_TIMEOUT 0\n"
     ]
    }
   ],
   "source": [
    "from nba_dataclasses import TryResultType, other_team_results, same_team_results, reboundable_results\n",
    "for t in TryResultType:\n",
    "    count = 0\n",
    "    if t in reboundable_results:\n",
    "        count += 1\n",
    "    if t in same_team_results:\n",
    "        count += 1\n",
    "    if t in other_team_results:\n",
    "        count += 1\n",
    "    if count != 1:\n",
    "        print(t, count)\n"
   ]
  },
  {
   "cell_type": "code",
   "execution_count": 26,
   "metadata": {},
   "outputs": [],
   "source": [
    "for g in games+games2+games3+games4:\n",
    "    tries = g.tries\n",
    "    for i in range(1, len(tries)):\n",
    "        t = tries[i-1]\n",
    "        \n",
    "        # next_t = tries[i]\n",
    "        # is_same_team = t.lineup.offense_team == next_t.lineup.offense_team\n",
    "        # next_result_same_team[t.try_result.result_type][is_same_team] += 1\n",
    "        # counts[t.try_result.result_type] += 1\n",
    "        # result_type_dic = ft_nums[t.try_result.result_type]\n",
    "        # if t.try_result.num_fts in result_type_dic:\n",
    "        #     result_type_dic[t.try_result.num_fts] += 1\n",
    "        # else:\n",
    "        #     result_type_dic[t.try_result.num_fts] = 1\n"
   ]
  },
  {
   "cell_type": "code",
   "execution_count": 27,
   "metadata": {},
   "outputs": [
    {
     "data": {
      "text/plain": [
       "{<TryResultType.OTHER: 0>: {True: 0, False: 0},\n",
       " <TryResultType.MISSED_SHOT: 1>: {True: 106328, False: 304188},\n",
       " <TryResultType.BLOCKED_SHOT: 2>: {True: 20212, False: 27543},\n",
       " <TryResultType.MADE_SHOT: 3>: {True: 1509, False: 361645},\n",
       " <TryResultType.AND1: 4>: {True: 656, False: 21217},\n",
       " <TryResultType.DEF_GOALTEND_SHOT: 5>: {True: 12, False: 1974},\n",
       " <TryResultType.GOALTENDED_AND1: 6>: {True: 5, False: 129},\n",
       " <TryResultType.MADE_BASKET_W_FOULSHOT: 7>: {True: 8, False: 202},\n",
       " <TryResultType.MADE_BASKET_W_LOOSE_BALL_FOUL: 8>: {True: 0, False: 0},\n",
       " <TryResultType.FLAGRANT1_AND1: 9>: {True: 17, False: 0},\n",
       " <TryResultType.FLAGRANT2_AND1: 10>: {True: 0, False: 0},\n",
       " <TryResultType.FLAGRANT1_AND1_2FTS: 63>: {True: 5, False: 0},\n",
       " <TryResultType.NON_SHOOTING_FOUL: 11>: {True: 51880, False: 42},\n",
       " <TryResultType.PENALTY_NON_SHOOTING_FOUL: 12>: {True: 424, False: 15418},\n",
       " <TryResultType.SHOOTING_FOUL_2: 13>: {True: 1855, False: 67962},\n",
       " <TryResultType.SHOOTING_FOUL_3: 14>: {True: 80, False: 3492},\n",
       " <TryResultType.AWAY_FROM_PLAY_FOUL: 15>: {True: 149, False: 4},\n",
       " <TryResultType.AWAY_FROM_PLAY_0FTS_FOUL: 64>: {True: 1, False: 0},\n",
       " <TryResultType.OFF_AWAY_FROM_PLAY_FOUL: 16>: {True: 1, False: 0},\n",
       " <TryResultType.DEF_LOOSE_BALL_FOUL: 17>: {True: 0, False: 5},\n",
       " <TryResultType.PENALTY_DEF_LOOSE_BALL_FOUL: 18>: {True: 18, False: 336},\n",
       " <TryResultType.OFF_LOOSE_BALL_FOUL: 19>: {True: 0, False: 0},\n",
       " <TryResultType.PENALTY_OFF_LOOSE_BALL_FOUL: 20>: {True: 25, False: 0},\n",
       " <TryResultType.INBOUND_FOUL: 21>: {True: 128, False: 1},\n",
       " <TryResultType.CLEAR_PATH_FOUL: 22>: {True: 239, False: 0},\n",
       " <TryResultType.PENALTY_TAKE_FOUL: 23>: {True: 83, False: 3057},\n",
       " <TryResultType.TAKE_FOUL: 24>: {True: 2305, False: 19},\n",
       " <TryResultType.FLAGRANT1: 25>: {True: 317, False: 2},\n",
       " <TryResultType.FLAGRANT2: 26>: {True: 34, False: 0},\n",
       " <TryResultType.OFFENSIVE_FLAGRANT1: 27>: {True: 0, False: 62},\n",
       " <TryResultType.OFFENSIVE_FLAGRANT2: 28>: {True: 0, False: 12},\n",
       " <TryResultType.OFFENSIVE_FOUL_TURNOVER: 29>: {True: 13, False: 11176},\n",
       " <TryResultType.PENALTY_OFF_FOUL_TURNOVER: 30>: {True: 0, False: 0},\n",
       " <TryResultType.CHARGE: 31>: {True: 10, False: 5396},\n",
       " <TryResultType.BAD_PASS_OUT: 32>: {True: 31, False: 16704},\n",
       " <TryResultType.OFFENSIVE_GOALTENDING_TURNOVER: 33>: {True: 2, False: 602},\n",
       " <TryResultType.LOST_BALL_STEAL: 34>: {True: 107, False: 26704},\n",
       " <TryResultType.BAD_PASS_STEAL: 35>: {True: 161, False: 48777},\n",
       " <TryResultType.LOST_BALL_OUT_TURNOVER: 36>: {True: 18, False: 8385},\n",
       " <TryResultType.STEP_OUT_TURNOVER: 37>: {True: 6, False: 3096},\n",
       " <TryResultType.TRAVEL: 38>: {True: 21, False: 8437},\n",
       " <TryResultType.DISCONTINUE_DRIBBLE: 39>: {True: 0, False: 346},\n",
       " <TryResultType.PALMIMG_TURNOVER: 40>: {True: 1, False: 284},\n",
       " <TryResultType.DOUBLE_DRIBBLE_TURNOVER: 41>: {True: 0, False: 397},\n",
       " <TryResultType.KICKED_BALL_TURNOVER: 42>: {True: 0, False: 101},\n",
       " <TryResultType.ILLEGAL_SCREEN_TURNOVER: 43>: {True: 0, False: 59},\n",
       " <TryResultType.BACKCOURT_TURNOVER: 44>: {True: 1, False: 755},\n",
       " <TryResultType.EIGHT_SECONDS_TURNOVER: 45>: {True: 0, False: 52},\n",
       " <TryResultType.THROW_IN_5SECONDS_TURNOVER: 46>: {True: 0, False: 183},\n",
       " <TryResultType.OFF_3SECONDS_TURNOVER: 47>: {True: 0, False: 1394},\n",
       " <TryResultType.INBOUND_TURNOVER: 48>: {True: 1, False: 102},\n",
       " <TryResultType.ILLEGAL_ASSIST: 49>: {True: 0, False: 30},\n",
       " <TryResultType.TIMEOUT: 50>: {True: 23219, False: 10},\n",
       " <TryResultType.JUMP_BALL: 51>: {True: 34, False: 16},\n",
       " <TryResultType.HELD_BALL: 52>: {True: 2397, False: 46},\n",
       " <TryResultType.SHOT_CLOCK_TURNOVER: 53>: {True: 25, False: 4963},\n",
       " <TryResultType.DEF_3SECONDS: 54>: {True: 2135, False: 0},\n",
       " <TryResultType.KICKED_BALL: 55>: {True: 4043, False: 1},\n",
       " <TryResultType.MISSED_FOUL: 56>: {True: 17, False: 1},\n",
       " <TryResultType.MISTAKE_CALL: 57>: {True: 0, False: 0},\n",
       " <TryResultType.DOUBLE_FOUL: 58>: {True: 116, False: 0},\n",
       " <TryResultType.EXCESS_TIMEOUT: 59>: {True: 0, False: 0},\n",
       " <TryResultType.EXCESS_TIMEOUT_TURNOVER: 60>: {True: 0, False: 8},\n",
       " <TryResultType.FLAGRANT_AND_FOUL: 61>: {True: 2, False: 0},\n",
       " <TryResultType.FOUL_AND_OFFENSE_FLAGRANT: 62>: {True: 0, False: 2}}"
      ]
     },
     "execution_count": 27,
     "metadata": {},
     "output_type": "execute_result"
    }
   ],
   "source": [
    "next_result_same_team\n"
   ]
  },
  {
   "cell_type": "code",
   "execution_count": 23,
   "metadata": {},
   "outputs": [
    {
     "data": {
      "text/plain": [
       "{<TryResultType.OTHER: 0>: {},\n",
       " <TryResultType.MISSED_SHOT: 1>: {0: 412813},\n",
       " <TryResultType.BLOCKED_SHOT: 2>: {0: 47892},\n",
       " <TryResultType.MADE_SHOT: 3>: {0: 364341},\n",
       " <TryResultType.AND1: 4>: {1: 21918},\n",
       " <TryResultType.DEF_GOALTEND_SHOT: 5>: {0: 1997},\n",
       " <TryResultType.GOALTENDED_AND1: 6>: {1: 134},\n",
       " <TryResultType.MADE_BASKET_W_FOULSHOT: 7>: {1: 211},\n",
       " <TryResultType.MADE_BASKET_W_LOOSE_BALL_FOUL: 8>: {},\n",
       " <TryResultType.FLAGRANT1_AND1: 9>: {1: 17},\n",
       " <TryResultType.FLAGRANT2_AND1: 10>: {},\n",
       " <TryResultType.FLAGRANT1_AND1_2FTS: 63>: {2: 5},\n",
       " <TryResultType.NON_SHOOTING_FOUL: 11>: {0: 51941},\n",
       " <TryResultType.PENALTY_NON_SHOOTING_FOUL: 12>: {2: 15995},\n",
       " <TryResultType.SHOOTING_FOUL_2: 13>: {2: 69956},\n",
       " <TryResultType.SHOOTING_FOUL_3: 14>: {3: 3589},\n",
       " <TryResultType.AWAY_FROM_PLAY_FOUL: 15>: {1: 155},\n",
       " <TryResultType.AWAY_FROM_PLAY_0FTS_FOUL: 64>: {1: 1},\n",
       " <TryResultType.OFF_AWAY_FROM_PLAY_FOUL: 16>: {1: 1},\n",
       " <TryResultType.DEF_LOOSE_BALL_FOUL: 17>: {1: 6},\n",
       " <TryResultType.PENALTY_DEF_LOOSE_BALL_FOUL: 18>: {2: 356},\n",
       " <TryResultType.OFF_LOOSE_BALL_FOUL: 19>: {},\n",
       " <TryResultType.PENALTY_OFF_LOOSE_BALL_FOUL: 20>: {2: 25},\n",
       " <TryResultType.INBOUND_FOUL: 21>: {1: 129},\n",
       " <TryResultType.CLEAR_PATH_FOUL: 22>: {2: 244},\n",
       " <TryResultType.PENALTY_TAKE_FOUL: 23>: {2: 3297},\n",
       " <TryResultType.TAKE_FOUL: 24>: {0: 2336},\n",
       " <TryResultType.FLAGRANT1: 25>: {2: 323},\n",
       " <TryResultType.FLAGRANT2: 26>: {2: 34, 1: 1},\n",
       " <TryResultType.OFFENSIVE_FLAGRANT1: 27>: {2: 62},\n",
       " <TryResultType.OFFENSIVE_FLAGRANT2: 28>: {2: 12},\n",
       " <TryResultType.OFFENSIVE_FOUL_TURNOVER: 29>: {0: 11199},\n",
       " <TryResultType.PENALTY_OFF_FOUL_TURNOVER: 30>: {},\n",
       " <TryResultType.CHARGE: 31>: {0: 5407},\n",
       " <TryResultType.BAD_PASS_OUT: 32>: {0: 16786},\n",
       " <TryResultType.OFFENSIVE_GOALTENDING_TURNOVER: 33>: {0: 608},\n",
       " <TryResultType.LOST_BALL_STEAL: 34>: {0: 26896},\n",
       " <TryResultType.BAD_PASS_STEAL: 35>: {0: 49096},\n",
       " <TryResultType.LOST_BALL_OUT_TURNOVER: 36>: {0: 8432},\n",
       " <TryResultType.STEP_OUT_TURNOVER: 37>: {0: 3117},\n",
       " <TryResultType.TRAVEL: 38>: {0: 8467},\n",
       " <TryResultType.DISCONTINUE_DRIBBLE: 39>: {0: 346},\n",
       " <TryResultType.PALMIMG_TURNOVER: 40>: {0: 285},\n",
       " <TryResultType.DOUBLE_DRIBBLE_TURNOVER: 41>: {0: 399},\n",
       " <TryResultType.KICKED_BALL_TURNOVER: 42>: {0: 101},\n",
       " <TryResultType.ILLEGAL_SCREEN_TURNOVER: 43>: {0: 59},\n",
       " <TryResultType.BACKCOURT_TURNOVER: 44>: {0: 757},\n",
       " <TryResultType.EIGHT_SECONDS_TURNOVER: 45>: {0: 54},\n",
       " <TryResultType.THROW_IN_5SECONDS_TURNOVER: 46>: {0: 186},\n",
       " <TryResultType.OFF_3SECONDS_TURNOVER: 47>: {0: 1394},\n",
       " <TryResultType.INBOUND_TURNOVER: 48>: {0: 104},\n",
       " <TryResultType.ILLEGAL_ASSIST: 49>: {0: 30},\n",
       " <TryResultType.TIMEOUT: 50>: {0: 23239},\n",
       " <TryResultType.JUMP_BALL: 51>: {0: 52},\n",
       " <TryResultType.HELD_BALL: 52>: {0: 2450},\n",
       " <TryResultType.SHOT_CLOCK_TURNOVER: 53>: {0: 5325},\n",
       " <TryResultType.DEF_3SECONDS: 54>: {0: 2135},\n",
       " <TryResultType.KICKED_BALL: 55>: {0: 4046},\n",
       " <TryResultType.MISSED_FOUL: 56>: {0: 19},\n",
       " <TryResultType.MISTAKE_CALL: 57>: {},\n",
       " <TryResultType.DOUBLE_FOUL: 58>: {0: 116},\n",
       " <TryResultType.EXCESS_TIMEOUT: 59>: {},\n",
       " <TryResultType.EXCESS_TIMEOUT_TURNOVER: 60>: {0: 8},\n",
       " <TryResultType.FLAGRANT_AND_FOUL: 61>: {2: 2},\n",
       " <TryResultType.FOUL_AND_OFFENSE_FLAGRANT: 62>: {2: 2}}"
      ]
     },
     "execution_count": 23,
     "metadata": {},
     "output_type": "execute_result"
    }
   ],
   "source": [
    "ft_nums"
   ]
  },
  {
   "cell_type": "code",
   "execution_count": 15,
   "metadata": {},
   "outputs": [
    {
     "data": {
      "text/plain": [
       "{<TryResultType.OTHER: 0>: 0,\n",
       " <TryResultType.MISSED_SHOT: 1>: 306603,\n",
       " <TryResultType.BLOCKED_SHOT: 2>: 35707,\n",
       " <TryResultType.MADE_SHOT: 3>: 269716,\n",
       " <TryResultType.AND1: 4>: 16126,\n",
       " <TryResultType.DEF_GOALTEND_SHOT: 5>: 1459,\n",
       " <TryResultType.GOALTENDED_AND1: 6>: 92,\n",
       " <TryResultType.MADE_BASKET_W_FOULSHOT: 7>: 151,\n",
       " <TryResultType.MADE_BASKET_W_LOOSE_BALL_FOUL: 8>: 0,\n",
       " <TryResultType.FLAGRANT1_AND1: 9>: 17,\n",
       " <TryResultType.FLAGRANT2_AND1: 10>: 0,\n",
       " <TryResultType.NON_SHOOTING_FOUL: 11>: 38792,\n",
       " <TryResultType.PENALTY_NON_SHOOTING_FOUL: 12>: 11588,\n",
       " <TryResultType.SHOOTING_FOUL_2: 13>: 52248,\n",
       " <TryResultType.SHOOTING_FOUL_3: 14>: 2601,\n",
       " <TryResultType.AWAY_FROM_PLAY_FOUL: 15>: 85,\n",
       " <TryResultType.OFF_AWAY_FROM_PLAY_FOUL: 16>: 4,\n",
       " <TryResultType.DEF_LOOSE_BALL_FOUL: 17>: 4,\n",
       " <TryResultType.PENALTY_DEF_LOOSE_BALL_FOUL: 18>: 262,\n",
       " <TryResultType.OFF_LOOSE_BALL_FOUL: 19>: 0,\n",
       " <TryResultType.PENALTY_OFF_LOOSE_BALL_FOUL: 20>: 21,\n",
       " <TryResultType.INBOUND_FOUL: 21>: 189,\n",
       " <TryResultType.CLEAR_PATH_FOUL: 22>: 185,\n",
       " <TryResultType.PENALTY_TAKE_FOUL: 23>: 2544,\n",
       " <TryResultType.TAKE_FOUL: 24>: 1517,\n",
       " <TryResultType.FLAGRANT1: 25>: 243,\n",
       " <TryResultType.FLAGRANT2: 26>: 29,\n",
       " <TryResultType.OFFENSIVE_FLAGRANT1: 27>: 48,\n",
       " <TryResultType.OFFENSIVE_FLAGRANT2: 28>: 10,\n",
       " <TryResultType.OFFENSIVE_FOUL_TURNOVER: 29>: 8060,\n",
       " <TryResultType.PENALTY_OFF_FOUL_TURNOVER: 30>: 0,\n",
       " <TryResultType.CHARGE: 31>: 4041,\n",
       " <TryResultType.BAD_PASS_OUT: 32>: 12727,\n",
       " <TryResultType.OFFENSIVE_GOALTENDING_TURNOVER: 33>: 452,\n",
       " <TryResultType.LOST_BALL_STEAL: 34>: 20490,\n",
       " <TryResultType.BAD_PASS_STEAL: 35>: 36723,\n",
       " <TryResultType.LOST_BALL_OUT_TURNOVER: 36>: 6475,\n",
       " <TryResultType.STEP_OUT_TURNOVER: 37>: 2386,\n",
       " <TryResultType.TRAVEL: 38>: 6252,\n",
       " <TryResultType.DISCONTINUE_DRIBBLE: 39>: 271,\n",
       " <TryResultType.PALMIMG_TURNOVER: 40>: 220,\n",
       " <TryResultType.DOUBLE_DRIBBLE_TURNOVER: 41>: 309,\n",
       " <TryResultType.KICKED_BALL_TURNOVER: 42>: 79,\n",
       " <TryResultType.ILLEGAL_SCREEN_TURNOVER: 43>: 55,\n",
       " <TryResultType.BACKCOURT_TURNOVER: 44>: 570,\n",
       " <TryResultType.EIGHT_SECONDS_TURNOVER: 45>: 44,\n",
       " <TryResultType.THROW_IN_5SECONDS_TURNOVER: 46>: 142,\n",
       " <TryResultType.OFF_3SECONDS_TURNOVER: 47>: 1078,\n",
       " <TryResultType.INBOUND_TURNOVER: 48>: 74,\n",
       " <TryResultType.ILLEGAL_ASSIST: 49>: 27,\n",
       " <TryResultType.TIMEOUT: 50>: 17247,\n",
       " <TryResultType.JUMP_BALL: 51>: 44,\n",
       " <TryResultType.HELD_BALL: 52>: 1837,\n",
       " <TryResultType.SHOT_CLOCK_TURNOVER: 53>: 4029,\n",
       " <TryResultType.DEF_3SECONDS: 54>: 1674,\n",
       " <TryResultType.KICKED_BALL: 55>: 3047,\n",
       " <TryResultType.MISSED_FOUL: 56>: 16,\n",
       " <TryResultType.MISTAKE_CALL: 57>: 0,\n",
       " <TryResultType.DOUBLE_FOUL: 58>: 104,\n",
       " <TryResultType.EXCESS_TIMEOUT: 59>: 0,\n",
       " <TryResultType.EXCESS_TIMEOUT_TURNOVER: 60>: 6,\n",
       " <TryResultType.FLAGRANT_AND_FOUL: 61>: 3,\n",
       " <TryResultType.FOUL_AND_OFFENSE_FLAGRANT: 62>: 2}"
      ]
     },
     "execution_count": 15,
     "metadata": {},
     "output_type": "execute_result"
    }
   ],
   "source": [
    "counts"
   ]
  },
  {
   "cell_type": "code",
   "execution_count": null,
   "metadata": {},
   "outputs": [],
   "source": [
    "games[0].previous_possession.events"
   ]
  },
  {
   "cell_type": "code",
   "execution_count": null,
   "metadata": {},
   "outputs": [],
   "source": [
    "games[0].events"
   ]
  },
  {
   "cell_type": "code",
   "execution_count": null,
   "metadata": {},
   "outputs": [],
   "source": [
    "games.next_possession.events"
   ]
  },
  {
   "cell_type": "code",
   "execution_count": null,
   "metadata": {},
   "outputs": [],
   "source": [
    "event = games[0].previous_possession.events[5]\n",
    "event"
   ]
  },
  {
   "cell_type": "code",
   "execution_count": null,
   "metadata": {},
   "outputs": [],
   "source": [
    "games"
   ]
  },
  {
   "cell_type": "code",
   "execution_count": null,
   "metadata": {},
   "outputs": [],
   "source": [
    "event.next_event.is_loose_ball_foul"
   ]
  },
  {
   "cell_type": "code",
   "execution_count": null,
   "metadata": {},
   "outputs": [],
   "source": [
    "event.oreb"
   ]
  },
  {
   "cell_type": "code",
   "execution_count": null,
   "metadata": {},
   "outputs": [],
   "source": [
    "event.team_id\n",
    "\n"
   ]
  },
  {
   "cell_type": "code",
   "execution_count": null,
   "metadata": {},
   "outputs": [],
   "source": [
    "event.event_action_type"
   ]
  },
  {
   "cell_type": "code",
   "execution_count": null,
   "metadata": {},
   "outputs": [],
   "source": [
    "event.is_lost_ball_out_of_bounds\n"
   ]
  },
  {
   "cell_type": "code",
   "execution_count": null,
   "metadata": {},
   "outputs": [],
   "source": [
    "games[0].events[2].event_action_type"
   ]
  },
  {
   "cell_type": "code",
   "execution_count": null,
   "metadata": {},
   "outputs": [],
   "source": [
    "games[1][-1]"
   ]
  },
  {
   "cell_type": "code",
   "execution_count": null,
   "metadata": {},
   "outputs": [],
   "source": [
    "\n",
    "find_team_name_by_id(1610612740)\n"
   ]
  },
  {
   "cell_type": "code",
   "execution_count": null,
   "metadata": {},
   "outputs": [],
   "source": [
    "pos = eargs[1]\n",
    "pos"
   ]
  },
  {
   "cell_type": "code",
   "execution_count": null,
   "metadata": {},
   "outputs": [],
   "source": [
    "pos.previous_possession.events"
   ]
  },
  {
   "cell_type": "code",
   "execution_count": null,
   "metadata": {},
   "outputs": [],
   "source": [
    "games.events"
   ]
  },
  {
   "cell_type": "code",
   "execution_count": null,
   "metadata": {},
   "outputs": [],
   "source": [
    "event = games.events[1]\n",
    "event"
   ]
  },
  {
   "cell_type": "code",
   "execution_count": null,
   "metadata": {},
   "outputs": [],
   "source": [
    "get_num_fta_from_foul(event)\n"
   ]
  },
  {
   "cell_type": "code",
   "execution_count": null,
   "metadata": {},
   "outputs": [],
   "source": [
    "event.number_of_fta_for_foul"
   ]
  },
  {
   "cell_type": "code",
   "execution_count": null,
   "metadata": {},
   "outputs": [],
   "source": [
    "pos.events"
   ]
  },
  {
   "cell_type": "code",
   "execution_count": null,
   "metadata": {},
   "outputs": [],
   "source": [
    "pos.previous_possession"
   ]
  },
  {
   "cell_type": "code",
   "execution_count": null,
   "metadata": {},
   "outputs": [],
   "source": [
    "games[0]\n"
   ]
  },
  {
   "cell_type": "code",
   "execution_count": null,
   "metadata": {},
   "outputs": [],
   "source": [
    "games[0].previous_possession.events"
   ]
  },
  {
   "cell_type": "code",
   "execution_count": null,
   "metadata": {},
   "outputs": [],
   "source": [
    "ft = games[0].previous_possession.previous_possession.events[-1]\n"
   ]
  },
  {
   "cell_type": "code",
   "execution_count": null,
   "metadata": {},
   "outputs": [],
   "source": [
    "ft.is_ft_1_of_1\n"
   ]
  },
  {
   "cell_type": "code",
   "execution_count": null,
   "metadata": {},
   "outputs": [],
   "source": [
    "made_shots_at_event_time = []\n",
    "fts_by_other_player_at_event_time = []\n",
    "events_at_event_time = ft.get_all_events_at_current_time()\n",
    "for event in events_at_event_time:\n",
    "    if hasattr(event, \"is_made\") and event.is_made:\n",
    "        if not isinstance(event, enhanced_pbp.FreeThrow):\n",
    "            made_shots_at_event_time.append(event)\n",
    "        if (\n",
    "            isinstance(event, enhanced_pbp.FreeThrow)\n",
    "            and event.player1_id != ft.player1_id\n",
    "        ):\n",
    "            fts_by_other_player_at_event_time.append(event)\n"
   ]
  },
  {
   "cell_type": "code",
   "execution_count": null,
   "metadata": {},
   "outputs": [],
   "source": [
    "made_shots_at_event_time = sorted(\n",
    "    made_shots_at_event_time, key=lambda k: k.order\n",
    ")\n"
   ]
  },
  {
   "cell_type": "code",
   "execution_count": null,
   "metadata": {},
   "outputs": [],
   "source": [
    "made_shots_at_event_time[0].team_id == foul.team_id\n"
   ]
  },
  {
   "cell_type": "code",
   "execution_count": null,
   "metadata": {},
   "outputs": [],
   "source": [
    "foul.is_away_from_play_foul\n"
   ]
  },
  {
   "cell_type": "code",
   "execution_count": null,
   "metadata": {},
   "outputs": [],
   "source": [
    "games[0].previous_possession.offense_team_id"
   ]
  },
  {
   "cell_type": "code",
   "execution_count": null,
   "metadata": {},
   "outputs": [],
   "source": [
    "games[0].previous_possession.previous_possession.events\n"
   ]
  },
  {
   "cell_type": "code",
   "execution_count": null,
   "metadata": {},
   "outputs": [],
   "source": [
    "find_team_name_by_id(1610612740)\n"
   ]
  },
  {
   "cell_type": "code",
   "execution_count": null,
   "metadata": {},
   "outputs": [],
   "source": [
    "pos.events[0].is_possession_ending_event\n"
   ]
  },
  {
   "cell_type": "code",
   "execution_count": null,
   "metadata": {},
   "outputs": [],
   "source": [
    "pos.previous_possession.events"
   ]
  },
  {
   "cell_type": "code",
   "execution_count": null,
   "metadata": {},
   "outputs": [],
   "source": [
    "pos.previous_possession.events[0].offense_team_id\n"
   ]
  },
  {
   "cell_type": "code",
   "execution_count": null,
   "metadata": {},
   "outputs": [],
   "source": [
    "find_team_name_by_id(1610612743)\n"
   ]
  },
  {
   "cell_type": "code",
   "execution_count": null,
   "metadata": {},
   "outputs": [],
   "source": [
    "pv = ft.previous_event\n",
    "pv"
   ]
  },
  {
   "cell_type": "code",
   "execution_count": null,
   "metadata": {},
   "outputs": [],
   "source": [
    "pv.event_num"
   ]
  },
  {
   "cell_type": "code",
   "execution_count": null,
   "metadata": {},
   "outputs": [],
   "source": [
    "from pbpstats.resources import enhanced_pbp"
   ]
  },
  {
   "cell_type": "code",
   "execution_count": null,
   "metadata": {},
   "outputs": [],
   "source": [
    "isinstance(ft, enhanced_pbp.Foul)\n"
   ]
  },
  {
   "cell_type": "code",
   "execution_count": null,
   "metadata": {},
   "outputs": [],
   "source": [
    "pv = pv.previous_event\n",
    "pv"
   ]
  },
  {
   "cell_type": "code",
   "execution_count": null,
   "metadata": {},
   "outputs": [],
   "source": [
    "pv.foul_that_led_to_ft"
   ]
  },
  {
   "cell_type": "code",
   "execution_count": null,
   "metadata": {},
   "outputs": [],
   "source": [
    "games[0].events"
   ]
  },
  {
   "cell_type": "code",
   "execution_count": null,
   "metadata": {},
   "outputs": [],
   "source": [
    "games[1][-2]"
   ]
  },
  {
   "cell_type": "code",
   "execution_count": null,
   "metadata": {},
   "outputs": [],
   "source": [
    "games[0].offense_team_id\n"
   ]
  },
  {
   "cell_type": "code",
   "execution_count": null,
   "metadata": {},
   "outputs": [],
   "source": [
    "games[0].previous_possession.events\n"
   ]
  },
  {
   "cell_type": "code",
   "execution_count": null,
   "metadata": {},
   "outputs": [],
   "source": [
    "games[0].previous_possession.offense_team_id\n"
   ]
  },
  {
   "cell_type": "code",
   "execution_count": null,
   "metadata": {},
   "outputs": [],
   "source": [
    "games[0].previous_possession.events[-1].event_action_type\n"
   ]
  },
  {
   "cell_type": "code",
   "execution_count": null,
   "metadata": {},
   "outputs": [],
   "source": [
    "games[1][-1]"
   ]
  },
  {
   "cell_type": "code",
   "execution_count": null,
   "metadata": {},
   "outputs": [],
   "source": [
    "find_team_name_by_id(1610612739)\n"
   ]
  },
  {
   "cell_type": "code",
   "execution_count": null,
   "metadata": {},
   "outputs": [],
   "source": [
    "foul = games[0].events[0]\n",
    "foul"
   ]
  },
  {
   "cell_type": "code",
   "execution_count": null,
   "metadata": {},
   "outputs": [],
   "source": [
    "foul.is_technical"
   ]
  },
  {
   "cell_type": "code",
   "execution_count": null,
   "metadata": {},
   "outputs": [],
   "source": [
    "foul.is_defensive_3_seconds\n"
   ]
  },
  {
   "cell_type": "code",
   "execution_count": null,
   "metadata": {},
   "outputs": [],
   "source": [
    "find_player_by_id(foul.player3_id)"
   ]
  },
  {
   "cell_type": "code",
   "execution_count": null,
   "metadata": {},
   "outputs": [],
   "source": [
    "foul.event_action_type"
   ]
  },
  {
   "cell_type": "code",
   "execution_count": null,
   "metadata": {},
   "outputs": [],
   "source": [
    "get_num_fta_from_foul(foul)"
   ]
  },
  {
   "cell_type": "code",
   "execution_count": null,
   "metadata": {},
   "outputs": [],
   "source": [
    "find_team_name_by_id(games.offense_team_id)\n"
   ]
  },
  {
   "cell_type": "code",
   "execution_count": null,
   "metadata": {},
   "outputs": [],
   "source": [
    "games.previous_possession.previous_possession.events"
   ]
  },
  {
   "cell_type": "code",
   "execution_count": null,
   "metadata": {},
   "outputs": [],
   "source": [
    "games.previous_possession.events\n"
   ]
  },
  {
   "cell_type": "code",
   "execution_count": null,
   "metadata": {},
   "outputs": [],
   "source": [
    "event = games.next_possession.events[2]\n",
    "event"
   ]
  },
  {
   "cell_type": "code",
   "execution_count": null,
   "metadata": {},
   "outputs": [],
   "source": [
    "event.event_type"
   ]
  },
  {
   "cell_type": "code",
   "execution_count": null,
   "metadata": {},
   "outputs": [],
   "source": [
    "target_count = 0"
   ]
  },
  {
   "cell_type": "code",
   "execution_count": null,
   "metadata": {},
   "outputs": [],
   "source": [
    "from nba_dataclasses import TryStartType\n",
    "count = 0\n",
    "target_count += 1\n",
    "for game in games:\n",
    "    for pos_try in game.tries:\n",
    "        if pos_try.time_passed <= 0:\n",
    "            if pos_try.try_start.start_type == TryStartType.OFF_REBOUND or pos_try.try_start.start_type == TryStartType.STEAL:\n",
    "                continue\n",
    "            count += 1\n",
    "            if count == target_count:\n",
    "                break\n",
    "    if count == target_count:\n",
    "        break\n",
    "pos_try\n"
   ]
  },
  {
   "cell_type": "code",
   "execution_count": null,
   "metadata": {},
   "outputs": [],
   "source": [
    "pos_try"
   ]
  },
  {
   "cell_type": "code",
   "execution_count": 128,
   "metadata": {},
   "outputs": [],
   "source": [
    "correct = {\n",
    "    (\"0021500248\", 23): 1,\n",
    "    (\"0021500538\", 354): 1,\n",
    "    (\"0021700035\", 468): 1,\n",
    "    (\"0021700051\", 68): 1,\n",
    "    (\"0021800546\", 261): 2,\n",
    "    (\"0021700034\", 237): 0,\n",
    "    (\"0021500542\", 425): 0,\n",
    "    (\"0021601152\", 528): 3,\n",
    "    \n",
    "    (\"0021700020\", 665): 0,\n",
    "    (\"0021700034\", 237): 0,\n",
    "    (\"0021700050\", 159): 2,  # pbp looks like 1? but should be 2?...\n",
    "    (\"0021700054\", 54): 2,\n",
    "    (\"0021700090\", 408): 2,\n",
    "    (\"0021700095\", 397): 1,\n",
    "    (\"0021700099\", 285): 2,\n",
    "    (\"0021700103\", 584): 1,\n",
    "    (\"0021700112\", 229): 0,\n",
    "    (\"0021700132\", 465): 2,\n",
    "    (\"0021700136\", 456): 2,\n",
    "    (\"0021700136\", 459): 2,\n",
    "    (\"0021700136\", 529): 2,\n",
    "    (\"0021700146\", 78): 1,\n",
    "    (\"0021700157\", 554): 1,\n",
    "    (\"0021700167\", 70): 2,\n",
    "    (\"0021700183\", 271): 0,\n",
    "    (\"0021700198\", 234): 3,\n",
    "    (\"0021700220\", 690): 0,\n",
    "    (\"0021700229\", 610): 2,\n",
    "    (\"0021700231\", 19): 1,\n",
    "    (\"0021700252\", 625): 1,\n",
    "    (\"0021700257\", 626): 0, # duplicate event, second one gets the fts\n",
    "    (\"0021700284\", 327): 1,\n",
    "    (\"0021700312\", 726): 2,\n",
    "    (\"0021700330\", 140): 2,\n",
    "    \n",
    "    (\"0021700692\", 164): 2,\n",
    "    \n",
    "    \n",
    "    (\"0021800004\", 671): 0,\n",
    "    (\"0021800010\", 39): 1,\n",
    "    (\"0021800022\", 249): 1,\n",
    "    (\"0021800028\", 158): 2, \n",
    "    (\"0021800033\", 348): 1,\n",
    "    (\"0021800033\", 351): 1,\n",
    "    \n",
    "}"
   ]
  },
  {
   "cell_type": "code",
   "execution_count": 130,
   "metadata": {},
   "outputs": [],
   "source": [
    "from pbpstats.client import Client\n",
    "from build_shot_chance_data import get_num_fta_from_foul\n",
    "from pbpstats.resources import enhanced_pbp\n",
    "import os\n",
    "game_possessions_settings = {\n",
    "    \"dir\": \"C:/Users/bhalb/nbaproject/response_data\",\n",
    "    \"Boxscore\": {\"source\": \"file\", \"data_provider\": \"stats_nba\"},\n",
    "    \"Possessions\": {\"source\": \"file\", \"data_provider\": \"stats_nba\"},\n",
    "}\n",
    "\n",
    "possession_client = Client(game_possessions_settings)\n",
    "\n",
    "file_directory = \"C:/Users/bhalb/nbaproject/response_data/pbp\"\n",
    "count = 0\n",
    "target_count = 5\n",
    "pass_count = 0\n",
    "fail_count = 0 \n",
    "for game_dict in season.schedule.games.final_games:\n",
    "    game_id = game_dict['game_id']\n",
    "    # print(\"processing game\", game_id)\n",
    "    # game_id = \"0021600035\"\n",
    "    \n",
    "    # data_pbp_file_path = (\n",
    "    #     f\"{file_directory}/data_{game_id}.json\"\n",
    "    # )\n",
    "    # if not os.path.isfile(data_pbp_file_path):\n",
    "    #     print(\"load\", data_pbp_file_path)\n",
    "    #     game = possession_client.Game(game_id)\n",
    "    #     print(\"loaded!\")\n",
    "    # else:\n",
    "    #     print(data_pbp_file_path, \"already loaded\")\n",
    "    # pass_count += 1\n",
    "    # break\n",
    "    # if pass_count == 5:\n",
    "    #     break\n",
    "    game = possession_client.Game(game_id)\n",
    "    possessions = game.possessions.items\n",
    "    \n",
    "    for possession in possessions:\n",
    "\n",
    "        # print(count)\n",
    "        # if count == 56:\n",
    "        #     print(event)\n",
    "        for event in possession.events:\n",
    "            if isinstance(event, enhanced_pbp.Foul) and not (event.is_technical or event.is_double_technical):\n",
    "                # if \"IN.FOUL\" in event.description or \"Inbound Foul\" in event.description:\n",
    "                #     continue\n",
    "                # nft = event.number_of_fta_for_foul\n",
    "                # nft = nft if nft is not None else 0\n",
    "                ftnum = get_num_fta_from_foul(event)\n",
    "                if event.is_flagrant:\n",
    "                    ftnum = min(ftnum, 2)\n",
    "                if (game_id, event.event_num) in correct:\n",
    "                    if correct[(game_id, event.event_num)] == ftnum:\n",
    "                        # print(\"pass\")\n",
    "                        pass_count += 1\n",
    "                    else:\n",
    "                        fail_count += 1\n",
    "                        print(\"fail\", ftnum, \"vs\", correct[(\n",
    "                            game_id, event.event_num)], event, possession.period)\n",
    "                        # count = target_count\n",
    "                        break\n",
    "                # elif ftnum != nft:\n",
    "                #     count += 1\n",
    "                #     if count > target_count - 5:\n",
    "                #         print(\"fouls: \", ftnum, \"vs\", nft, event, possession.period)\n",
    "                #     break \n",
    "#         if count == target_count:\n",
    "#             break\n",
    "#     if count == target_count:\n",
    "#         break\n",
    "#     break\n",
    "\n",
    "# print(\"fail count:\", fail_count)\n"
   ]
  },
  {
   "cell_type": "code",
   "execution_count": null,
   "metadata": {},
   "outputs": [],
   "source": [
    "event"
   ]
  },
  {
   "cell_type": "code",
   "execution_count": null,
   "metadata": {},
   "outputs": [],
   "source": [
    "event.is_flagrant\n"
   ]
  },
  {
   "cell_type": "code",
   "execution_count": null,
   "metadata": {},
   "outputs": [],
   "source": [
    "next_event = event.next_event\n",
    "next_event, next_event.event_type\n"
   ]
  },
  {
   "cell_type": "code",
   "execution_count": null,
   "metadata": {},
   "outputs": [],
   "source": [
    "next_event = next_event.next_event\n",
    "next_event, next_event.event_type\n"
   ]
  },
  {
   "cell_type": "code",
   "execution_count": null,
   "metadata": {},
   "outputs": [],
   "source": [
    "next_event.player1_id\n"
   ]
  },
  {
   "cell_type": "code",
   "execution_count": null,
   "metadata": {},
   "outputs": [],
   "source": [
    "prev_event = event.previous_event\n",
    "prev_event"
   ]
  },
  {
   "cell_type": "code",
   "execution_count": null,
   "metadata": {},
   "outputs": [],
   "source": [
    "prev_event = prev_event.previous_event\n",
    "prev_event\n"
   ]
  },
  {
   "cell_type": "code",
   "execution_count": null,
   "metadata": {},
   "outputs": [],
   "source": [
    "prev_event.foul_that_led_to_ft"
   ]
  },
  {
   "cell_type": "code",
   "execution_count": null,
   "metadata": {},
   "outputs": [],
   "source": [
    "event.player3_id"
   ]
  },
  {
   "cell_type": "code",
   "execution_count": null,
   "metadata": {},
   "outputs": [],
   "source": [
    "find_player_by_id(204001)\n"
   ]
  },
  {
   "cell_type": "code",
   "execution_count": null,
   "metadata": {},
   "outputs": [],
   "source": [
    "event.is_inbound_foul or event.is_away_from_play_foul"
   ]
  },
  {
   "cell_type": "code",
   "execution_count": null,
   "metadata": {},
   "outputs": [],
   "source": [
    "next_event.player1_id"
   ]
  }
 ],
 "metadata": {
  "interpreter": {
   "hash": "91bf7612c7ed8d2f84c49e6080371137b1ceb87e3d1dfcf598275b8f66797bc1"
  },
  "kernelspec": {
   "display_name": "Python 3.9.2 ('.venv': poetry)",
   "language": "python",
   "name": "python3"
  },
  "language_info": {
   "codemirror_mode": {
    "name": "ipython",
    "version": 3
   },
   "file_extension": ".py",
   "mimetype": "text/x-python",
   "name": "python",
   "nbconvert_exporter": "python",
   "pygments_lexer": "ipython3",
   "version": "3.9.2"
  },
  "orig_nbformat": 4
 },
 "nbformat": 4,
 "nbformat_minor": 2
}
