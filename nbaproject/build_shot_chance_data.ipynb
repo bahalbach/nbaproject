{
 "cells": [
  {
   "cell_type": "code",
   "execution_count": 1,
   "metadata": {},
   "outputs": [],
   "source": [
    "%load_ext autoreload\n",
    "%autoreload 2\n"
   ]
  },
  {
   "cell_type": "code",
   "execution_count": 2,
   "metadata": {},
   "outputs": [],
   "source": [
    "from nba import NbaTracker\n",
    "from build_shot_chance_data import process_season\n",
    "nbaTracker = NbaTracker()\n",
    "# nbaTracker.add_season(\"2000-01\")"
   ]
  },
  {
   "cell_type": "code",
   "execution_count": 3,
   "metadata": {},
   "outputs": [],
   "source": [
    "from nba_api.stats.static.players import find_player_by_id\n",
    "from nba_api.stats.static.teams import find_team_name_by_id\n",
    "\n",
    "\n",
    "def get_player_names(event):\n",
    "    for team, players in event.current_players.items():\n",
    "        print(find_team_name_by_id(team)['nickname'], list(\n",
    "            map(lambda pid: find_player_by_id(pid)['full_name'], players)))\n",
    "    if hasattr(event, \"player1_id\"):\n",
    "        print(\"player1\", find_player_by_id(event.player1_id)['full_name'] if event.player1_id else 0)\n",
    "    if hasattr(event, \"player2_id\"):\n",
    "        print(\"player2\", find_player_by_id(event.player2_id)['full_name'])\n",
    "    if hasattr(event, \"player3_id\"):\n",
    "        print(\"player3\", find_player_by_id(event.player3_id)['full_name'])\n",
    "\n"
   ]
  },
  {
   "cell_type": "code",
   "execution_count": 2,
   "metadata": {},
   "outputs": [
    {
     "name": "stdout",
     "output_type": "stream",
     "text": [
      "         3 function calls in 0.000 seconds\n",
      "\n",
      "   Ordered by: standard name\n",
      "\n",
      "   ncalls  tottime  percall  cumtime  percall filename:lineno(function)\n",
      "        1    0.000    0.000    0.000    0.000 <string>:1(<module>)\n",
      "        1    0.000    0.000    0.000    0.000 {built-in method builtins.exec}\n",
      "        1    0.000    0.000    0.000    0.000 {method 'disable' of '_lsprof.Profiler' objects}\n",
      "\n",
      "\n"
     ]
    },
    {
     "name": "stderr",
     "output_type": "stream",
     "text": [
      "\n",
      "KeyboardInterrupt\n",
      "\n"
     ]
    }
   ],
   "source": [
    "import cProfile\n",
    "cProfile.run(\"process_season(season)\")"
   ]
  },
  {
   "cell_type": "code",
   "execution_count": 10,
   "metadata": {},
   "outputs": [
    {
     "name": "stdout",
     "output_type": "stream",
     "text": [
      "Already loaded 2015-16\n",
      "prcessed 100 games\n",
      "prcessed 200 games\n",
      "not adding delay of game fts\n",
      "using missing delay of game tech\n",
      "prcessed 300 games\n",
      "No expected free throws and no tech <StatsFreeThrow GameId: 0021500504, Description: Barton Free Throw Technical (9 PTS), Time: 12:00, EventNum: 283> adding another tech foul\n",
      "prcessed 400 games\n",
      "No expected free throws and no tech <StatsFreeThrow GameId: 0021500571, Description: Thomas Free Throw Technical (16 PTS), Time: 12:00, EventNum: 256> adding another tech foul\n",
      "prcessed 500 games\n",
      "prcessed 600 games\n",
      "prcessed 700 games\n",
      "prcessed 800 games\n",
      "prcessed 900 games\n",
      "prcessed 1000 games\n",
      "complete\n"
     ]
    }
   ],
   "source": [
    "\n",
    "nbaTracker.add_season(\"2015-16\")\n",
    "season = nbaTracker.seasons[\"2015-16\"]\n",
    "\n",
    "try:\n",
    "    games = process_season(season,170)\n",
    "    print(\"complete\")\n",
    "except Exception as e:\n",
    "    eargs = e.args\n",
    "    print(\"has exception\")\n"
   ]
  },
  {
   "cell_type": "code",
   "execution_count": 8,
   "metadata": {},
   "outputs": [
    {
     "data": {
      "text/plain": [
       "(\"local variable 'num_flagrant_fts' referenced before assignment\",)"
      ]
     },
     "execution_count": 8,
     "metadata": {},
     "output_type": "execute_result"
    }
   ],
   "source": [
    "eargs"
   ]
  },
  {
   "cell_type": "code",
   "execution_count": 12,
   "metadata": {},
   "outputs": [
    {
     "name": "stdout",
     "output_type": "stream",
     "text": [
      "Already loaded 2016-17\n",
      "complete\n"
     ]
    }
   ],
   "source": [
    "\n",
    "nbaTracker.add_season(\"2016-17\")\n",
    "season = nbaTracker.seasons[\"2016-17\"]\n",
    "\n",
    "try:\n",
    "    games2 = process_season(season, 1220)\n",
    "    print(\"complete\")\n",
    "except Exception as e:\n",
    "    eargs = e.args\n",
    "    # raise e\n"
   ]
  },
  {
   "cell_type": "code",
   "execution_count": 15,
   "metadata": {},
   "outputs": [
    {
     "name": "stdout",
     "output_type": "stream",
     "text": [
      "Already loaded 2017-18\n",
      "prcessed 100 games\n",
      "corrected jumpball to 1610612754\n",
      "wrong offense team for ft <StatsFreeThrow GameId: 0021700507, Description: Powell Free Throw 1 of 2 (3 PTS), Time: 2:17, EventNum: 100>\n",
      "corrected jumpball to 1610612744\n",
      "prcessed 200 games\n",
      "not adding delay of game fts\n",
      "prcessed 300 games\n",
      "corrected jumpball to 1610612766\n",
      "prcessed 400 games\n",
      "corrected jumpball to 1610612749\n",
      "corrected jumpball to 1610612748\n",
      "prcessed 500 games\n",
      "wrong team lftv <StatsViolation GameId: 0021700882, Description: Napier Violation:Lane (.), Time: 3:13, EventNum: 486>\n",
      "just ignoring...\n",
      "prcessed 600 games\n",
      "corrected jumpball to 1610612758\n",
      "corrected jumpball to 1610612744\n",
      "prcessed 700 games\n",
      "No expected free throws and no tech <StatsFreeThrow GameId: 0021701074, Description: MISS Tolliver Free Throw Technical, Time: 12:00, EventNum: 702> adding another tech foul\n",
      "prcessed 800 games\n",
      "wrong team lftv <StatsViolation GameId: 0021701161, Description: Paul Violation:Lane (B.Taylor), Time: 8:07, EventNum: 356>\n",
      "just ignoring...\n",
      "corrected jumpball to 1610612757\n",
      "complete\n"
     ]
    }
   ],
   "source": [
    "nbaTracker.add_season(\"2017-18\")\n",
    "season = nbaTracker.seasons[\"2017-18\"]\n",
    "\n",
    "try:\n",
    "    games3 = process_season(season, 335)\n",
    "    print(\"complete\")\n",
    "except Exception as e:\n",
    "    eargs = e.args\n",
    "    # raise e\n",
    "    \n"
   ]
  },
  {
   "cell_type": "code",
   "execution_count": 66,
   "metadata": {},
   "outputs": [
    {
     "name": "stdout",
     "output_type": "stream",
     "text": [
      "Already loaded 2018-19\n",
      "prcessed 100 games\n",
      "not adding delay of game fts\n",
      "prcessed 200 games\n",
      "corrected jumpball to 1610612763\n",
      "prcessed 300 games\n",
      "prcessed 400 games\n",
      "corrected jumpball to 1610612746\n",
      "prcessed 500 games\n",
      "No expected free throws and no tech <StatsFreeThrow GameId: 0021800534, Description: Lillard Free Throw Technical (16 PTS), Time: 12:00, EventNum: 340> adding another tech foul\n",
      "lane violation w exp fts 2 <StatsViolation GameId: 0021800546, Description: Covington Lane Violation, Time: 3:46, EventNum: 312>\n",
      "[<StatsFoul GameId: 0021800546, Description: S. Hill P.FOUL (P2.PN) (K.Fitzgerald), Time: 3:46, EventNum: 261>, <StatsViolation GameId: 0021800546, Description: Covington Lane Violation, Time: 3:46, EventNum: 312>, <StatsFreeThrow GameId: 0021800546, Description: Towns Free Throw 2 of 2 (6 PTS), Time: 3:46, EventNum: 313>]\n",
      "prcessed 600 games\n",
      "corrected jumpball to 1610612743\n",
      "corrected jumpball to 1610612737\n",
      "not adding delay of game fts\n",
      "No expected free throws and no tech <StatsFreeThrow GameId: 0021800676, Description: MISS Durant Free Throw Technical, Time: 12:00, EventNum: 175> adding another tech foul\n",
      "No expected free throws and no tech <StatsFreeThrow GameId: 0021800689, Description: MISS Rose Free Throw Technical, Time: 12:00, EventNum: 587> adding another tech foul\n",
      "prcessed 700 games\n",
      "prcessed 800 games\n",
      "corrected jumpball to 1610612753\n",
      "corrected jumpball to 1610612758\n",
      "corrected jumpball to 1610612738\n",
      "prcessed 900 games\n",
      "corrected jumpball to 1610612746\n",
      "corrected jumpball to 1610612765\n",
      "prcessed 1000 games\n",
      "not adding delay of game fts\n",
      "corrected jumpball to 1610612743\n",
      "prcessed 1100 games\n",
      "prcessed 1200 games\n",
      "complete\n"
     ]
    }
   ],
   "source": [
    "nbaTracker.add_season(\"2018-19\")\n",
    "season = nbaTracker.seasons[\"2018-19\"]\n",
    "\n",
    "try:\n",
    "    games4 = process_season(season, 0)\n",
    "    print(\"complete\")\n",
    "except Exception as e:\n",
    "    eargs = e.args\n",
    "    # raise e\n"
   ]
  },
  {
   "cell_type": "code",
   "execution_count": 67,
   "metadata": {},
   "outputs": [
    {
     "name": "stdout",
     "output_type": "stream",
     "text": [
      "Already loaded 2019-20\n",
      "prcessed 100 games\n",
      "prcessed 200 games\n",
      "prcessed 300 games\n",
      "corrected jumpball to 1610612743\n",
      "No expected free throws and no tech <StatsFreeThrow GameId: 0021900325, Description: Poole Free Throw Technical (1 PTS), Time: 0:28, EventNum: 445> adding another tech foul\n",
      "prcessed 400 games\n",
      "made shot with  2 fts foul? <StatsFoul GameId: 0021900487, Description: Valanciunas FLAGRANT.FOUL.TYPE1 (P2.PN) (K.Fitzgerald), Time: 0:10, EventNum: 346>\n",
      "prcessed 500 games\n",
      "prcessed 600 games\n",
      "prcessed 700 games\n",
      "No expected free throws and no tech <StatsFreeThrow GameId: 0021900742, Description: Morris Sr. Free Throw Technical (5 PTS), Time: 12:00, EventNum: 311> adding another tech foul\n",
      "prcessed 800 games\n",
      "prcessed 900 games\n",
      "corrected jumpball to 1610612738\n",
      "corrected jumpball to 1610612751\n",
      "prcessed 1000 games\n",
      "corrected jumpball to 1610612755\n",
      "lane violation w exp fts 2 <StatsViolation GameId: 0021901309, Description: Kurucs Lane Violation, Time: 4:53, EventNum: 671>\n",
      "[<StatsFoul GameId: 0021901309, Description: Whiteside S.FOUL (P2.PN) (G.Petraitis), Time: 4:53, EventNum: 434>, <StatsViolation GameId: 0021901309, Description: Kurucs Lane Violation, Time: 4:53, EventNum: 671>, <StatsSubstitution GameId: 0021901309, Description: SUB: Johnson FOR LeVert, Time: 4:53, EventNum: 453>, <StatsFreeThrow GameId: 0021901309, Description: MISS Allen Free Throw 2 of 2, Time: 4:53, EventNum: 503>, <StatsRebound GameId: 0021901309, Description: Kurucs REBOUND (Off:1 Def:4), Time: 4:52, EventNum: 504>, <StatsFieldGoal GameId: 0021901309, Description: Kurucs 3' Tip Layup Shot (5 PTS), Time: 4:49, EventNum: 439>]\n",
      "complete\n"
     ]
    }
   ],
   "source": [
    "nbaTracker.add_season(\"2019-20\")\n",
    "season = nbaTracker.seasons[\"2019-20\"]\n",
    "\n",
    "try:\n",
    "    games5 = process_season(season, 0 )\n",
    "    print(\"complete\")\n",
    "except Exception as e:\n",
    "    eargs = e.args\n",
    "    # raise e\n"
   ]
  },
  {
   "cell_type": "code",
   "execution_count": 14,
   "metadata": {},
   "outputs": [
    {
     "name": "stdout",
     "output_type": "stream",
     "text": [
      "Already loaded 2020-21\n",
      "No expected free throws and no tech <StatsFreeThrow GameId: 0022001055, Description: Harris Free Throw Technical (5 PTS), Time: 3:16, EventNum: 288> adding another tech foul\n",
      "dbl lane vio after LiveFreeThrowResult.MADE\n",
      "complete\n"
     ]
    }
   ],
   "source": [
    "nbaTracker.add_season(\"2020-21\")\n",
    "season = nbaTracker.seasons[\"2020-21\"]\n",
    "\n",
    "try:\n",
    "    games6 = process_season(season, 1048)\n",
    "    print(\"complete\")\n",
    "except Exception as e:\n",
    "    eargs = e.args\n",
    "    # raise e\n"
   ]
  },
  {
   "cell_type": "code",
   "execution_count": 52,
   "metadata": {},
   "outputs": [
    {
     "data": {
      "text/plain": [
       "TryResult(result_type=<TryResultType.BAD_PASS_OUT: 32>, result_player1_id=201609, result_player2_id=None, result_player3_id=None, result_player4_id=None, shot_type=None, shot_distance=None, shot_X=None, shot_Y=None, num_fts=0)"
      ]
     },
     "execution_count": 52,
     "metadata": {},
     "output_type": "execute_result"
    }
   ],
   "source": [
    "eargs[1][-1].try_result"
   ]
  },
  {
   "cell_type": "code",
   "execution_count": null,
   "metadata": {},
   "outputs": [],
   "source": [
    "from build_shot_chance_data import is_jumpball_turnover, is_jumpball_violation"
   ]
  },
  {
   "cell_type": "code",
   "execution_count": 47,
   "metadata": {},
   "outputs": [
    {
     "data": {
      "text/plain": [
       "{'id': 1610612748,\n",
       " 'full_name': 'Miami Heat',\n",
       " 'abbreviation': 'MIA',\n",
       " 'nickname': 'Heat',\n",
       " 'city': 'Miami',\n",
       " 'state': 'Florida',\n",
       " 'year_founded': 1988}"
      ]
     },
     "execution_count": 47,
     "metadata": {},
     "output_type": "execute_result"
    }
   ],
   "source": [
    "find_team_name_by_id(1610612748)\n"
   ]
  },
  {
   "cell_type": "code",
   "execution_count": 5,
   "metadata": {},
   "outputs": [
    {
     "data": {
      "text/plain": [
       "[<StatsFieldGoal GameId: 0022001063, Description: MISS Edwards 26' 3PT Jump Shot, Time: 0:53, EventNum: 679>,\n",
       " <StatsRebound GameId: 0022001063, Description: Nowell REBOUND (Off:1 Def:1), Time: 0:48, EventNum: 680>,\n",
       " <StatsFieldGoal GameId: 0022001063, Description: Nowell 1' Putback Layup (7 PTS), Time: 0:48, EventNum: 681>]"
      ]
     },
     "execution_count": 5,
     "metadata": {},
     "output_type": "execute_result"
    }
   ],
   "source": [
    "eargs[0].previous_possession.previous_possession.events\n"
   ]
  },
  {
   "cell_type": "code",
   "execution_count": 6,
   "metadata": {},
   "outputs": [
    {
     "data": {
      "text/plain": [
       "[<StatsFoul GameId: 0022001063, Description: Reid S.FOUL (P3.PN) (A.Nagy), Time: 0:31, EventNum: 682>,\n",
       " <StatsFreeThrow GameId: 0022001063, Description: MISS Parker Free Throw 1 of 2, Time: 0:31, EventNum: 695>,\n",
       " <StatsRebound GameId: 0022001063, Description: Celtics Rebound, Time: 0:31, EventNum: 696>,\n",
       " <StatsFreeThrow GameId: 0022001063, Description: Parker Free Throw 2 of 2 (9 PTS), Time: 0:31, EventNum: 697>]"
      ]
     },
     "execution_count": 6,
     "metadata": {},
     "output_type": "execute_result"
    }
   ],
   "source": [
    "eargs[0].previous_possession.events\n"
   ]
  },
  {
   "cell_type": "code",
   "execution_count": 7,
   "metadata": {},
   "outputs": [
    {
     "data": {
      "text/plain": [
       "[<StatsViolation GameId: 0022001063, Description: Lane, Time: 0:31, EventNum: 699>,\n",
       " <StatsViolation GameId: 0022001063, Description: Lane, Time: 0:31, EventNum: 698>,\n",
       " <StatsFieldGoal GameId: 0022001063, Description: MISS Edwards 3PT Jump Shot, Time: 0:11, EventNum: 689>,\n",
       " <StatsRebound GameId: 0022001063, Description: Nesmith REBOUND (Off:1 Def:3), Time: 0:05, EventNum: 690>]"
      ]
     },
     "execution_count": 7,
     "metadata": {},
     "output_type": "execute_result"
    }
   ],
   "source": [
    "eargs[0].events"
   ]
  },
  {
   "cell_type": "code",
   "execution_count": 10,
   "metadata": {},
   "outputs": [
    {
     "data": {
      "text/plain": [
       "True"
      ]
     },
     "execution_count": 10,
     "metadata": {},
     "output_type": "execute_result"
    }
   ],
   "source": [
    "eargs[0].events[0].is_lane_violation\n"
   ]
  },
  {
   "cell_type": "code",
   "execution_count": 30,
   "metadata": {},
   "outputs": [
    {
     "data": {
      "text/plain": [
       "[<StatsFoul GameId: 0022000997, Description: Neto S.FOUL (P3.T1) (G.Petraitis), Time: 5:08, EventNum: 390>,\n",
       " <StatsFreeThrow GameId: 0022000997, Description: Trent Jr. Free Throw 1 of 2 (16 PTS), Time: 5:08, EventNum: 392>,\n",
       " <StatsFreeThrow GameId: 0022000997, Description: Trent Jr. Free Throw 2 of 2 (17 PTS), Time: 5:08, EventNum: 393>]"
      ]
     },
     "execution_count": 30,
     "metadata": {},
     "output_type": "execute_result"
    }
   ],
   "source": [
    "eargs[0].next_possession.events"
   ]
  },
  {
   "cell_type": "code",
   "execution_count": 31,
   "metadata": {},
   "outputs": [
    {
     "data": {
      "text/plain": [
       "[<StatsFieldGoal GameId: 0022000997, Description: MISS Beal 11' Pullup Jump Shot, Time: 4:57, EventNum: 394>,\n",
       " <StatsRebound GameId: 0022000997, Description: Wizards Rebound, Time: 4:55, EventNum: 395>,\n",
       " <StatsFoul GameId: 0022000997, Description: Johnson T.FOUL (P3.T2) (K.Fitzgerald), Time: 4:55, EventNum: 397>,\n",
       " <StatsFreeThrow GameId: 0022000997, Description: Beal Free Throw Technical (12 PTS), Time: 4:55, EventNum: 398>,\n",
       " <StatsFieldGoal GameId: 0022000997, Description: Beal 20' Jump Shot (14 PTS) (Neto 2 AST), Time: 4:53, EventNum: 399>]"
      ]
     },
     "execution_count": 31,
     "metadata": {},
     "output_type": "execute_result"
    }
   ],
   "source": [
    "eargs[0].next_possession.next_possession.events\n"
   ]
  },
  {
   "cell_type": "code",
   "execution_count": 25,
   "metadata": {},
   "outputs": [
    {
     "data": {
      "text/plain": [
       "1"
      ]
     },
     "execution_count": 25,
     "metadata": {},
     "output_type": "execute_result"
    }
   ],
   "source": [
    "eargs[0].events[6].num_ft_for_trip\n"
   ]
  },
  {
   "cell_type": "code",
   "execution_count": 11,
   "metadata": {},
   "outputs": [
    {
     "data": {
      "text/plain": [
       "2"
      ]
     },
     "execution_count": 11,
     "metadata": {},
     "output_type": "execute_result"
    }
   ],
   "source": [
    "from build_shot_chance_data import get_num_fta_from_foul\n",
    "get_num_fta_from_foul(eargs[0].previous_possession.events[0])\n"
   ]
  },
  {
   "cell_type": "code",
   "execution_count": 24,
   "metadata": {},
   "outputs": [
    {
     "data": {
      "text/plain": [
       "[<StatsFieldGoal GameId: 0021700076, Description: MISS Clarkson 13' Pullup Jump Shot, Time: 0:35, EventNum: 135>,\n",
       " <StatsRebound GameId: 0021700076, Description: Kuzma REBOUND (Off:1 Def:2), Time: 0:35, EventNum: 136>,\n",
       " <StatsFieldGoal GameId: 0021700076, Description: Kuzma 1' Tip Layup Shot (2 PTS), Time: 0:32, EventNum: 137>]"
      ]
     },
     "execution_count": 24,
     "metadata": {},
     "output_type": "execute_result"
    }
   ],
   "source": [
    "eargs[0].next_possession.events"
   ]
  },
  {
   "cell_type": "code",
   "execution_count": 13,
   "metadata": {},
   "outputs": [
    {
     "data": {
      "text/plain": [
       "(49, 47)"
      ]
     },
     "execution_count": 13,
     "metadata": {},
     "output_type": "execute_result"
    }
   ],
   "source": [
    "tries = games[i].tries\n",
    "fts = len(games[i].free_throws) + len(games[i].free_throw_goaltends) + len(games[i].lane_violations)\n",
    "res_fts = sum(map(lambda t: t.try_result.num_fts, tries))\n",
    "fts, res_fts"
   ]
  },
  {
   "cell_type": "code",
   "execution_count": 15,
   "metadata": {},
   "outputs": [
    {
     "data": {
      "text/plain": [
       "(49, 0, 0)"
      ]
     },
     "execution_count": 15,
     "metadata": {},
     "output_type": "execute_result"
    }
   ],
   "source": [
    "len(games[i].free_throws), len(games[i].free_throw_goaltends), len(games[i].lane_violations)\n"
   ]
  },
  {
   "cell_type": "code",
   "execution_count": 9,
   "metadata": {},
   "outputs": [
    {
     "data": {
      "text/plain": [
       "(2, 0, 0)"
      ]
     },
     "execution_count": 9,
     "metadata": {},
     "output_type": "execute_result"
    }
   ],
   "source": [
    "games[i].team_techs"
   ]
  },
  {
   "cell_type": "code",
   "execution_count": 10,
   "metadata": {},
   "outputs": [
    {
     "data": {
      "text/plain": [
       "({}, {203110: 1}, 0)"
      ]
     },
     "execution_count": 10,
     "metadata": {},
     "output_type": "execute_result"
    }
   ],
   "source": [
    "games[i].technicals"
   ]
  },
  {
   "cell_type": "code",
   "execution_count": 25,
   "metadata": {},
   "outputs": [],
   "source": [
    "from nba_dataclasses import TryResultType\n",
    "counts = {i: 0 for i in TryResultType}\n",
    "ft_nums = {i: {} for i in TryResultType}\n",
    "next_result_same_team = {i: {True: 0, False: 0} for i in TryResultType}\n"
   ]
  },
  {
   "cell_type": "code",
   "execution_count": 1,
   "metadata": {},
   "outputs": [
    {
     "name": "stdout",
     "output_type": "stream",
     "text": [
      "TryResultType.OTHER 0\n",
      "TryResultType.AWAY_FROM_PLAY_0FTS_FOUL 0\n",
      "TryResultType.PENALTY_OFF_FOUL_TURNOVER 0\n",
      "TryResultType.JUMP_BALL 0\n",
      "TryResultType.HELD_BALL 0\n",
      "TryResultType.MISTAKE_CALL 0\n",
      "TryResultType.EXCESS_TIMEOUT 0\n"
     ]
    }
   ],
   "source": [
    "from nba_dataclasses import TryResultType, other_team_results, same_team_results, reboundable_results\n",
    "for t in TryResultType:\n",
    "    count = 0\n",
    "    if t in reboundable_results:\n",
    "        count += 1\n",
    "    if t in same_team_results:\n",
    "        count += 1\n",
    "    if t in other_team_results:\n",
    "        count += 1\n",
    "    if count != 1:\n",
    "        print(t, count)\n"
   ]
  },
  {
   "cell_type": "code",
   "execution_count": 26,
   "metadata": {},
   "outputs": [],
   "source": [
    "for g in games+games2+games3+games4:\n",
    "    tries = g.tries\n",
    "    for i in range(1, len(tries)):\n",
    "        t = tries[i-1]\n",
    "        \n",
    "        # next_t = tries[i]\n",
    "        # is_same_team = t.lineup.offense_team == next_t.lineup.offense_team\n",
    "        # next_result_same_team[t.try_result.result_type][is_same_team] += 1\n",
    "        # counts[t.try_result.result_type] += 1\n",
    "        # result_type_dic = ft_nums[t.try_result.result_type]\n",
    "        # if t.try_result.num_fts in result_type_dic:\n",
    "        #     result_type_dic[t.try_result.num_fts] += 1\n",
    "        # else:\n",
    "        #     result_type_dic[t.try_result.num_fts] = 1\n"
   ]
  },
  {
   "cell_type": "code",
   "execution_count": 27,
   "metadata": {},
   "outputs": [
    {
     "data": {
      "text/plain": [
       "{<TryResultType.OTHER: 0>: {True: 0, False: 0},\n",
       " <TryResultType.MISSED_SHOT: 1>: {True: 106328, False: 304188},\n",
       " <TryResultType.BLOCKED_SHOT: 2>: {True: 20212, False: 27543},\n",
       " <TryResultType.MADE_SHOT: 3>: {True: 1509, False: 361645},\n",
       " <TryResultType.AND1: 4>: {True: 656, False: 21217},\n",
       " <TryResultType.DEF_GOALTEND_SHOT: 5>: {True: 12, False: 1974},\n",
       " <TryResultType.GOALTENDED_AND1: 6>: {True: 5, False: 129},\n",
       " <TryResultType.MADE_BASKET_W_FOULSHOT: 7>: {True: 8, False: 202},\n",
       " <TryResultType.MADE_BASKET_W_LOOSE_BALL_FOUL: 8>: {True: 0, False: 0},\n",
       " <TryResultType.FLAGRANT1_AND1: 9>: {True: 17, False: 0},\n",
       " <TryResultType.FLAGRANT2_AND1: 10>: {True: 0, False: 0},\n",
       " <TryResultType.FLAGRANT1_AND1_2FTS: 63>: {True: 5, False: 0},\n",
       " <TryResultType.NON_SHOOTING_FOUL: 11>: {True: 51880, False: 42},\n",
       " <TryResultType.PENALTY_NON_SHOOTING_FOUL: 12>: {True: 424, False: 15418},\n",
       " <TryResultType.SHOOTING_FOUL_2: 13>: {True: 1855, False: 67962},\n",
       " <TryResultType.SHOOTING_FOUL_3: 14>: {True: 80, False: 3492},\n",
       " <TryResultType.AWAY_FROM_PLAY_FOUL: 15>: {True: 149, False: 4},\n",
       " <TryResultType.AWAY_FROM_PLAY_0FTS_FOUL: 64>: {True: 1, False: 0},\n",
       " <TryResultType.OFF_AWAY_FROM_PLAY_FOUL: 16>: {True: 1, False: 0},\n",
       " <TryResultType.DEF_LOOSE_BALL_FOUL: 17>: {True: 0, False: 5},\n",
       " <TryResultType.PENALTY_DEF_LOOSE_BALL_FOUL: 18>: {True: 18, False: 336},\n",
       " <TryResultType.OFF_LOOSE_BALL_FOUL: 19>: {True: 0, False: 0},\n",
       " <TryResultType.PENALTY_OFF_LOOSE_BALL_FOUL: 20>: {True: 25, False: 0},\n",
       " <TryResultType.INBOUND_FOUL: 21>: {True: 128, False: 1},\n",
       " <TryResultType.CLEAR_PATH_FOUL: 22>: {True: 239, False: 0},\n",
       " <TryResultType.PENALTY_TAKE_FOUL: 23>: {True: 83, False: 3057},\n",
       " <TryResultType.TAKE_FOUL: 24>: {True: 2305, False: 19},\n",
       " <TryResultType.FLAGRANT1: 25>: {True: 317, False: 2},\n",
       " <TryResultType.FLAGRANT2: 26>: {True: 34, False: 0},\n",
       " <TryResultType.OFFENSIVE_FLAGRANT1: 27>: {True: 0, False: 62},\n",
       " <TryResultType.OFFENSIVE_FLAGRANT2: 28>: {True: 0, False: 12},\n",
       " <TryResultType.OFFENSIVE_FOUL_TURNOVER: 29>: {True: 13, False: 11176},\n",
       " <TryResultType.PENALTY_OFF_FOUL_TURNOVER: 30>: {True: 0, False: 0},\n",
       " <TryResultType.CHARGE: 31>: {True: 10, False: 5396},\n",
       " <TryResultType.BAD_PASS_OUT: 32>: {True: 31, False: 16704},\n",
       " <TryResultType.OFFENSIVE_GOALTENDING_TURNOVER: 33>: {True: 2, False: 602},\n",
       " <TryResultType.LOST_BALL_STEAL: 34>: {True: 107, False: 26704},\n",
       " <TryResultType.BAD_PASS_STEAL: 35>: {True: 161, False: 48777},\n",
       " <TryResultType.LOST_BALL_OUT_TURNOVER: 36>: {True: 18, False: 8385},\n",
       " <TryResultType.STEP_OUT_TURNOVER: 37>: {True: 6, False: 3096},\n",
       " <TryResultType.TRAVEL: 38>: {True: 21, False: 8437},\n",
       " <TryResultType.DISCONTINUE_DRIBBLE: 39>: {True: 0, False: 346},\n",
       " <TryResultType.PALMIMG_TURNOVER: 40>: {True: 1, False: 284},\n",
       " <TryResultType.DOUBLE_DRIBBLE_TURNOVER: 41>: {True: 0, False: 397},\n",
       " <TryResultType.KICKED_BALL_TURNOVER: 42>: {True: 0, False: 101},\n",
       " <TryResultType.ILLEGAL_SCREEN_TURNOVER: 43>: {True: 0, False: 59},\n",
       " <TryResultType.BACKCOURT_TURNOVER: 44>: {True: 1, False: 755},\n",
       " <TryResultType.EIGHT_SECONDS_TURNOVER: 45>: {True: 0, False: 52},\n",
       " <TryResultType.THROW_IN_5SECONDS_TURNOVER: 46>: {True: 0, False: 183},\n",
       " <TryResultType.OFF_3SECONDS_TURNOVER: 47>: {True: 0, False: 1394},\n",
       " <TryResultType.INBOUND_TURNOVER: 48>: {True: 1, False: 102},\n",
       " <TryResultType.ILLEGAL_ASSIST: 49>: {True: 0, False: 30},\n",
       " <TryResultType.TIMEOUT: 50>: {True: 23219, False: 10},\n",
       " <TryResultType.JUMP_BALL: 51>: {True: 34, False: 16},\n",
       " <TryResultType.HELD_BALL: 52>: {True: 2397, False: 46},\n",
       " <TryResultType.SHOT_CLOCK_TURNOVER: 53>: {True: 25, False: 4963},\n",
       " <TryResultType.DEF_3SECONDS: 54>: {True: 2135, False: 0},\n",
       " <TryResultType.KICKED_BALL: 55>: {True: 4043, False: 1},\n",
       " <TryResultType.MISSED_FOUL: 56>: {True: 17, False: 1},\n",
       " <TryResultType.MISTAKE_CALL: 57>: {True: 0, False: 0},\n",
       " <TryResultType.DOUBLE_FOUL: 58>: {True: 116, False: 0},\n",
       " <TryResultType.EXCESS_TIMEOUT: 59>: {True: 0, False: 0},\n",
       " <TryResultType.EXCESS_TIMEOUT_TURNOVER: 60>: {True: 0, False: 8},\n",
       " <TryResultType.FLAGRANT_AND_FOUL: 61>: {True: 2, False: 0},\n",
       " <TryResultType.FOUL_AND_OFFENSE_FLAGRANT: 62>: {True: 0, False: 2}}"
      ]
     },
     "execution_count": 27,
     "metadata": {},
     "output_type": "execute_result"
    }
   ],
   "source": [
    "next_result_same_team\n"
   ]
  },
  {
   "cell_type": "code",
   "execution_count": 23,
   "metadata": {},
   "outputs": [
    {
     "data": {
      "text/plain": [
       "{<TryResultType.OTHER: 0>: {},\n",
       " <TryResultType.MISSED_SHOT: 1>: {0: 412813},\n",
       " <TryResultType.BLOCKED_SHOT: 2>: {0: 47892},\n",
       " <TryResultType.MADE_SHOT: 3>: {0: 364341},\n",
       " <TryResultType.AND1: 4>: {1: 21918},\n",
       " <TryResultType.DEF_GOALTEND_SHOT: 5>: {0: 1997},\n",
       " <TryResultType.GOALTENDED_AND1: 6>: {1: 134},\n",
       " <TryResultType.MADE_BASKET_W_FOULSHOT: 7>: {1: 211},\n",
       " <TryResultType.MADE_BASKET_W_LOOSE_BALL_FOUL: 8>: {},\n",
       " <TryResultType.FLAGRANT1_AND1: 9>: {1: 17},\n",
       " <TryResultType.FLAGRANT2_AND1: 10>: {},\n",
       " <TryResultType.FLAGRANT1_AND1_2FTS: 63>: {2: 5},\n",
       " <TryResultType.NON_SHOOTING_FOUL: 11>: {0: 51941},\n",
       " <TryResultType.PENALTY_NON_SHOOTING_FOUL: 12>: {2: 15995},\n",
       " <TryResultType.SHOOTING_FOUL_2: 13>: {2: 69956},\n",
       " <TryResultType.SHOOTING_FOUL_3: 14>: {3: 3589},\n",
       " <TryResultType.AWAY_FROM_PLAY_FOUL: 15>: {1: 155},\n",
       " <TryResultType.AWAY_FROM_PLAY_0FTS_FOUL: 64>: {1: 1},\n",
       " <TryResultType.OFF_AWAY_FROM_PLAY_FOUL: 16>: {1: 1},\n",
       " <TryResultType.DEF_LOOSE_BALL_FOUL: 17>: {1: 6},\n",
       " <TryResultType.PENALTY_DEF_LOOSE_BALL_FOUL: 18>: {2: 356},\n",
       " <TryResultType.OFF_LOOSE_BALL_FOUL: 19>: {},\n",
       " <TryResultType.PENALTY_OFF_LOOSE_BALL_FOUL: 20>: {2: 25},\n",
       " <TryResultType.INBOUND_FOUL: 21>: {1: 129},\n",
       " <TryResultType.CLEAR_PATH_FOUL: 22>: {2: 244},\n",
       " <TryResultType.PENALTY_TAKE_FOUL: 23>: {2: 3297},\n",
       " <TryResultType.TAKE_FOUL: 24>: {0: 2336},\n",
       " <TryResultType.FLAGRANT1: 25>: {2: 323},\n",
       " <TryResultType.FLAGRANT2: 26>: {2: 34, 1: 1},\n",
       " <TryResultType.OFFENSIVE_FLAGRANT1: 27>: {2: 62},\n",
       " <TryResultType.OFFENSIVE_FLAGRANT2: 28>: {2: 12},\n",
       " <TryResultType.OFFENSIVE_FOUL_TURNOVER: 29>: {0: 11199},\n",
       " <TryResultType.PENALTY_OFF_FOUL_TURNOVER: 30>: {},\n",
       " <TryResultType.CHARGE: 31>: {0: 5407},\n",
       " <TryResultType.BAD_PASS_OUT: 32>: {0: 16786},\n",
       " <TryResultType.OFFENSIVE_GOALTENDING_TURNOVER: 33>: {0: 608},\n",
       " <TryResultType.LOST_BALL_STEAL: 34>: {0: 26896},\n",
       " <TryResultType.BAD_PASS_STEAL: 35>: {0: 49096},\n",
       " <TryResultType.LOST_BALL_OUT_TURNOVER: 36>: {0: 8432},\n",
       " <TryResultType.STEP_OUT_TURNOVER: 37>: {0: 3117},\n",
       " <TryResultType.TRAVEL: 38>: {0: 8467},\n",
       " <TryResultType.DISCONTINUE_DRIBBLE: 39>: {0: 346},\n",
       " <TryResultType.PALMIMG_TURNOVER: 40>: {0: 285},\n",
       " <TryResultType.DOUBLE_DRIBBLE_TURNOVER: 41>: {0: 399},\n",
       " <TryResultType.KICKED_BALL_TURNOVER: 42>: {0: 101},\n",
       " <TryResultType.ILLEGAL_SCREEN_TURNOVER: 43>: {0: 59},\n",
       " <TryResultType.BACKCOURT_TURNOVER: 44>: {0: 757},\n",
       " <TryResultType.EIGHT_SECONDS_TURNOVER: 45>: {0: 54},\n",
       " <TryResultType.THROW_IN_5SECONDS_TURNOVER: 46>: {0: 186},\n",
       " <TryResultType.OFF_3SECONDS_TURNOVER: 47>: {0: 1394},\n",
       " <TryResultType.INBOUND_TURNOVER: 48>: {0: 104},\n",
       " <TryResultType.ILLEGAL_ASSIST: 49>: {0: 30},\n",
       " <TryResultType.TIMEOUT: 50>: {0: 23239},\n",
       " <TryResultType.JUMP_BALL: 51>: {0: 52},\n",
       " <TryResultType.HELD_BALL: 52>: {0: 2450},\n",
       " <TryResultType.SHOT_CLOCK_TURNOVER: 53>: {0: 5325},\n",
       " <TryResultType.DEF_3SECONDS: 54>: {0: 2135},\n",
       " <TryResultType.KICKED_BALL: 55>: {0: 4046},\n",
       " <TryResultType.MISSED_FOUL: 56>: {0: 19},\n",
       " <TryResultType.MISTAKE_CALL: 57>: {},\n",
       " <TryResultType.DOUBLE_FOUL: 58>: {0: 116},\n",
       " <TryResultType.EXCESS_TIMEOUT: 59>: {},\n",
       " <TryResultType.EXCESS_TIMEOUT_TURNOVER: 60>: {0: 8},\n",
       " <TryResultType.FLAGRANT_AND_FOUL: 61>: {2: 2},\n",
       " <TryResultType.FOUL_AND_OFFENSE_FLAGRANT: 62>: {2: 2}}"
      ]
     },
     "execution_count": 23,
     "metadata": {},
     "output_type": "execute_result"
    }
   ],
   "source": [
    "ft_nums"
   ]
  },
  {
   "cell_type": "code",
   "execution_count": 15,
   "metadata": {},
   "outputs": [
    {
     "data": {
      "text/plain": [
       "{<TryResultType.OTHER: 0>: 0,\n",
       " <TryResultType.MISSED_SHOT: 1>: 306603,\n",
       " <TryResultType.BLOCKED_SHOT: 2>: 35707,\n",
       " <TryResultType.MADE_SHOT: 3>: 269716,\n",
       " <TryResultType.AND1: 4>: 16126,\n",
       " <TryResultType.DEF_GOALTEND_SHOT: 5>: 1459,\n",
       " <TryResultType.GOALTENDED_AND1: 6>: 92,\n",
       " <TryResultType.MADE_BASKET_W_FOULSHOT: 7>: 151,\n",
       " <TryResultType.MADE_BASKET_W_LOOSE_BALL_FOUL: 8>: 0,\n",
       " <TryResultType.FLAGRANT1_AND1: 9>: 17,\n",
       " <TryResultType.FLAGRANT2_AND1: 10>: 0,\n",
       " <TryResultType.NON_SHOOTING_FOUL: 11>: 38792,\n",
       " <TryResultType.PENALTY_NON_SHOOTING_FOUL: 12>: 11588,\n",
       " <TryResultType.SHOOTING_FOUL_2: 13>: 52248,\n",
       " <TryResultType.SHOOTING_FOUL_3: 14>: 2601,\n",
       " <TryResultType.AWAY_FROM_PLAY_FOUL: 15>: 85,\n",
       " <TryResultType.OFF_AWAY_FROM_PLAY_FOUL: 16>: 4,\n",
       " <TryResultType.DEF_LOOSE_BALL_FOUL: 17>: 4,\n",
       " <TryResultType.PENALTY_DEF_LOOSE_BALL_FOUL: 18>: 262,\n",
       " <TryResultType.OFF_LOOSE_BALL_FOUL: 19>: 0,\n",
       " <TryResultType.PENALTY_OFF_LOOSE_BALL_FOUL: 20>: 21,\n",
       " <TryResultType.INBOUND_FOUL: 21>: 189,\n",
       " <TryResultType.CLEAR_PATH_FOUL: 22>: 185,\n",
       " <TryResultType.PENALTY_TAKE_FOUL: 23>: 2544,\n",
       " <TryResultType.TAKE_FOUL: 24>: 1517,\n",
       " <TryResultType.FLAGRANT1: 25>: 243,\n",
       " <TryResultType.FLAGRANT2: 26>: 29,\n",
       " <TryResultType.OFFENSIVE_FLAGRANT1: 27>: 48,\n",
       " <TryResultType.OFFENSIVE_FLAGRANT2: 28>: 10,\n",
       " <TryResultType.OFFENSIVE_FOUL_TURNOVER: 29>: 8060,\n",
       " <TryResultType.PENALTY_OFF_FOUL_TURNOVER: 30>: 0,\n",
       " <TryResultType.CHARGE: 31>: 4041,\n",
       " <TryResultType.BAD_PASS_OUT: 32>: 12727,\n",
       " <TryResultType.OFFENSIVE_GOALTENDING_TURNOVER: 33>: 452,\n",
       " <TryResultType.LOST_BALL_STEAL: 34>: 20490,\n",
       " <TryResultType.BAD_PASS_STEAL: 35>: 36723,\n",
       " <TryResultType.LOST_BALL_OUT_TURNOVER: 36>: 6475,\n",
       " <TryResultType.STEP_OUT_TURNOVER: 37>: 2386,\n",
       " <TryResultType.TRAVEL: 38>: 6252,\n",
       " <TryResultType.DISCONTINUE_DRIBBLE: 39>: 271,\n",
       " <TryResultType.PALMIMG_TURNOVER: 40>: 220,\n",
       " <TryResultType.DOUBLE_DRIBBLE_TURNOVER: 41>: 309,\n",
       " <TryResultType.KICKED_BALL_TURNOVER: 42>: 79,\n",
       " <TryResultType.ILLEGAL_SCREEN_TURNOVER: 43>: 55,\n",
       " <TryResultType.BACKCOURT_TURNOVER: 44>: 570,\n",
       " <TryResultType.EIGHT_SECONDS_TURNOVER: 45>: 44,\n",
       " <TryResultType.THROW_IN_5SECONDS_TURNOVER: 46>: 142,\n",
       " <TryResultType.OFF_3SECONDS_TURNOVER: 47>: 1078,\n",
       " <TryResultType.INBOUND_TURNOVER: 48>: 74,\n",
       " <TryResultType.ILLEGAL_ASSIST: 49>: 27,\n",
       " <TryResultType.TIMEOUT: 50>: 17247,\n",
       " <TryResultType.JUMP_BALL: 51>: 44,\n",
       " <TryResultType.HELD_BALL: 52>: 1837,\n",
       " <TryResultType.SHOT_CLOCK_TURNOVER: 53>: 4029,\n",
       " <TryResultType.DEF_3SECONDS: 54>: 1674,\n",
       " <TryResultType.KICKED_BALL: 55>: 3047,\n",
       " <TryResultType.MISSED_FOUL: 56>: 16,\n",
       " <TryResultType.MISTAKE_CALL: 57>: 0,\n",
       " <TryResultType.DOUBLE_FOUL: 58>: 104,\n",
       " <TryResultType.EXCESS_TIMEOUT: 59>: 0,\n",
       " <TryResultType.EXCESS_TIMEOUT_TURNOVER: 60>: 6,\n",
       " <TryResultType.FLAGRANT_AND_FOUL: 61>: 3,\n",
       " <TryResultType.FOUL_AND_OFFENSE_FLAGRANT: 62>: 2}"
      ]
     },
     "execution_count": 15,
     "metadata": {},
     "output_type": "execute_result"
    }
   ],
   "source": [
    "counts"
   ]
  },
  {
   "cell_type": "code",
   "execution_count": 27,
   "metadata": {},
   "outputs": [],
   "source": [
    "correct = {\n",
    "    (\"0021500248\", 23): 1,\n",
    "    (\"0021500538\", 354): 1,\n",
    "    (\"0021700035\", 468): 1,\n",
    "    (\"0021700051\", 68): 1,\n",
    "    (\"0021800546\", 261): 2,\n",
    "    (\"0021700034\", 237): 0,\n",
    "    (\"0021500542\", 425): 0,\n",
    "    (\"0021601152\", 528): 3,\n",
    "    (\"0021500171\", 241): 2,\n",
    "    (\"0021500171\", 242): 1,\n",
    "    (\"0021700144\", 294): 2,\n",
    "    (\"0021700264\", 260): 1,\n",
    "    (\"0021700684\", 520): 1,\n",
    "    (\"0021700692\", 164): 2,\n",
    "    (\"0021800546\", 261): 2,\n",
    "    (\"0021900035\", 242): 2,\n",
    "    (\"0021900635\", 558): 1,\n",
    "    (\"0022000172\", 329): 1,\n",
    "    (\"0022000268\", 628): 2,\n",
    "    (\"0022001063\", 682): 2,\n",
    "    \n",
    "    (\"0021700020\", 665): 0,\n",
    "    (\"0021700034\", 237): 0,\n",
    "    (\"0021700050\", 159): 2,  # pbp looks like 1? but should be 2?...\n",
    "    (\"0021700054\", 54): 2,\n",
    "    (\"0021700090\", 408): 2,\n",
    "    (\"0021700095\", 397): 1,\n",
    "    (\"0021700099\", 285): 2,\n",
    "    (\"0021700103\", 584): 1,\n",
    "    (\"0021700112\", 229): 0,\n",
    "    (\"0021700132\", 465): 2,\n",
    "    (\"0021700136\", 456): 2,\n",
    "    (\"0021700136\", 459): 2,\n",
    "    (\"0021700136\", 529): 2,\n",
    "    (\"0021700146\", 78): 1,\n",
    "    (\"0021700157\", 554): 1,\n",
    "    (\"0021700167\", 70): 2,\n",
    "    (\"0021700183\", 271): 0,\n",
    "    (\"0021700198\", 234): 3,\n",
    "    (\"0021700220\", 690): 0,\n",
    "    (\"0021700229\", 610): 2,\n",
    "    (\"0021700231\", 19): 1,\n",
    "    (\"0021700252\", 625): 1,\n",
    "    (\"0021700257\", 626): 0, # duplicate event, second one gets the fts\n",
    "    (\"0021700284\", 327): 1,\n",
    "    (\"0021700312\", 726): 2,\n",
    "    (\"0021700330\", 140): 2,\n",
    "    \n",
    "    (\"0021700692\", 164): 2,\n",
    "    \n",
    "    \n",
    "    (\"0021800004\", 671): 0,\n",
    "    (\"0021800010\", 39): 1,\n",
    "    (\"0021800022\", 249): 1,\n",
    "    (\"0021800028\", 158): 2, \n",
    "    (\"0021800033\", 348): 1,\n",
    "    (\"0021800033\", 351): 1,\n",
    "    \n",
    "}"
   ]
  },
  {
   "cell_type": "code",
   "execution_count": 28,
   "metadata": {},
   "outputs": [],
   "source": [
    "from pbpstats.client import Client\n",
    "from build_shot_chance_data import get_num_fta_from_foul\n",
    "from pbpstats.resources import enhanced_pbp\n",
    "import os\n",
    "game_possessions_settings = {\n",
    "    \"dir\": \"C:/Users/bhalb/nbaproject/response_data\",\n",
    "    \"Boxscore\": {\"source\": \"file\", \"data_provider\": \"stats_nba\"},\n",
    "    \"Possessions\": {\"source\": \"file\", \"data_provider\": \"stats_nba\"},\n",
    "}\n",
    "\n",
    "possession_client = Client(game_possessions_settings)\n",
    "\n",
    "file_directory = \"C:/Users/bhalb/nbaproject/response_data/pbp\"\n",
    "count = 0\n",
    "target_count = 5\n",
    "pass_count = 0\n",
    "fail_count = 0 \n",
    "process_count = 0\n",
    "for game_dict in season.schedule.games.final_games:\n",
    "    game_id = game_dict['game_id']\n",
    "    process_count += 1\n",
    "    # print(\"processing game\", game_id)\n",
    "    # game_id = \"0021600035\"\n",
    "    \n",
    "    # data_pbp_file_path = (\n",
    "    #     f\"{file_directory}/data_{game_id}.json\"\n",
    "    # )\n",
    "    # if not os.path.isfile(data_pbp_file_path):\n",
    "    #     print(\"load\", data_pbp_file_path)\n",
    "    #     game = possession_client.Game(game_id)\n",
    "    #     print(\"loaded!\")\n",
    "    # else:\n",
    "    #     print(data_pbp_file_path, \"already loaded\")\n",
    "    # pass_count += 1\n",
    "    # break\n",
    "    # if pass_count == 5:\n",
    "    #     break\n",
    "    game = possession_client.Game(game_id)\n",
    "    possessions = game.possessions.items\n",
    "    \n",
    "    for possession in possessions:\n",
    "\n",
    "        # print(count)\n",
    "        # if count == 56:\n",
    "        #     print(event)\n",
    "        for event in possession.events:\n",
    "            # if isinstance(event, enhanced_pbp.Turnover):\n",
    "            #     if \"Lane Violation\" in event.description:\n",
    "            #         print(event.is_lane_violation, event.event_action_type)\n",
    "            if isinstance(event, enhanced_pbp.Foul) and not (event.is_technical or event.is_double_technical):\n",
    "                # if \"IN.FOUL\" in event.description or \"Inbound Foul\" in event.description:\n",
    "                #     continue\n",
    "                # nft = event.number_of_fta_for_foul\n",
    "                # nft = nft if nft is not None else 0\n",
    "                ftnum = get_num_fta_from_foul(event)\n",
    "                if event.is_flagrant:\n",
    "                    ftnum = min(ftnum, 2)\n",
    "                if (game_id, event.event_num) in correct:\n",
    "                    if correct[(game_id, event.event_num)] == ftnum:\n",
    "                        # print(\"pass\")\n",
    "                        pass_count += 1\n",
    "                    else:\n",
    "                        fail_count += 1\n",
    "                        print(\"fail\", ftnum, \"vs\", correct[(\n",
    "                            game_id, event.event_num)], event, possession.period)\n",
    "                        count = target_count\n",
    "                        break\n",
    "                # elif ftnum != nft:\n",
    "                #     count += 1\n",
    "                #     if count > target_count - 5:\n",
    "                #         print(\"fouls: \", ftnum, \"vs\", nft, event, possession.period)\n",
    "                #     break \n",
    "        if count == target_count:\n",
    "            break\n",
    "    if count == target_count:\n",
    "        break\n",
    "    if process_count % 100 == 0:\n",
    "        print(\"processed\", process_count, \"passed:\", pass_count)\n",
    "    \n",
    "\n",
    "# print(\"fail count:\", fail_count)\n"
   ]
  },
  {
   "cell_type": "code",
   "execution_count": 50,
   "metadata": {},
   "outputs": [
    {
     "data": {
      "text/plain": [
       "1"
      ]
     },
     "execution_count": 50,
     "metadata": {},
     "output_type": "execute_result"
    }
   ],
   "source": [
    "get_num_fta_from_foul(event)"
   ]
  },
  {
   "cell_type": "code",
   "execution_count": 61,
   "metadata": {},
   "outputs": [
    {
     "data": {
      "text/plain": [
       "<StatsFreeThrow GameId: 0021700054, Description: MISS Jordan Free Throw 1 of 1, Time: 6:26, EventNum: 59>"
      ]
     },
     "execution_count": 61,
     "metadata": {},
     "output_type": "execute_result"
    }
   ],
   "source": [
    "event.next_event.next_event.next_event\n"
   ]
  },
  {
   "cell_type": "code",
   "execution_count": null,
   "metadata": {},
   "outputs": [],
   "source": []
  }
 ],
 "metadata": {
  "interpreter": {
   "hash": "91bf7612c7ed8d2f84c49e6080371137b1ceb87e3d1dfcf598275b8f66797bc1"
  },
  "kernelspec": {
   "display_name": "Python 3.9.2 ('.venv': poetry)",
   "language": "python",
   "name": "python3"
  },
  "language_info": {
   "codemirror_mode": {
    "name": "ipython",
    "version": 3
   },
   "file_extension": ".py",
   "mimetype": "text/x-python",
   "name": "python",
   "nbconvert_exporter": "python",
   "pygments_lexer": "ipython3",
   "version": "3.9.2"
  },
  "orig_nbformat": 4
 },
 "nbformat": 4,
 "nbformat_minor": 2
}
