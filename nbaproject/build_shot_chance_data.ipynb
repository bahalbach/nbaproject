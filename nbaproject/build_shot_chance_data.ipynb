{
 "cells": [
  {
   "cell_type": "code",
   "execution_count": 1,
   "metadata": {},
   "outputs": [],
   "source": [
    "%load_ext autoreload\n",
    "%autoreload 2\n"
   ]
  },
  {
   "cell_type": "markdown",
   "metadata": {},
   "source": [
    "Process pbp data\n"
   ]
  },
  {
   "cell_type": "code",
   "execution_count": 2,
   "metadata": {},
   "outputs": [],
   "source": [
    "from nba import NbaTracker\n",
    "from build_shot_chance_data import process_season\n",
    "nbaTracker = NbaTracker()\n",
    "# nbaTracker.add_season(\"2000-01\")"
   ]
  },
  {
   "cell_type": "code",
   "execution_count": 15,
   "metadata": {},
   "outputs": [],
   "source": [
    "from nba_api.stats.static.players import find_player_by_id\n",
    "from nba_api.stats.static.teams import find_team_name_by_id\n",
    "\n",
    "\n",
    "def get_player_names(event):\n",
    "    for team, players in event.current_players.items():\n",
    "        print(find_team_name_by_id(team)['nickname'], list(\n",
    "            map(lambda pid: find_player_by_id(pid)['full_name'], players)))\n",
    "    if hasattr(event, \"player1_id\"):\n",
    "        print(\"player1\", find_player_by_id(event.player1_id)['full_name'] if event.player1_id else 0)\n",
    "    if hasattr(event, \"player2_id\"):\n",
    "        print(\"player2\", find_player_by_id(event.player2_id)['full_name'])\n",
    "    if hasattr(event, \"player3_id\"):\n",
    "        print(\"player3\", find_player_by_id(event.player3_id)['full_name'])\n",
    "\n"
   ]
  },
  {
   "cell_type": "code",
   "execution_count": 3,
   "metadata": {},
   "outputs": [],
   "source": [
    "season_name = \"2015-16\"\n",
    "nbaTracker.add_season(season_name)\n",
    "nbaTracker.load_possession_data(season_name)\n",
    "games = nbaTracker.seasons[season_name].games\n"
   ]
  },
  {
   "cell_type": "code",
   "execution_count": 13,
   "metadata": {},
   "outputs": [],
   "source": [
    "nbaTracker.seasons[season_name].build_player_seasons()"
   ]
  },
  {
   "cell_type": "code",
   "execution_count": 4,
   "metadata": {},
   "outputs": [
    {
     "name": "stdout",
     "output_type": "stream",
     "text": [
      "prcessed 100 games\n",
      "prcessed 200 games\n",
      "prcessed 300 games\n",
      "not adding delay of game fts\n",
      "using missing delay of game tech\n",
      "prcessed 400 games\n",
      "prcessed 500 games\n",
      "No expected free throws and no tech <StatsFreeThrow GameId: 0021500504, Description: Barton Free Throw Technical (9 PTS), Time: 12:00, EventNum: 283> adding another tech foul\n",
      "No expected free throws and no tech <StatsFreeThrow GameId: 0021500571, Description: Thomas Free Throw Technical (16 PTS), Time: 12:00, EventNum: 256> adding another tech foul\n",
      "prcessed 600 games\n",
      "prcessed 700 games\n",
      "prcessed 800 games\n",
      "prcessed 900 games\n",
      "prcessed 1000 games\n",
      "prcessed 1100 games\n",
      "prcessed 1200 games\n",
      "complete\n"
     ]
    }
   ],
   "source": [
    "\n",
    "nbaTracker.add_season(\"2015-16\")\n",
    "season = nbaTracker.seasons[\"2015-16\"]\n",
    "\n",
    "try:\n",
    "    games = process_season(season, 0)\n",
    "    print(\"complete\")\n",
    "except Exception as e:\n",
    "    eargs = e.args\n",
    "    raise e\n",
    "\n",
    "    # print(\"has exception\")\n"
   ]
  },
  {
   "cell_type": "code",
   "execution_count": 13,
   "metadata": {},
   "outputs": [],
   "source": [
    "from build_shot_chance_data import EventType\n",
    "from collections import defaultdict\n",
    "\n",
    "total_count = 0\n",
    "try_result_counts = defaultdict(int)\n",
    "ft_count = 0\n",
    "other_team_ft_count = 0\n",
    "points = 0\n",
    "\n",
    "for game in games:\n",
    "    for ge in game.game_events:\n",
    "        if ge.event_type == EventType.PossessionTry:\n",
    "            try_result_counts[ge.result.result_class] += 1\n",
    "            ft_count += ge.result.off_fts\n",
    "            other_team_ft_count += ge.result.def_fts\n",
    "            points += ge.result.points\n",
    "            total_count += 1\n",
    "\n"
   ]
  },
  {
   "cell_type": "code",
   "execution_count": 14,
   "metadata": {},
   "outputs": [
    {
     "name": "stdout",
     "output_type": "stream",
     "text": [
      "ResultClass.REBOUND 0.3952953661124867\n",
      "ResultClass.DEAD_TURNOVER 0.05322971070281668\n",
      "ResultClass.MADE_SHOT 0.30815594720378425\n",
      "ResultClass.FT 0.1019580099461079\n",
      "ResultClass.LIVE_TURNOVER 0.06641489280537118\n",
      "ResultClass.SAME_TEAM 0.07318434979226922\n",
      "ResultClass.JUMPBALL 0.0017339797609882298\n",
      "ResultClass.OTHER_TEAM_FT 2.7743676175811677e-05\n",
      "0.7250913807334041\n"
     ]
    }
   ],
   "source": [
    "for key, count in try_result_counts.items():\n",
    "    print(key, count/total_count)\n",
    "print(points / total_count)"
   ]
  },
  {
   "cell_type": "code",
   "execution_count": 7,
   "metadata": {},
   "outputs": [
    {
     "data": {
      "text/plain": [
       "0"
      ]
     },
     "execution_count": 7,
     "metadata": {},
     "output_type": "execute_result"
    }
   ],
   "source": [
    "points"
   ]
  },
  {
   "cell_type": "markdown",
   "metadata": {},
   "source": [
    "# Predict free throw chance\n",
    "player ft%, last 3 years ft%, weighted sum?, shooting %?\n",
    "\n",
    "# live ft chance\n",
    "player ft%, score margin, time left, other players?"
   ]
  },
  {
   "cell_type": "code",
   "execution_count": 11,
   "metadata": {},
   "outputs": [],
   "source": [
    "from build_shot_chance_data import EventType\n",
    "from collections import defaultdict\n",
    "\n",
    "ft_result_counts = defaultdict(int)\n",
    "\n",
    "ft_count = 0\n",
    "made_fts = 0\n",
    "live_fts = 0\n",
    "for game in games:\n",
    "    for ft in game.free_throws:\n",
    "        ft_count += 1\n",
    "        if ft.is_made:\n",
    "            made_fts+= 1\n",
    "    for ge in game.game_events:\n",
    "        if ge.event_type == EventType.LiveFreeThrow:\n",
    "            ft_count += 1\n",
    "            live_fts += 1\n",
    "            ft_result_counts[ge.result.result_class] += 1\n",
    "            if ge.result.is_made:\n",
    "                made_fts += 1\n",
    "\n",
    "            \n"
   ]
  },
  {
   "cell_type": "code",
   "execution_count": 12,
   "metadata": {},
   "outputs": [
    {
     "name": "stdout",
     "output_type": "stream",
     "text": [
      "ResultClass.REBOUND 0.2296758767268863\n",
      "ResultClass.MADE_SHOT 0.7662393730074389\n",
      "ResultClass.DEAD_TURNOVER 0.0026899574920297557\n",
      "ResultClass.FT 0.0010626992561105207\n",
      "ResultClass.JUMPBALL 0.00016604675876726887\n",
      "ResultClass.OTHER_TEAM_FT 0.00013283740701381508\n",
      "ResultClass.SAME_TEAM 3.320935175345377e-05\n",
      "0.7559360333738919\n"
     ]
    }
   ],
   "source": [
    "for key, count in ft_result_counts.items():\n",
    "    print(key, count/live_fts)\n",
    "print(made_fts / ft_count)\n"
   ]
  },
  {
   "cell_type": "markdown",
   "metadata": {},
   "source": [
    "# Make sure fts right"
   ]
  },
  {
   "cell_type": "code",
   "execution_count": 5,
   "metadata": {},
   "outputs": [
    {
     "name": "stdout",
     "output_type": "stream",
     "text": [
      "14 19 1\n",
      "3 1 4 2\n",
      "LiveFreeThrowResult.MADE\n",
      "2 1 3 18\n",
      "LiveFreeThrowResult.MADE\n",
      "2 1 2 0\n",
      "LiveFreeThrowResult.MISS\n",
      "1 1 1 24\n",
      "LiveFreeThrowResult.MADE\n",
      "2 1 1 1\n",
      "LiveFreeThrowResult.MADE\n",
      "2 1 0 50\n",
      "LiveFreeThrowResult.MADE\n",
      "2 1 0 6\n",
      "LiveFreeThrowResult.MADE\n",
      "1 2 10 33\n",
      "2 2 9 5\n",
      "LiveFreeThrowResult.MADE\n",
      "3 2 7 21\n",
      "LiveFreeThrowResult.MADE\n",
      "2 2 4 35\n",
      "LiveFreeThrowResult.MADE\n",
      "2 2 1 39\n",
      "LiveFreeThrowResult.MISS\n",
      "2 2 1 14\n",
      "LiveFreeThrowResult.MADE\n",
      "1 3 4 47\n",
      "LiveFreeThrowResult.MADE\n",
      "2 3 4 29\n",
      "LiveFreeThrowResult.MADE\n",
      "1 3 3 38\n",
      "LiveFreeThrowResult.MISS\n",
      "1 4 11 9\n",
      "LiveFreeThrowResult.MADE\n",
      "2 4 10 15\n",
      "LiveFreeThrowResult.MADE\n",
      "2 4 8 3\n",
      "LiveFreeThrowResult.MADE\n",
      "1 4 5 41\n",
      "LiveFreeThrowResult.MISS\n",
      "2 4 4 0\n",
      "LiveFreeThrowResult.MADE\n",
      "2 4 0 25\n",
      "LiveFreeThrowResult.MISS\n",
      "16 21\n"
     ]
    }
   ],
   "source": [
    "from collections import Counter\n",
    "from build_shot_chance_data import EventType, LiveFreeThrowResult\n",
    "g = games[-1]\n",
    "made = 0\n",
    "tech_num = 0\n",
    "c = Counter()\n",
    "for ft in g.free_throws:\n",
    "    if ft.is_made:\n",
    "        made += 1\n",
    "        # if ft.shooter == 200755:\n",
    "        #     print(ft)\n",
    "        c[ft.shooter] += 1\n",
    "    if ft.is_tech:\n",
    "        tech_num += 1\n",
    "    # print(ft.is_tech)\n",
    "print(made, len(g.free_throws), tech_num)\n",
    "\n",
    "game_events = g.game_events\n",
    "made = 0\n",
    "total = 0\n",
    "\n",
    "\n",
    "for i in range(len(game_events)):\n",
    "    e = game_events[i]\n",
    "    if e.event_type == EventType.LiveFreeThrow:\n",
    "        total += 1\n",
    "        if e.result.ft_result == LiveFreeThrowResult.MADE:\n",
    "            # if e.result.shooter == 200755:\n",
    "            #     print(e)\n",
    "            c[e.result.shooter] += 1\n",
    "            made += 1\n",
    "        print(e.result.ft_result)\n",
    "    elif (e.event_type == EventType.PossessionTry or e.event_type == EventType.Rebound) and e.result.num_fts != 0:\n",
    "        print( e.result.num_fts, e.period, e.period_time_left //\n",
    "              60, e.period_time_left % 60)\n",
    "    # elif e.event_type == EventType.Rebound:\n",
    "    #     print(\"reb\", e.result.num_fts)\n",
    "print(made, total)\n"
   ]
  },
  {
   "cell_type": "code",
   "execution_count": 17,
   "metadata": {},
   "outputs": [
    {
     "name": "stdout",
     "output_type": "stream",
     "text": [
      "Stephen Curry 7\n",
      "Eric Gordon 2\n",
      "Anthony Davis 10\n",
      "Marreese Speights 4\n",
      "Draymond Green 2\n",
      "Klay Thompson 3\n",
      "Ryan Anderson 4\n",
      "Ish Smith 2\n",
      "James Michael McAdoo 2\n",
      "Harrison Barnes 1\n",
      "Festus Ezeli 1\n",
      "Dante Cunningham 1\n"
     ]
    }
   ],
   "source": [
    "for k in c:\n",
    "    print(find_player_by_id(k)['full_name'], c[k])"
   ]
  },
  {
   "cell_type": "code",
   "execution_count": 23,
   "metadata": {},
   "outputs": [
    {
     "data": {
      "text/plain": [
       "Counter({203463: 1,\n",
       "         201933: 11,\n",
       "         201158: 6,\n",
       "         202326: 1,\n",
       "         200755: 4,\n",
       "         201599: 5,\n",
       "         101108: 6,\n",
       "         200765: 2,\n",
       "         2037: 4,\n",
       "         201954: 2,\n",
       "         200752: 2,\n",
       "         1626161: 2,\n",
       "         202362: 1,\n",
       "         201956: 1})"
      ]
     },
     "execution_count": 23,
     "metadata": {},
     "output_type": "execute_result"
    }
   ],
   "source": [
    "c"
   ]
  },
  {
   "cell_type": "code",
   "execution_count": 33,
   "metadata": {},
   "outputs": [
    {
     "data": {
      "text/plain": [
       "22"
      ]
     },
     "execution_count": 33,
     "metadata": {},
     "output_type": "execute_result"
    }
   ],
   "source": []
  },
  {
   "cell_type": "code",
   "execution_count": 30,
   "metadata": {},
   "outputs": [
    {
     "data": {
      "text/plain": [
       "(24, 36)"
      ]
     },
     "execution_count": 30,
     "metadata": {},
     "output_type": "execute_result"
    }
   ],
   "source": [
    "\n"
   ]
  },
  {
   "cell_type": "code",
   "execution_count": 7,
   "metadata": {},
   "outputs": [
    {
     "data": {
      "text/plain": [
       "({}, {}, 0)"
      ]
     },
     "execution_count": 7,
     "metadata": {},
     "output_type": "execute_result"
    }
   ],
   "source": [
    "g.technicals"
   ]
  },
  {
   "cell_type": "code",
   "execution_count": 24,
   "metadata": {},
   "outputs": [
    {
     "name": "stdout",
     "output_type": "stream",
     "text": [
      "prcessed 100 games\n",
      "corrected jumpball to 1610612740\n",
      "prcessed 200 games\n",
      "prcessed 300 games\n",
      "prcessed 400 games\n",
      "corrected jumpball to 1610612738\n",
      "prcessed 500 games\n",
      "not adding delay of game fts\n",
      "prcessed 600 games\n",
      "prcessed 700 games\n",
      "prcessed 800 games\n",
      "No expected free throws and no tech <StatsFreeThrow GameId: 0021600854, Description: MISS Curry Free Throw Technical, Time: 12:00, EventNum: 305> adding another tech foul\n",
      "prcessed 900 games\n",
      "corrected jumpball to 1610612746\n",
      "prcessed 1000 games\n",
      "prcessed 1100 games\n",
      "No expected free throws and no tech <StatsFreeThrow GameId: 0021601119, Description: Redick Free Throw Technical (28 PTS), Time: 4:57, EventNum: 356> adding another tech foul\n",
      "prcessed 1200 games\n",
      "complete\n"
     ]
    }
   ],
   "source": [
    "\n",
    "nbaTracker.add_season(\"2016-17\")\n",
    "season = nbaTracker.seasons[\"2016-17\"]\n",
    "\n",
    "try:\n",
    "    games2 = process_season(season, 0)\n",
    "    print(\"complete\")\n",
    "except Exception as e:\n",
    "    eargs = e.args\n",
    "    # raise e\n"
   ]
  },
  {
   "cell_type": "code",
   "execution_count": 53,
   "metadata": {},
   "outputs": [
    {
     "name": "stdout",
     "output_type": "stream",
     "text": [
      "Already loaded 2017-18\n",
      "w fts 0 <StatsFoul GameId: 0021700200, Description: Covington Personal Take Foul (P3.PN) (Z.Zarba), Time: 1:42, EventNum: 491>\n",
      "just ignore missed foul\n",
      "corrected jumpball to 1610612746\n",
      "prcessed 100 games\n",
      "No expected free throws and no tech <StatsFreeThrow GameId: 0021700319, Description: Miles Free Throw Technical (4 PTS), Time: 12:00, EventNum: 311> adding another tech foul\n",
      "prcessed 200 games\n",
      "corrected jumpball to 1610612754\n",
      "prcessed 300 games\n",
      "wrong offense team for ft <StatsFreeThrow GameId: 0021700507, Description: Powell Free Throw 1 of 2 (3 PTS), Time: 2:17, EventNum: 100>\n",
      "corrected jumpball to 1610612744\n",
      "not adding delay of game fts\n",
      "prcessed 400 games\n",
      "prcessed 500 games\n",
      "corrected jumpball to 1610612766\n",
      "corrected jumpball to 1610612749\n",
      "prcessed 600 games\n",
      "corrected jumpball to 1610612748\n",
      "wrong team lftv <StatsViolation GameId: 0021700882, Description: Napier Violation:Lane (.), Time: 3:13, EventNum: 486>\n",
      "just ignoring...\n",
      "prcessed 700 games\n",
      "corrected jumpball to 1610612758\n",
      "prcessed 800 games\n",
      "No expected free throws and no tech <StatsFreeThrow GameId: 0021701074, Description: MISS Tolliver Free Throw Technical, Time: 12:00, EventNum: 702> adding another tech foul\n",
      "prcessed 900 games\n",
      "wrong team lftv <StatsViolation GameId: 0021701161, Description: Paul Violation:Lane (B.Taylor), Time: 8:07, EventNum: 356>\n",
      "just ignoring...\n",
      "corrected jumpball to 1610612757\n",
      "prcessed 1000 games\n",
      "complete\n"
     ]
    }
   ],
   "source": [
    "nbaTracker.add_season(\"2017-18\")\n",
    "season = nbaTracker.seasons[\"2017-18\"]\n",
    "\n",
    "try:\n",
    "    games3 = process_season(season, 197)\n",
    "    print(\"complete\")\n",
    "except Exception as e:\n",
    "    eargs = e.args\n",
    "    # raise e\n",
    "    \n"
   ]
  },
  {
   "cell_type": "code",
   "execution_count": 56,
   "metadata": {},
   "outputs": [
    {
     "name": "stdout",
     "output_type": "stream",
     "text": [
      "Already loaded 2018-19\n",
      "prcessed 100 games\n",
      "prcessed 200 games\n",
      "corrected jumpball to 1610612746\n",
      "prcessed 300 games\n",
      "No expected free throws and no tech <StatsFreeThrow GameId: 0021800534, Description: Lillard Free Throw Technical (16 PTS), Time: 12:00, EventNum: 340> adding another tech foul\n",
      "lane violation w exp fts 2 <StatsViolation GameId: 0021800546, Description: Covington Lane Violation, Time: 3:46, EventNum: 312>\n",
      "[<StatsFoul GameId: 0021800546, Description: S. Hill P.FOUL (P2.PN) (K.Fitzgerald), Time: 3:46, EventNum: 261>, <StatsViolation GameId: 0021800546, Description: Covington Lane Violation, Time: 3:46, EventNum: 312>, <StatsFreeThrow GameId: 0021800546, Description: Towns Free Throw 2 of 2 (6 PTS), Time: 3:46, EventNum: 313>]\n",
      "prcessed 400 games\n",
      "corrected jumpball to 1610612743\n",
      "corrected jumpball to 1610612737\n",
      "not adding delay of game fts\n",
      "prcessed 500 games\n",
      "No expected free throws and no tech <StatsFreeThrow GameId: 0021800676, Description: MISS Durant Free Throw Technical, Time: 12:00, EventNum: 175> adding another tech foul\n",
      "No expected free throws and no tech <StatsFreeThrow GameId: 0021800689, Description: MISS Rose Free Throw Technical, Time: 12:00, EventNum: 587> adding another tech foul\n",
      "prcessed 600 games\n",
      "corrected jumpball to 1610612753\n",
      "prcessed 700 games\n",
      "corrected jumpball to 1610612758\n",
      "corrected jumpball to 1610612738\n",
      "corrected jumpball to 1610612749\n",
      "corrected jumpball to 1610612765\n",
      "prcessed 800 games\n",
      "not adding delay of game fts\n",
      "corrected jumpball to 1610612743\n",
      "prcessed 900 games\n",
      "prcessed 1000 games\n",
      "complete\n"
     ]
    }
   ],
   "source": [
    "nbaTracker.add_season(\"2018-19\")\n",
    "season = nbaTracker.seasons[\"2018-19\"]\n",
    "\n",
    "try:\n",
    "    games4 = process_season(season, 155)\n",
    "    print(\"complete\")\n",
    "except Exception as e:\n",
    "    eargs = e.args\n",
    "    # raise e\n"
   ]
  },
  {
   "cell_type": "code",
   "execution_count": 57,
   "metadata": {},
   "outputs": [
    {
     "name": "stdout",
     "output_type": "stream",
     "text": [
      "Already loaded 2019-20\n",
      "prcessed 100 games\n",
      "prcessed 200 games\n",
      "prcessed 300 games\n",
      "corrected jumpball to 1610612743\n",
      "No expected free throws and no tech <StatsFreeThrow GameId: 0021900325, Description: Poole Free Throw Technical (1 PTS), Time: 0:28, EventNum: 445> adding another tech foul\n",
      "prcessed 400 games\n",
      "made shot with  2 fts foul? <StatsFoul GameId: 0021900487, Description: Valanciunas FLAGRANT.FOUL.TYPE1 (P2.PN) (K.Fitzgerald), Time: 0:10, EventNum: 346>\n",
      "prcessed 500 games\n",
      "prcessed 600 games\n",
      "prcessed 700 games\n",
      "No expected free throws and no tech <StatsFreeThrow GameId: 0021900742, Description: Morris Sr. Free Throw Technical (5 PTS), Time: 12:00, EventNum: 311> adding another tech foul\n",
      "prcessed 800 games\n",
      "prcessed 900 games\n",
      "corrected jumpball to 1610612738\n",
      "prcessed 1000 games\n",
      "corrected jumpball to 1610612755\n",
      "lane violation w exp fts 2 <StatsViolation GameId: 0021901309, Description: Kurucs Lane Violation, Time: 4:53, EventNum: 671>\n",
      "[<StatsFoul GameId: 0021901309, Description: Whiteside S.FOUL (P2.PN) (G.Petraitis), Time: 4:53, EventNum: 434>, <StatsViolation GameId: 0021901309, Description: Kurucs Lane Violation, Time: 4:53, EventNum: 671>, <StatsSubstitution GameId: 0021901309, Description: SUB: Johnson FOR LeVert, Time: 4:53, EventNum: 453>, <StatsFreeThrow GameId: 0021901309, Description: MISS Allen Free Throw 2 of 2, Time: 4:53, EventNum: 503>, <StatsRebound GameId: 0021901309, Description: Kurucs REBOUND (Off:1 Def:4), Time: 4:52, EventNum: 504>, <StatsFieldGoal GameId: 0021901309, Description: Kurucs 3' Tip Layup Shot (5 PTS), Time: 4:49, EventNum: 439>]\n",
      "complete\n"
     ]
    }
   ],
   "source": [
    "nbaTracker.add_season(\"2019-20\")\n",
    "season = nbaTracker.seasons[\"2019-20\"]\n",
    "\n",
    "try:\n",
    "    games5 = process_season(season, 0 )\n",
    "    print(\"complete\")\n",
    "except Exception as e:\n",
    "    eargs = e.args\n",
    "    # raise e\n"
   ]
  },
  {
   "cell_type": "code",
   "execution_count": 69,
   "metadata": {},
   "outputs": [
    {
     "name": "stdout",
     "output_type": "stream",
     "text": [
      "Already loaded 2020-21\n",
      "not adding delay of game fts\n",
      "prcessed 100 games\n",
      "prcessed 200 games\n",
      "prcessed 300 games\n",
      "made shot with  2 fts foul? <StatsFoul GameId: 0022000768, Description: Booker FLAGRANT.FOUL.TYPE1 (P2.PN) (M.Kogut), Time: 1:49, EventNum: 285>\n",
      "prcessed 400 games\n",
      "corrected jumpball to 1610612756\n",
      "prcessed 500 games\n",
      "lane violation with just techs <StatsViolation GameId: 0022000970, Description: Lane, Time: 10:23, EventNum: 189> not sure what this means, ignoring\n",
      "unhandled loose ball foul turnover [<StatsFoul GameId: 0022000971, Description: Olynyk L.B.FOUL (P2.T2) (C.Kirkland), Time: 6:57, EventNum: 377>, <StatsTimeout GameId: 0022000971, Description: ROCKETS Timeout: Regular (Full 3 Short 0), Time: 6:57, EventNum: 380>, <StatsSubstitution GameId: 0022000971, Description: SUB: Gibson FOR Noel, Time: 6:57, EventNum: 384>, <StatsJumpBall GameId: 0022000971, Description: Jump Ball Wood vs. Randle: Tip to Payton, Time: 6:52, EventNum: 386>]\n",
      "prcessed 600 games\n",
      "No expected free throws and no tech <StatsFreeThrow GameId: 0022001055, Description: Harris Free Throw Technical (5 PTS), Time: 3:16, EventNum: 288> adding another tech foul\n",
      "complete\n"
     ]
    }
   ],
   "source": [
    "nbaTracker.add_season(\"2020-21\")\n",
    "season = nbaTracker.seasons[\"2020-21\"]\n",
    "\n",
    "try:\n",
    "    games6 = process_season(season, 444)\n",
    "    print(\"complete\")\n",
    "except Exception as e:\n",
    "    eargs = e.args\n",
    "    # raise e\n"
   ]
  },
  {
   "cell_type": "code",
   "execution_count": 66,
   "metadata": {},
   "outputs": [
    {
     "data": {
      "text/plain": [
       "TryResult(result_type=<TryResultType.MISTAKE_CALL: 57>, result_player1_id=None, result_player2_id=None, result_player3_id=None, result_player4_id=None, shot_type=None, shot_distance=None, shot_X=None, shot_Y=None, num_fts=0)"
      ]
     },
     "execution_count": 66,
     "metadata": {},
     "output_type": "execute_result"
    }
   ],
   "source": [
    "eargs[1][-1].try_result"
   ]
  },
  {
   "cell_type": "code",
   "execution_count": 47,
   "metadata": {},
   "outputs": [
    {
     "data": {
      "text/plain": [
       "{'id': 1610612748,\n",
       " 'full_name': 'Miami Heat',\n",
       " 'abbreviation': 'MIA',\n",
       " 'nickname': 'Heat',\n",
       " 'city': 'Miami',\n",
       " 'state': 'Florida',\n",
       " 'year_founded': 1988}"
      ]
     },
     "execution_count": 47,
     "metadata": {},
     "output_type": "execute_result"
    }
   ],
   "source": [
    "find_team_name_by_id(1610612748)\n"
   ]
  },
  {
   "cell_type": "code",
   "execution_count": 59,
   "metadata": {},
   "outputs": [
    {
     "data": {
      "text/plain": [
       "[<StatsFieldGoal GameId: 0022001063, Description: MISS Edwards 26' 3PT Jump Shot, Time: 0:53, EventNum: 679>,\n",
       " <StatsRebound GameId: 0022001063, Description: Nowell REBOUND (Off:1 Def:1), Time: 0:48, EventNum: 680>,\n",
       " <StatsFieldGoal GameId: 0022001063, Description: Nowell 1' Putback Layup (7 PTS), Time: 0:48, EventNum: 681>]"
      ]
     },
     "execution_count": 59,
     "metadata": {},
     "output_type": "execute_result"
    }
   ],
   "source": [
    "eargs[0].previous_possession.previous_possession.events\n"
   ]
  },
  {
   "cell_type": "code",
   "execution_count": 67,
   "metadata": {},
   "outputs": [
    {
     "data": {
      "text/plain": [
       "[<StatsFoul GameId: 0022000445, Description: Forbes S.FOUL (P1.PN) (S.Wall), Time: 2:41, EventNum: 629>,\n",
       " <StatsFreeThrow GameId: 0022000445, Description: Siakam Free Throw 1 of 2 (26 PTS), Time: 2:41, EventNum: 631>,\n",
       " <StatsFreeThrow GameId: 0022000445, Description: Siakam Free Throw 2 of 2 (27 PTS), Time: 2:41, EventNum: 632>]"
      ]
     },
     "execution_count": 67,
     "metadata": {},
     "output_type": "execute_result"
    }
   ],
   "source": [
    "eargs[0].previous_possession.events\n"
   ]
  },
  {
   "cell_type": "code",
   "execution_count": 68,
   "metadata": {},
   "outputs": [
    {
     "data": {
      "text/plain": [
       "[<StatsFoul GameId: 0022000445, Description: VanVleet P.FOUL (P4.PN) (S.Foster), Time: 2:35, EventNum: 691>,\n",
       " <StatsTimeout GameId: 0022000445, Description: Raptors Timeout: Coach Challenge (Reg.4 Short 0), Time: 2:35, EventNum: 678>,\n",
       " <StatsReplay GameId: 0022000445, Description: Instant Replay4th Period (10:11 PM EST), Time: 2:35, EventNum: 636>,\n",
       " <StatsJumpBall GameId: 0022000445, Description: Jump Ball (CC) Antetokounmpo vs. Anunoby: Tip to Forbes, Time: 2:33, EventNum: 637>,\n",
       " <StatsFieldGoal GameId: 0022000445, Description: MISS Antetokounmpo 2' Layup: Siakam BLOCK (2 BLK), Time: 2:21, EventNum: 640>,\n",
       " <StatsRebound GameId: 0022000445, Description: Anunoby REBOUND (Off:0 Def:7), Time: 2:17, EventNum: 642>]"
      ]
     },
     "execution_count": 68,
     "metadata": {},
     "output_type": "execute_result"
    }
   ],
   "source": [
    "eargs[0].events"
   ]
  },
  {
   "cell_type": "code",
   "execution_count": 18,
   "metadata": {},
   "outputs": [
    {
     "data": {
      "text/plain": [
       "[<StatsViolation GameId: 0021700692, Description: Cousins Violation:Lane (K.Fitzgerald), Time: 10:30, EventNum: 167>,\n",
       " <StatsViolation GameId: 0021700692, Description: Portis Violation:Lane (.), Time: 10:30, EventNum: 215>,\n",
       " <StatsJumpBall GameId: 0021700692, Description: Jump Ball Cousins vs. Portis: Tip to Arcidiacono, Time: 10:30, EventNum: 231>,\n",
       " <StatsFieldGoal GameId: 0021700692, Description: MISS Portis 26' 3PT Jump Shot, Time: 10:11, EventNum: 168>,\n",
       " <StatsRebound GameId: 0021700692, Description: Nelson REBOUND (Off:0 Def:1), Time: 10:09, EventNum: 169>]"
      ]
     },
     "execution_count": 18,
     "metadata": {},
     "output_type": "execute_result"
    }
   ],
   "source": [
    "eargs[0].next_possession.events"
   ]
  },
  {
   "cell_type": "code",
   "execution_count": 19,
   "metadata": {},
   "outputs": [
    {
     "data": {
      "text/plain": [
       "[<StatsFoul GameId: 0021700692, Description: Arcidiacono P.FOUL (P1.T2) (T.Ford), Time: 10:06, EventNum: 170>,\n",
       " <StatsFieldGoal GameId: 0021700692, Description: Cousins 11' Turnaround Jump Shot (8 PTS), Time: 9:51, EventNum: 172>]"
      ]
     },
     "execution_count": 19,
     "metadata": {},
     "output_type": "execute_result"
    }
   ],
   "source": [
    "eargs[0].next_possession.next_possession.events\n"
   ]
  },
  {
   "cell_type": "code",
   "execution_count": 21,
   "metadata": {},
   "outputs": [
    {
     "data": {
      "text/plain": [
       "2"
      ]
     },
     "execution_count": 21,
     "metadata": {},
     "output_type": "execute_result"
    }
   ],
   "source": [
    "from build_shot_chance_data import get_num_fta_from_foul\n",
    "get_num_fta_from_foul(eargs[0].events[0])\n"
   ]
  },
  {
   "cell_type": "code",
   "execution_count": 5,
   "metadata": {},
   "outputs": [],
   "source": [
    "from nba_dataclasses import TryResultType\n",
    "counts = {i: 0 for i in TryResultType}\n",
    "ft_nums = {i: {} for i in TryResultType}\n",
    "next_result_same_team = {i: {True: 0, False: 0} for i in TryResultType}\n",
    "result_player_teams = {i: {pi: {\"off\": 0, \"def\": 0} for pi in [1,2,3,4]} for i in TryResultType}\n"
   ]
  },
  {
   "cell_type": "code",
   "execution_count": 29,
   "metadata": {},
   "outputs": [
    {
     "name": "stdout",
     "output_type": "stream",
     "text": [
      "not equal 70 0 70 1\n"
     ]
    }
   ],
   "source": [
    "from nba_dataclasses import EventType, TryResultType, LiveFreeThrowResult\n",
    "should_break = False\n",
    "g_count = 0\n",
    "for g in games: #+games2+games3+games4:\n",
    "    g_count += 1\n",
    "    game_events = g.game_events\n",
    "    num_fts = 0\n",
    "    ft_violations = 0\n",
    "    expected_fts = 0\n",
    "    for i in range(len(game_events)):\n",
    "        e = game_events[i]\n",
    "        if e.event_type == EventType.PossessionTry:\n",
    "            expected_fts += e.result.num_fts\n",
    "        elif e.event_type == EventType.Rebound:\n",
    "            expected_fts += e.result.num_fts\n",
    "        elif e.event_type == EventType.LiveFreeThrow:\n",
    "            if e.result.ft_result in {LiveFreeThrowResult.DEF_LANE_VIOLATION_RETRY,}:\n",
    "                ft_violations += 1\n",
    "                \n",
    "            else:\n",
    "                num_fts += 1\n",
    "    num_fts += len(g.free_throws)\n",
    "    tech_num = len(g.technicals[0]) + \\\n",
    "        len(g.technicals[1]) + g.technicals[2]\n",
    "    \n",
    "    if num_fts != expected_fts+tech_num:\n",
    "        print(\"not equal\", num_fts, ft_violations, expected_fts, tech_num)\n",
    "        break\n",
    "                        # ptd = result_player_teams[tr.result_type]\n",
    "        \n",
    "\n",
    "        # if hasattr(tr, \"result_player1_id\") and tr.result_player1_id:\n",
    "        #     if tr.result_player1_id in e.lineup.offense_players:\n",
    "        #         ptd[1]['off'] += 1\n",
    "        #     elif tr.result_player1_id in e.lineup.defense_players:\n",
    "        #         ptd[1]['def'] += 1\n",
    "        #     else:\n",
    "        #         print(\"pid1 not in lineup\")\n",
    "        #         should_break = True\n",
    "        #         break\n",
    "            \n",
    "        # if hasattr(tr, \"result_player2_id\") and tr.result_player2_id:\n",
    "        #     if tr.result_player2_id in e.lineup.offense_players:\n",
    "        #         ptd[2]['off'] += 1\n",
    "        #     elif tr.result_player2_id in e.lineup.defense_players:\n",
    "        #         ptd[2]['def'] += 1\n",
    "        #     else:\n",
    "        #         print(\"pid2 not in lineup\")\n",
    "        #         should_break = True\n",
    "        #         break\n",
    "\n",
    "        # if hasattr(tr, \"result_player3_id\") and tr.result_player3_id:\n",
    "        #     if tr.result_player3_id in e.lineup.offense_players:\n",
    "        #         ptd[3]['off'] += 1\n",
    "        #     elif tr.result_player3_id in e.lineup.defense_players:\n",
    "        #         ptd[3]['def'] += 1\n",
    "        #     else:\n",
    "        #         print(\"pid3 not in lineup\")\n",
    "        #         should_break = True\n",
    "        #         break\n",
    "\n",
    "        # if hasattr(tr, \"result_player4_id\") and tr.result_player4_id:\n",
    "        #     if tr.result_player4_id in e.lineup.offense_players:\n",
    "        #         ptd[4]['off'] += 1\n",
    "        #     elif tr.result_player4_id in e.lineup.defense_players:\n",
    "        #         ptd[4]['def'] += 1\n",
    "        #     else:\n",
    "        #         print(\"pid4 not in lineup\")\n",
    "        #         should_break = True\n",
    "        #         break\n",
    "\n",
    "        # next_t = tries[i]\n",
    "        # is_same_team = t.lineup.offense_team == next_t.lineup.offense_team\n",
    "        # next_result_same_team[t.try_result.result_type][is_same_team] += 1\n",
    "        # counts[e.try_result.result_type] += 1\n",
    "        # result_type_dic = ft_nums[e.try_result.result_type]\n",
    "        # if e.try_result.num_fts in result_type_dic:\n",
    "        #     result_type_dic[e.try_result.num_fts] += 1\n",
    "        # else:\n",
    "        #     result_type_dic[e.try_result.num_fts] = 1\n",
    "    # if should_break:\n",
    "    #     break\n"
   ]
  },
  {
   "cell_type": "code",
   "execution_count": 30,
   "metadata": {},
   "outputs": [
    {
     "data": {
      "text/plain": [
       "38"
      ]
     },
     "execution_count": 30,
     "metadata": {},
     "output_type": "execute_result"
    }
   ],
   "source": [
    "g_count"
   ]
  },
  {
   "cell_type": "code",
   "execution_count": 31,
   "metadata": {},
   "outputs": [
    {
     "name": "stdout",
     "output_type": "stream",
     "text": [
      "LiveFreeThrowResult.MADE\n",
      "LiveFreeThrowResult.MISS\n",
      "LiveFreeThrowResult.MISS\n",
      "LiveFreeThrowResult.MISS\n",
      "LiveFreeThrowResult.MISS\n",
      "LiveFreeThrowResult.MADE\n",
      "LiveFreeThrowResult.MADE\n",
      "LiveFreeThrowResult.MADE\n",
      "LiveFreeThrowResult.MADE\n",
      "LiveFreeThrowResult.MADE\n",
      "LiveFreeThrowResult.MISS\n",
      "LiveFreeThrowResult.MADE\n",
      "LiveFreeThrowResult.MADE\n",
      "LiveFreeThrowResult.MISS\n",
      "LiveFreeThrowResult.MISS\n",
      "LiveFreeThrowResult.MISS\n",
      "LiveFreeThrowResult.MISS\n",
      "LiveFreeThrowResult.MADE\n",
      "LiveFreeThrowResult.MADE\n",
      "LiveFreeThrowResult.MADE\n",
      "LiveFreeThrowResult.MISS\n",
      "LiveFreeThrowResult.MADE\n",
      "LiveFreeThrowResult.MISS\n",
      "LiveFreeThrowResult.MADE\n",
      "LiveFreeThrowResult.MISS\n",
      "LiveFreeThrowResult.MADE\n",
      "LiveFreeThrowResult.MADE\n",
      "LiveFreeThrowResult.MADE\n",
      "LiveFreeThrowResult.MADE\n",
      "LiveFreeThrowResult.MADE\n",
      "LiveFreeThrowResult.MADE\n",
      "LiveFreeThrowResult.MADE\n",
      "LiveFreeThrowResult.MADE\n",
      "LiveFreeThrowResult.MADE\n",
      "LiveFreeThrowResult.MADE\n",
      "LiveFreeThrowResult.MADE\n"
     ]
    }
   ],
   "source": [
    "for i in range(len(game_events)):\n",
    "    e = game_events[i]\n",
    "    if e.event_type == EventType.LiveFreeThrow:\n",
    "        print(e.result.ft_result)"
   ]
  },
  {
   "cell_type": "code",
   "execution_count": 13,
   "metadata": {},
   "outputs": [
    {
     "data": {
      "text/plain": [
       "28"
      ]
     },
     "execution_count": 13,
     "metadata": {},
     "output_type": "execute_result"
    }
   ],
   "source": [
    "g_count"
   ]
  },
  {
   "cell_type": "code",
   "execution_count": 20,
   "metadata": {},
   "outputs": [
    {
     "data": {
      "text/plain": [
       "14"
      ]
     },
     "execution_count": 20,
     "metadata": {},
     "output_type": "execute_result"
    }
   ],
   "source": [
    "len(g.free_throws)\n"
   ]
  },
  {
   "cell_type": "code",
   "execution_count": 19,
   "metadata": {},
   "outputs": [],
   "source": [
    "for e in g.game_events:\n",
    "    if e.event_type == EventType.LiveFreeThrow:\n",
    "        if not e.result.shooter:\n",
    "            print(\"no shooter\")"
   ]
  },
  {
   "cell_type": "code",
   "execution_count": 8,
   "metadata": {},
   "outputs": [
    {
     "data": {
      "text/plain": [
       "{<TryResultType.OTHER: 0>: {1: {'off': 0, 'def': 0},\n",
       "  2: {'off': 0, 'def': 0},\n",
       "  3: {'off': 0, 'def': 0},\n",
       "  4: {'off': 0, 'def': 0}},\n",
       " <TryResultType.MISSED_SHOT: 1>: {1: {'off': 101792, 'def': 0},\n",
       "  2: {'off': 0, 'def': 0},\n",
       "  3: {'off': 0, 'def': 0},\n",
       "  4: {'off': 0, 'def': 0}},\n",
       " <TryResultType.BLOCKED_SHOT: 2>: {1: {'off': 12193, 'def': 0},\n",
       "  2: {'off': 0, 'def': 0},\n",
       "  3: {'off': 0, 'def': 12193},\n",
       "  4: {'off': 0, 'def': 0}},\n",
       " <TryResultType.MADE_SHOT: 3>: {1: {'off': 88358, 'def': 0},\n",
       "  2: {'off': 52056, 'def': 0},\n",
       "  3: {'off': 0, 'def': 0},\n",
       "  4: {'off': 0, 'def': 0}},\n",
       " <TryResultType.AND1: 4>: {1: {'off': 5121, 'def': 0},\n",
       "  2: {'off': 2509, 'def': 0},\n",
       "  3: {'off': 0, 'def': 5121},\n",
       "  4: {'off': 0, 'def': 0}},\n",
       " <TryResultType.DEF_GOALTEND_SHOT: 5>: {1: {'off': 500, 'def': 0},\n",
       "  2: {'off': 228, 'def': 0},\n",
       "  3: {'off': 130, 'def': 370},\n",
       "  4: {'off': 0, 'def': 0}},\n",
       " <TryResultType.GOALTENDED_AND1: 6>: {1: {'off': 25, 'def': 0},\n",
       "  2: {'off': 9, 'def': 0},\n",
       "  3: {'off': 0, 'def': 25},\n",
       "  4: {'off': 0, 'def': 25}},\n",
       " <TryResultType.MADE_BASKET_W_FOULSHOT: 7>: {1: {'off': 57, 'def': 0},\n",
       "  2: {'off': 26, 'def': 0},\n",
       "  3: {'off': 0, 'def': 57},\n",
       "  4: {'off': 57, 'def': 0}},\n",
       " <TryResultType.MADE_BASKET_W_LOOSE_BALL_FOUL: 8>: {1: {'off': 0, 'def': 0},\n",
       "  2: {'off': 0, 'def': 0},\n",
       "  3: {'off': 0, 'def': 0},\n",
       "  4: {'off': 0, 'def': 0}},\n",
       " <TryResultType.MADE_BASKET_W_FLAGRANT1: 67>: {1: {'off': 1, 'def': 0},\n",
       "  2: {'off': 1, 'def': 0},\n",
       "  3: {'off': 0, 'def': 1},\n",
       "  4: {'off': 1, 'def': 0}},\n",
       " <TryResultType.MADE_BASKET_W_FLAGRANT2: 68>: {1: {'off': 0, 'def': 0},\n",
       "  2: {'off': 0, 'def': 0},\n",
       "  3: {'off': 0, 'def': 0},\n",
       "  4: {'off': 0, 'def': 0}},\n",
       " <TryResultType.FLAGRANT1_AND1: 9>: {1: {'off': 1, 'def': 0},\n",
       "  2: {'off': 1, 'def': 0},\n",
       "  3: {'off': 0, 'def': 1},\n",
       "  4: {'off': 0, 'def': 0}},\n",
       " <TryResultType.FLAGRANT2_AND1: 10>: {1: {'off': 0, 'def': 0},\n",
       "  2: {'off': 0, 'def': 0},\n",
       "  3: {'off': 0, 'def': 0},\n",
       "  4: {'off': 0, 'def': 0}},\n",
       " <TryResultType.FLAGRANT1_AND1_2FTS: 63>: {1: {'off': 2, 'def': 0},\n",
       "  2: {'off': 1, 'def': 0},\n",
       "  3: {'off': 0, 'def': 2},\n",
       "  4: {'off': 0, 'def': 0}},\n",
       " <TryResultType.NON_SHOOTING_FOUL: 11>: {1: {'off': 0, 'def': 12787},\n",
       "  2: {'off': 12787, 'def': 0},\n",
       "  3: {'off': 0, 'def': 0},\n",
       "  4: {'off': 0, 'def': 0}},\n",
       " <TryResultType.PENALTY_NON_SHOOTING_FOUL: 12>: {1: {'off': 0, 'def': 3987},\n",
       "  2: {'off': 3987, 'def': 0},\n",
       "  3: {'off': 0, 'def': 0},\n",
       "  4: {'off': 0, 'def': 0}},\n",
       " <TryResultType.SHOOTING_FOUL_2: 13>: {1: {'off': 0, 'def': 18345},\n",
       "  2: {'off': 18345, 'def': 0},\n",
       "  3: {'off': 0, 'def': 0},\n",
       "  4: {'off': 0, 'def': 0}},\n",
       " <TryResultType.SHOOTING_FOUL_3: 14>: {1: {'off': 0, 'def': 696},\n",
       "  2: {'off': 696, 'def': 0},\n",
       "  3: {'off': 0, 'def': 0},\n",
       "  4: {'off': 0, 'def': 0}},\n",
       " <TryResultType.AWAY_FROM_PLAY_FOUL: 15>: {1: {'off': 0, 'def': 8},\n",
       "  2: {'off': 8, 'def': 0},\n",
       "  3: {'off': 0, 'def': 0},\n",
       "  4: {'off': 0, 'def': 0}},\n",
       " <TryResultType.AWAY_FROM_PLAY_0FTS_FOUL: 64>: {1: {'off': 0, 'def': 0},\n",
       "  2: {'off': 0, 'def': 0},\n",
       "  3: {'off': 0, 'def': 0},\n",
       "  4: {'off': 0, 'def': 0}},\n",
       " <TryResultType.OFF_AWAY_FROM_PLAY_FOUL: 16>: {1: {'off': 0, 'def': 0},\n",
       "  2: {'off': 0, 'def': 0},\n",
       "  3: {'off': 0, 'def': 0},\n",
       "  4: {'off': 0, 'def': 0}},\n",
       " <TryResultType.DEF_LOOSE_BALL_FOUL: 17>: {1: {'off': 0, 'def': 0},\n",
       "  2: {'off': 0, 'def': 0},\n",
       "  3: {'off': 0, 'def': 0},\n",
       "  4: {'off': 0, 'def': 0}},\n",
       " <TryResultType.PENALTY_DEF_LOOSE_BALL_FOUL: 18>: {1: {'off': 0, 'def': 101},\n",
       "  2: {'off': 101, 'def': 0},\n",
       "  3: {'off': 0, 'def': 0},\n",
       "  4: {'off': 0, 'def': 0}},\n",
       " <TryResultType.OFF_LOOSE_BALL_FOUL: 19>: {1: {'off': 0, 'def': 0},\n",
       "  2: {'off': 0, 'def': 0},\n",
       "  3: {'off': 0, 'def': 0},\n",
       "  4: {'off': 0, 'def': 0}},\n",
       " <TryResultType.DEF_LOOSE_BALL_NO_FTS: 65>: {1: {'off': 0, 'def': 226},\n",
       "  2: {'off': 226, 'def': 0},\n",
       "  3: {'off': 0, 'def': 1},\n",
       "  4: {'off': 1, 'def': 0}},\n",
       " <TryResultType.OFF_LOOSE_BALL_NO_FTS: 66>: {1: {'off': 8, 'def': 0},\n",
       "  2: {'off': 0, 'def': 8},\n",
       "  3: {'off': 0, 'def': 0},\n",
       "  4: {'off': 0, 'def': 0}},\n",
       " <TryResultType.PENALTY_OFF_LOOSE_BALL_FOUL: 20>: {1: {'off': 8, 'def': 0},\n",
       "  2: {'off': 0, 'def': 8},\n",
       "  3: {'off': 0, 'def': 0},\n",
       "  4: {'off': 0, 'def': 0}},\n",
       " <TryResultType.INBOUND_FOUL: 21>: {1: {'off': 0, 'def': 5},\n",
       "  2: {'off': 5, 'def': 0},\n",
       "  3: {'off': 0, 'def': 0},\n",
       "  4: {'off': 0, 'def': 0}},\n",
       " <TryResultType.CLEAR_PATH_FOUL: 22>: {1: {'off': 0, 'def': 75},\n",
       "  2: {'off': 75, 'def': 0},\n",
       "  3: {'off': 0, 'def': 0},\n",
       "  4: {'off': 0, 'def': 0}},\n",
       " <TryResultType.PENALTY_TAKE_FOUL: 23>: {1: {'off': 0, 'def': 1068},\n",
       "  2: {'off': 1068, 'def': 0},\n",
       "  3: {'off': 0, 'def': 0},\n",
       "  4: {'off': 0, 'def': 0}},\n",
       " <TryResultType.TAKE_FOUL: 24>: {1: {'off': 0, 'def': 506},\n",
       "  2: {'off': 506, 'def': 0},\n",
       "  3: {'off': 0, 'def': 0},\n",
       "  4: {'off': 0, 'def': 0}},\n",
       " <TryResultType.FLAGRANT1: 25>: {1: {'off': 0, 'def': 94},\n",
       "  2: {'off': 94, 'def': 0},\n",
       "  3: {'off': 0, 'def': 0},\n",
       "  4: {'off': 0, 'def': 0}},\n",
       " <TryResultType.FLAGRANT2: 26>: {1: {'off': 0, 'def': 9},\n",
       "  2: {'off': 9, 'def': 0},\n",
       "  3: {'off': 0, 'def': 0},\n",
       "  4: {'off': 0, 'def': 0}},\n",
       " <TryResultType.OFFENSIVE_FLAGRANT1: 27>: {1: {'off': 11, 'def': 0},\n",
       "  2: {'off': 0, 'def': 11},\n",
       "  3: {'off': 0, 'def': 0},\n",
       "  4: {'off': 0, 'def': 0}},\n",
       " <TryResultType.OFFENSIVE_FLAGRANT2: 28>: {1: {'off': 3, 'def': 0},\n",
       "  2: {'off': 0, 'def': 3},\n",
       "  3: {'off': 0, 'def': 0},\n",
       "  4: {'off': 0, 'def': 0}},\n",
       " <TryResultType.OFFENSIVE_FOUL_TURNOVER: 29>: {1: {'off': 2828, 'def': 0},\n",
       "  2: {'off': 0, 'def': 2827},\n",
       "  3: {'off': 0, 'def': 0},\n",
       "  4: {'off': 0, 'def': 0}},\n",
       " <TryResultType.PENALTY_OFF_FOUL_TURNOVER: 30>: {1: {'off': 0, 'def': 0},\n",
       "  2: {'off': 0, 'def': 0},\n",
       "  3: {'off': 0, 'def': 0},\n",
       "  4: {'off': 0, 'def': 0}},\n",
       " <TryResultType.CHARGE: 31>: {1: {'off': 1186, 'def': 0},\n",
       "  2: {'off': 0, 'def': 1186},\n",
       "  3: {'off': 0, 'def': 0},\n",
       "  4: {'off': 0, 'def': 0}},\n",
       " <TryResultType.BAD_PASS_OUT: 32>: {1: {'off': 4278, 'def': 0},\n",
       "  2: {'off': 0, 'def': 0},\n",
       "  3: {'off': 0, 'def': 0},\n",
       "  4: {'off': 0, 'def': 0}},\n",
       " <TryResultType.OFFENSIVE_GOALTENDING_TURNOVER: 33>: {1: {'off': 170,\n",
       "   'def': 0},\n",
       "  2: {'off': 0, 'def': 0},\n",
       "  3: {'off': 0, 'def': 0},\n",
       "  4: {'off': 0, 'def': 0}},\n",
       " <TryResultType.LOST_BALL_STEAL: 34>: {1: {'off': 6823, 'def': 0},\n",
       "  2: {'off': 0, 'def': 6823},\n",
       "  3: {'off': 0, 'def': 0},\n",
       "  4: {'off': 0, 'def': 0}},\n",
       " <TryResultType.BAD_PASS_STEAL: 35>: {1: {'off': 12328, 'def': 0},\n",
       "  2: {'off': 0, 'def': 12328},\n",
       "  3: {'off': 0, 'def': 0},\n",
       "  4: {'off': 0, 'def': 0}},\n",
       " <TryResultType.LOST_BALL_OUT_TURNOVER: 36>: {1: {'off': 2236, 'def': 0},\n",
       "  2: {'off': 0, 'def': 0},\n",
       "  3: {'off': 0, 'def': 0},\n",
       "  4: {'off': 0, 'def': 0}},\n",
       " <TryResultType.STEP_OUT_TURNOVER: 37>: {1: {'off': 836, 'def': 0},\n",
       "  2: {'off': 0, 'def': 0},\n",
       "  3: {'off': 0, 'def': 0},\n",
       "  4: {'off': 0, 'def': 0}},\n",
       " <TryResultType.TRAVEL: 38>: {1: {'off': 2024, 'def': 0},\n",
       "  2: {'off': 0, 'def': 0},\n",
       "  3: {'off': 0, 'def': 0},\n",
       "  4: {'off': 0, 'def': 0}},\n",
       " <TryResultType.DISCONTINUE_DRIBBLE: 39>: {1: {'off': 86, 'def': 0},\n",
       "  2: {'off': 0, 'def': 0},\n",
       "  3: {'off': 0, 'def': 0},\n",
       "  4: {'off': 0, 'def': 0}},\n",
       " <TryResultType.PALMIMG_TURNOVER: 40>: {1: {'off': 63, 'def': 0},\n",
       "  2: {'off': 0, 'def': 0},\n",
       "  3: {'off': 0, 'def': 0},\n",
       "  4: {'off': 0, 'def': 0}},\n",
       " <TryResultType.DOUBLE_DRIBBLE_TURNOVER: 41>: {1: {'off': 117, 'def': 0},\n",
       "  2: {'off': 0, 'def': 0},\n",
       "  3: {'off': 0, 'def': 0},\n",
       "  4: {'off': 0, 'def': 0}},\n",
       " <TryResultType.KICKED_BALL_TURNOVER: 42>: {1: {'off': 27, 'def': 0},\n",
       "  2: {'off': 0, 'def': 0},\n",
       "  3: {'off': 0, 'def': 0},\n",
       "  4: {'off': 0, 'def': 0}},\n",
       " <TryResultType.ILLEGAL_SCREEN_TURNOVER: 43>: {1: {'off': 27, 'def': 0},\n",
       "  2: {'off': 0, 'def': 0},\n",
       "  3: {'off': 0, 'def': 0},\n",
       "  4: {'off': 0, 'def': 0}},\n",
       " <TryResultType.BACKCOURT_TURNOVER: 44>: {1: {'off': 131, 'def': 0},\n",
       "  2: {'off': 0, 'def': 0},\n",
       "  3: {'off': 0, 'def': 0},\n",
       "  4: {'off': 0, 'def': 0}},\n",
       " <TryResultType.EIGHT_SECONDS_TURNOVER: 45>: {1: {'off': 0, 'def': 0},\n",
       "  2: {'off': 0, 'def': 0},\n",
       "  3: {'off': 0, 'def': 0},\n",
       "  4: {'off': 0, 'def': 0}},\n",
       " <TryResultType.THROW_IN_5SECONDS_TURNOVER: 46>: {1: {'off': 0, 'def': 0},\n",
       "  2: {'off': 0, 'def': 0},\n",
       "  3: {'off': 0, 'def': 0},\n",
       "  4: {'off': 0, 'def': 0}},\n",
       " <TryResultType.OFF_3SECONDS_TURNOVER: 47>: {1: {'off': 453, 'def': 0},\n",
       "  2: {'off': 0, 'def': 0},\n",
       "  3: {'off': 0, 'def': 0},\n",
       "  4: {'off': 0, 'def': 0}},\n",
       " <TryResultType.INBOUND_TURNOVER: 48>: {1: {'off': 27, 'def': 0},\n",
       "  2: {'off': 0, 'def': 0},\n",
       "  3: {'off': 0, 'def': 0},\n",
       "  4: {'off': 0, 'def': 0}},\n",
       " <TryResultType.ILLEGAL_ASSIST: 49>: {1: {'off': 10, 'def': 0},\n",
       "  2: {'off': 0, 'def': 0},\n",
       "  3: {'off': 0, 'def': 0},\n",
       "  4: {'off': 0, 'def': 0}},\n",
       " <TryResultType.TIMEOUT: 50>: {1: {'off': 0, 'def': 0},\n",
       "  2: {'off': 0, 'def': 0},\n",
       "  3: {'off': 0, 'def': 0},\n",
       "  4: {'off': 0, 'def': 0}},\n",
       " <TryResultType.JUMP_BALL: 51>: {1: {'off': 0, 'def': 0},\n",
       "  2: {'off': 0, 'def': 0},\n",
       "  3: {'off': 0, 'def': 0},\n",
       "  4: {'off': 0, 'def': 0}},\n",
       " <TryResultType.HELD_BALL: 52>: {1: {'off': 244, 'def': 256},\n",
       "  2: {'off': 255, 'def': 244},\n",
       "  3: {'off': 0, 'def': 0},\n",
       "  4: {'off': 0, 'def': 0}},\n",
       " <TryResultType.SHOT_CLOCK_TURNOVER: 53>: {1: {'off': 0, 'def': 0},\n",
       "  2: {'off': 0, 'def': 0},\n",
       "  3: {'off': 0, 'def': 0},\n",
       "  4: {'off': 0, 'def': 0}},\n",
       " <TryResultType.DEF_3SECONDS: 54>: {1: {'off': 0, 'def': 675},\n",
       "  2: {'off': 0, 'def': 0},\n",
       "  3: {'off': 0, 'def': 0},\n",
       "  4: {'off': 0, 'def': 0}},\n",
       " <TryResultType.KICKED_BALL: 55>: {1: {'off': 0, 'def': 1015},\n",
       "  2: {'off': 0, 'def': 0},\n",
       "  3: {'off': 0, 'def': 0},\n",
       "  4: {'off': 0, 'def': 0}},\n",
       " <TryResultType.MISSED_FOUL: 56>: {1: {'off': 0, 'def': 2},\n",
       "  2: {'off': 2, 'def': 0},\n",
       "  3: {'off': 0, 'def': 0},\n",
       "  4: {'off': 0, 'def': 0}},\n",
       " <TryResultType.MISTAKE_CALL: 57>: {1: {'off': 0, 'def': 0},\n",
       "  2: {'off': 0, 'def': 0},\n",
       "  3: {'off': 0, 'def': 0},\n",
       "  4: {'off': 0, 'def': 0}},\n",
       " <TryResultType.DOUBLE_FOUL: 58>: {1: {'off': 25, 'def': 22},\n",
       "  2: {'off': 22, 'def': 25},\n",
       "  3: {'off': 0, 'def': 0},\n",
       "  4: {'off': 0, 'def': 0}},\n",
       " <TryResultType.EXCESS_TIMEOUT: 59>: {1: {'off': 0, 'def': 0},\n",
       "  2: {'off': 0, 'def': 0},\n",
       "  3: {'off': 0, 'def': 0},\n",
       "  4: {'off': 0, 'def': 0}},\n",
       " <TryResultType.EXCESS_TIMEOUT_TURNOVER: 60>: {1: {'off': 0, 'def': 0},\n",
       "  2: {'off': 0, 'def': 0},\n",
       "  3: {'off': 0, 'def': 0},\n",
       "  4: {'off': 0, 'def': 0}},\n",
       " <TryResultType.FLAGRANT_AND_FOUL: 61>: {1: {'off': 0, 'def': 1},\n",
       "  2: {'off': 1, 'def': 0},\n",
       "  3: {'off': 0, 'def': 1},\n",
       "  4: {'off': 1, 'def': 0}},\n",
       " <TryResultType.FOUL_AND_OFFENSE_FLAGRANT: 62>: {1: {'off': 0, 'def': 1},\n",
       "  2: {'off': 1, 'def': 0},\n",
       "  3: {'off': 1, 'def': 0},\n",
       "  4: {'off': 0, 'def': 1}}}"
      ]
     },
     "execution_count": 8,
     "metadata": {},
     "output_type": "execute_result"
    }
   ],
   "source": [
    "result_player_teams\n"
   ]
  },
  {
   "cell_type": "code",
   "execution_count": 74,
   "metadata": {},
   "outputs": [
    {
     "data": {
      "text/plain": [
       "{<TryResultType.OTHER: 0>: {},\n",
       " <TryResultType.MISSED_SHOT: 1>: {0: 383052},\n",
       " <TryResultType.BLOCKED_SHOT: 2>: {0: 44351},\n",
       " <TryResultType.MADE_SHOT: 3>: {0: 338120},\n",
       " <TryResultType.AND1: 4>: {1: 20320},\n",
       " <TryResultType.DEF_GOALTEND_SHOT: 5>: {0: 1839},\n",
       " <TryResultType.GOALTENDED_AND1: 6>: {1: 118},\n",
       " <TryResultType.MADE_BASKET_W_FOULSHOT: 7>: {1: 187},\n",
       " <TryResultType.MADE_BASKET_W_LOOSE_BALL_FOUL: 8>: {},\n",
       " <TryResultType.MADE_BASKET_W_FLAGRANT1: 67>: {1: 2},\n",
       " <TryResultType.MADE_BASKET_W_FLAGRANT2: 68>: {1: 2},\n",
       " <TryResultType.FLAGRANT1_AND1: 9>: {1: 15},\n",
       " <TryResultType.FLAGRANT2_AND1: 10>: {},\n",
       " <TryResultType.FLAGRANT1_AND1_2FTS: 63>: {2: 5},\n",
       " <TryResultType.NON_SHOOTING_FOUL: 11>: {0: 47679},\n",
       " <TryResultType.PENALTY_NON_SHOOTING_FOUL: 12>: {2: 14525},\n",
       " <TryResultType.SHOOTING_FOUL_2: 13>: {2: 65123},\n",
       " <TryResultType.SHOOTING_FOUL_3: 14>: {3: 3327},\n",
       " <TryResultType.AWAY_FROM_PLAY_FOUL: 15>: {1: 133},\n",
       " <TryResultType.AWAY_FROM_PLAY_0FTS_FOUL: 64>: {},\n",
       " <TryResultType.OFF_AWAY_FROM_PLAY_FOUL: 16>: {},\n",
       " <TryResultType.DEF_LOOSE_BALL_FOUL: 17>: {},\n",
       " <TryResultType.PENALTY_DEF_LOOSE_BALL_FOUL: 18>: {2: 317},\n",
       " <TryResultType.OFF_LOOSE_BALL_FOUL: 19>: {},\n",
       " <TryResultType.DEF_LOOSE_BALL_NO_FTS: 65>: {0: 1044, 2: 1},\n",
       " <TryResultType.OFF_LOOSE_BALL_NO_FTS: 66>: {0: 72},\n",
       " <TryResultType.PENALTY_OFF_LOOSE_BALL_FOUL: 20>: {2: 25},\n",
       " <TryResultType.INBOUND_FOUL: 21>: {1: 113},\n",
       " <TryResultType.CLEAR_PATH_FOUL: 22>: {2: 226},\n",
       " <TryResultType.PENALTY_TAKE_FOUL: 23>: {2: 3118},\n",
       " <TryResultType.TAKE_FOUL: 24>: {0: 2238},\n",
       " <TryResultType.FLAGRANT1: 25>: {2: 294, 3: 6},\n",
       " <TryResultType.FLAGRANT2: 26>: {2: 34},\n",
       " <TryResultType.OFFENSIVE_FLAGRANT1: 27>: {2: 56},\n",
       " <TryResultType.OFFENSIVE_FLAGRANT2: 28>: {2: 11},\n",
       " <TryResultType.OFFENSIVE_FOUL_TURNOVER: 29>: {0: 10227},\n",
       " <TryResultType.PENALTY_OFF_FOUL_TURNOVER: 30>: {},\n",
       " <TryResultType.CHARGE: 31>: {0: 4851},\n",
       " <TryResultType.BAD_PASS_OUT: 32>: {0: 15573},\n",
       " <TryResultType.OFFENSIVE_GOALTENDING_TURNOVER: 33>: {0: 550},\n",
       " <TryResultType.LOST_BALL_STEAL: 34>: {0: 24365},\n",
       " <TryResultType.BAD_PASS_STEAL: 35>: {0: 45471},\n",
       " <TryResultType.LOST_BALL_OUT_TURNOVER: 36>: {0: 7801},\n",
       " <TryResultType.STEP_OUT_TURNOVER: 37>: {0: 2872},\n",
       " <TryResultType.TRAVEL: 38>: {0: 7365},\n",
       " <TryResultType.DISCONTINUE_DRIBBLE: 39>: {0: 302},\n",
       " <TryResultType.PALMIMG_TURNOVER: 40>: {0: 253},\n",
       " <TryResultType.DOUBLE_DRIBBLE_TURNOVER: 41>: {0: 371},\n",
       " <TryResultType.KICKED_BALL_TURNOVER: 42>: {0: 99},\n",
       " <TryResultType.ILLEGAL_SCREEN_TURNOVER: 43>: {0: 57},\n",
       " <TryResultType.BACKCOURT_TURNOVER: 44>: {0: 690},\n",
       " <TryResultType.EIGHT_SECONDS_TURNOVER: 45>: {0: 53},\n",
       " <TryResultType.THROW_IN_5SECONDS_TURNOVER: 46>: {0: 169},\n",
       " <TryResultType.OFF_3SECONDS_TURNOVER: 47>: {0: 1288},\n",
       " <TryResultType.INBOUND_TURNOVER: 48>: {0: 99},\n",
       " <TryResultType.ILLEGAL_ASSIST: 49>: {0: 29},\n",
       " <TryResultType.TIMEOUT: 50>: {0: 21517},\n",
       " <TryResultType.JUMP_BALL: 51>: {},\n",
       " <TryResultType.HELD_BALL: 52>: {0: 2110},\n",
       " <TryResultType.SHOT_CLOCK_TURNOVER: 53>: {0: 2690},\n",
       " <TryResultType.DEF_3SECONDS: 54>: {1: 1946},\n",
       " <TryResultType.KICKED_BALL: 55>: {0: 3749},\n",
       " <TryResultType.MISSED_FOUL: 56>: {0: 12},\n",
       " <TryResultType.MISTAKE_CALL: 57>: {},\n",
       " <TryResultType.DOUBLE_FOUL: 58>: {0: 110},\n",
       " <TryResultType.EXCESS_TIMEOUT: 59>: {},\n",
       " <TryResultType.EXCESS_TIMEOUT_TURNOVER: 60>: {0: 8},\n",
       " <TryResultType.FLAGRANT_AND_FOUL: 61>: {2: 1},\n",
       " <TryResultType.FOUL_AND_OFFENSE_FLAGRANT: 62>: {2: 2}}"
      ]
     },
     "execution_count": 74,
     "metadata": {},
     "output_type": "execute_result"
    }
   ],
   "source": [
    "ft_nums"
   ]
  },
  {
   "cell_type": "code",
   "execution_count": 15,
   "metadata": {},
   "outputs": [
    {
     "data": {
      "text/plain": [
       "{<TryResultType.OTHER: 0>: 0,\n",
       " <TryResultType.MISSED_SHOT: 1>: 306603,\n",
       " <TryResultType.BLOCKED_SHOT: 2>: 35707,\n",
       " <TryResultType.MADE_SHOT: 3>: 269716,\n",
       " <TryResultType.AND1: 4>: 16126,\n",
       " <TryResultType.DEF_GOALTEND_SHOT: 5>: 1459,\n",
       " <TryResultType.GOALTENDED_AND1: 6>: 92,\n",
       " <TryResultType.MADE_BASKET_W_FOULSHOT: 7>: 151,\n",
       " <TryResultType.MADE_BASKET_W_LOOSE_BALL_FOUL: 8>: 0,\n",
       " <TryResultType.FLAGRANT1_AND1: 9>: 17,\n",
       " <TryResultType.FLAGRANT2_AND1: 10>: 0,\n",
       " <TryResultType.NON_SHOOTING_FOUL: 11>: 38792,\n",
       " <TryResultType.PENALTY_NON_SHOOTING_FOUL: 12>: 11588,\n",
       " <TryResultType.SHOOTING_FOUL_2: 13>: 52248,\n",
       " <TryResultType.SHOOTING_FOUL_3: 14>: 2601,\n",
       " <TryResultType.AWAY_FROM_PLAY_FOUL: 15>: 85,\n",
       " <TryResultType.OFF_AWAY_FROM_PLAY_FOUL: 16>: 4,\n",
       " <TryResultType.DEF_LOOSE_BALL_FOUL: 17>: 4,\n",
       " <TryResultType.PENALTY_DEF_LOOSE_BALL_FOUL: 18>: 262,\n",
       " <TryResultType.OFF_LOOSE_BALL_FOUL: 19>: 0,\n",
       " <TryResultType.PENALTY_OFF_LOOSE_BALL_FOUL: 20>: 21,\n",
       " <TryResultType.INBOUND_FOUL: 21>: 189,\n",
       " <TryResultType.CLEAR_PATH_FOUL: 22>: 185,\n",
       " <TryResultType.PENALTY_TAKE_FOUL: 23>: 2544,\n",
       " <TryResultType.TAKE_FOUL: 24>: 1517,\n",
       " <TryResultType.FLAGRANT1: 25>: 243,\n",
       " <TryResultType.FLAGRANT2: 26>: 29,\n",
       " <TryResultType.OFFENSIVE_FLAGRANT1: 27>: 48,\n",
       " <TryResultType.OFFENSIVE_FLAGRANT2: 28>: 10,\n",
       " <TryResultType.OFFENSIVE_FOUL_TURNOVER: 29>: 8060,\n",
       " <TryResultType.PENALTY_OFF_FOUL_TURNOVER: 30>: 0,\n",
       " <TryResultType.CHARGE: 31>: 4041,\n",
       " <TryResultType.BAD_PASS_OUT: 32>: 12727,\n",
       " <TryResultType.OFFENSIVE_GOALTENDING_TURNOVER: 33>: 452,\n",
       " <TryResultType.LOST_BALL_STEAL: 34>: 20490,\n",
       " <TryResultType.BAD_PASS_STEAL: 35>: 36723,\n",
       " <TryResultType.LOST_BALL_OUT_TURNOVER: 36>: 6475,\n",
       " <TryResultType.STEP_OUT_TURNOVER: 37>: 2386,\n",
       " <TryResultType.TRAVEL: 38>: 6252,\n",
       " <TryResultType.DISCONTINUE_DRIBBLE: 39>: 271,\n",
       " <TryResultType.PALMIMG_TURNOVER: 40>: 220,\n",
       " <TryResultType.DOUBLE_DRIBBLE_TURNOVER: 41>: 309,\n",
       " <TryResultType.KICKED_BALL_TURNOVER: 42>: 79,\n",
       " <TryResultType.ILLEGAL_SCREEN_TURNOVER: 43>: 55,\n",
       " <TryResultType.BACKCOURT_TURNOVER: 44>: 570,\n",
       " <TryResultType.EIGHT_SECONDS_TURNOVER: 45>: 44,\n",
       " <TryResultType.THROW_IN_5SECONDS_TURNOVER: 46>: 142,\n",
       " <TryResultType.OFF_3SECONDS_TURNOVER: 47>: 1078,\n",
       " <TryResultType.INBOUND_TURNOVER: 48>: 74,\n",
       " <TryResultType.ILLEGAL_ASSIST: 49>: 27,\n",
       " <TryResultType.TIMEOUT: 50>: 17247,\n",
       " <TryResultType.JUMP_BALL: 51>: 44,\n",
       " <TryResultType.HELD_BALL: 52>: 1837,\n",
       " <TryResultType.SHOT_CLOCK_TURNOVER: 53>: 4029,\n",
       " <TryResultType.DEF_3SECONDS: 54>: 1674,\n",
       " <TryResultType.KICKED_BALL: 55>: 3047,\n",
       " <TryResultType.MISSED_FOUL: 56>: 16,\n",
       " <TryResultType.MISTAKE_CALL: 57>: 0,\n",
       " <TryResultType.DOUBLE_FOUL: 58>: 104,\n",
       " <TryResultType.EXCESS_TIMEOUT: 59>: 0,\n",
       " <TryResultType.EXCESS_TIMEOUT_TURNOVER: 60>: 6,\n",
       " <TryResultType.FLAGRANT_AND_FOUL: 61>: 3,\n",
       " <TryResultType.FOUL_AND_OFFENSE_FLAGRANT: 62>: 2}"
      ]
     },
     "execution_count": 15,
     "metadata": {},
     "output_type": "execute_result"
    }
   ],
   "source": [
    "counts"
   ]
  },
  {
   "cell_type": "code",
   "execution_count": 75,
   "metadata": {},
   "outputs": [],
   "source": [
    "correct = {\n",
    "    (\"0021500248\", 23): 1,\n",
    "    (\"0021500538\", 354): 1,\n",
    "    (\"0021700035\", 468): 1,\n",
    "    (\"0021700051\", 68): 1,\n",
    "    (\"0021800546\", 261): 2,\n",
    "    (\"0021700034\", 237): 0,\n",
    "    (\"0021500542\", 425): 0,\n",
    "    (\"0021601152\", 528): 3,\n",
    "    (\"0021500171\", 241): 2,\n",
    "    (\"0021500171\", 242): 1,\n",
    "    (\"0021700144\", 294): 2,\n",
    "    (\"0021700264\", 260): 1,\n",
    "    (\"0021700684\", 520): 1,\n",
    "    (\"0021700692\", 164): 2,\n",
    "    (\"0021800546\", 261): 2,\n",
    "    (\"0021900035\", 242): 2,\n",
    "    (\"0021900635\", 558): 1,\n",
    "    (\"0022000172\", 329): 1,\n",
    "    (\"0022000268\", 628): 2,\n",
    "    (\"0022001063\", 682): 2,\n",
    "    (\"0021700536\", 462): 2,\n",
    "    (\"0021700582\", 159): 2,\n",
    "    (\"0021700582\", 165): 3,\n",
    "    (\"0021700692\", 164): 2,\n",
    "    \n",
    "    (\"0021700020\", 665): 0,\n",
    "    (\"0021700034\", 237): 0,\n",
    "    (\"0021700050\", 159): 2,  # pbp looks like 1? but should be 2?...\n",
    "    (\"0021700054\", 54): 2,\n",
    "    (\"0021700090\", 408): 2,\n",
    "    (\"0021700095\", 397): 1,\n",
    "    (\"0021700099\", 285): 2,\n",
    "    (\"0021700103\", 584): 1,\n",
    "    (\"0021700112\", 229): 0,\n",
    "    (\"0021700132\", 465): 2,\n",
    "    (\"0021700136\", 456): 2,\n",
    "    (\"0021700136\", 459): 2,\n",
    "    (\"0021700136\", 529): 2,\n",
    "    (\"0021700146\", 78): 1,\n",
    "    (\"0021700157\", 554): 1,\n",
    "    (\"0021700167\", 70): 2,\n",
    "    (\"0021700183\", 271): 0,\n",
    "    (\"0021700198\", 234): 3,\n",
    "    (\"0021700220\", 690): 0,\n",
    "    (\"0021700229\", 610): 2,\n",
    "    (\"0021700231\", 19): 1,\n",
    "    (\"0021700252\", 625): 1,\n",
    "    (\"0021700257\", 626): 0, # duplicate event, second one gets the fts\n",
    "    (\"0021700284\", 327): 1,\n",
    "    (\"0021700312\", 726): 2,\n",
    "    (\"0021700330\", 140): 2,\n",
    "    \n",
    "    (\"0021700692\", 164): 2,\n",
    "    \n",
    "    \n",
    "    (\"0021800004\", 671): 0,\n",
    "    (\"0021800010\", 39): 1,\n",
    "    (\"0021800022\", 249): 1,\n",
    "    (\"0021800028\", 158): 2, \n",
    "    (\"0021800033\", 348): 1,\n",
    "    (\"0021800033\", 351): 1,\n",
    "    \n",
    "}"
   ]
  },
  {
   "cell_type": "code",
   "execution_count": 18,
   "metadata": {},
   "outputs": [
    {
     "name": "stdout",
     "output_type": "stream",
     "text": [
      "processed 100 passed: 0\n",
      "processed 200 passed: 2\n",
      "processed 300 passed: 3\n",
      "processed 400 passed: 3\n",
      "processed 500 passed: 3\n",
      "processed 600 passed: 5\n",
      "processed 700 passed: 5\n",
      "processed 800 passed: 5\n",
      "processed 900 passed: 5\n",
      "processed 1000 passed: 5\n",
      "processed 1100 passed: 5\n",
      "processed 1200 passed: 5\n"
     ]
    }
   ],
   "source": [
    "from pbpstats.client import Client\n",
    "from build_shot_chance_data import get_num_fta_from_foul, get_num_flagrant_fts\n",
    "from pbpstats.resources import enhanced_pbp\n",
    "import os\n",
    "game_possessions_settings = {\n",
    "    \"dir\": \"C:/Users/bhalb/nbaproject/response_data\",\n",
    "    \"Boxscore\": {\"source\": \"file\", \"data_provider\": \"stats_nba\"},\n",
    "    \"Possessions\": {\"source\": \"file\", \"data_provider\": \"stats_nba\"},\n",
    "}\n",
    "\n",
    "possession_client = Client(game_possessions_settings)\n",
    "\n",
    "file_directory = \"C:/Users/bhalb/nbaproject/response_data/pbp\"\n",
    "count = 0\n",
    "target_count = 5\n",
    "pass_count = 0\n",
    "fail_count = 0 \n",
    "process_count = 0\n",
    "\n",
    "nbaTracker.add_season(\"2014-15\")\n",
    "season = nbaTracker.seasons[\"2014-15\"]\n",
    "\n",
    "for game_dict in season.schedule.games.final_games:\n",
    "    game_id = game_dict['game_id']\n",
    "    process_count += 1\n",
    "    # print(\"processing game\", game_id)\n",
    "    # game_id = \"0021600035\"\n",
    "    \n",
    "    # data_pbp_file_path = (\n",
    "    #     f\"{file_directory}/data_{game_id}.json\"\n",
    "    # )\n",
    "    # if not os.path.isfile(data_pbp_file_path):\n",
    "    #     print(\"load\", data_pbp_file_path)\n",
    "    #     game = possession_client.Game(game_id)\n",
    "    #     print(\"loaded!\")\n",
    "    # else:\n",
    "    #     print(data_pbp_file_path, \"already loaded\")\n",
    "    # pass_count += 1\n",
    "    # break\n",
    "    # if pass_count == 5:\n",
    "    #     break\n",
    "    game = possession_client.Game(game_id)\n",
    "    possessions = game.possessions.items\n",
    "    \n",
    "    for possession in possessions:\n",
    "\n",
    "        # print(count)\n",
    "        # if count == 56:\n",
    "        #     print(event)\n",
    "        for event in possession.events:\n",
    "            # if isinstance(event, enhanced_pbp.Turnover):\n",
    "            #     if \"Lane Violation\" in event.description:\n",
    "            #         print(event.is_lane_violation, event.event_action_type)\n",
    "            if isinstance(event, enhanced_pbp.Foul) and not (event.is_technical or event.is_double_technical):\n",
    "                # if \"IN.FOUL\" in event.description or \"Inbound Foul\" in event.description:\n",
    "                #     continue\n",
    "                # nft = event.number_of_fta_for_foul\n",
    "                # nft = nft if nft is not None else 0\n",
    "                ftnum = get_num_fta_from_foul(event)\n",
    "                if event.is_flagrant:\n",
    "                    num_flagrant_fts = get_num_flagrant_fts(event)\n",
    "                    if num_flagrant_fts == 0:\n",
    "                        ftnum = min(ftnum, 2)\n",
    "                    else:\n",
    "                        ftnum = num_flagrant_fts\n",
    "                if (game_id, event.event_num) in correct:\n",
    "                    if correct[(game_id, event.event_num)] == ftnum:\n",
    "                        # print(\"pass\")\n",
    "                        pass_count += 1\n",
    "                    else:\n",
    "                        fail_count += 1\n",
    "                        print(\"fail\", ftnum, \"vs\", correct[(\n",
    "                            game_id, event.event_num)], event, possession.period)\n",
    "                        count = target_count\n",
    "                        break\n",
    "                # elif ftnum != nft:\n",
    "                #     count += 1\n",
    "                #     if count > target_count - 5:\n",
    "                #         print(\"fouls: \", ftnum, \"vs\", nft, event, possession.period)\n",
    "                #     break \n",
    "        if count == target_count:\n",
    "            break\n",
    "    if count == target_count:\n",
    "        break\n",
    "    if process_count % 100 == 0:\n",
    "        print(\"processed\", process_count, \"passed:\", pass_count)\n",
    "    \n",
    "\n",
    "# print(\"fail count:\", fail_count)\n"
   ]
  },
  {
   "cell_type": "code",
   "execution_count": 13,
   "metadata": {},
   "outputs": [
    {
     "data": {
      "text/plain": [
       "<StatsFoul GameId: 0021500171, Description: Anderson FLAGRANT.FOUL.TYPE1 (P2.PN) (M.Ayotte), Time: 2:02, EventNum: 242>"
      ]
     },
     "execution_count": 13,
     "metadata": {},
     "output_type": "execute_result"
    }
   ],
   "source": [
    "ne = event.next_event\n",
    "ne"
   ]
  },
  {
   "cell_type": "code",
   "execution_count": 16,
   "metadata": {},
   "outputs": [
    {
     "data": {
      "text/plain": [
       "2"
      ]
     },
     "execution_count": 16,
     "metadata": {},
     "output_type": "execute_result"
    }
   ],
   "source": [
    "get_num_fta_from_foul(ne)"
   ]
  },
  {
   "cell_type": "code",
   "execution_count": 61,
   "metadata": {},
   "outputs": [
    {
     "data": {
      "text/plain": [
       "<StatsFreeThrow GameId: 0021700054, Description: MISS Jordan Free Throw 1 of 1, Time: 6:26, EventNum: 59>"
      ]
     },
     "execution_count": 61,
     "metadata": {},
     "output_type": "execute_result"
    }
   ],
   "source": [
    "event.next_event.next_event.next_event\n"
   ]
  },
  {
   "cell_type": "code",
   "execution_count": null,
   "metadata": {},
   "outputs": [],
   "source": []
  }
 ],
 "metadata": {
  "interpreter": {
   "hash": "91bf7612c7ed8d2f84c49e6080371137b1ceb87e3d1dfcf598275b8f66797bc1"
  },
  "kernelspec": {
   "display_name": "Python 3.9.2 ('.venv': poetry)",
   "language": "python",
   "name": "python3"
  },
  "language_info": {
   "codemirror_mode": {
    "name": "ipython",
    "version": 3
   },
   "file_extension": ".py",
   "mimetype": "text/x-python",
   "name": "python",
   "nbconvert_exporter": "python",
   "pygments_lexer": "ipython3",
   "version": "3.9.2"
  },
  "orig_nbformat": 4
 },
 "nbformat": 4,
 "nbformat_minor": 2
}
