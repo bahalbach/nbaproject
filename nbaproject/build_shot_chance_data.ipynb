{
 "cells": [
  {
   "cell_type": "code",
   "execution_count": 1,
   "metadata": {},
   "outputs": [],
   "source": [
    "%load_ext autoreload\n",
    "%autoreload 2\n"
   ]
  },
  {
   "cell_type": "code",
   "execution_count": 2,
   "metadata": {},
   "outputs": [],
   "source": [
    "from nba import NbaTracker\n",
    "from build_shot_chance_data import process_season\n",
    "nbaTracker = NbaTracker()\n",
    "# nbaTracker.add_season(\"2000-01\")"
   ]
  },
  {
   "cell_type": "code",
   "execution_count": 3,
   "metadata": {},
   "outputs": [],
   "source": [
    "from nba_api.stats.static.players import find_player_by_id\n",
    "from nba_api.stats.static.teams import find_team_name_by_id\n",
    "\n",
    "\n",
    "def get_player_names(event):\n",
    "    for team, players in event.current_players.items():\n",
    "        print(find_team_name_by_id(team)['nickname'], list(\n",
    "            map(lambda pid: find_player_by_id(pid)['full_name'], players)))\n",
    "    if hasattr(event, \"player1_id\"):\n",
    "        print(\"player1\", find_player_by_id(event.player1_id)['full_name'] if event.player1_id else 0)\n",
    "    if hasattr(event, \"player2_id\"):\n",
    "        print(\"player2\", find_player_by_id(event.player2_id)['full_name'])\n",
    "    if hasattr(event, \"player3_id\"):\n",
    "        print(\"player3\", find_player_by_id(event.player3_id)['full_name'])\n",
    "\n"
   ]
  },
  {
   "cell_type": "code",
   "execution_count": 2,
   "metadata": {},
   "outputs": [
    {
     "name": "stdout",
     "output_type": "stream",
     "text": [
      "         3 function calls in 0.000 seconds\n",
      "\n",
      "   Ordered by: standard name\n",
      "\n",
      "   ncalls  tottime  percall  cumtime  percall filename:lineno(function)\n",
      "        1    0.000    0.000    0.000    0.000 <string>:1(<module>)\n",
      "        1    0.000    0.000    0.000    0.000 {built-in method builtins.exec}\n",
      "        1    0.000    0.000    0.000    0.000 {method 'disable' of '_lsprof.Profiler' objects}\n",
      "\n",
      "\n"
     ]
    },
    {
     "name": "stderr",
     "output_type": "stream",
     "text": [
      "\n",
      "KeyboardInterrupt\n",
      "\n"
     ]
    }
   ],
   "source": [
    "import cProfile\n",
    "cProfile.run(\"process_season(season)\")"
   ]
  },
  {
   "cell_type": "code",
   "execution_count": 10,
   "metadata": {},
   "outputs": [
    {
     "name": "stdout",
     "output_type": "stream",
     "text": [
      "lane violation w exp fts 2 <StatsViolation GameId: 0021500038, Description: Griffin Violation:Lane (M.Ayotte), Time: 10:39, EventNum: 374>\n",
      "[<StatsFoul GameId: 0021500038, Description: Griffin S.FOUL (P3.T1) (M.Ayotte), Time: 10:39, EventNum: 371>, <StatsViolation GameId: 0021500038, Description: Griffin Violation:Lane (M.Ayotte), Time: 10:39, EventNum: 374>, <StatsFreeThrow GameId: 0021500038, Description: Cauley-Stein Free Throw 1 of 2 (6 PTS), Time: 10:39, EventNum: 376>, <StatsFreeThrow GameId: 0021500038, Description: MISS Cauley-Stein Free Throw 2 of 2, Time: 10:39, EventNum: 378>, <StatsRebound GameId: 0021500038, Description: Jordan REBOUND (Off:2 Def:7), Time: 10:37, EventNum: 380>]\n",
      "prcessed 100 games\n",
      "prcessed 200 games\n",
      "lane violation w exp fts 2 <StatsViolation GameId: 0021500243, Description: Neto Violation:Lane (S.Corbin), Time: 8:38, EventNum: 28>\n",
      "[<StatsFoul GameId: 0021500243, Description: Booker S.FOUL (P1.T2) (S.Corbin), Time: 8:38, EventNum: 25>, <StatsViolation GameId: 0021500243, Description: Neto Violation:Lane (S.Corbin), Time: 8:38, EventNum: 28>, <StatsFreeThrow GameId: 0021500243, Description: Davis Free Throw 1 of 2 (3 PTS), Time: 8:38, EventNum: 30>, <StatsFreeThrow GameId: 0021500243, Description: Davis Free Throw 2 of 2 (4 PTS), Time: 8:38, EventNum: 32>]\n",
      "not made ft? <StatsFoul GameId: 0021500274, Description: Howard INBOUND.FOUL (P6.PN) (G.Zielinski), Time: 0:30, EventNum: 621>\n",
      "prcessed 300 games\n",
      "prcessed 400 games\n",
      "prcessed 500 games\n",
      "prcessed 600 games\n",
      "lane violation w exp fts 2 <StatsViolation GameId: 0021500625, Description: Antetokounmpo Violation:Lane (B.Kennedy), Time: 9:46, EventNum: 294>\n",
      "[<StatsFoul GameId: 0021500625, Description: Carter-Williams S.FOUL (P1.T1) (M.Ervin), Time: 9:46, EventNum: 284>, <StatsViolation GameId: 0021500625, Description: Antetokounmpo Violation:Lane (B.Kennedy), Time: 9:46, EventNum: 294>, <StatsFreeThrow GameId: 0021500625, Description: Johnson Free Throw 1 of 2 (1 PTS), Time: 9:46, EventNum: 288>, <StatsFreeThrow GameId: 0021500625, Description: Johnson Free Throw 2 of 2 (2 PTS), Time: 9:46, EventNum: 290>]\n",
      "prcessed 700 games\n",
      "lane violation w exp fts 2 <StatsViolation GameId: 0021500765, Description: Hollins Violation:Lane (J.Goble), Time: 0:21, EventNum: 116>\n",
      "[<StatsFoul GameId: 0021500765, Description: Chalmers P.FOUL (P2.PN) (J.Williams), Time: 0:21, EventNum: 111>, <StatsViolation GameId: 0021500765, Description: Hollins Violation:Lane (J.Goble), Time: 0:21, EventNum: 116>, <StatsFreeThrow GameId: 0021500765, Description: Barea Free Throw 1 of 2 (1 PTS), Time: 0:21, EventNum: 118>, <StatsSubstitution GameId: 0021500765, Description: SUB: Powell FOR Nowitzki, Time: 0:21, EventNum: 120>, <StatsTurnover GameId: 0021500765, Description: Mejri Lane Violation Turnover (P1.T2), Time: 0:21, EventNum: 124>]\n",
      "prcessed 800 games\n",
      "not made ft? <StatsFoul GameId: 0021500810, Description: LaVine INBOUND.FOUL (P4.PN) (G.Petraitis), Time: 0:30, EventNum: 544>\n",
      "lane violation w exp fts 2 <StatsViolation GameId: 0021500890, Description: Jordan Violation:Lane (T.Maddox), Time: 9:00, EventNum: 300>\n",
      "[<StatsFoul GameId: 0021500890, Description: Paul S.FOUL (P2.T2) (J.Tiven), Time: 9:00, EventNum: 297>, <StatsViolation GameId: 0021500890, Description: Jordan Violation:Lane (T.Maddox), Time: 9:00, EventNum: 300>, <StatsFreeThrow GameId: 0021500890, Description: Sloan Free Throw 1 of 2 (10 PTS), Time: 9:00, EventNum: 302>, <StatsFreeThrow GameId: 0021500890, Description: MISS Sloan Free Throw 2 of 2, Time: 9:00, EventNum: 304>, <StatsRebound GameId: 0021500890, Description: Green REBOUND (Off:1 Def:6), Time: 8:59, EventNum: 306>]\n",
      "prcessed 900 games\n",
      "lane violation w exp fts 2 <StatsViolation GameId: 0021500927, Description: Rose Violation:Lane (D.Stafford), Time: 8:36, EventNum: 385>\n",
      "[<StatsFoul GameId: 0021500927, Description: Gasol S.FOUL (P2.T3) (D.Stafford), Time: 8:36, EventNum: 367>, <StatsViolation GameId: 0021500927, Description: Rose Violation:Lane (D.Stafford), Time: 8:36, EventNum: 385>, <StatsFreeThrow GameId: 0021500927, Description: Harrell Free Throw 1 of 2 (1 PTS), Time: 8:36, EventNum: 373>, <StatsFreeThrow GameId: 0021500927, Description: MISS Harrell Free Throw 2 of 2, Time: 8:36, EventNum: 375>, <StatsRebound GameId: 0021500927, Description: Gasol REBOUND (Off:3 Def:8), Time: 8:35, EventNum: 377>]\n",
      "lane violation w exp fts 2 <StatsViolation GameId: 0021500962, Description: Mozgov Violation:Lane (S.Corbin), Time: 6:12, EventNum: 417>\n",
      "[<StatsFoul GameId: 0021500962, Description: Shumpert S.FOUL (P4.T4) (K.Lane), Time: 6:12, EventNum: 414>, <StatsViolation GameId: 0021500962, Description: Mozgov Violation:Lane (S.Corbin), Time: 6:12, EventNum: 417>, <StatsFreeThrow GameId: 0021500962, Description: Bryant Free Throw 1 of 2 (23 PTS), Time: 6:12, EventNum: 419>, <StatsSubstitution GameId: 0021500962, Description: SUB: Randle FOR Nance Jr., Time: 6:12, EventNum: 420>, <StatsSubstitution GameId: 0021500962, Description: SUB: James FOR Jones, Time: 6:12, EventNum: 422>, <StatsFreeThrow GameId: 0021500962, Description: MISS Bryant Free Throw 2 of 2, Time: 6:12, EventNum: 423>, <StatsRebound GameId: 0021500962, Description: Shumpert REBOUND (Off:0 Def:4), Time: 6:11, EventNum: 425>]\n",
      "prcessed 1000 games\n",
      "not made ft? <StatsFoul GameId: 0021501074, Description: Jackson INBOUND.FOUL (P4.PN) (S.Foster), Time: 0:47, EventNum: 527>\n",
      "prcessed 1100 games\n",
      "not matching events <StatsTurnover GameId: 0021501115, Description: Suns Turnover: Shot Clock (T#13), Time: 0:01, EventNum: 234>\n",
      "has exception\n"
     ]
    }
   ],
   "source": [
    "\n",
    "nbaTracker.add_season(\"2015-16\")\n",
    "season = nbaTracker.seasons[\"2015-16\"]\n",
    "\n",
    "try:\n",
    "    games = process_season(season)\n",
    "except Exception as e:\n",
    "    eargs = e.args\n",
    "    print(\"has exception\")\n"
   ]
  },
  {
   "cell_type": "code",
   "execution_count": 11,
   "metadata": {},
   "outputs": [
    {
     "data": {
      "text/plain": [
       "GameEvent(lineup=FoulLineup(offense_team=1610612756, offense_players=(200782, 202688, 202720, 203458, 1626164), offense_fouls=(0, 1, 0, 0, 1), defense_team=1610612749, defense_players=(202328, 203114, 203507, 203953, 1626173), defense_fouls=(2, 3, 2, 1, 0)), offense_is_home=True, fouls_to_give=0, in_penalty=True, score_margin=-6, period=2, period_time_left=1, event_type=<EventType.Rebound: 3>)"
      ]
     },
     "execution_count": 11,
     "metadata": {},
     "output_type": "execute_result"
    }
   ],
   "source": [
    "eargs[1][-1]"
   ]
  },
  {
   "cell_type": "code",
   "execution_count": 125,
   "metadata": {},
   "outputs": [
    {
     "data": {
      "text/plain": [
       "1"
      ]
     },
     "execution_count": 125,
     "metadata": {},
     "output_type": "execute_result"
    }
   ],
   "source": [
    "from build_shot_chance_data import get_num_fta_from_foul\n",
    "get_num_fta_from_foul(eargs[0].previous_possession.events[4])\n"
   ]
  },
  {
   "cell_type": "code",
   "execution_count": 126,
   "metadata": {},
   "outputs": [
    {
     "data": {
      "text/plain": [
       "True"
      ]
     },
     "execution_count": 126,
     "metadata": {},
     "output_type": "execute_result"
    }
   ],
   "source": [
    "eargs[0].previous_possession.events[4].is_double_foul\n"
   ]
  },
  {
   "cell_type": "code",
   "execution_count": 139,
   "metadata": {},
   "outputs": [
    {
     "data": {
      "text/plain": [
       "GameEvent(lineup=FoulLineup(offense_team=1610612742, offense_players=(2734, 101111, 200826, 201580, 202083), offense_fouls=(2, 1, 0, 0, 2), defense_team=1610612750, defense_players=(2755, 203476, 203498, 203897, 204014), defense_fouls=(1, 2, 0, 0, 0)), offense_is_home=False, fouls_to_give=0, in_penalty=True, score_margin=-5, period=3, period_time_left=57, event_type=<EventType.JumpBall: 1>)"
      ]
     },
     "execution_count": 139,
     "metadata": {},
     "output_type": "execute_result"
    }
   ],
   "source": [
    "eargs[1][-2]"
   ]
  },
  {
   "cell_type": "code",
   "execution_count": 73,
   "metadata": {},
   "outputs": [
    {
     "data": {
      "text/plain": [
       "True"
      ]
     },
     "execution_count": 73,
     "metadata": {},
     "output_type": "execute_result"
    }
   ],
   "source": [
    "from nba_dataclasses import EventType, LiveFreeThrowResult\n",
    "((eargs[1][-2].event_type == EventType.LiveFreeThrow)\n",
    " and eargs[1][-2].ft_result == LiveFreeThrowResult.MADE)\n"
   ]
  },
  {
   "cell_type": "code",
   "execution_count": 7,
   "metadata": {},
   "outputs": [
    {
     "data": {
      "text/plain": [
       "[<StatsFieldGoal GameId: 0021501115, Description: MISS Monroe 25' 3PT Jump Shot, Time: 0:01, EventNum: 236>,\n",
       " <StatsRebound GameId: 0021501115, Description: BUCKS Rebound, Time: 0:00, EventNum: 235>,\n",
       " <StatsEndOfPeriod GameId: 0021501115, Description: , Time: 0:00, EventNum: 237>]"
      ]
     },
     "execution_count": 7,
     "metadata": {},
     "output_type": "execute_result"
    }
   ],
   "source": [
    "eargs[0].events"
   ]
  },
  {
   "cell_type": "code",
   "execution_count": 15,
   "metadata": {},
   "outputs": [
    {
     "data": {
      "text/plain": [
       "1610612749"
      ]
     },
     "execution_count": 15,
     "metadata": {},
     "output_type": "execute_result"
    }
   ],
   "source": [
    "eargs[0].events[1].team_id"
   ]
  },
  {
   "cell_type": "code",
   "execution_count": 12,
   "metadata": {},
   "outputs": [
    {
     "data": {
      "text/plain": [
       "[<StatsTurnover GameId: 0021501115, Description: Suns Turnover: Shot Clock (T#13), Time: 0:01, EventNum: 234>]"
      ]
     },
     "execution_count": 12,
     "metadata": {},
     "output_type": "execute_result"
    }
   ],
   "source": [
    "eargs[0].previous_possession.events\n"
   ]
  },
  {
   "cell_type": "code",
   "execution_count": 13,
   "metadata": {},
   "outputs": [
    {
     "data": {
      "text/plain": [
       "1610612756"
      ]
     },
     "execution_count": 13,
     "metadata": {},
     "output_type": "execute_result"
    }
   ],
   "source": [
    "event = eargs[0].previous_possession.events[0]\n",
    "event.team_id\n"
   ]
  },
  {
   "cell_type": "code",
   "execution_count": 49,
   "metadata": {},
   "outputs": [
    {
     "data": {
      "text/plain": [
       "<StatsFoul GameId: 0021500092, Description: Warriors Delay, Time: 3:04, EventNum: 373>"
      ]
     },
     "execution_count": 49,
     "metadata": {},
     "output_type": "execute_result"
    }
   ],
   "source": [
    "pos[1]"
   ]
  },
  {
   "cell_type": "code",
   "execution_count": 44,
   "metadata": {},
   "outputs": [
    {
     "data": {
      "text/plain": [
       "True"
      ]
     },
     "execution_count": 44,
     "metadata": {},
     "output_type": "execute_result"
    }
   ],
   "source": [
    "eargs[0].events[4].is_real_rebound\n"
   ]
  },
  {
   "cell_type": "code",
   "execution_count": 12,
   "metadata": {},
   "outputs": [
    {
     "data": {
      "text/plain": [
       "False"
      ]
     },
     "execution_count": 12,
     "metadata": {},
     "output_type": "execute_result"
    }
   ],
   "source": [
    "from nba_dataclasses import JumpBall\n",
    "isinstance(e, JumpBall)"
   ]
  },
  {
   "cell_type": "code",
   "execution_count": 28,
   "metadata": {},
   "outputs": [
    {
     "data": {
      "text/plain": [
       "<StatsTurnover GameId: 0021500003, Description: Pelicans Turnover: Shot Clock (T#10), Time: 2:16, EventNum: 416>"
      ]
     },
     "execution_count": 28,
     "metadata": {},
     "output_type": "execute_result"
    }
   ],
   "source": [
    "event = eargs[0].previous_possession.events[3]\n",
    "event"
   ]
  },
  {
   "cell_type": "code",
   "execution_count": 30,
   "metadata": {},
   "outputs": [
    {
     "name": "stdout",
     "output_type": "stream",
     "text": [
      "rre\n"
     ]
    }
   ],
   "source": [
    "from pbpstats.resources import enhanced_pbp\n",
    "for cte in event.get_all_events_at_current_time():\n",
    "    if (isinstance(cte, enhanced_pbp.Rebound) and not cte.is_real_rebound) or (isinstance(cte, enhanced_pbp.FieldGoal) and not cte.is_made):\n",
    "        print(\"rre\")"
   ]
  },
  {
   "cell_type": "code",
   "execution_count": 5,
   "metadata": {},
   "outputs": [
    {
     "data": {
      "text/plain": [
       "[<StatsTimeout GameId: 0021500528, Description: CELTICS Timeout: Short (Full 4 Short 2), Time: 0:58, EventNum: 549>,\n",
       " <StatsFieldGoal GameId: 0021500528, Description: MISS Smart 1' Layup, Time: 0:53, EventNum: 551>,\n",
       " <StatsRebound GameId: 0021500528, Description: CELTICS Rebound, Time: 0:52, EventNum: 552>,\n",
       " <StatsReplay GameId: 0021500528, Description: , Time: 0:52, EventNum: 553>,\n",
       " <StatsFoul GameId: 0021500528, Description: Caldwell-Pope S.FOUL (P4.PN) (J.Capers), Time: 0:50, EventNum: 555>,\n",
       " <StatsFreeThrow GameId: 0021500528, Description: MISS Thomas Free Throw 1 of 3, Time: 0:50, EventNum: 556>,\n",
       " <StatsRebound GameId: 0021500528, Description: CELTICS Rebound, Time: 0:50, EventNum: 557>,\n",
       " <StatsFreeThrow GameId: 0021500528, Description: Thomas Free Throw 2 of 3 (21 PTS), Time: 0:50, EventNum: 558>,\n",
       " <StatsFreeThrow GameId: 0021500528, Description: Thomas Free Throw 3 of 3 (22 PTS), Time: 0:50, EventNum: 560>,\n",
       " <StatsFoul GameId: 0021500528, Description: Marc Morris L.B.FOUL (P5.PN) (D.Richardson), Time: 0:50, EventNum: 562>,\n",
       " <StatsFreeThrow GameId: 0021500528, Description: MISS Smart Free Throw 1 of 1, Time: 0:50, EventNum: 564>,\n",
       " <StatsRebound GameId: 0021500528, Description: Marc Morris REBOUND (Off:2 Def:3), Time: 0:50, EventNum: 566>]"
      ]
     },
     "execution_count": 5,
     "metadata": {},
     "output_type": "execute_result"
    }
   ],
   "source": [
    "games[0].events"
   ]
  },
  {
   "cell_type": "code",
   "execution_count": 7,
   "metadata": {},
   "outputs": [
    {
     "data": {
      "text/plain": [
       "Rebound(shooter=203935, shot_type=7, lineup=FoulLineup(offense_team=1610612738, offense_players=(101161, 202323, 202738, 203109, 203935), offense_fouls=(3, 3, 2, 5, 3), defense_team=1610612765, defense_players=(202694, 202704, 203382, 203484, 1626169), defense_fouls=(5, 0, 4, 4, 3)), result=<ReboundResult.DEF_REBOUND: 1>, rebounder=202694, fouler=None, num_fts=0)"
      ]
     },
     "execution_count": 7,
     "metadata": {},
     "output_type": "execute_result"
    }
   ],
   "source": [
    "games[3]"
   ]
  },
  {
   "cell_type": "code",
   "execution_count": 6,
   "metadata": {},
   "outputs": [
    {
     "data": {
      "text/plain": [
       "PossessionTry(try_start=TryStart(start_type=<TryStartType.MADE_BASKET: 2>, game_time_left=50.0, period_time_left=50.0, start_player1_id=None, start_player2_id=None, start_player3_id=None, rebound_shot_type=None), offense_is_home=False, lineup=FoulLineup(offense_team=1610612738, offense_players=(101161, 202323, 202738, 203109, 203935), offense_fouls=(3, 3, 2, 5, 3), defense_team=1610612765, defense_players=(202694, 202704, 203382, 203484, 1626169), defense_fouls=(5, 0, 4, 4, 3)), fouls_to_give=0, in_penalty=True, score_margin=-4, time_passed=0.0, try_result=TryResult(result_type=<TryResultType.DEF_LOOSE_BALL_FOUL: 17>, game_time_left=50.0, period_time_left=50.0, result_player1_id=202694, result_player2_id=203935, result_player3_id=None, result_player4_id=None, shot_type=None, shot_distance=None, shot_X=None, shot_Y=None, num_fts=1), rebound=Rebound(shooter=203935, shot_type=7, lineup=FoulLineup(offense_team=1610612738, offense_players=(101161, 202323, 202738, 203109, 203935), offense_fouls=(3, 3, 2, 5, 3), defense_team=1610612765, defense_players=(202694, 202704, 203382, 203484, 1626169), defense_fouls=(5, 0, 4, 4, 3)), result=<ReboundResult.DEF_REBOUND: 1>, rebounder=202694, fouler=None, num_fts=0))"
      ]
     },
     "execution_count": 6,
     "metadata": {},
     "output_type": "execute_result"
    }
   ],
   "source": [
    "games[1][-1]"
   ]
  },
  {
   "cell_type": "code",
   "execution_count": null,
   "metadata": {},
   "outputs": [],
   "source": []
  },
  {
   "cell_type": "code",
   "execution_count": 9,
   "metadata": {},
   "outputs": [
    {
     "data": {
      "text/plain": [
       "<StatsTimeout GameId: 0021500528, Description: CELTICS Timeout: Short (Full 4 Short 2), Time: 0:58, EventNum: 549>"
      ]
     },
     "execution_count": 9,
     "metadata": {},
     "output_type": "execute_result"
    }
   ],
   "source": [
    "event = games[0].events[0]\n",
    "event"
   ]
  },
  {
   "cell_type": "code",
   "execution_count": 10,
   "metadata": {},
   "outputs": [
    {
     "data": {
      "text/plain": [
       "'0021500528'"
      ]
     },
     "execution_count": 10,
     "metadata": {},
     "output_type": "execute_result"
    }
   ],
   "source": [
    "event.game_id"
   ]
  },
  {
   "cell_type": "code",
   "execution_count": 10,
   "metadata": {},
   "outputs": [],
   "source": [
    "prev_event = event.previous_event"
   ]
  },
  {
   "cell_type": "code",
   "execution_count": 11,
   "metadata": {},
   "outputs": [
    {
     "data": {
      "text/plain": [
       "(1610612740, 1610612740)"
      ]
     },
     "execution_count": 11,
     "metadata": {},
     "output_type": "execute_result"
    }
   ],
   "source": [
    "event.team_id, prev_event.team_id"
   ]
  },
  {
   "cell_type": "code",
   "execution_count": 9,
   "metadata": {},
   "outputs": [
    {
     "data": {
      "text/plain": [
       "1"
      ]
     },
     "execution_count": 9,
     "metadata": {},
     "output_type": "execute_result"
    }
   ],
   "source": [
    "from build_shot_chance_data import get_num_fta_from_foul\n",
    "get_num_fta_from_foul(games[0].events[4])\n"
   ]
  },
  {
   "cell_type": "code",
   "execution_count": 12,
   "metadata": {},
   "outputs": [
    {
     "data": {
      "text/plain": [
       "PossessionTry(try_start=TryStart(start_type=<TryStartType.TIMEOUT: 8>, game_time_left=591.0, period_time_left=591.0, start_player1_id=None, start_player2_id=None, start_player3_id=None, rebound_shot_type=None), offense_is_home=True, lineup=FoulLineup(offense_team=1610612759, offense_players=(201980, 201988, 202695, 203613, 1626246), offense_fouls=(1, 1, 1, 2, 1), defense_team=1610612748, defense_players=(2757, 101123, 201609, 202355, 1626159), defense_fouls=(0, 0, 2, 3, 1)), fouls_to_give=4, in_penalty=False, score_margin=7, time_passed=16.0, try_result=TryResult(result_type=<TryResultType.AND1: 4>, game_time_left=575.0, period_time_left=575.0, result_player1_id=201988, result_player2_id=203613, result_player3_id=2757, result_player4_id=None, shot_type=4, shot_distance=24.4, shot_X=-1, shot_Y=244, num_fts=1))"
      ]
     },
     "execution_count": 12,
     "metadata": {},
     "output_type": "execute_result"
    }
   ],
   "source": [
    "games[1][-1]"
   ]
  },
  {
   "cell_type": "code",
   "execution_count": 15,
   "metadata": {},
   "outputs": [
    {
     "name": "stdout",
     "output_type": "stream",
     "text": [
      "Already loaded 2016-17\n",
      "prcessed 100 games\n",
      "prcessed 200 games\n",
      "prcessed 300 games\n",
      "prcessed 400 games\n",
      "prcessed 500 games\n",
      "prcessed 600 games\n",
      "prcessed 700 games\n",
      "prcessed 800 games\n",
      "prcessed 900 games\n",
      "prcessed 1000 games\n",
      "prcessed 1100 games\n",
      "prcessed 1200 games\n"
     ]
    }
   ],
   "source": [
    "\n",
    "nbaTracker.add_season(\"2016-17\")\n",
    "season = nbaTracker.seasons[\"2016-17\"]\n",
    "\n",
    "try:\n",
    "    games2 = process_season(season)\n",
    "except Exception as e:\n",
    "    eargs = e.args\n",
    "    raise e\n"
   ]
  },
  {
   "cell_type": "code",
   "execution_count": 19,
   "metadata": {},
   "outputs": [
    {
     "name": "stdout",
     "output_type": "stream",
     "text": [
      "Already loaded 2017-18\n",
      "w fts 0 <StatsFoul GameId: 0021700020, Description: Smith Personal Take Foul (P3.PN) (S.Corbin), Time: 0:01, EventNum: 665>\n",
      "treat as missed foul\n",
      "prcessed 100 games\n",
      "w fts 0 <StatsFoul GameId: 0021700200, Description: Covington Personal Take Foul (P3.PN) (Z.Zarba), Time: 1:42, EventNum: 491>\n",
      "treat as missed foul\n",
      "prcessed 200 games\n",
      "prcessed 300 games\n",
      "0 ft afp off foul\n",
      "<StatsFoul GameId: 0021700346, Description: Cunningham AWAY.FROM.PLAY.FOUL (P2.PN) (J.Orr), Time: 2:47, EventNum: 136> [<StatsFoul GameId: 0021700346, Description: Cunningham AWAY.FROM.PLAY.FOUL (P2.PN) (J.Orr), Time: 2:47, EventNum: 136>, <StatsTurnover GameId: 0021700346, Description: Cunningham Foul Turnover (P1.T4), Time: 2:47, EventNum: 138>]\n",
      "prcessed 400 games\n",
      "prcessed 500 games\n",
      "prcessed 600 games\n",
      "prcessed 700 games\n",
      "prcessed 800 games\n",
      "0 ft afp off foul\n",
      "<StatsFoul GameId: 0021700862, Description: Moore AWAY.FROM.PLAY.FOUL (P2.T4) (M.Ervin), Time: 1:44, EventNum: 491> [<StatsFoul GameId: 0021700862, Description: Moore AWAY.FROM.PLAY.FOUL (P2.T4) (M.Ervin), Time: 1:44, EventNum: 491>, <StatsTurnover GameId: 0021700862, Description: Moore Foul Turnover (P2.T10), Time: 1:44, EventNum: 493>]\n",
      "prcessed 900 games\n",
      "prcessed 1000 games\n",
      "prcessed 1100 games\n",
      "prcessed 1200 games\n"
     ]
    }
   ],
   "source": [
    "nbaTracker.add_season(\"2017-18\")\n",
    "season = nbaTracker.seasons[\"2017-18\"]\n",
    "\n",
    "try:\n",
    "    games3 = process_season(season)\n",
    "except Exception as e:\n",
    "    eargs = e.args\n",
    "    raise e\n"
   ]
  },
  {
   "cell_type": "code",
   "execution_count": 17,
   "metadata": {},
   "outputs": [
    {
     "data": {
      "text/plain": [
       "[<StatsFoul GameId: 0021700306, Description: Hardaway Jr. C.P.FOUL (P3.T3) (J.Goble), Time: 8:48, EventNum: 513>,\n",
       " <StatsSubstitution GameId: 0021700306, Description: SUB: Baker FOR Hardaway Jr., Time: 8:48, EventNum: 517>,\n",
       " <StatsSubstitution GameId: 0021700306, Description: SUB: Hernangomez FOR O'Quinn, Time: 8:48, EventNum: 518>,\n",
       " <StatsReplay GameId: 0021700306, Description: , Time: 8:48, EventNum: 516>,\n",
       " <StatsFieldGoal GameId: 0021700306, Description: Richardson 2' Alley Oop Layup (12 PTS) (Johnson 1 AST), Time: 8:37, EventNum: 521>]"
      ]
     },
     "execution_count": 17,
     "metadata": {},
     "output_type": "execute_result"
    }
   ],
   "source": [
    "games3[0].events"
   ]
  },
  {
   "cell_type": "code",
   "execution_count": 18,
   "metadata": {},
   "outputs": [
    {
     "data": {
      "text/plain": [
       "0"
      ]
     },
     "execution_count": 18,
     "metadata": {},
     "output_type": "execute_result"
    }
   ],
   "source": [
    "games3[0].events[3].event_action_type \n"
   ]
  },
  {
   "cell_type": "code",
   "execution_count": 13,
   "metadata": {},
   "outputs": [
    {
     "data": {
      "text/plain": [
       "PossessionTry(try_start=TryStart(start_type=<TryStartType.STEAL: 10>, game_time_left=638.0, period_time_left=638.0, start_player1_id=1627832, start_player2_id=201988, start_player3_id=None, rebound_shot_type=None), offense_is_home=True, lineup=FoulLineup(offense_team=1610612761, offense_players=(101139, 1626153, 1627751, 1627832, 1628384), offense_fouls=(3, 1, 0, 0, 3), defense_team=1610612759, defense_players=(1938, 200752, 201988, 203530, 203937), defense_fouls=(2, 3, 1, 3, 3)), fouls_to_give=2, in_penalty=False, score_margin=-1, time_passed=0.0, try_result=TryResult(result_type=<TryResultType.SHOOTING_FOUL_2: 13>, game_time_left=638.0, period_time_left=638.0, result_player1_id=201988, result_player2_id=1627832, result_player3_id=None, result_player4_id=None, shot_type=None, shot_distance=None, shot_X=None, shot_Y=None, num_fts=2))"
      ]
     },
     "execution_count": 13,
     "metadata": {},
     "output_type": "execute_result"
    }
   ],
   "source": [
    "games3[1][-2]"
   ]
  },
  {
   "cell_type": "code",
   "execution_count": 20,
   "metadata": {},
   "outputs": [
    {
     "name": "stdout",
     "output_type": "stream",
     "text": [
      "prcessed 100 games\n",
      "prcessed 200 games\n",
      "prcessed 300 games\n",
      "prcessed 400 games\n",
      "prcessed 500 games\n",
      "prcessed 600 games\n",
      "prcessed 700 games\n",
      "prcessed 800 games\n",
      "prcessed 900 games\n",
      "prcessed 1000 games\n",
      "prcessed 1100 games\n",
      "prcessed 1200 games\n"
     ]
    }
   ],
   "source": [
    "nbaTracker.add_season(\"2018-19\")\n",
    "season = nbaTracker.seasons[\"2018-19\"]\n",
    "\n",
    "try:\n",
    "    games4 = process_season(season)\n",
    "except Exception as e:\n",
    "    eargs = e.args\n",
    "    raise e\n"
   ]
  },
  {
   "cell_type": "code",
   "execution_count": 28,
   "metadata": {},
   "outputs": [
    {
     "data": {
      "text/plain": [
       "[<StatsFoul GameId: 0021800546, Description: S. Hill P.FOUL (P2.PN) (K.Fitzgerald), Time: 3:46, EventNum: 261>,\n",
       " <StatsViolation GameId: 0021800546, Description: Covington Lane Violation, Time: 3:46, EventNum: 312>,\n",
       " <StatsFreeThrow GameId: 0021800546, Description: Towns Free Throw 2 of 2 (6 PTS), Time: 3:46, EventNum: 313>]"
      ]
     },
     "execution_count": 28,
     "metadata": {},
     "output_type": "execute_result"
    }
   ],
   "source": [
    "games2.events"
   ]
  },
  {
   "cell_type": "code",
   "execution_count": 33,
   "metadata": {},
   "outputs": [
    {
     "data": {
      "text/plain": [
       "7"
      ]
     },
     "execution_count": 33,
     "metadata": {},
     "output_type": "execute_result"
    }
   ],
   "source": [
    "games2.events[1].event_type\n"
   ]
  },
  {
   "cell_type": "code",
   "execution_count": 34,
   "metadata": {},
   "outputs": [
    {
     "data": {
      "text/plain": [
       "2"
      ]
     },
     "execution_count": 34,
     "metadata": {},
     "output_type": "execute_result"
    }
   ],
   "source": [
    "from build_shot_chance_data import get_num_fta_from_foul\n",
    "get_num_fta_from_foul(games2.events[0])"
   ]
  },
  {
   "cell_type": "code",
   "execution_count": 22,
   "metadata": {},
   "outputs": [
    {
     "data": {
      "text/plain": [
       "1610612738"
      ]
     },
     "execution_count": 22,
     "metadata": {},
     "output_type": "execute_result"
    }
   ],
   "source": [
    "games3[0].events[1].team_id\n"
   ]
  },
  {
   "cell_type": "code",
   "execution_count": 21,
   "metadata": {},
   "outputs": [
    {
     "data": {
      "text/plain": [
       "1610612752"
      ]
     },
     "execution_count": 21,
     "metadata": {},
     "output_type": "execute_result"
    }
   ],
   "source": [
    "games3[0].next_possession.events[0].team_id\n"
   ]
  },
  {
   "cell_type": "code",
   "execution_count": 8,
   "metadata": {},
   "outputs": [],
   "source": [
    "i = 2"
   ]
  },
  {
   "cell_type": "code",
   "execution_count": 13,
   "metadata": {},
   "outputs": [
    {
     "data": {
      "text/plain": [
       "(49, 47)"
      ]
     },
     "execution_count": 13,
     "metadata": {},
     "output_type": "execute_result"
    }
   ],
   "source": [
    "tries = games[i].tries\n",
    "fts = len(games[i].free_throws) + len(games[i].free_throw_goaltends) + len(games[i].lane_violations)\n",
    "res_fts = sum(map(lambda t: t.try_result.num_fts, tries))\n",
    "fts, res_fts"
   ]
  },
  {
   "cell_type": "code",
   "execution_count": 15,
   "metadata": {},
   "outputs": [
    {
     "data": {
      "text/plain": [
       "(49, 0, 0)"
      ]
     },
     "execution_count": 15,
     "metadata": {},
     "output_type": "execute_result"
    }
   ],
   "source": [
    "len(games[i].free_throws), len(games[i].free_throw_goaltends), len(games[i].lane_violations)\n"
   ]
  },
  {
   "cell_type": "code",
   "execution_count": 9,
   "metadata": {},
   "outputs": [
    {
     "data": {
      "text/plain": [
       "(2, 0, 0)"
      ]
     },
     "execution_count": 9,
     "metadata": {},
     "output_type": "execute_result"
    }
   ],
   "source": [
    "games[i].team_techs"
   ]
  },
  {
   "cell_type": "code",
   "execution_count": 10,
   "metadata": {},
   "outputs": [
    {
     "data": {
      "text/plain": [
       "({}, {203110: 1}, 0)"
      ]
     },
     "execution_count": 10,
     "metadata": {},
     "output_type": "execute_result"
    }
   ],
   "source": [
    "games[i].technicals"
   ]
  },
  {
   "cell_type": "code",
   "execution_count": 25,
   "metadata": {},
   "outputs": [],
   "source": [
    "from nba_dataclasses import TryResultType\n",
    "counts = {i: 0 for i in TryResultType}\n",
    "ft_nums = {i: {} for i in TryResultType}\n",
    "next_result_same_team = {i: {True: 0, False: 0} for i in TryResultType}\n"
   ]
  },
  {
   "cell_type": "code",
   "execution_count": 1,
   "metadata": {},
   "outputs": [
    {
     "name": "stdout",
     "output_type": "stream",
     "text": [
      "TryResultType.OTHER 0\n",
      "TryResultType.AWAY_FROM_PLAY_0FTS_FOUL 0\n",
      "TryResultType.PENALTY_OFF_FOUL_TURNOVER 0\n",
      "TryResultType.JUMP_BALL 0\n",
      "TryResultType.HELD_BALL 0\n",
      "TryResultType.MISTAKE_CALL 0\n",
      "TryResultType.EXCESS_TIMEOUT 0\n"
     ]
    }
   ],
   "source": [
    "from nba_dataclasses import TryResultType, other_team_results, same_team_results, reboundable_results\n",
    "for t in TryResultType:\n",
    "    count = 0\n",
    "    if t in reboundable_results:\n",
    "        count += 1\n",
    "    if t in same_team_results:\n",
    "        count += 1\n",
    "    if t in other_team_results:\n",
    "        count += 1\n",
    "    if count != 1:\n",
    "        print(t, count)\n"
   ]
  },
  {
   "cell_type": "code",
   "execution_count": 26,
   "metadata": {},
   "outputs": [],
   "source": [
    "for g in games+games2+games3+games4:\n",
    "    tries = g.tries\n",
    "    for i in range(1, len(tries)):\n",
    "        t = tries[i-1]\n",
    "        \n",
    "        # next_t = tries[i]\n",
    "        # is_same_team = t.lineup.offense_team == next_t.lineup.offense_team\n",
    "        # next_result_same_team[t.try_result.result_type][is_same_team] += 1\n",
    "        # counts[t.try_result.result_type] += 1\n",
    "        # result_type_dic = ft_nums[t.try_result.result_type]\n",
    "        # if t.try_result.num_fts in result_type_dic:\n",
    "        #     result_type_dic[t.try_result.num_fts] += 1\n",
    "        # else:\n",
    "        #     result_type_dic[t.try_result.num_fts] = 1\n"
   ]
  },
  {
   "cell_type": "code",
   "execution_count": 27,
   "metadata": {},
   "outputs": [
    {
     "data": {
      "text/plain": [
       "{<TryResultType.OTHER: 0>: {True: 0, False: 0},\n",
       " <TryResultType.MISSED_SHOT: 1>: {True: 106328, False: 304188},\n",
       " <TryResultType.BLOCKED_SHOT: 2>: {True: 20212, False: 27543},\n",
       " <TryResultType.MADE_SHOT: 3>: {True: 1509, False: 361645},\n",
       " <TryResultType.AND1: 4>: {True: 656, False: 21217},\n",
       " <TryResultType.DEF_GOALTEND_SHOT: 5>: {True: 12, False: 1974},\n",
       " <TryResultType.GOALTENDED_AND1: 6>: {True: 5, False: 129},\n",
       " <TryResultType.MADE_BASKET_W_FOULSHOT: 7>: {True: 8, False: 202},\n",
       " <TryResultType.MADE_BASKET_W_LOOSE_BALL_FOUL: 8>: {True: 0, False: 0},\n",
       " <TryResultType.FLAGRANT1_AND1: 9>: {True: 17, False: 0},\n",
       " <TryResultType.FLAGRANT2_AND1: 10>: {True: 0, False: 0},\n",
       " <TryResultType.FLAGRANT1_AND1_2FTS: 63>: {True: 5, False: 0},\n",
       " <TryResultType.NON_SHOOTING_FOUL: 11>: {True: 51880, False: 42},\n",
       " <TryResultType.PENALTY_NON_SHOOTING_FOUL: 12>: {True: 424, False: 15418},\n",
       " <TryResultType.SHOOTING_FOUL_2: 13>: {True: 1855, False: 67962},\n",
       " <TryResultType.SHOOTING_FOUL_3: 14>: {True: 80, False: 3492},\n",
       " <TryResultType.AWAY_FROM_PLAY_FOUL: 15>: {True: 149, False: 4},\n",
       " <TryResultType.AWAY_FROM_PLAY_0FTS_FOUL: 64>: {True: 1, False: 0},\n",
       " <TryResultType.OFF_AWAY_FROM_PLAY_FOUL: 16>: {True: 1, False: 0},\n",
       " <TryResultType.DEF_LOOSE_BALL_FOUL: 17>: {True: 0, False: 5},\n",
       " <TryResultType.PENALTY_DEF_LOOSE_BALL_FOUL: 18>: {True: 18, False: 336},\n",
       " <TryResultType.OFF_LOOSE_BALL_FOUL: 19>: {True: 0, False: 0},\n",
       " <TryResultType.PENALTY_OFF_LOOSE_BALL_FOUL: 20>: {True: 25, False: 0},\n",
       " <TryResultType.INBOUND_FOUL: 21>: {True: 128, False: 1},\n",
       " <TryResultType.CLEAR_PATH_FOUL: 22>: {True: 239, False: 0},\n",
       " <TryResultType.PENALTY_TAKE_FOUL: 23>: {True: 83, False: 3057},\n",
       " <TryResultType.TAKE_FOUL: 24>: {True: 2305, False: 19},\n",
       " <TryResultType.FLAGRANT1: 25>: {True: 317, False: 2},\n",
       " <TryResultType.FLAGRANT2: 26>: {True: 34, False: 0},\n",
       " <TryResultType.OFFENSIVE_FLAGRANT1: 27>: {True: 0, False: 62},\n",
       " <TryResultType.OFFENSIVE_FLAGRANT2: 28>: {True: 0, False: 12},\n",
       " <TryResultType.OFFENSIVE_FOUL_TURNOVER: 29>: {True: 13, False: 11176},\n",
       " <TryResultType.PENALTY_OFF_FOUL_TURNOVER: 30>: {True: 0, False: 0},\n",
       " <TryResultType.CHARGE: 31>: {True: 10, False: 5396},\n",
       " <TryResultType.BAD_PASS_OUT: 32>: {True: 31, False: 16704},\n",
       " <TryResultType.OFFENSIVE_GOALTENDING_TURNOVER: 33>: {True: 2, False: 602},\n",
       " <TryResultType.LOST_BALL_STEAL: 34>: {True: 107, False: 26704},\n",
       " <TryResultType.BAD_PASS_STEAL: 35>: {True: 161, False: 48777},\n",
       " <TryResultType.LOST_BALL_OUT_TURNOVER: 36>: {True: 18, False: 8385},\n",
       " <TryResultType.STEP_OUT_TURNOVER: 37>: {True: 6, False: 3096},\n",
       " <TryResultType.TRAVEL: 38>: {True: 21, False: 8437},\n",
       " <TryResultType.DISCONTINUE_DRIBBLE: 39>: {True: 0, False: 346},\n",
       " <TryResultType.PALMIMG_TURNOVER: 40>: {True: 1, False: 284},\n",
       " <TryResultType.DOUBLE_DRIBBLE_TURNOVER: 41>: {True: 0, False: 397},\n",
       " <TryResultType.KICKED_BALL_TURNOVER: 42>: {True: 0, False: 101},\n",
       " <TryResultType.ILLEGAL_SCREEN_TURNOVER: 43>: {True: 0, False: 59},\n",
       " <TryResultType.BACKCOURT_TURNOVER: 44>: {True: 1, False: 755},\n",
       " <TryResultType.EIGHT_SECONDS_TURNOVER: 45>: {True: 0, False: 52},\n",
       " <TryResultType.THROW_IN_5SECONDS_TURNOVER: 46>: {True: 0, False: 183},\n",
       " <TryResultType.OFF_3SECONDS_TURNOVER: 47>: {True: 0, False: 1394},\n",
       " <TryResultType.INBOUND_TURNOVER: 48>: {True: 1, False: 102},\n",
       " <TryResultType.ILLEGAL_ASSIST: 49>: {True: 0, False: 30},\n",
       " <TryResultType.TIMEOUT: 50>: {True: 23219, False: 10},\n",
       " <TryResultType.JUMP_BALL: 51>: {True: 34, False: 16},\n",
       " <TryResultType.HELD_BALL: 52>: {True: 2397, False: 46},\n",
       " <TryResultType.SHOT_CLOCK_TURNOVER: 53>: {True: 25, False: 4963},\n",
       " <TryResultType.DEF_3SECONDS: 54>: {True: 2135, False: 0},\n",
       " <TryResultType.KICKED_BALL: 55>: {True: 4043, False: 1},\n",
       " <TryResultType.MISSED_FOUL: 56>: {True: 17, False: 1},\n",
       " <TryResultType.MISTAKE_CALL: 57>: {True: 0, False: 0},\n",
       " <TryResultType.DOUBLE_FOUL: 58>: {True: 116, False: 0},\n",
       " <TryResultType.EXCESS_TIMEOUT: 59>: {True: 0, False: 0},\n",
       " <TryResultType.EXCESS_TIMEOUT_TURNOVER: 60>: {True: 0, False: 8},\n",
       " <TryResultType.FLAGRANT_AND_FOUL: 61>: {True: 2, False: 0},\n",
       " <TryResultType.FOUL_AND_OFFENSE_FLAGRANT: 62>: {True: 0, False: 2}}"
      ]
     },
     "execution_count": 27,
     "metadata": {},
     "output_type": "execute_result"
    }
   ],
   "source": [
    "next_result_same_team\n"
   ]
  },
  {
   "cell_type": "code",
   "execution_count": 23,
   "metadata": {},
   "outputs": [
    {
     "data": {
      "text/plain": [
       "{<TryResultType.OTHER: 0>: {},\n",
       " <TryResultType.MISSED_SHOT: 1>: {0: 412813},\n",
       " <TryResultType.BLOCKED_SHOT: 2>: {0: 47892},\n",
       " <TryResultType.MADE_SHOT: 3>: {0: 364341},\n",
       " <TryResultType.AND1: 4>: {1: 21918},\n",
       " <TryResultType.DEF_GOALTEND_SHOT: 5>: {0: 1997},\n",
       " <TryResultType.GOALTENDED_AND1: 6>: {1: 134},\n",
       " <TryResultType.MADE_BASKET_W_FOULSHOT: 7>: {1: 211},\n",
       " <TryResultType.MADE_BASKET_W_LOOSE_BALL_FOUL: 8>: {},\n",
       " <TryResultType.FLAGRANT1_AND1: 9>: {1: 17},\n",
       " <TryResultType.FLAGRANT2_AND1: 10>: {},\n",
       " <TryResultType.FLAGRANT1_AND1_2FTS: 63>: {2: 5},\n",
       " <TryResultType.NON_SHOOTING_FOUL: 11>: {0: 51941},\n",
       " <TryResultType.PENALTY_NON_SHOOTING_FOUL: 12>: {2: 15995},\n",
       " <TryResultType.SHOOTING_FOUL_2: 13>: {2: 69956},\n",
       " <TryResultType.SHOOTING_FOUL_3: 14>: {3: 3589},\n",
       " <TryResultType.AWAY_FROM_PLAY_FOUL: 15>: {1: 155},\n",
       " <TryResultType.AWAY_FROM_PLAY_0FTS_FOUL: 64>: {1: 1},\n",
       " <TryResultType.OFF_AWAY_FROM_PLAY_FOUL: 16>: {1: 1},\n",
       " <TryResultType.DEF_LOOSE_BALL_FOUL: 17>: {1: 6},\n",
       " <TryResultType.PENALTY_DEF_LOOSE_BALL_FOUL: 18>: {2: 356},\n",
       " <TryResultType.OFF_LOOSE_BALL_FOUL: 19>: {},\n",
       " <TryResultType.PENALTY_OFF_LOOSE_BALL_FOUL: 20>: {2: 25},\n",
       " <TryResultType.INBOUND_FOUL: 21>: {1: 129},\n",
       " <TryResultType.CLEAR_PATH_FOUL: 22>: {2: 244},\n",
       " <TryResultType.PENALTY_TAKE_FOUL: 23>: {2: 3297},\n",
       " <TryResultType.TAKE_FOUL: 24>: {0: 2336},\n",
       " <TryResultType.FLAGRANT1: 25>: {2: 323},\n",
       " <TryResultType.FLAGRANT2: 26>: {2: 34, 1: 1},\n",
       " <TryResultType.OFFENSIVE_FLAGRANT1: 27>: {2: 62},\n",
       " <TryResultType.OFFENSIVE_FLAGRANT2: 28>: {2: 12},\n",
       " <TryResultType.OFFENSIVE_FOUL_TURNOVER: 29>: {0: 11199},\n",
       " <TryResultType.PENALTY_OFF_FOUL_TURNOVER: 30>: {},\n",
       " <TryResultType.CHARGE: 31>: {0: 5407},\n",
       " <TryResultType.BAD_PASS_OUT: 32>: {0: 16786},\n",
       " <TryResultType.OFFENSIVE_GOALTENDING_TURNOVER: 33>: {0: 608},\n",
       " <TryResultType.LOST_BALL_STEAL: 34>: {0: 26896},\n",
       " <TryResultType.BAD_PASS_STEAL: 35>: {0: 49096},\n",
       " <TryResultType.LOST_BALL_OUT_TURNOVER: 36>: {0: 8432},\n",
       " <TryResultType.STEP_OUT_TURNOVER: 37>: {0: 3117},\n",
       " <TryResultType.TRAVEL: 38>: {0: 8467},\n",
       " <TryResultType.DISCONTINUE_DRIBBLE: 39>: {0: 346},\n",
       " <TryResultType.PALMIMG_TURNOVER: 40>: {0: 285},\n",
       " <TryResultType.DOUBLE_DRIBBLE_TURNOVER: 41>: {0: 399},\n",
       " <TryResultType.KICKED_BALL_TURNOVER: 42>: {0: 101},\n",
       " <TryResultType.ILLEGAL_SCREEN_TURNOVER: 43>: {0: 59},\n",
       " <TryResultType.BACKCOURT_TURNOVER: 44>: {0: 757},\n",
       " <TryResultType.EIGHT_SECONDS_TURNOVER: 45>: {0: 54},\n",
       " <TryResultType.THROW_IN_5SECONDS_TURNOVER: 46>: {0: 186},\n",
       " <TryResultType.OFF_3SECONDS_TURNOVER: 47>: {0: 1394},\n",
       " <TryResultType.INBOUND_TURNOVER: 48>: {0: 104},\n",
       " <TryResultType.ILLEGAL_ASSIST: 49>: {0: 30},\n",
       " <TryResultType.TIMEOUT: 50>: {0: 23239},\n",
       " <TryResultType.JUMP_BALL: 51>: {0: 52},\n",
       " <TryResultType.HELD_BALL: 52>: {0: 2450},\n",
       " <TryResultType.SHOT_CLOCK_TURNOVER: 53>: {0: 5325},\n",
       " <TryResultType.DEF_3SECONDS: 54>: {0: 2135},\n",
       " <TryResultType.KICKED_BALL: 55>: {0: 4046},\n",
       " <TryResultType.MISSED_FOUL: 56>: {0: 19},\n",
       " <TryResultType.MISTAKE_CALL: 57>: {},\n",
       " <TryResultType.DOUBLE_FOUL: 58>: {0: 116},\n",
       " <TryResultType.EXCESS_TIMEOUT: 59>: {},\n",
       " <TryResultType.EXCESS_TIMEOUT_TURNOVER: 60>: {0: 8},\n",
       " <TryResultType.FLAGRANT_AND_FOUL: 61>: {2: 2},\n",
       " <TryResultType.FOUL_AND_OFFENSE_FLAGRANT: 62>: {2: 2}}"
      ]
     },
     "execution_count": 23,
     "metadata": {},
     "output_type": "execute_result"
    }
   ],
   "source": [
    "ft_nums"
   ]
  },
  {
   "cell_type": "code",
   "execution_count": 15,
   "metadata": {},
   "outputs": [
    {
     "data": {
      "text/plain": [
       "{<TryResultType.OTHER: 0>: 0,\n",
       " <TryResultType.MISSED_SHOT: 1>: 306603,\n",
       " <TryResultType.BLOCKED_SHOT: 2>: 35707,\n",
       " <TryResultType.MADE_SHOT: 3>: 269716,\n",
       " <TryResultType.AND1: 4>: 16126,\n",
       " <TryResultType.DEF_GOALTEND_SHOT: 5>: 1459,\n",
       " <TryResultType.GOALTENDED_AND1: 6>: 92,\n",
       " <TryResultType.MADE_BASKET_W_FOULSHOT: 7>: 151,\n",
       " <TryResultType.MADE_BASKET_W_LOOSE_BALL_FOUL: 8>: 0,\n",
       " <TryResultType.FLAGRANT1_AND1: 9>: 17,\n",
       " <TryResultType.FLAGRANT2_AND1: 10>: 0,\n",
       " <TryResultType.NON_SHOOTING_FOUL: 11>: 38792,\n",
       " <TryResultType.PENALTY_NON_SHOOTING_FOUL: 12>: 11588,\n",
       " <TryResultType.SHOOTING_FOUL_2: 13>: 52248,\n",
       " <TryResultType.SHOOTING_FOUL_3: 14>: 2601,\n",
       " <TryResultType.AWAY_FROM_PLAY_FOUL: 15>: 85,\n",
       " <TryResultType.OFF_AWAY_FROM_PLAY_FOUL: 16>: 4,\n",
       " <TryResultType.DEF_LOOSE_BALL_FOUL: 17>: 4,\n",
       " <TryResultType.PENALTY_DEF_LOOSE_BALL_FOUL: 18>: 262,\n",
       " <TryResultType.OFF_LOOSE_BALL_FOUL: 19>: 0,\n",
       " <TryResultType.PENALTY_OFF_LOOSE_BALL_FOUL: 20>: 21,\n",
       " <TryResultType.INBOUND_FOUL: 21>: 189,\n",
       " <TryResultType.CLEAR_PATH_FOUL: 22>: 185,\n",
       " <TryResultType.PENALTY_TAKE_FOUL: 23>: 2544,\n",
       " <TryResultType.TAKE_FOUL: 24>: 1517,\n",
       " <TryResultType.FLAGRANT1: 25>: 243,\n",
       " <TryResultType.FLAGRANT2: 26>: 29,\n",
       " <TryResultType.OFFENSIVE_FLAGRANT1: 27>: 48,\n",
       " <TryResultType.OFFENSIVE_FLAGRANT2: 28>: 10,\n",
       " <TryResultType.OFFENSIVE_FOUL_TURNOVER: 29>: 8060,\n",
       " <TryResultType.PENALTY_OFF_FOUL_TURNOVER: 30>: 0,\n",
       " <TryResultType.CHARGE: 31>: 4041,\n",
       " <TryResultType.BAD_PASS_OUT: 32>: 12727,\n",
       " <TryResultType.OFFENSIVE_GOALTENDING_TURNOVER: 33>: 452,\n",
       " <TryResultType.LOST_BALL_STEAL: 34>: 20490,\n",
       " <TryResultType.BAD_PASS_STEAL: 35>: 36723,\n",
       " <TryResultType.LOST_BALL_OUT_TURNOVER: 36>: 6475,\n",
       " <TryResultType.STEP_OUT_TURNOVER: 37>: 2386,\n",
       " <TryResultType.TRAVEL: 38>: 6252,\n",
       " <TryResultType.DISCONTINUE_DRIBBLE: 39>: 271,\n",
       " <TryResultType.PALMIMG_TURNOVER: 40>: 220,\n",
       " <TryResultType.DOUBLE_DRIBBLE_TURNOVER: 41>: 309,\n",
       " <TryResultType.KICKED_BALL_TURNOVER: 42>: 79,\n",
       " <TryResultType.ILLEGAL_SCREEN_TURNOVER: 43>: 55,\n",
       " <TryResultType.BACKCOURT_TURNOVER: 44>: 570,\n",
       " <TryResultType.EIGHT_SECONDS_TURNOVER: 45>: 44,\n",
       " <TryResultType.THROW_IN_5SECONDS_TURNOVER: 46>: 142,\n",
       " <TryResultType.OFF_3SECONDS_TURNOVER: 47>: 1078,\n",
       " <TryResultType.INBOUND_TURNOVER: 48>: 74,\n",
       " <TryResultType.ILLEGAL_ASSIST: 49>: 27,\n",
       " <TryResultType.TIMEOUT: 50>: 17247,\n",
       " <TryResultType.JUMP_BALL: 51>: 44,\n",
       " <TryResultType.HELD_BALL: 52>: 1837,\n",
       " <TryResultType.SHOT_CLOCK_TURNOVER: 53>: 4029,\n",
       " <TryResultType.DEF_3SECONDS: 54>: 1674,\n",
       " <TryResultType.KICKED_BALL: 55>: 3047,\n",
       " <TryResultType.MISSED_FOUL: 56>: 16,\n",
       " <TryResultType.MISTAKE_CALL: 57>: 0,\n",
       " <TryResultType.DOUBLE_FOUL: 58>: 104,\n",
       " <TryResultType.EXCESS_TIMEOUT: 59>: 0,\n",
       " <TryResultType.EXCESS_TIMEOUT_TURNOVER: 60>: 6,\n",
       " <TryResultType.FLAGRANT_AND_FOUL: 61>: 3,\n",
       " <TryResultType.FOUL_AND_OFFENSE_FLAGRANT: 62>: 2}"
      ]
     },
     "execution_count": 15,
     "metadata": {},
     "output_type": "execute_result"
    }
   ],
   "source": [
    "counts"
   ]
  },
  {
   "cell_type": "code",
   "execution_count": null,
   "metadata": {},
   "outputs": [],
   "source": [
    "games[0].previous_possession.events"
   ]
  },
  {
   "cell_type": "code",
   "execution_count": null,
   "metadata": {},
   "outputs": [],
   "source": [
    "games[0].events"
   ]
  },
  {
   "cell_type": "code",
   "execution_count": null,
   "metadata": {},
   "outputs": [],
   "source": [
    "games.next_possession.events"
   ]
  },
  {
   "cell_type": "code",
   "execution_count": null,
   "metadata": {},
   "outputs": [],
   "source": [
    "event = games[0].previous_possession.events[5]\n",
    "event"
   ]
  },
  {
   "cell_type": "code",
   "execution_count": null,
   "metadata": {},
   "outputs": [],
   "source": [
    "games"
   ]
  },
  {
   "cell_type": "code",
   "execution_count": null,
   "metadata": {},
   "outputs": [],
   "source": [
    "event.next_event.is_loose_ball_foul"
   ]
  },
  {
   "cell_type": "code",
   "execution_count": null,
   "metadata": {},
   "outputs": [],
   "source": [
    "event.oreb"
   ]
  },
  {
   "cell_type": "code",
   "execution_count": null,
   "metadata": {},
   "outputs": [],
   "source": [
    "event.team_id\n",
    "\n"
   ]
  },
  {
   "cell_type": "code",
   "execution_count": null,
   "metadata": {},
   "outputs": [],
   "source": [
    "event.event_action_type"
   ]
  },
  {
   "cell_type": "code",
   "execution_count": null,
   "metadata": {},
   "outputs": [],
   "source": [
    "event.is_lost_ball_out_of_bounds\n"
   ]
  },
  {
   "cell_type": "code",
   "execution_count": null,
   "metadata": {},
   "outputs": [],
   "source": [
    "games[0].events[2].event_action_type"
   ]
  },
  {
   "cell_type": "code",
   "execution_count": null,
   "metadata": {},
   "outputs": [],
   "source": [
    "games[1][-1]"
   ]
  },
  {
   "cell_type": "code",
   "execution_count": null,
   "metadata": {},
   "outputs": [],
   "source": [
    "\n",
    "find_team_name_by_id(1610612740)\n"
   ]
  },
  {
   "cell_type": "code",
   "execution_count": null,
   "metadata": {},
   "outputs": [],
   "source": [
    "pos = eargs[1]\n",
    "pos"
   ]
  },
  {
   "cell_type": "code",
   "execution_count": null,
   "metadata": {},
   "outputs": [],
   "source": [
    "pos.previous_possession.events"
   ]
  },
  {
   "cell_type": "code",
   "execution_count": null,
   "metadata": {},
   "outputs": [],
   "source": [
    "games.events"
   ]
  },
  {
   "cell_type": "code",
   "execution_count": null,
   "metadata": {},
   "outputs": [],
   "source": [
    "event = games.events[1]\n",
    "event"
   ]
  },
  {
   "cell_type": "code",
   "execution_count": null,
   "metadata": {},
   "outputs": [],
   "source": [
    "get_num_fta_from_foul(event)\n"
   ]
  },
  {
   "cell_type": "code",
   "execution_count": null,
   "metadata": {},
   "outputs": [],
   "source": [
    "event.number_of_fta_for_foul"
   ]
  },
  {
   "cell_type": "code",
   "execution_count": null,
   "metadata": {},
   "outputs": [],
   "source": [
    "pos.events"
   ]
  },
  {
   "cell_type": "code",
   "execution_count": null,
   "metadata": {},
   "outputs": [],
   "source": [
    "pos.previous_possession"
   ]
  },
  {
   "cell_type": "code",
   "execution_count": null,
   "metadata": {},
   "outputs": [],
   "source": [
    "games[0]\n"
   ]
  },
  {
   "cell_type": "code",
   "execution_count": null,
   "metadata": {},
   "outputs": [],
   "source": [
    "games[0].previous_possession.events"
   ]
  },
  {
   "cell_type": "code",
   "execution_count": null,
   "metadata": {},
   "outputs": [],
   "source": [
    "ft = games[0].previous_possession.previous_possession.events[-1]\n"
   ]
  },
  {
   "cell_type": "code",
   "execution_count": null,
   "metadata": {},
   "outputs": [],
   "source": [
    "ft.is_ft_1_of_1\n"
   ]
  },
  {
   "cell_type": "code",
   "execution_count": null,
   "metadata": {},
   "outputs": [],
   "source": [
    "made_shots_at_event_time = []\n",
    "fts_by_other_player_at_event_time = []\n",
    "events_at_event_time = ft.get_all_events_at_current_time()\n",
    "for event in events_at_event_time:\n",
    "    if hasattr(event, \"is_made\") and event.is_made:\n",
    "        if not isinstance(event, enhanced_pbp.FreeThrow):\n",
    "            made_shots_at_event_time.append(event)\n",
    "        if (\n",
    "            isinstance(event, enhanced_pbp.FreeThrow)\n",
    "            and event.player1_id != ft.player1_id\n",
    "        ):\n",
    "            fts_by_other_player_at_event_time.append(event)\n"
   ]
  },
  {
   "cell_type": "code",
   "execution_count": null,
   "metadata": {},
   "outputs": [],
   "source": [
    "made_shots_at_event_time = sorted(\n",
    "    made_shots_at_event_time, key=lambda k: k.order\n",
    ")\n"
   ]
  },
  {
   "cell_type": "code",
   "execution_count": null,
   "metadata": {},
   "outputs": [],
   "source": [
    "made_shots_at_event_time[0].team_id == foul.team_id\n"
   ]
  },
  {
   "cell_type": "code",
   "execution_count": null,
   "metadata": {},
   "outputs": [],
   "source": [
    "foul.is_away_from_play_foul\n"
   ]
  },
  {
   "cell_type": "code",
   "execution_count": null,
   "metadata": {},
   "outputs": [],
   "source": [
    "games[0].previous_possession.offense_team_id"
   ]
  },
  {
   "cell_type": "code",
   "execution_count": null,
   "metadata": {},
   "outputs": [],
   "source": [
    "games[0].previous_possession.previous_possession.events\n"
   ]
  },
  {
   "cell_type": "code",
   "execution_count": null,
   "metadata": {},
   "outputs": [],
   "source": [
    "find_team_name_by_id(1610612740)\n"
   ]
  },
  {
   "cell_type": "code",
   "execution_count": null,
   "metadata": {},
   "outputs": [],
   "source": [
    "pos.events[0].is_possession_ending_event\n"
   ]
  },
  {
   "cell_type": "code",
   "execution_count": null,
   "metadata": {},
   "outputs": [],
   "source": [
    "pos.previous_possession.events"
   ]
  },
  {
   "cell_type": "code",
   "execution_count": null,
   "metadata": {},
   "outputs": [],
   "source": [
    "pos.previous_possession.events[0].offense_team_id\n"
   ]
  },
  {
   "cell_type": "code",
   "execution_count": null,
   "metadata": {},
   "outputs": [],
   "source": [
    "find_team_name_by_id(1610612743)\n"
   ]
  },
  {
   "cell_type": "code",
   "execution_count": null,
   "metadata": {},
   "outputs": [],
   "source": [
    "pv = ft.previous_event\n",
    "pv"
   ]
  },
  {
   "cell_type": "code",
   "execution_count": null,
   "metadata": {},
   "outputs": [],
   "source": [
    "pv.event_num"
   ]
  },
  {
   "cell_type": "code",
   "execution_count": null,
   "metadata": {},
   "outputs": [],
   "source": [
    "from pbpstats.resources import enhanced_pbp"
   ]
  },
  {
   "cell_type": "code",
   "execution_count": null,
   "metadata": {},
   "outputs": [],
   "source": [
    "isinstance(ft, enhanced_pbp.Foul)\n"
   ]
  },
  {
   "cell_type": "code",
   "execution_count": null,
   "metadata": {},
   "outputs": [],
   "source": [
    "pv = pv.previous_event\n",
    "pv"
   ]
  },
  {
   "cell_type": "code",
   "execution_count": null,
   "metadata": {},
   "outputs": [],
   "source": [
    "pv.foul_that_led_to_ft"
   ]
  },
  {
   "cell_type": "code",
   "execution_count": null,
   "metadata": {},
   "outputs": [],
   "source": [
    "games[0].events"
   ]
  },
  {
   "cell_type": "code",
   "execution_count": null,
   "metadata": {},
   "outputs": [],
   "source": [
    "games[1][-2]"
   ]
  },
  {
   "cell_type": "code",
   "execution_count": null,
   "metadata": {},
   "outputs": [],
   "source": [
    "games[0].offense_team_id\n"
   ]
  },
  {
   "cell_type": "code",
   "execution_count": null,
   "metadata": {},
   "outputs": [],
   "source": [
    "games[0].previous_possession.events\n"
   ]
  },
  {
   "cell_type": "code",
   "execution_count": null,
   "metadata": {},
   "outputs": [],
   "source": [
    "games[0].previous_possession.offense_team_id\n"
   ]
  },
  {
   "cell_type": "code",
   "execution_count": null,
   "metadata": {},
   "outputs": [],
   "source": [
    "games[0].previous_possession.events[-1].event_action_type\n"
   ]
  },
  {
   "cell_type": "code",
   "execution_count": null,
   "metadata": {},
   "outputs": [],
   "source": [
    "games[1][-1]"
   ]
  },
  {
   "cell_type": "code",
   "execution_count": null,
   "metadata": {},
   "outputs": [],
   "source": [
    "find_team_name_by_id(1610612739)\n"
   ]
  },
  {
   "cell_type": "code",
   "execution_count": null,
   "metadata": {},
   "outputs": [],
   "source": [
    "foul = games[0].events[0]\n",
    "foul"
   ]
  },
  {
   "cell_type": "code",
   "execution_count": null,
   "metadata": {},
   "outputs": [],
   "source": [
    "foul.is_technical"
   ]
  },
  {
   "cell_type": "code",
   "execution_count": null,
   "metadata": {},
   "outputs": [],
   "source": [
    "foul.is_defensive_3_seconds\n"
   ]
  },
  {
   "cell_type": "code",
   "execution_count": null,
   "metadata": {},
   "outputs": [],
   "source": [
    "find_player_by_id(foul.player3_id)"
   ]
  },
  {
   "cell_type": "code",
   "execution_count": null,
   "metadata": {},
   "outputs": [],
   "source": [
    "foul.event_action_type"
   ]
  },
  {
   "cell_type": "code",
   "execution_count": null,
   "metadata": {},
   "outputs": [],
   "source": [
    "get_num_fta_from_foul(foul)"
   ]
  },
  {
   "cell_type": "code",
   "execution_count": null,
   "metadata": {},
   "outputs": [],
   "source": [
    "find_team_name_by_id(games.offense_team_id)\n"
   ]
  },
  {
   "cell_type": "code",
   "execution_count": null,
   "metadata": {},
   "outputs": [],
   "source": [
    "games.previous_possession.previous_possession.events"
   ]
  },
  {
   "cell_type": "code",
   "execution_count": null,
   "metadata": {},
   "outputs": [],
   "source": [
    "games.previous_possession.events\n"
   ]
  },
  {
   "cell_type": "code",
   "execution_count": null,
   "metadata": {},
   "outputs": [],
   "source": [
    "event = games.next_possession.events[2]\n",
    "event"
   ]
  },
  {
   "cell_type": "code",
   "execution_count": null,
   "metadata": {},
   "outputs": [],
   "source": [
    "event.event_type"
   ]
  },
  {
   "cell_type": "code",
   "execution_count": null,
   "metadata": {},
   "outputs": [],
   "source": [
    "target_count = 0"
   ]
  },
  {
   "cell_type": "code",
   "execution_count": null,
   "metadata": {},
   "outputs": [],
   "source": [
    "from nba_dataclasses import TryStartType\n",
    "count = 0\n",
    "target_count += 1\n",
    "for game in games:\n",
    "    for pos_try in game.tries:\n",
    "        if pos_try.time_passed <= 0:\n",
    "            if pos_try.try_start.start_type == TryStartType.OFF_REBOUND or pos_try.try_start.start_type == TryStartType.STEAL:\n",
    "                continue\n",
    "            count += 1\n",
    "            if count == target_count:\n",
    "                break\n",
    "    if count == target_count:\n",
    "        break\n",
    "pos_try\n"
   ]
  },
  {
   "cell_type": "code",
   "execution_count": null,
   "metadata": {},
   "outputs": [],
   "source": [
    "pos_try"
   ]
  },
  {
   "cell_type": "code",
   "execution_count": 128,
   "metadata": {},
   "outputs": [],
   "source": [
    "correct = {\n",
    "    (\"0021500248\", 23): 1,\n",
    "    (\"0021500538\", 354): 1,\n",
    "    (\"0021700035\", 468): 1,\n",
    "    (\"0021700051\", 68): 1,\n",
    "    (\"0021800546\", 261): 2,\n",
    "    (\"0021700034\", 237): 0,\n",
    "    (\"0021500542\", 425): 0,\n",
    "    \n",
    "    (\"0021700020\", 665): 0,\n",
    "    (\"0021700034\", 237): 0,\n",
    "    (\"0021700050\", 159): 2,  # pbp looks like 1? but should be 2?...\n",
    "    (\"0021700054\", 54): 2,\n",
    "    (\"0021700090\", 408): 2,\n",
    "    (\"0021700095\", 397): 1,\n",
    "    (\"0021700099\", 285): 2,\n",
    "    (\"0021700103\", 584): 1,\n",
    "    (\"0021700112\", 229): 0,\n",
    "    (\"0021700132\", 465): 2,\n",
    "    (\"0021700136\", 456): 2,\n",
    "    (\"0021700136\", 459): 2,\n",
    "    (\"0021700136\", 529): 2,\n",
    "    (\"0021700146\", 78): 1,\n",
    "    (\"0021700157\", 554): 1,\n",
    "    (\"0021700167\", 70): 2,\n",
    "    (\"0021700183\", 271): 0,\n",
    "    (\"0021700198\", 234): 3,\n",
    "    (\"0021700220\", 690): 0,\n",
    "    (\"0021700229\", 610): 2,\n",
    "    (\"0021700231\", 19): 1,\n",
    "    (\"0021700252\", 625): 1,\n",
    "    (\"0021700257\", 626): 0, # duplicate event, second one gets the fts\n",
    "    (\"0021700284\", 327): 1,\n",
    "    (\"0021700312\", 726): 2,\n",
    "    (\"0021700330\", 140): 2,\n",
    "    \n",
    "    (\"0021700692\", 164): 2,\n",
    "    \n",
    "    \n",
    "    (\"0021800004\", 671): 0,\n",
    "    (\"0021800010\", 39): 1,\n",
    "    (\"0021800022\", 249): 1,\n",
    "    (\"0021800028\", 158): 2, \n",
    "    (\"0021800033\", 348): 1,\n",
    "    (\"0021800033\", 351): 1,\n",
    "    \n",
    "}"
   ]
  },
  {
   "cell_type": "code",
   "execution_count": 130,
   "metadata": {},
   "outputs": [],
   "source": [
    "from pbpstats.client import Client\n",
    "from build_shot_chance_data import get_num_fta_from_foul\n",
    "from pbpstats.resources import enhanced_pbp\n",
    "import os\n",
    "game_possessions_settings = {\n",
    "    \"dir\": \"C:/Users/bhalb/nbaproject/response_data\",\n",
    "    \"Boxscore\": {\"source\": \"file\", \"data_provider\": \"stats_nba\"},\n",
    "    \"Possessions\": {\"source\": \"file\", \"data_provider\": \"stats_nba\"},\n",
    "}\n",
    "\n",
    "possession_client = Client(game_possessions_settings)\n",
    "\n",
    "file_directory = \"C:/Users/bhalb/nbaproject/response_data/pbp\"\n",
    "count = 0\n",
    "target_count = 5\n",
    "pass_count = 0\n",
    "fail_count = 0 \n",
    "for game_dict in season.schedule.games.final_games:\n",
    "    game_id = game_dict['game_id']\n",
    "    # print(\"processing game\", game_id)\n",
    "    # game_id = \"0021600035\"\n",
    "    \n",
    "    # data_pbp_file_path = (\n",
    "    #     f\"{file_directory}/data_{game_id}.json\"\n",
    "    # )\n",
    "    # if not os.path.isfile(data_pbp_file_path):\n",
    "    #     print(\"load\", data_pbp_file_path)\n",
    "    #     game = possession_client.Game(game_id)\n",
    "    #     print(\"loaded!\")\n",
    "    # else:\n",
    "    #     print(data_pbp_file_path, \"already loaded\")\n",
    "    # pass_count += 1\n",
    "    # break\n",
    "    # if pass_count == 5:\n",
    "    #     break\n",
    "    game = possession_client.Game(game_id)\n",
    "    possessions = game.possessions.items\n",
    "    \n",
    "    for possession in possessions:\n",
    "\n",
    "        # print(count)\n",
    "        # if count == 56:\n",
    "        #     print(event)\n",
    "        for event in possession.events:\n",
    "            if isinstance(event, enhanced_pbp.Foul) and not (event.is_technical or event.is_double_technical):\n",
    "                # if \"IN.FOUL\" in event.description or \"Inbound Foul\" in event.description:\n",
    "                #     continue\n",
    "                # nft = event.number_of_fta_for_foul\n",
    "                # nft = nft if nft is not None else 0\n",
    "                ftnum = get_num_fta_from_foul(event)\n",
    "                if event.is_flagrant:\n",
    "                    ftnum = min(ftnum, 2)\n",
    "                if (game_id, event.event_num) in correct:\n",
    "                    if correct[(game_id, event.event_num)] == ftnum:\n",
    "                        # print(\"pass\")\n",
    "                        pass_count += 1\n",
    "                    else:\n",
    "                        fail_count += 1\n",
    "                        print(\"fail\", ftnum, \"vs\", correct[(\n",
    "                            game_id, event.event_num)], event, possession.period)\n",
    "                        # count = target_count\n",
    "                        break\n",
    "                # elif ftnum != nft:\n",
    "                #     count += 1\n",
    "                #     if count > target_count - 5:\n",
    "                #         print(\"fouls: \", ftnum, \"vs\", nft, event, possession.period)\n",
    "                #     break \n",
    "#         if count == target_count:\n",
    "#             break\n",
    "#     if count == target_count:\n",
    "#         break\n",
    "#     break\n",
    "\n",
    "# print(\"fail count:\", fail_count)\n"
   ]
  },
  {
   "cell_type": "code",
   "execution_count": null,
   "metadata": {},
   "outputs": [],
   "source": [
    "event"
   ]
  },
  {
   "cell_type": "code",
   "execution_count": null,
   "metadata": {},
   "outputs": [],
   "source": [
    "event.is_flagrant\n"
   ]
  },
  {
   "cell_type": "code",
   "execution_count": null,
   "metadata": {},
   "outputs": [],
   "source": [
    "next_event = event.next_event\n",
    "next_event, next_event.event_type\n"
   ]
  },
  {
   "cell_type": "code",
   "execution_count": null,
   "metadata": {},
   "outputs": [],
   "source": [
    "next_event = next_event.next_event\n",
    "next_event, next_event.event_type\n"
   ]
  },
  {
   "cell_type": "code",
   "execution_count": null,
   "metadata": {},
   "outputs": [],
   "source": [
    "next_event.player1_id\n"
   ]
  },
  {
   "cell_type": "code",
   "execution_count": null,
   "metadata": {},
   "outputs": [],
   "source": [
    "prev_event = event.previous_event\n",
    "prev_event"
   ]
  },
  {
   "cell_type": "code",
   "execution_count": null,
   "metadata": {},
   "outputs": [],
   "source": [
    "prev_event = prev_event.previous_event\n",
    "prev_event\n"
   ]
  },
  {
   "cell_type": "code",
   "execution_count": null,
   "metadata": {},
   "outputs": [],
   "source": [
    "prev_event.foul_that_led_to_ft"
   ]
  },
  {
   "cell_type": "code",
   "execution_count": null,
   "metadata": {},
   "outputs": [],
   "source": [
    "event.player3_id"
   ]
  },
  {
   "cell_type": "code",
   "execution_count": null,
   "metadata": {},
   "outputs": [],
   "source": [
    "find_player_by_id(204001)\n"
   ]
  },
  {
   "cell_type": "code",
   "execution_count": null,
   "metadata": {},
   "outputs": [],
   "source": [
    "event.is_inbound_foul or event.is_away_from_play_foul"
   ]
  },
  {
   "cell_type": "code",
   "execution_count": null,
   "metadata": {},
   "outputs": [],
   "source": [
    "next_event.player1_id"
   ]
  }
 ],
 "metadata": {
  "interpreter": {
   "hash": "91bf7612c7ed8d2f84c49e6080371137b1ceb87e3d1dfcf598275b8f66797bc1"
  },
  "kernelspec": {
   "display_name": "Python 3.9.2 ('.venv': poetry)",
   "language": "python",
   "name": "python3"
  },
  "language_info": {
   "codemirror_mode": {
    "name": "ipython",
    "version": 3
   },
   "file_extension": ".py",
   "mimetype": "text/x-python",
   "name": "python",
   "nbconvert_exporter": "python",
   "pygments_lexer": "ipython3",
   "version": "3.9.2"
  },
  "orig_nbformat": 4
 },
 "nbformat": 4,
 "nbformat_minor": 2
}
