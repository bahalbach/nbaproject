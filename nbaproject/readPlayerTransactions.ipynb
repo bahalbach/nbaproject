{
 "cells": [
  {
   "cell_type": "code",
   "execution_count": 69,
   "metadata": {},
   "outputs": [],
   "source": [
    "from urllib.request import urlopen\n",
    "from urllib.error import HTTPError\n",
    "from bs4 import BeautifulSoup, Comment\n",
    "import pandas as pd\n",
    "import numpy as np\n",
    "import datetime\n",
    "import unidecode\n",
    "from nba import NbaTracker\n",
    "import time\n",
    "from nba_api.stats import static\n",
    "import requests\n",
    "from dataclasses import dataclass, field\n",
    "\n"
   ]
  },
  {
   "cell_type": "code",
   "execution_count": 3,
   "metadata": {},
   "outputs": [
    {
     "name": "stdout",
     "output_type": "stream",
     "text": [
      "No missing ids\n",
      "No missing ids\n",
      "No missing ids\n",
      "No missing ids\n",
      "No missing ids\n",
      "No missing ids\n",
      "No missing ids\n",
      "No missing ids\n",
      "No missing ids\n",
      "No missing ids\n",
      "No missing ids\n",
      "No missing ids\n",
      "No missing ids\n",
      "No missing ids\n",
      "No missing ids\n",
      "No missing ids\n",
      "No missing ids\n",
      "No missing ids\n",
      "No missing ids\n",
      "No missing ids\n",
      "No missing ids\n"
     ]
    }
   ],
   "source": [
    "from nba import NbaTracker\n",
    "seasons = [\n",
    "    \"2000-01\",\n",
    "    \"2001-02\",\n",
    "    \"2002-03\",\n",
    "    \"2003-04\",\n",
    "    \"2004-05\",\n",
    "    \"2005-06\",\n",
    "    \"2006-07\",\n",
    "    \"2007-08\",\n",
    "    \"2008-09\",\n",
    "    \"2009-10\",\n",
    "    \"2010-11\",\n",
    "    \"2011-12\",\n",
    "    \"2012-13\",\n",
    "    \"2013-14\",\n",
    "    \"2014-15\",\n",
    "    \"2015-16\",\n",
    "    \"2016-17\",\n",
    "    \"2017-18\",\n",
    "    \"2018-19\",\n",
    "    \"2019-20\",\n",
    "    \"2020-21\"\n",
    "]\n",
    "nbaTracker = NbaTracker()\n",
    "for season_name in seasons[:]:\n",
    "    nbaTracker.add_season(season_name)\n"
   ]
  },
  {
   "cell_type": "code",
   "execution_count": 4,
   "metadata": {},
   "outputs": [],
   "source": [
    "season = nbaTracker.current_season\n",
    "\n"
   ]
  },
  {
   "cell_type": "code",
   "execution_count": 6,
   "metadata": {},
   "outputs": [],
   "source": [
    "from nba_api.stats.static.teams import find_team_name_by_id\n",
    "def get_team_abr(team_id, season_name):\n",
    "    if team_id == 1610612740:  # NOP\n",
    "        if season_name <= \"2004-05\":\n",
    "            return \"NOH\"\n",
    "        elif season_name <= \"2006-07\":\n",
    "            return \"NOK\"\n",
    "        elif season_name <= \"2012-13\":\n",
    "            return \"NOH\"\n",
    "        else:\n",
    "            return \"NOP\"\n",
    "    elif team_id == 1610612751:  # BRK\n",
    "        if season_name <= \"2011-12\":\n",
    "            return \"NJN\"\n",
    "        else:\n",
    "            return \"BRK\"\n",
    "    elif team_id == 1610612760:  # OKC\n",
    "        if season_name <= \"2007-08\":\n",
    "            return \"SEA\"\n",
    "        else:\n",
    "            return \"OKC\"\n",
    "    elif team_id == 1610612763:  # MEM\n",
    "        if season_name <= \"2000-01\":\n",
    "            return \"VAN\"\n",
    "        else:\n",
    "            return \"MEM\"\n",
    "    elif team_id == 1610612766:  # CHA\n",
    "        if season_name <= \"2001-02\":\n",
    "            return \"CHH\"\n",
    "        elif season_name <= \"2013-14\":\n",
    "            return \"CHA\"\n",
    "        else:\n",
    "            return \"CHO\"\n",
    "    elif team_id == 1610612756:  # PHO\n",
    "        return \"PHO\"\n",
    "    else:\n",
    "        return find_team_name_by_id(team_id)['abbreviation']\n"
   ]
  },
  {
   "cell_type": "code",
   "execution_count": 65,
   "metadata": {},
   "outputs": [],
   "source": [
    "abr_id_map = {}\n",
    "for team in static.teams.get_teams():\n",
    "    team_id = team['id']\n",
    "    for season_name in seasons:\n",
    "        abr = get_team_abr(team_id, season_name)\n",
    "        if abr in abr_id_map and abr_id_map[abr] != team_id:\n",
    "            print(\"Error\", abr, abr_id_map[abr], team_id)\n",
    "        abr_id_map[abr] = team_id"
   ]
  },
  {
   "cell_type": "code",
   "execution_count": 11,
   "metadata": {},
   "outputs": [
    {
     "data": {
      "text/plain": [
       "{'game_id': '0022000001',\n",
       " 'date': '2020-12-22',\n",
       " 'home_team_id': 1610612751,\n",
       " 'visitor_team_id': 1610612744,\n",
       " 'status': 'Final'}"
      ]
     },
     "execution_count": 11,
     "metadata": {},
     "output_type": "execute_result"
    }
   ],
   "source": [
    "game = season.schedule.games.final_games[0]\n",
    "game"
   ]
  },
  {
   "cell_type": "code",
   "execution_count": 13,
   "metadata": {},
   "outputs": [
    {
     "data": {
      "text/plain": [
       "'20201222'"
      ]
     },
     "execution_count": 13,
     "metadata": {},
     "output_type": "execute_result"
    }
   ],
   "source": [
    "# YYYY-MM-DD -> YYYYMMDD\n",
    "date = \"\".join(game['date'].split('-'))\n",
    "date"
   ]
  },
  {
   "cell_type": "code",
   "execution_count": 14,
   "metadata": {},
   "outputs": [
    {
     "data": {
      "text/plain": [
       "'BRK'"
      ]
     },
     "execution_count": 14,
     "metadata": {},
     "output_type": "execute_result"
    }
   ],
   "source": [
    "home_abr = get_team_abr(game['home_team_id'], season.name)\n",
    "home_abr"
   ]
  },
  {
   "cell_type": "code",
   "execution_count": 15,
   "metadata": {},
   "outputs": [],
   "source": [
    "def get_game_url(game):\n",
    "    date = \"\".join(game['date'].split('-'))\n",
    "    home_abr = get_team_abr(game['home_team_id'], season.name)\n",
    "    url = f\"https://www.basketball-reference.com/boxscores/{date}0{home_abr}.html\"\n",
    "    return url"
   ]
  },
  {
   "cell_type": "code",
   "execution_count": 16,
   "metadata": {},
   "outputs": [
    {
     "data": {
      "text/plain": [
       "'https://www.basketball-reference.com/boxscores/202012220BRK.html'"
      ]
     },
     "execution_count": 16,
     "metadata": {},
     "output_type": "execute_result"
    }
   ],
   "source": [
    "url = get_game_url(game)\n",
    "url"
   ]
  },
  {
   "cell_type": "code",
   "execution_count": 19,
   "metadata": {},
   "outputs": [],
   "source": [
    "page = requests.get(url, timeout=15)\n"
   ]
  },
  {
   "cell_type": "code",
   "execution_count": 20,
   "metadata": {},
   "outputs": [],
   "source": [
    "soup = BeautifulSoup(page.text, features=\"lxml\")\n"
   ]
  },
  {
   "cell_type": "code",
   "execution_count": 24,
   "metadata": {},
   "outputs": [],
   "source": [
    "home_abr = get_team_abr(game['home_team_id'], season.name)\n",
    "away_abr = get_team_abr(game['visitor_team_id'], season.name)\n",
    "home_id = game['home_team_id']\n",
    "away_id = game['visitor_team_id']\n"
   ]
  },
  {
   "cell_type": "code",
   "execution_count": 50,
   "metadata": {},
   "outputs": [
    {
     "data": {
      "text/plain": [
       "<strong>Inactive: </strong>"
      ]
     },
     "execution_count": 50,
     "metadata": {},
     "output_type": "execute_result"
    }
   ],
   "source": [
    "soup.find(id=\"content\").find_all(\"div\", recursive=False)[-2].find(\"strong\")\n"
   ]
  },
  {
   "cell_type": "code",
   "execution_count": 92,
   "metadata": {},
   "outputs": [
    {
     "data": {
      "text/plain": [
       "<div>\n",
       "<div><strong>Inactive: </strong><span><strong>GSW</strong> </span><a href=\"/players/g/greendr01.html\">Draymond Green</a>, <a href=\"/players/m/mannini01.html\">Nico Mannion</a>, <a href=\"/players/s/smailal01.html\">Alen Smailagić</a>, <a href=\"/players/t/thompkl01.html\">Klay Thompson</a>   <span><strong>BRK</strong> </span><a href=\"/players/c/chiozch01.html\">Chris Chiozza</a>, <a href=\"/players/c/claxtni01.html\">Nic Claxton</a>   </div>\n",
       "<div><strong>Officials: </strong><a href=\"/referees/bucheni99r.html\">Nick Buchert</a>, <a href=\"/referees/twardsc99r.html\">Scott Twardoski</a>, <a href=\"/referees/zarbaza99r.html\">Zach Zarba</a></div>\n",
       "<div><strong>Time of Game: </strong>2:14</div>\n",
       "</div>"
      ]
     },
     "execution_count": 92,
     "metadata": {},
     "output_type": "execute_result"
    }
   ],
   "source": [
    "game_stats = soup.find(id=\"content\").find_all(\n",
    "    \"div\", recursive=False)[-2]  # .contents[-8]\n",
    "game_stats\n"
   ]
  },
  {
   "cell_type": "code",
   "execution_count": 95,
   "metadata": {},
   "outputs": [
    {
     "data": {
      "text/plain": [
       "[<a href=\"/referees/bucheni99r.html\">Nick Buchert</a>,\n",
       " <a href=\"/referees/twardsc99r.html\">Scott Twardoski</a>,\n",
       " <a href=\"/referees/zarbaza99r.html\">Zach Zarba</a>]"
      ]
     },
     "execution_count": 95,
     "metadata": {},
     "output_type": "execute_result"
    }
   ],
   "source": [
    "official_tags = game_stats.find_all('div')[1].find_all('a')\n",
    "official_tags"
   ]
  },
  {
   "cell_type": "code",
   "execution_count": 103,
   "metadata": {},
   "outputs": [
    {
     "data": {
      "text/plain": [
       "[<strong>Inactive: </strong>,\n",
       " <span><strong>GSW</strong> </span>,\n",
       " <a href=\"/players/g/greendr01.html\">Draymond Green</a>,\n",
       " ',\\xa0',\n",
       " <a href=\"/players/m/mannini01.html\">Nico Mannion</a>,\n",
       " ',\\xa0',\n",
       " <a href=\"/players/s/smailal01.html\">Alen Smailagić</a>,\n",
       " ',\\xa0',\n",
       " <a href=\"/players/t/thompkl01.html\">Klay Thompson</a>,\n",
       " '\\xa0\\xa0\\xa0',\n",
       " <span><strong>BRK</strong> </span>,\n",
       " <a href=\"/players/c/chiozch01.html\">Chris Chiozza</a>,\n",
       " ',\\xa0',\n",
       " <a href=\"/players/c/claxtni01.html\">Nic Claxton</a>,\n",
       " '\\xa0\\xa0\\xa0']"
      ]
     },
     "execution_count": 103,
     "metadata": {},
     "output_type": "execute_result"
    }
   ],
   "source": [
    "inactive = game_stats.div.contents\n",
    "inactive\n"
   ]
  },
  {
   "cell_type": "code",
   "execution_count": 70,
   "metadata": {},
   "outputs": [],
   "source": [
    "@dataclass \n",
    "class TeamGameData:\n",
    "    starters: list[int] = field(default_factory=list)\n",
    "    bench: list[(int, bool)] = field(default_factory=list)\n",
    "    inactive: list[int] = field(default_factory=list)\n",
    "\n"
   ]
  },
  {
   "cell_type": "code",
   "execution_count": 89,
   "metadata": {},
   "outputs": [],
   "source": [
    "@dataclass\n",
    "class Official:\n",
    "    name: str\n",
    "    br_id: str"
   ]
  },
  {
   "cell_type": "code",
   "execution_count": 85,
   "metadata": {},
   "outputs": [],
   "source": [
    "team_data = { home_id: TeamGameData(), away_id: TeamGameData()}"
   ]
  },
  {
   "cell_type": "code",
   "execution_count": 90,
   "metadata": {},
   "outputs": [],
   "source": [
    "officials = []"
   ]
  },
  {
   "cell_type": "code",
   "execution_count": 88,
   "metadata": {},
   "outputs": [
    {
     "data": {
      "text/plain": [
       "{1610612751: TeamGameData(starters=[], bench=[], inactive=[1629185, 1629651]),\n",
       " 1610612744: TeamGameData(starters=[], bench=[], inactive=[203110, 1630185, 1629346, 202691])}"
      ]
     },
     "execution_count": 88,
     "metadata": {},
     "output_type": "execute_result"
    }
   ],
   "source": [
    "team_data"
   ]
  },
  {
   "cell_type": "code",
   "execution_count": 87,
   "metadata": {},
   "outputs": [],
   "source": [
    "current_team = None\n",
    "for tag in inactive:\n",
    "    if tag.name == 'span':\n",
    "        abr = tag.strong.string\n",
    "        current_team = abr_id_map[abr]\n",
    "        ros = season.team_seasons[current_team].roster\n",
    "    elif tag.name == 'a':\n",
    "        br_id = tag['href'].split('/')[-1][:-5]\n",
    "        try:\n",
    "            id = ros[ros.br_id == br_id].id.item()\n",
    "        except ValueError:\n",
    "            # for players who haven't played any games this season, like Klay\n",
    "            name = tag.string\n",
    "            id = season.team_seasons[current_team].roster_df[season.team_seasons[current_team].roster_df.PLAYER == name].PLAYER_ID.item()\n",
    "        team_data[current_team].inactive.append(id)\n"
   ]
  },
  {
   "cell_type": "code",
   "execution_count": 100,
   "metadata": {},
   "outputs": [],
   "source": [
    "def seconds_from_time(time: str) -> int:\n",
    "    \"\"\"\n",
    "    Return the amount of seconds represented by str time\n",
    "\n",
    "    Args:\n",
    "        time (str): time in 'm:ss' or 'mm:ss' format\n",
    "\n",
    "    Returns:\n",
    "        int:\n",
    "    \"\"\"\n",
    "    [min, sec] = time.split(':')\n",
    "    return int(min) * 60 + int(sec)\n"
   ]
  },
  {
   "cell_type": "code",
   "execution_count": 97,
   "metadata": {},
   "outputs": [
    {
     "data": {
      "text/plain": [
       "[Official(name='Nick Buchert', br_id='bucheni99r'),\n",
       " Official(name='Scott Twardoski', br_id='twardsc99r'),\n",
       " Official(name='Zach Zarba', br_id='zarbaza99r')]"
      ]
     },
     "execution_count": 97,
     "metadata": {},
     "output_type": "execute_result"
    }
   ],
   "source": [
    "for tag in official_tags:\n",
    "    br_id = tag['href'].split('/')[-1][:-5]\n",
    "    name = tag.string\n",
    "    officials.append(Official(name, br_id))\n",
    "officials"
   ]
  },
  {
   "cell_type": "code",
   "execution_count": 101,
   "metadata": {},
   "outputs": [],
   "source": [
    "for team_id in [home_id, away_id]:\n",
    "    team_abr = get_team_abr(team_id, season.name)\n",
    "    rows = soup.find(id=f\"box-{team_abr}-game-basic\").tbody.find_all('tr')\n",
    "    ros = season.team_seasons[team_id].roster\n",
    "    \n",
    "    for row in rows[:5]:\n",
    "        # starters\n",
    "        br_id = row.find(\"th\")['data-append-csv']\n",
    "        id = ros[ros.br_id == br_id].id.item()\n",
    "        team_data[team_id].starters.append(id)\n",
    "        \n",
    "    for row in rows[6:]:\n",
    "        # bench\n",
    "        br_id = row.find(\"th\")['data-append-csv']\n",
    "        id = ros[ros.br_id == br_id].id.item()\n",
    "        did_play = row.find(\"td\")['data-stat'] != 'reason'\n",
    "        team_data[team_id].bench.append((id, did_play))\n",
    "        \n",
    "    \n"
   ]
  },
  {
   "cell_type": "code",
   "execution_count": 102,
   "metadata": {},
   "outputs": [
    {
     "data": {
      "text/plain": [
       "{1610612751: TeamGameData(starters=[202681, 201142, 203925, 203915, 201599, 202681, 201142, 203925, 203915, 201599], bench=[1627747, 1629013, 1628386, 201145, 1627752, 1629617, 1628971, 1627789, 1629066, 204020, (1627747, True), (1629013, True), (1628386, True), (201145, True), (1627752, True), (1629617, True), (1628971, True), (1627789, True), (1629066, True), (204020, True)], inactive=[1629185, 1629651]),\n",
       " 1610612744: TeamGameData(starters=[203952, 201939, 1626162, 1630164, 1629672, 203952, 201939, 1626162, 1630164, 1629672], bench=[202954, 1629673, 1629308, 1627737, 1627814, 203145, 1626172, 1628539, (202954, True), (1629673, True), (1629308, True), (1627737, True), (1627814, True), (203145, True), (1626172, True), (1628539, True)], inactive=[203110, 1630185, 1629346, 202691])}"
      ]
     },
     "execution_count": 102,
     "metadata": {},
     "output_type": "execute_result"
    }
   ],
   "source": [
    "team_data\n"
   ]
  },
  {
   "cell_type": "code",
   "execution_count": 116,
   "metadata": {},
   "outputs": [
    {
     "data": {
      "text/plain": [
       "'2001'"
      ]
     },
     "execution_count": 116,
     "metadata": {},
     "output_type": "execute_result"
    }
   ],
   "source": [
    "season_name = \"2000-01\"\n",
    "season_name[:2]+season_name[5:]\n"
   ]
  },
  {
   "cell_type": "code",
   "execution_count": 120,
   "metadata": {},
   "outputs": [
    {
     "ename": "AttributeError",
     "evalue": "'dict_values' object has no attribute 'find_team_by_abbreviation'",
     "output_type": "error",
     "traceback": [
      "\u001b[1;31m---------------------------------------------------------------------------\u001b[0m",
      "\u001b[1;31mAttributeError\u001b[0m                            Traceback (most recent call last)",
      "Input \u001b[1;32mIn [120]\u001b[0m, in \u001b[0;36m<module>\u001b[1;34m\u001b[0m\n\u001b[1;32m----> 1\u001b[0m \u001b[43mteams\u001b[49m\u001b[38;5;241;43m.\u001b[39;49m\u001b[43mfind_team_by_abbreviation\u001b[49m(\u001b[38;5;124m'\u001b[39m\u001b[38;5;124mWAS\u001b[39m\u001b[38;5;124m'\u001b[39m)\n",
      "\u001b[1;31mAttributeError\u001b[0m: 'dict_values' object has no attribute 'find_team_by_abbreviation'"
     ]
    }
   ],
   "source": [
    "teams.find_team_by_abbreviation('WAS')"
   ]
  },
  {
   "cell_type": "code",
   "execution_count": 78,
   "metadata": {},
   "outputs": [
    {
     "data": {
      "text/plain": [
       "datetime.datetime(1977, 4, 27, 0, 0)"
      ]
     },
     "execution_count": 78,
     "metadata": {},
     "output_type": "execute_result"
    }
   ],
   "source": [
    "\n",
    "ds = \"April 27, 1977\"\n",
    "datetime.datetime.strptime(ds, \"%B %d, %Y\")\n"
   ]
  },
  {
   "cell_type": "code",
   "execution_count": 38,
   "metadata": {},
   "outputs": [
    {
     "data": {
      "text/plain": [
       "{'id': 78197,\n",
       " 'full_name': 'Michael Smith',\n",
       " 'first_name': 'Michael',\n",
       " 'last_name': 'Smith',\n",
       " 'is_active': False}"
      ]
     },
     "execution_count": 38,
     "metadata": {},
     "output_type": "execute_result"
    }
   ],
   "source": [
    "players.find_player_by_id(78197)\n"
   ]
  },
  {
   "cell_type": "code",
   "execution_count": 39,
   "metadata": {},
   "outputs": [],
   "source": [
    "start = 0\n",
    "begin_date = \"2000-05-01\"\n",
    "end_date = \"2000-07-01\"\n",
    "url = f\"http://www.prosportstransactions.com/basketball/Search/SearchResults.php?Player=&Team=&BeginDate={begin_date}&EndDate={end_date}&PlayerMovementChkBx=yes&Submit=Search&start={str(start)}\"\n",
    "html = urlopen(url)\n",
    "soup = BeautifulSoup(html)\n",
    "# soup.find_all\n",
    "\n",
    "\n"
   ]
  },
  {
   "cell_type": "code",
   "execution_count": 40,
   "metadata": {},
   "outputs": [],
   "source": [
    "transactions = []\n",
    "table_rows = soup.find_all('div')[3].table.find_all('tr')\n",
    "if len(table_rows) == 1:\n",
    "    print(\"no more\")\n",
    "for trans in table_rows[1:]:\n",
    "    trans_data = trans.find_all('td')\n",
    "\n",
    "    date = trans_data[0].contents[0]\n",
    "\n",
    "    team = trans_data[1].contents[0].strip()\n",
    "\n",
    "    acquired = trans_data[2].contents[0]\n",
    "    if acquired:\n",
    "        acquired = acquired[3:]\n",
    "\n",
    "    relinquished = trans_data[3].contents[0]\n",
    "    if relinquished:\n",
    "        relinquished = relinquished[3:]\n",
    "\n",
    "    notes = trans_data[4].contents[0]\n",
    "\n",
    "    transactions += (date, team, acquired, relinquished, notes)"
   ]
  },
  {
   "cell_type": "code",
   "execution_count": 56,
   "metadata": {},
   "outputs": [],
   "source": [
    "dir = \"C:/Users/bhalb/nbaproject/data/transactions1999.csv\"\n",
    "\n",
    "df= pd.DataFrame(trans, columns=[\"date\", \"team\", \"acquired\", \"relinquished\", \"notes\"])\n",
    "df.to_csv(dir, index=False)\n"
   ]
  },
  {
   "cell_type": "code",
   "execution_count": 120,
   "metadata": {},
   "outputs": [],
   "source": [
    "def process_name(name: str):\n",
    "    name = name.strip()\n",
    "    if name and name[0] == \"•\":\n",
    "        name = name[2:]\n",
    "    return name\n",
    "\n",
    "def get_player_transactions(year: int):\n",
    "    begin_date = f\"{str(year)}-01-01\"\n",
    "    end_date = f\"{str(year)}-12-31\"\n",
    "    url = f\"http://www.prosportstransactions.com/basketball/Search/SearchResults.php?Player=&Team=&BeginDate={begin_date}&EndDate={end_date}&PlayerMovementChkBx=yes&Submit=Search&start=\"\n",
    "    start = 0\n",
    "    \n",
    "    transactions = []\n",
    "\n",
    "    while True:\n",
    "        # print(\"Start: \", start)\n",
    "        current_url = url + str(start)\n",
    "        start += 25\n",
    "\n",
    "        html = urlopen(current_url)\n",
    "        soup = BeautifulSoup(html)\n",
    "        table_rows = soup.find_all('div')[3].table.find_all('tr')\n",
    "        if len(table_rows) == 1:\n",
    "            break\n",
    "        \n",
    "        for trans in table_rows[1:]:\n",
    "            trans_data = trans.find_all('td')\n",
    "\n",
    "            date = trans_data[0].contents[0]\n",
    "\n",
    "            team = trans_data[1].contents[0].strip()\n",
    "\n",
    "            if trans_data[2].contents[0]:\n",
    "                acquired = list(map(process_name, trans_data[2].contents[::2]))\n",
    "            else:\n",
    "                acquired = []\n",
    "            # if acquired:\n",
    "            #     acquired = acquired[3:]\n",
    "\n",
    "            if trans_data[3].contents[0]:\n",
    "                relinquished = list(map(process_name, trans_data[3].contents[::2]))\n",
    "            else:\n",
    "                relinquished = []\n",
    "            # if relinquished:\n",
    "            #     relinquished = relinquished[3:]\n",
    "\n",
    "            notes = trans_data[4].contents[0]\n",
    "\n",
    "            transactions.append((date, team, acquired, relinquished, notes))\n",
    "            \n",
    "    return transactions\n",
    "\n"
   ]
  },
  {
   "cell_type": "code",
   "execution_count": 105,
   "metadata": {},
   "outputs": [],
   "source": [
    "trans = get_player_transactions(2000)\n"
   ]
  },
  {
   "cell_type": "code",
   "execution_count": 111,
   "metadata": {},
   "outputs": [],
   "source": [
    "def save_transaction_data(year):\n",
    "    path = f\"C:/Users/bhalb/nbaproject/data/transactions{str(year)}.json\"\n",
    "    trans = get_player_transactions(year)\n",
    "    df = pd.DataFrame(\n",
    "        trans, columns=[\"date\", \"team\", \"acquired\", \"relinquished\", \"notes\"])\n",
    "    df.to_json(path)\n"
   ]
  },
  {
   "cell_type": "code",
   "execution_count": 123,
   "metadata": {},
   "outputs": [],
   "source": [
    "for i in range(2001, 2022):\n",
    "    save_transaction_data(i)"
   ]
  },
  {
   "cell_type": "code",
   "execution_count": 12,
   "metadata": {},
   "outputs": [],
   "source": [
    "def indicates_player_signing(note: str):\n",
    "\n",
    "    player_signing_starts = (\n",
    "        \"waived\",\n",
    "        \"signed\",\n",
    "        \"re-signed\",\n",
    "        \"resigned\",\n",
    "        \"re-resigned\",\n",
    "        \"deceased\",\n",
    "        \"player became a free agent\",\n",
    "        \"contract expired\",\n",
    "        \"claimed off waivers\",\n",
    "        \"retired\",\n",
    "        \"reached agreement to buy out contract\",\n",
    "        \"agreed to contract buyout\",\n",
    "        \"player agreed to waive\",\n",
    "        \"announced retirement\",\n",
    "        \"team announced that player will retire\",\n",
    "        \"player exercised\",\n",
    "        \"team exercised\",\n",
    "        \"player declined\",\n",
    "        \"team declined\",\n",
    "        \"player opted out\",\n",
    "        \"player became\",\n",
    "        \"exercised contract option\",\n",
    "        \"declined to exercise team option\",\n",
    "        \"player elected\",\n",
    "        \"lost free agent\",\n",
    "        \"lost restricted free agent\",\n",
    "        \"lost restricted free agnet\",\n",
    "        \"lost restrictred\",\n",
    "        # \"renounced rights\",\n",
    "        \"team rescinded\",\n",
    "        \"contract voided by NBA\",\n",
    "        \"un-retired and signed\",\n",
    "        \"player reneged on contract\",\n",
    "        \"player did not report to training camp\",\n",
    "        \"reached a $1.5M buyout agreement\",\n",
    "        \"reached a buyout agreement\",\n",
    "        \"team bought out contract\",\n",
    "        \"terminated contract\",\n",
    "        \"team tendered qualifying offer\",\n",
    "        \"extended qualifying offer\",\n",
    "        \"team withdrew qualifying offer\",\n",
    "        \"team extended qualifying offer\",\n",
    "        \"player declared free agency\",\n",
    "        \"became a free agent\",\n",
    "        \"declared free agency\",\n",
    "        \"lost unrestricted free agent\",\n",
    "        \"released\",\n",
    "        \"team terminated contract\",\n",
    "        \"lost in 2004 NBA expansion draft\",\n",
    "        \"2004 NBA expansion draft pick\",\n",
    "        \"became an unrestricted free agent\",\n",
    "        \"contract voided\",\n",
    "        \"player signed\",\n",
    "    )\n",
    "\n",
    "    # not re-signed as head coach\n",
    "    if note.startswith(player_signing_starts):\n",
    "        return True\n",
    "\n",
    "    return False\n",
    "\n",
    "def indicates_ignore(note: str):\n",
    "    ignore_starts = (\n",
    "        \"agreed to terms\",\n",
    "        \"agreed to trems\",\n",
    "        \"failed physical\",\n",
    "        \"re-signed as\",\n",
    "        \"resigned as\",\n",
    "        \"retired as\",\n",
    "        \"resigned/retired as\",\n",
    "        \"re--signed as\",\n",
    "        \"hired\",\n",
    "        \"fired\",\n",
    "        \"transfer of ownership\",\n",
    "        \"purchased team\",\n",
    "        \"purchase of team\",\n",
    "        \"promoted to\",\n",
    "        \"re-assigned\",\n",
    "        \"replaced as\",\n",
    "        \"retained as\",\n",
    "        \"extended contract\",\n",
    "        \"named\",\n",
    "        \"demoted\",\n",
    "        \"moved from\",\n",
    "        \"resumed role\",\n",
    "        \"NBA approved purchase of team\",\n",
    "        \"agreed to sell team\",\n",
    "        \"agreed to purchase team\",\n",
    "        \"reached agreement for transfer of ownership\",\n",
    "        \"expansion committee\",\n",
    "        \"assistant coach\",\n",
    "        \"special assistant coach\",\n",
    "        \"agreed to re-sign as head coach\",\n",
    "        \"released assistant\",\n",
    "        \"interim\",\n",
    "        \"promoted\",\n",
    "        \"team added\",\n",
    "        \"added to\",\n",
    "        \"London arbitrator\",\n",
    "        \"arbitrator\",\n",
    "        \"exercised their option to claim\",\n",
    "        \"Announced they will exercise the option on\",\n",
    "        \"announced he will return as head coach\",\n",
    "        \"formally re-signed as head coach\",\n",
    "        \"contract as head coach\",\n",
    "        \"ammended 8/12/01 trade\",\n",
    "        \"awarded by NBA\",\n",
    "        \"activated from IL\",\n",
    "        \"reached contract termination settlement\",\n",
    "        \"NBA Board\",\n",
    "        \"NBA approved sale\",\n",
    "        \"team used amnesty\",\n",
    "        \"agreed to step down\",\n",
    "        \"contract altered\",\n",
    "        \"compensation\",\n",
    "        \"purchased\",\n",
    "        \"(re-?)signed as\",\n",
    "        \"declined to\",\n",
    "        \"reportedly\",\n",
    "        \"renounced their traded player exceptions\",\n",
    "        \"renounced\",\n",
    "        \"renoucned\",\n",
    "        \"reassigned\",\n",
    "        \"2000 NBA draft\",\n",
    "        \"2001 NBA draft\",\n",
    "        \"2002 NBA draft\",\n",
    "        \"2003 NBA draft\",\n",
    "        \"2004 NBA draft\",\n",
    "        \"2005 NBA draft\",\n",
    "        \"2006 NBA draft\",\n",
    "        \"2007 NBA draft\",\n",
    "        \"2008 NBA draft\",\n",
    "        \"2009 NBA draft\",\n",
    "        \"2010 NBA draft\",\n",
    "        \"2011 NBA draft\",\n",
    "        \"2012 NBA draft\",\n",
    "        \"2013 NBA draft\",\n",
    "        \"2014 NBA draft\",\n",
    "        \"2015 NBA draft\",\n",
    "        \"2016 NBA draft\",\n",
    "        \"2017 NBA draft\",\n",
    "        \"2018 NBA draft\",\n",
    "        \"2019 NBA draft\",\n",
    "        \"2020 NBA draft\",\n",
    "        \"2021 NBA draft\",\n",
    "    )\n",
    "    # not re-signed as head coach\n",
    "\n",
    "    if note.startswith(ignore_starts):\n",
    "        return True\n",
    "\n",
    "    return False\n",
    "\n",
    "def indicates_trade(note: str):\n",
    "    trade_starts = (\n",
    "        \"trade\",\n",
    "        \"announced trade\",\n",
    "        \"3-team trade\",\n",
    "        \"4-team trade\",\n",
    "        \"5-team trade\",\n",
    "        \"6-team trade\",\n",
    "        \"earlier trade with\",\n",
    "        \"sent to\", # just picks?\n",
    "        \"received from\",\n",
    "    )\n",
    "    # rights to\n",
    "    # 2000\n",
    "    if note.startswith(trade_starts):\n",
    "        return True\n",
    "    return False"
   ]
  },
  {
   "cell_type": "code",
   "execution_count": 13,
   "metadata": {},
   "outputs": [
    {
     "name": "stdout",
     "output_type": "stream",
     "text": [
      "microfracture surgery on right knee (out for season) ['Sean May'] ['']\n"
     ]
    }
   ],
   "source": [
    "# import csv\n",
    "\n",
    "year = 2007\n",
    "path = f\"C:/Users/bhalb/nbaproject/data/transactions{str(year)}.json\"\n",
    "# with open(path, newline='') as csvfile:\n",
    "#     reader = csv.reader(csvfile, \n",
    "df = pd.read_json(path)\n",
    "season_start = \"2000-10-31\"\n",
    "for row in df.itertuples():\n",
    "    note = row.notes.strip()\n",
    "    if indicates_ignore(note):\n",
    "        continue\n",
    "    if indicates_player_signing(note):\n",
    "        continue\n",
    "    if indicates_trade(note):\n",
    "        continue\n",
    "    print(note, row.acquired, row.relinquished)\n",
    "    # TODO when player added to team, remove from old team\n",
    "    break\n",
    "    if len(row.acquired) > 1:\n",
    "        \n",
    "        break\n",
    "    # if d.date >= season_start:\n",
    "    #     if \n",
    "    #     print(d)\n",
    "    #     break\n"
   ]
  },
  {
   "cell_type": "code",
   "execution_count": null,
   "metadata": {
    "collapsed": true
   },
   "outputs": [],
   "source": [
    "def getTeamRatings():\n",
    "    url = 'https://www.basketball-reference.com/leagues/NBA_2020_ratings.html'\n",
    "    html = urlopen(url)\n",
    "    soup = BeautifulSoup(html)\n",
    "    headers = [th.getText() for th in soup.findAll('tr')[1].findAll('th')]\n",
    "    rows = soup.findAll('tr') # 2 is first team\n",
    "    team_stats = [[i-1]+[td.getText() for td in rows[i].findAll('td')] for i in range(2,len(rows))]\n",
    "    stats = pd.DataFrame(team_stats, columns = headers)\n",
    "    \n",
    "    return stats\n",
    "\n",
    "stats = getTeamRatings()\n",
    "stats.head(30)"
   ]
  },
  {
   "cell_type": "code",
   "execution_count": null,
   "metadata": {},
   "outputs": [],
   "source": [
    "# get lineup data\n",
    "url = 'https://stats.nba.com/lineups/advanced/?Season=2018-19&SeasonType=Regular%20Season'\n",
    "html = urlopen(url)\n",
    "soup = BeautifulSoup(html)\n",
    "#headers = [th.getText() for th in soup.findAll('tr')[1].findAll('th')]\n",
    "soup"
   ]
  }
 ],
 "metadata": {
  "kernelspec": {
   "display_name": "Python 3",
   "language": "python",
   "name": "python3"
  },
  "language_info": {
   "codemirror_mode": {
    "name": "ipython",
    "version": 3
   },
   "file_extension": ".py",
   "mimetype": "text/x-python",
   "name": "python",
   "nbconvert_exporter": "python",
   "pygments_lexer": "ipython3",
   "version": "3.9.2"
  }
 },
 "nbformat": 4,
 "nbformat_minor": 2
}
