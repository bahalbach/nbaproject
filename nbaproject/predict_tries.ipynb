{
 "cells": [
  {
   "cell_type": "code",
   "execution_count": 1,
   "metadata": {},
   "outputs": [],
   "source": [
    "%load_ext autoreload\n",
    "%autoreload 2"
   ]
  },
  {
   "cell_type": "code",
   "execution_count": 2,
   "metadata": {},
   "outputs": [
    {
     "data": {
      "text/plain": [
       "(1107, 123)"
      ]
     },
     "execution_count": 2,
     "metadata": {},
     "output_type": "execute_result"
    }
   ],
   "source": [
    "from nba import NbaTracker\n",
    "from nba_api.stats.static.players import find_player_by_id\n",
    "from nba_api.stats.static.teams import find_team_name_by_id\n",
    "from genericpath import isdir\n",
    "import tensorflow as tf\n",
    "from sklearn.pipeline import make_pipeline\n",
    "from sklearn.preprocessing import OneHotEncoder, LabelBinarizer, OrdinalEncoder, StandardScaler\n",
    "from sklearn.compose import ColumnTransformer\n",
    "import pandas as pd\n",
    "import numpy as np\n",
    "from nba_dataclasses import EventType, ResultClass\n",
    "from sklearn.model_selection import train_test_split\n",
    "\n",
    "nbaTracker = NbaTracker()\n",
    "season_name = \"2015-16\"\n",
    "nbaTracker.add_season(season_name)\n",
    "season = nbaTracker.seasons[season_name]\n",
    "season.load_possession_data()\n",
    "games = season.games\n",
    "\n",
    "train_game_ids, test_game_ids = train_test_split(\n",
    "    list(games.keys()), test_size=0.1, random_state=432536)\n",
    "len(train_game_ids), len(test_game_ids)\n"
   ]
  },
  {
   "cell_type": "code",
   "execution_count": 3,
   "metadata": {},
   "outputs": [],
   "source": [
    "train_games = [games[game_id] for game_id in train_game_ids]\n",
    "game = train_games[0]\n",
    "for ge in game.game_events:\n",
    "    if ge.event_type == EventType.PossessionTry:\n",
    "        break"
   ]
  },
  {
   "cell_type": "code",
   "execution_count": 5,
   "metadata": {},
   "outputs": [],
   "source": [
    "from nba_dataclasses import PossessionTry\n",
    "result: PossessionTry = ge.result\n"
   ]
  },
  {
   "cell_type": "code",
   "execution_count": 7,
   "metadata": {},
   "outputs": [
    {
     "data": {
      "text/plain": [
       "0"
      ]
     },
     "execution_count": 7,
     "metadata": {},
     "output_type": "execute_result"
    }
   ],
   "source": [
    "result.num_fts"
   ]
  },
  {
   "cell_type": "code",
   "execution_count": null,
   "metadata": {},
   "outputs": [],
   "source": [
    "\n",
    "columns = ['result_class', 'result_team', 'num_fts', 'shot_type',\n",
    "           'is_blocked', 'is_putback', 'in_penalty', 'offense_is_home', 'score_margin']\n",
    "non_player_columns = columns[:]\n",
    "num_rebound_inputs = 6\n",
    "\n",
    "catagorical_attributes = ['shot_type']\n",
    "binary_attributes = ['is_blocked', 'is_putback',\n",
    "                     'in_penalty', 'offense_is_home']\n",
    "numerical_attributes = ['score_margin']\n",
    "\n",
    "def get_try_df_from_games(games):\n",
    "    tries = []\n",
    "    for game in games:\n",
    "        last_game_event = None\n",
    "        for ge in game.game_events:\n",
    "            if ge.event_type == EventType.PossessionTry:\n",
    "                result_class = ge.result.result_class\n",
    "                # if result_class == ResultClass.JUMPBALL:\n",
    "                #     result_team = 2\n",
    "                if result_class in {\n",
    "                        ResultClass.OFF_REBOUND, ResultClass.FT, ResultClass.SAME_TEAM}:\n",
    "                    result_team = 1\n",
    "                else:\n",
    "                    result_team = 0\n",
    "                num_fts = ge.result.num_fts\n",
    "                shot_type = ge.result.shot_type\n",
    "                is_blocked = ge.result.is_blocked\n",
    "                is_putback = last_game_event.is_putback\n",
    "                in_penalty = ge.in_penalty\n",
    "                offense_is_home = ge.offense_is_home\n",
    "                score_margin = ge.score_margin\n",
    "\n",
    "                rebound = [\n",
    "                    result_class,\n",
    "                    result_team,\n",
    "                    num_fts,\n",
    "                    shot_type,\n",
    "                    is_blocked,\n",
    "                    is_putback,\n",
    "                    in_penalty,\n",
    "                    offense_is_home,\n",
    "                    score_margin,\n",
    "                ]\n",
    "\n",
    "                rebounds.append(rebound)\n",
    "            last_game_event = ge\n",
    "    return pd.DataFrame(rebounds, columns=columns)\n"
   ]
  }
 ],
 "metadata": {
  "interpreter": {
   "hash": "a8590208259839df94eb6993e24edc5fa127f3c6a8a3318c28674b5b9a9a2d23"
  },
  "kernelspec": {
   "display_name": "Python 3.9.2 ('.venv39': venv)",
   "language": "python",
   "name": "python3"
  },
  "language_info": {
   "codemirror_mode": {
    "name": "ipython",
    "version": 3
   },
   "file_extension": ".py",
   "mimetype": "text/x-python",
   "name": "python",
   "nbconvert_exporter": "python",
   "pygments_lexer": "ipython3",
   "version": "3.9.2"
  },
  "orig_nbformat": 4
 },
 "nbformat": 4,
 "nbformat_minor": 2
}
