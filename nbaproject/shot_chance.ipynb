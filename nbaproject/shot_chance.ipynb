{
 "cells": [
  {
   "cell_type": "code",
   "execution_count": 1,
   "metadata": {},
   "outputs": [],
   "source": [
    "import numpy as np\n",
    "import pandas as pd\n",
    "from sklearn.model_selection import train_test_split"
   ]
  },
  {
   "cell_type": "code",
   "execution_count": 2,
   "metadata": {},
   "outputs": [
    {
     "name": "stdout",
     "output_type": "stream",
     "text": [
      "Loaded  2000-01 16:49:43.762764\n",
      "Loaded  2001-02 16:49:50.000511\n",
      "Loaded  2002-03 16:49:55.720156\n",
      "Loaded  2003-04 16:50:00.678208\n",
      "Loaded  2004-05 16:50:05.762097\n"
     ]
    }
   ],
   "source": [
    "from datetime import datetime\n",
    "from nba import NbaTracker\n",
    "import importlib\n",
    "import nba\n",
    "importlib.reload(nba)\n",
    "\n",
    "# data starts from 2000-01\n",
    "seasons = [\n",
    "    \"2000-01\",\n",
    "    \"2001-02\",\n",
    "    \"2002-03\",\n",
    "    \"2003-04\",\n",
    "    \"2004-05\",\n",
    "    \"2005-06\",\n",
    "    \"2006-07\",\n",
    "    \"2007-08\",\n",
    "    \"2008-09\",\n",
    "    \"2009-10\",\n",
    "    \"2010-11\",\n",
    "    \"2011-12\",\n",
    "    \"2012-13\",\n",
    "    \"2013-14\",\n",
    "    \"2014-15\",\n",
    "    \"2015-16\",\n",
    "    \"2016-17\",\n",
    "    \"2017-18\",\n",
    "    \"2018-19\",\n",
    "    \"2019-20\",\n",
    "    \"2020-21\"\n",
    "]  # 19-20 was bubble season\n",
    "\n",
    "nbaTracker = NbaTracker()\n",
    "for season_name in seasons[:5]:\n",
    "    nbaTracker.load_season(season_name)\n",
    "    print(\"Loaded \", season_name, datetime.now().time())\n"
   ]
  },
  {
   "cell_type": "code",
   "execution_count": 1,
   "metadata": {},
   "outputs": [
    {
     "ename": "NameError",
     "evalue": "name 'nbaTracker' is not defined",
     "output_type": "error",
     "traceback": [
      "\u001b[1;31m---------------------------------------------------------------------------\u001b[0m",
      "\u001b[1;31mNameError\u001b[0m                                 Traceback (most recent call last)",
      "Input \u001b[1;32mIn [1]\u001b[0m, in \u001b[0;36m<module>\u001b[1;34m\u001b[0m\n\u001b[1;32m----> 1\u001b[0m \u001b[43mnbaTracker\u001b[49m\n",
      "\u001b[1;31mNameError\u001b[0m: name 'nbaTracker' is not defined"
     ]
    }
   ],
   "source": [
    "nbaTracker"
   ]
  },
  {
   "cell_type": "code",
   "execution_count": null,
   "metadata": {},
   "outputs": [],
   "source": [
    "# build shots\n",
    "# y = is_made\n",
    "# X = [shot_chance, ...off_team_players, ...def_team_players]\n",
    "# see if off_team_players or def_team_players add any value\n",
    "    # they don't, no need to add\n",
    "    \n",
    "add_off = True\n",
    "add_def = True\n",
    "num_features = 2\n",
    "\n",
    "num_players = 0\n",
    "player_indicies = {}\n",
    "for season_name in seasons[:1]:\n",
    "    season = nbaTracker.seasons[season_name]\n",
    "    for player_id in season.player_seasons:\n",
    "        if player_id not in player_indicies:\n",
    "            player_indicies[player_id] = num_players\n",
    "            num_players += 1\n",
    "if add_off:\n",
    "    num_features += num_players\n",
    "if add_def:\n",
    "    num_features += num_players\n",
    "\n",
    "shots = []\n",
    "for season_name in seasons[:1]:\n",
    "    season = nbaTracker.seasons[season_name]\n",
    "    for game in season.games:\n",
    "        for pos in game.possessions:\n",
    "            for shot in pos.shots:\n",
    "                shot_data = np.zeros(num_features+1)\n",
    "                shot_data[0] = shot.is_made\n",
    "                shot_data[1] = shot.shooter\n",
    "                shot_data[2] = shot.shot_type\n",
    "                if add_off:\n",
    "                    for pid in shot.lineup.off_players:\n",
    "                        index = 3 + player_indicies[pid]\n",
    "                        shot_data[index] = 1\n",
    "                if add_def:\n",
    "                    for pid in shot.lineup.def_players:\n",
    "                        index = 3 + player_indicies[pid]\n",
    "                        if add_off:\n",
    "                            index += num_players\n",
    "                        shot_data[index] = 1\n",
    "                shots.append(shot_data)\n",
    "shots = np.array(shots, dtype=int)\n",
    "train, test = train_test_split(shots, random_state=342119)\n"
   ]
  },
  {
   "cell_type": "code",
   "execution_count": null,
   "metadata": {},
   "outputs": [],
   "source": [
    "# build shot chances by shooter, shot_Type from train set\n",
    "from sklearn.base import BaseEstimator, TransformerMixin\n",
    "\n",
    "\n",
    "class ShotChanceFromShot(BaseEstimator, TransformerMixin):\n",
    "    def __init__(self, num_players, keep_shooter=False, keep_shot_type=False, keep_off=False, keep_def=False) -> None:\n",
    "        super().__init__()\n",
    "        self.keep_shooter = keep_shooter\n",
    "        self.keep_shot_type = keep_shot_type\n",
    "        self.keep_off = keep_off\n",
    "        self.keep_def = keep_def\n",
    "        self.num_players = num_players\n",
    "        self.shots = {}\n",
    "        # { shooter: (attemps, makes)}\n",
    "\n",
    "    def fit(self, X, y):\n",
    "        for i, shot in enumerate(X):\n",
    "            is_made = y[i]\n",
    "            shooter = shot[0]\n",
    "            shot_type = shot[1]\n",
    "            if shooter not in self.shots:\n",
    "                self.shots[shooter] = ([0]*5, [0]*5)\n",
    "            self.shots[shooter][0][shot_type] += 1\n",
    "            if is_made:\n",
    "                self.shots[shooter][1][shot_type] += 1\n",
    "        return self\n",
    "\n",
    "    def transform(self, X, y=None):\n",
    "        shot_chances = np.zeros((len(X), 1))\n",
    "        for i, shot in enumerate(X):\n",
    "            shooter = shot[0]\n",
    "            shot_type = shot[1]\n",
    "            shot_chances[i] = self.shot_chance(shooter, shot_type)\n",
    "        transformed = shot_chances\n",
    "        if self.keep_shooter:\n",
    "            if self.keep_shot_type:\n",
    "                transformed = np.c_[transformed, X[:, 0:2]]\n",
    "            else:\n",
    "                transformed = np.c_[transformed, X[:, 0]]\n",
    "        else:\n",
    "            if self.keep_shot_type:\n",
    "                transformed = np.c_[transformed, X[:, 1]]\n",
    "            else:\n",
    "                pass\n",
    "        if self.keep_off:\n",
    "            if self.keep_def:\n",
    "                transformed = np.c_[transformed,\n",
    "                                    X[:, 2:(self.num_players*2+2)]]\n",
    "            else:\n",
    "                transformed = np.c_[transformed, X[:, 2:self.num_players+2]]\n",
    "        else:\n",
    "            if self.keep_def:\n",
    "                transformed = np.c_[transformed,\n",
    "                                    X[:, (2+self.num_players):(self.num_players*2+2)]]\n",
    "            else:\n",
    "                pass\n",
    "        return transformed\n",
    "\n",
    "    def shot_chance(self, shooter, shot_type):\n",
    "        if shooter not in self.shots:\n",
    "            return 0.5\n",
    "        attemps = self.shots[shooter][0][shot_type]\n",
    "        makes = self.shots[shooter][1][shot_type]\n",
    "        if attemps:\n",
    "            return makes / attemps\n",
    "        return 0.5\n"
   ]
  },
  {
   "cell_type": "code",
   "execution_count": null,
   "metadata": {},
   "outputs": [],
   "source": [
    "from sklearn.linear_model import Ridge, LinearRegression\n",
    "from sklearn.pipeline import Pipeline\n",
    "trf = ShotChanceFromShot(num_players, keep_def=False, keep_off=False)\n",
    "reg = Ridge()\n",
    "pipeline = Pipeline([('trf', trf), ('reg', reg)])\n",
    "\n",
    "# reg.fit(X_train_trf, y_train)\n"
   ]
  },
  {
   "cell_type": "code",
   "execution_count": null,
   "metadata": {},
   "outputs": [],
   "source": [
    "X_train, y_train = train[:,1:], train[:,:1]"
   ]
  },
  {
   "cell_type": "code",
   "execution_count": null,
   "metadata": {},
   "outputs": [],
   "source": [
    "from sklearn.model_selection import cross_val_score\n",
    "scores = cross_val_score(pipeline, X_train, y_train,\n",
    "                         cv=10, scoring=\"neg_mean_squared_error\")\n",
    "print(np.sqrt(-scores).mean())\n"
   ]
  },
  {
   "cell_type": "code",
   "execution_count": 161,
   "metadata": {},
   "outputs": [],
   "source": [
    "# find what momentum is best predictor of shot accuracy for each shot type\n",
    "from collections import defaultdict\n",
    "\n",
    "bias = 0\n",
    "chance = 0.0\n",
    "class RollingAveShotChance:\n",
    "    def __init__(self, momentum) -> None:\n",
    "        self.shots = 0\n",
    "        self.chance = chance\n",
    "        self.momentum = momentum\n",
    "    \n",
    "    def add(self, is_made):\n",
    "        self.chance = self.momentum*self.chance + (1-self.momentum)*is_made\n",
    "        self.shots += 1\n",
    "    \n",
    "    def get(self)-> float:\n",
    "        if self.shots == 0:\n",
    "            return 0.0\n",
    "        return self.chance / (1 - self.momentum ** (self.shots + bias))\n",
    "\n",
    "class SeasonAve:\n",
    "    def __init__(self) -> None:\n",
    "        self.shots = 0\n",
    "        self.makes = 0\n",
    "    def add(self, is_made):\n",
    "        self.shots += 1\n",
    "        self.makes += is_made\n",
    "\n",
    "    def get(self) -> float:\n",
    "        if self.shots == 0:\n",
    "            return 0.0\n",
    "        return self.makes / self.shots\n",
    "\n",
    "\n",
    "# momentums = [0.990, 0.991, 0.992, 0.993, 0.994, 0.995, 0.996, 0.997, 0.998, 0.999]\n",
    "momentums = [0.1, 0.2, 0.3, 0.4, 0.5, 0.6, 0.7, 0.8, 0.9, 0.95]\n",
    "def init() -> list[RollingAveShotChance]:\n",
    "    return [RollingAveShotChance(momentum) for momentum in momentums]\n",
    "\n",
    "momentum_data = [[] for _ in range(len(momentums))]\n",
    "other_data = []\n",
    "y = []\n",
    "\n",
    "\n",
    "target_shot_type = 1 # short mid-range\n",
    "# 0: best is 0.995\n",
    "# 1: best is \n",
    "\n",
    "num_players = 0\n",
    "\n",
    "player_shots: defaultdict[int, list[RollingAveShotChance]] = defaultdict(init)\n",
    "\n",
    "for season_name in seasons[:5]:\n",
    "    season = nbaTracker.seasons[season_name]\n",
    "    \n",
    "    for game in season.games:\n",
    "        for pos in game.possessions:\n",
    "            for shot in pos.shots:\n",
    "                if shot.shot_type == target_shot_type:\n",
    "                    roll_aves = player_shots[shot.shooter]\n",
    "                    if season_name != \"2000-01\":\n",
    "                        for i in range(len(momentums)):\n",
    "                            momentum_data[i].append(roll_aves[i].get())\n",
    "                        y.append(shot.is_made)\n",
    "                        other_data.append([shot.shooter])\n",
    "                        \n",
    "                    for i in range(len(momentums)):\n",
    "                        roll_aves[i].add(shot.is_made)\n",
    "\n",
    "\n",
    "    \n",
    "    \n"
   ]
  },
  {
   "cell_type": "code",
   "execution_count": 162,
   "metadata": {},
   "outputs": [],
   "source": [
    "y = np.array(y)\n",
    "X = np.c_[other_data, np.array(momentum_data).T]"
   ]
  },
  {
   "cell_type": "code",
   "execution_count": 155,
   "metadata": {},
   "outputs": [
    {
     "data": {
      "text/plain": [
       "(238259,)"
      ]
     },
     "execution_count": 155,
     "metadata": {},
     "output_type": "execute_result"
    }
   ],
   "source": [
    "y.shape"
   ]
  },
  {
   "cell_type": "code",
   "execution_count": 163,
   "metadata": {},
   "outputs": [],
   "source": [
    "X_train, X_test, y_train, y_test = train_test_split(X, y, random_state=342119)\n"
   ]
  },
  {
   "cell_type": "code",
   "execution_count": 118,
   "metadata": {},
   "outputs": [
    {
     "name": "stdout",
     "output_type": "stream",
     "text": [
      "0.4856861552965619\n"
     ]
    }
   ],
   "source": [
    "from sklearn.linear_model import Ridge\n",
    "from sklearn.metrics import mean_squared_error\n",
    "\n",
    "index = 0\n",
    "sX = X_train[:, index:index+1]\n",
    "\n",
    "reg = Ridge()\n",
    "reg.fit(sX, y_train)\n",
    "reg_mse = mean_squared_error(y_train, reg.predict(sX))\n",
    "reg_rmse = np.sqrt(reg_mse)\n",
    "print(reg_rmse)"
   ]
  },
  {
   "cell_type": "code",
   "execution_count": 157,
   "metadata": {},
   "outputs": [],
   "source": [
    "from sklearn.base import BaseEstimator, TransformerMixin\n",
    "\n",
    "class SelectMomentum(BaseEstimator, TransformerMixin):\n",
    "    def __init__(self, momentum_index=0) -> None:\n",
    "        self.momentum_index = momentum_index \n",
    "        self.season_aves = defaultdict(SeasonAve)\n",
    "\n",
    "    def fit(self, X, y):\n",
    "        for i, shot in enumerate(X):\n",
    "            is_made = y[i]\n",
    "            shooter = shot[0]\n",
    "            self.season_aves[shooter].add(is_made)\n",
    "        return self\n",
    "        \n",
    "    def transform(self, X, y=None):\n",
    "        shot_chances = np.zeros((len(X), 1))\n",
    "        for i, shot in enumerate(X):\n",
    "            shooter = shot[0]\n",
    "            shot_chances[i] = self.season_aves[shooter].get()\n",
    "        return np.c_[shot_chances, X[:, self.momentum_index+1]]\n",
    "\n",
    "selmo = SelectMomentum()"
   ]
  },
  {
   "cell_type": "code",
   "execution_count": 164,
   "metadata": {},
   "outputs": [
    {
     "name": "stdout",
     "output_type": "stream",
     "text": [
      "{'selmo__momentum_index': 0} Pipeline(steps=[('selmo', SelectMomentum()), ('reg', Ridge(alpha=0.0))])\n"
     ]
    }
   ],
   "source": [
    "from sklearn.model_selection import GridSearchCV, cross_val_score\n",
    "from sklearn.pipeline import Pipeline\n",
    "reg = Ridge(alpha=0.0)\n",
    "\n",
    "pipeline = Pipeline([(\"selmo\", selmo), (\"reg\", reg)])\n",
    "param_grid = [{\"selmo__momentum_index\": range(10)}]\n",
    "grid_search = GridSearchCV(pipeline, param_grid, cv=5, scoring=\"neg_mean_squared_error\", return_train_score=True)\n",
    "grid_search.fit(X_train, y_train)\n",
    "print(grid_search.best_params_, grid_search.best_estimator_)\n",
    "\n",
    "# scores = cross_val_score(reg, sX, y_train, scoring=\"neg_mean_squared_error\", cv=10)\n",
    "# rmse_scores = np.sqrt(-scores)\n",
    "# print(rmse_scores.mean())"
   ]
  },
  {
   "cell_type": "code",
   "execution_count": 165,
   "metadata": {},
   "outputs": [
    {
     "data": {
      "text/plain": [
       "array([ 1.00441121, -0.0048965 ])"
      ]
     },
     "execution_count": 165,
     "metadata": {},
     "output_type": "execute_result"
    }
   ],
   "source": [
    "grid_search.best_estimator_[\"reg\"].coef_"
   ]
  },
  {
   "cell_type": "code",
   "execution_count": 166,
   "metadata": {},
   "outputs": [
    {
     "data": {
      "text/plain": [
       "0.00018457830643814344"
      ]
     },
     "execution_count": 166,
     "metadata": {},
     "output_type": "execute_result"
    }
   ],
   "source": [
    "grid_search.best_estimator_[\"reg\"].intercept_\n"
   ]
  },
  {
   "cell_type": "code",
   "execution_count": null,
   "metadata": {},
   "outputs": [],
   "source": [
    "cvres = grid_search.cv_results_"
   ]
  },
  {
   "cell_type": "code",
   "execution_count": 114,
   "metadata": {},
   "outputs": [
    {
     "data": {
      "text/plain": [
       "array([0.42396976])"
      ]
     },
     "execution_count": 114,
     "metadata": {},
     "output_type": "execute_result"
    }
   ],
   "source": [
    "reg.coef_"
   ]
  }
 ],
 "metadata": {
  "interpreter": {
   "hash": "a8590208259839df94eb6993e24edc5fa127f3c6a8a3318c28674b5b9a9a2d23"
  },
  "kernelspec": {
   "display_name": "Python 3.9.2 64-bit ('.venv39': venv)",
   "language": "python",
   "name": "python3"
  },
  "language_info": {
   "codemirror_mode": {
    "name": "ipython",
    "version": 3
   },
   "file_extension": ".py",
   "mimetype": "text/x-python",
   "name": "python",
   "nbconvert_exporter": "python",
   "pygments_lexer": "ipython3",
   "version": "3.9.2"
  },
  "orig_nbformat": 4
 },
 "nbformat": 4,
 "nbformat_minor": 2
}
