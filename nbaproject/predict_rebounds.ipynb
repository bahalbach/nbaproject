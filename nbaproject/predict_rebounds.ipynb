{
 "cells": [
  {
   "cell_type": "code",
   "execution_count": 1,
   "metadata": {},
   "outputs": [],
   "source": [
    "%load_ext autoreload\n",
    "%autoreload 2\n"
   ]
  },
  {
   "cell_type": "markdown",
   "metadata": {},
   "source": [
    "# Load relevent data\n",
    "\n",
    "rosters\n",
    "\n",
    "processed possession data"
   ]
  },
  {
   "cell_type": "code",
   "execution_count": 2,
   "metadata": {},
   "outputs": [],
   "source": [
    "from nba import NbaTracker\n",
    "from nba_api.stats.static.players import find_player_by_id\n",
    "from nba_api.stats.static.teams import find_team_name_by_id\n",
    "\n",
    "nbaTracker = NbaTracker()\n",
    "season_name = \"2015-16\"\n",
    "nbaTracker.add_season(season_name)\n",
    "season = nbaTracker.seasons[season_name]\n",
    "season.load_possession_data()\n",
    "season.build_player_seasons()\n",
    "games = season.games\n"
   ]
  },
  {
   "cell_type": "markdown",
   "metadata": {},
   "source": [
    "also get player tracking data"
   ]
  },
  {
   "cell_type": "markdown",
   "metadata": {},
   "source": [
    "Create train, test sets"
   ]
  },
  {
   "cell_type": "code",
   "execution_count": 21,
   "metadata": {},
   "outputs": [],
   "source": [
    "from nba_dataclasses import EventType, ResultClass \n",
    "import pandas as pd \n",
    "\n",
    "\n",
    "rebounds = []\n",
    "columns = ['result_class', 'result_team', 'num_fts', 'shot_type', 'is_blocked', 'is_putback', 'in_penalty', 'offense_is_home', 'score_margin']\n",
    "player_attributes = []\n",
    "# result_classes = []\n",
    "rb_count = 0\n",
    "for team in ['off', 'def']:\n",
    "    for player_num in [0, 1, 2, 3, 4]:\n",
    "        player = 'player' + team + str(player_num)\n",
    "        player_attributes.append(player)\n",
    "        columns.append(player)\n",
    "for game_id, game in games.items():\n",
    "    last_game_event = None\n",
    "    for ge in game.game_events:\n",
    "        if ge.event_type == EventType.Rebound:\n",
    "            rb_count += 1\n",
    "            result_class = ge.result.result_class\n",
    "            if result_class == ResultClass.JUMPBALL:\n",
    "                continue\n",
    "                result_team = 2\n",
    "            elif result_class in {\n",
    "                ResultClass.OFF_REBOUND, ResultClass.FT, ResultClass.SAME_TEAM}:\n",
    "                result_team = 1\n",
    "            else: \n",
    "                result_team = 0\n",
    "            num_fts = ge.result.num_fts\n",
    "            shot_type = ge.result.shot_type\n",
    "            is_blocked = ge.result.is_blocked\n",
    "            is_putback = last_game_event.is_putback\n",
    "            in_penalty = ge.in_penalty\n",
    "            offense_is_home = ge.offense_is_home\n",
    "            score_margin = ge.score_margin\n",
    "            rebound = [\n",
    "                result_class,\n",
    "                result_team,\n",
    "                num_fts,\n",
    "                shot_type,\n",
    "                is_blocked,\n",
    "                is_putback,\n",
    "                in_penalty,\n",
    "                offense_is_home,\n",
    "                score_margin,\n",
    "            ]\n",
    "            for team in [0, 1]:\n",
    "                for player_num in [0, 1, 2, 3, 4]:\n",
    "                    rebound.append(ge.lineup.lineup[team][player_num])\n",
    "            \n",
    "            # result_classes.append(result_class)\n",
    "            rebounds.append(rebound)\n",
    "        last_game_event = ge\n",
    "\n",
    "rebounds = pd.DataFrame(rebounds, columns=columns)\n",
    "   \n"
   ]
  },
  {
   "cell_type": "code",
   "execution_count": 22,
   "metadata": {},
   "outputs": [],
   "source": [
    "from sklearn.model_selection import StratifiedShuffleSplit\n",
    "\n",
    "split = StratifiedShuffleSplit(n_splits=1, test_size=0.2, random_state=43)\n",
    "for train_index, test_index in split.split(rebounds, rebounds['result_team']):\n",
    "    train = rebounds.loc[train_index]\n",
    "    test = rebounds.loc[test_index]\n"
   ]
  },
  {
   "cell_type": "code",
   "execution_count": 23,
   "metadata": {},
   "outputs": [],
   "source": [
    "train_X = train.drop(['result_class', 'result_team', 'num_fts'], axis=1)\n",
    "train_y = train['result_team']\n",
    "test_X = test.drop(['result_class', 'result_team', 'num_fts'], axis=1)\n",
    "test_y = test['result_team']\n",
    "\n"
   ]
  },
  {
   "cell_type": "markdown",
   "metadata": {},
   "source": [
    "# discover rebound data"
   ]
  },
  {
   "cell_type": "code",
   "execution_count": 24,
   "metadata": {},
   "outputs": [
    {
     "data": {
      "text/plain": [
       "num_fts  result_team\n",
       "0        0              69963\n",
       "         1              26028\n",
       "2        0                264\n",
       "         1                262\n",
       "Name: result_team, dtype: int64"
      ]
     },
     "execution_count": 24,
     "metadata": {},
     "output_type": "execute_result"
    }
   ],
   "source": [
    "train.groupby('num_fts')['result_team'].value_counts()"
   ]
  },
  {
   "cell_type": "code",
   "execution_count": 8,
   "metadata": {},
   "outputs": [
    {
     "data": {
      "text/plain": [
       "(24181,)"
      ]
     },
     "execution_count": 8,
     "metadata": {},
     "output_type": "execute_result"
    }
   ],
   "source": [
    "test_y.shape"
   ]
  },
  {
   "cell_type": "markdown",
   "metadata": {},
   "source": [
    "# Prepare data"
   ]
  },
  {
   "cell_type": "markdown",
   "metadata": {},
   "source": [
    "build add player data transformer"
   ]
  },
  {
   "cell_type": "code",
   "execution_count": 25,
   "metadata": {},
   "outputs": [],
   "source": [
    "from sklearn.base import BaseEstimator, TransformerMixin\n",
    "from nba_dataclasses import ResultClass\n",
    "from nba_dataclasses import PlayerInfo\n",
    "import numpy as np\n",
    "from sklearn import linear_model\n",
    "from build_shot_chance_data import ShotType\n",
    "\n",
    "shot_type_index = 0\n",
    "is_blocked_index = 1\n",
    "lineup_start_index = 6\n",
    "\n",
    "## TODO generate rebound stats and rebound foul rate by player/lineup for off/def and add to PlayerInfo\n",
    "## add those stats to X in transform\n",
    "\n",
    "class AddRebPlusMinus(BaseEstimator, TransformerMixin):\n",
    "    def __init__(self):\n",
    "        pass \n",
    "\n",
    "    def fit(self, X, y):\n",
    "        \"\"\"Generate adjusted rebound plus/minus from data.\n",
    "\n",
    "        Parameters\n",
    "        ----------\n",
    "        X : {array-like, sparse matrix}, shape (n_samples, n_features)\n",
    "            rebound data.\n",
    "        y : {array-like, sparse matrix}, shape (n_samples, )\n",
    "            result_class of rebound.\n",
    "            \n",
    "        Returns\n",
    "        -------\n",
    "        self : object\n",
    "            Returns self.\n",
    "        \"\"\"\n",
    "        player_index = 0\n",
    "        player_indicies: dict[int, PlayerInfo] = {}\n",
    "        for player, ps in nbaTracker.seasons[season_name].player_seasons.items():\n",
    "            if player not in player_indicies:\n",
    "                player_indicies[player] = PlayerInfo(player_index)\n",
    "                player_index += 1\n",
    "            for team in ps.player_contributions:\n",
    "                player_indicies[player].teams.add(team)\n",
    "        num_players = player_index\n",
    "\n",
    "\n",
    "        reb_by_shottype = {st: {is_blkd: {True: 0, False: 0}\n",
    "                                for is_blkd in [False, True]} for st in ShotType}\n",
    "        lineup_index = 0\n",
    "        lineup_indicies: dict[tuple[int, int, int, int,\n",
    "                                  int, int, int, int, int, int], int] = {}\n",
    "\n",
    "        for rebound, result_team in zip(X, y):\n",
    "            if result_team == 2: #EventType.JumpBall:\n",
    "                continue\n",
    "            is_oreb = result_team == 1 # in {\n",
    "               # ResultClass.OFF_REBOUND, ResultClass.FT, ResultClass.SAME_TEAM}\n",
    "            shot_type = rebound[shot_type_index]\n",
    "            is_blocked = rebound[is_blocked_index]\n",
    "\n",
    "            reb_by_shottype[ShotType(shot_type)][is_blocked][is_oreb] += 1\n",
    "\n",
    "            lineup = tuple(rebound[lineup_start_index:lineup_start_index+10])\n",
    "            if lineup not in lineup_indicies:\n",
    "                lineup_indicies[lineup] = lineup_index\n",
    "                lineup_index += 1\n",
    "        num_lineups = lineup_index\n",
    "\n",
    "        for st in ShotType:\n",
    "            for is_blkd in [False, True]:\n",
    "                total = reb_by_shottype[st][is_blkd][False] + \\\n",
    "                    reb_by_shottype[st][is_blkd][True]\n",
    "                if total == 0:\n",
    "                    continue\n",
    "                reb_by_shottype[st][is_blkd][False] = reb_by_shottype[st][is_blkd][False] / total\n",
    "                reb_by_shottype[st][is_blkd][True] = reb_by_shottype[st][is_blkd][True] / total\n",
    "        \n",
    "        oreb_chance_dif = np.zeros(num_lineups)\n",
    "        lineups = np.zeros((num_lineups, num_players*2))\n",
    "        sample_weights = np.zeros(num_lineups)\n",
    "\n",
    "        for rebound, result_team in zip(X, y):\n",
    "            if result_team == 2: # EventType.JumpBall:\n",
    "                continue\n",
    "            is_oreb = result_team == 1 # in {\n",
    "              #  ResultClass.OFF_REBOUND, ResultClass.FT, ResultClass.SAME_TEAM}\n",
    "            shot_type = rebound[shot_type_index]\n",
    "            is_blocked = rebound[is_blocked_index]\n",
    "            oreb_chance = reb_by_shottype[ShotType(shot_type)][is_blocked][True]\n",
    "\n",
    "            lineup = tuple(rebound[lineup_start_index:lineup_start_index+10])\n",
    "            oreb_chance_dif[lineup_indicies[lineup]\n",
    "                            ] += (1 if is_oreb else 0) - oreb_chance\n",
    "            sample_weights[lineup_indicies[lineup]] += 1\n",
    "        oreb_chance_dif /= sample_weights\n",
    "        \n",
    "        for lineup, lineup_index in lineup_indicies.items():\n",
    "            for team_index in [0, 1]:\n",
    "                for player_index in [0, 1, 2, 3, 4]:\n",
    "                    player_id = lineup[team_index*5 + player_index]\n",
    "                    i = player_indicies[player_id].index + team_index*num_players\n",
    "                    lineups[lineup_index, i] = 1\n",
    "\n",
    "        reg = linear_model.Ridge(1000)\n",
    "        \n",
    "        reg.fit(lineups, oreb_chance_dif, sample_weights)\n",
    "\n",
    "        for player in player_indicies.values():\n",
    "            player.oreb_pm = reg.coef_[player.index]\n",
    "            player.dreb_pm = reg.coef_[player.index + num_players]\n",
    "\n",
    "        max_count = 5\n",
    "        count = 0\n",
    "        print(\"Top\", max_count, \"REB_PM\")\n",
    "        for pid, player in sorted(player_indicies.items(), key=lambda p: p[1].reb_pm, reverse=True):\n",
    "            name = find_player_by_id(pid)['full_name']\n",
    "            print(name, player.oreb_pm, player.dreb_pm)\n",
    "            count += 1\n",
    "            if count == max_count:\n",
    "                break\n",
    "        count = 0\n",
    "\n",
    "        print()\n",
    "        print(\"Bottom\", max_count, \"REB_PM\")\n",
    "        for pid, player in sorted(player_indicies.items(), key=lambda p: p[1].reb_pm, reverse=False):\n",
    "            name = find_player_by_id(pid)['full_name']\n",
    "            print(name, player.oreb_pm, player.dreb_pm)\n",
    "            count += 1\n",
    "            if count == max_count:\n",
    "                break\n",
    "\n",
    "        self.player_indicies = player_indicies\n",
    "\n",
    "        return self \n",
    "\n",
    "    def transform(self, X, y=None):\n",
    "        pms = np.zeros(len(X))\n",
    "        for i, rebound in enumerate(X):\n",
    "            for pid in rebound[lineup_start_index:lineup_start_index+5]:\n",
    "                pms[i] += self.player_indicies[pid].oreb_pm\n",
    "            for pid in rebound[lineup_start_index+5:lineup_start_index+10]:\n",
    "                pms[i] += self.player_indicies[pid].dreb_pm\n",
    "        return np.c_[pms]"
   ]
  },
  {
   "cell_type": "markdown",
   "metadata": {},
   "source": [
    "build data preparing pipelines"
   ]
  },
  {
   "cell_type": "code",
   "execution_count": 31,
   "metadata": {},
   "outputs": [],
   "source": [
    "\n",
    "from sklearn.compose import ColumnTransformer\n",
    "from sklearn.preprocessing import OneHotEncoder, LabelBinarizer, OrdinalEncoder\n",
    "from sklearn.pipeline import make_pipeline\n",
    "\n",
    "# transform catagorical attributes to one-hot encoding\n",
    "catagorical_attributes = [0] # ['shot_type']\n",
    "pass_attributes = [1,2,3] #['is_blocked', 'is_putback', 'in_penalty']\n",
    "add_pm_attributes = list(range(14)) # columns[2:]\n",
    "# oe = OrdinalEncoder()\n",
    "# oe.fit(train_y.to_numpy().reshape(-1, 1))\n",
    "\n",
    "preprocess = ColumnTransformer([(\"cat\", OneHotEncoder(\n",
    "), catagorical_attributes), (\"pass\", 'passthrough', pass_attributes)])\n",
    "\n",
    "preprocess_w_pm = ColumnTransformer([(\"cat\", OneHotEncoder(\n",
    "), catagorical_attributes), (\"pass\", 'passthrough', pass_attributes), (\"add_pm\", AddRebPlusMinus(), add_pm_attributes)])\n",
    "\n",
    "# add_pm_pipe = make_pipeline(AddRebPlusMinus(), preprocess_w_pm)\n"
   ]
  },
  {
   "cell_type": "code",
   "execution_count": 27,
   "metadata": {},
   "outputs": [
    {
     "data": {
      "text/plain": [
       "((96517,), (24130,))"
      ]
     },
     "execution_count": 27,
     "metadata": {},
     "output_type": "execute_result"
    }
   ],
   "source": [
    "train_y.shape, test_y.shape"
   ]
  },
  {
   "cell_type": "code",
   "execution_count": 188,
   "metadata": {},
   "outputs": [],
   "source": [
    "# processed_train_y = oe.transform(train_y.to_numpy().reshape(-1,1))\n",
    "# processed_test_y = oe.transform(test_y.to_numpy().reshape(-1,1))\n"
   ]
  },
  {
   "cell_type": "code",
   "execution_count": 32,
   "metadata": {},
   "outputs": [],
   "source": [
    "processed_train_X = preprocess.fit_transform(train_X)\n",
    "processed_test_X = preprocess.transform(test_X)"
   ]
  },
  {
   "cell_type": "code",
   "execution_count": 33,
   "metadata": {},
   "outputs": [
    {
     "name": "stdout",
     "output_type": "stream",
     "text": [
      "Top 5 REB_PM\n",
      "Joakim Noah 0.022651136422264843 -0.010021228254741105\n",
      "Enes Kanter 0.03125599306395365 -0.0010771641627129683\n",
      "Nikola Jokic 0.01282026664499899 -0.01885135646486912\n",
      "Zach Randolph 0.026998035604780642 -0.0028838457360115173\n",
      "Kenneth Faried 0.0176411554074841 -0.01204769452658252\n",
      "\n",
      "Bottom 5 REB_PM\n",
      "Hollis Thompson -0.008086491879452012 0.022984507153118987\n",
      "Chandler Parsons -0.022883955347664908 0.00816004699600234\n",
      "Jerami Grant -0.020071559172109305 0.007586548961598298\n",
      "Kendall Marshall -0.013913554798802926 0.013065011812392342\n",
      "Roy Hibbert -0.01985457838692857 0.006562738961239133\n"
     ]
    }
   ],
   "source": [
    "pm_train_X = preprocess_w_pm.fit_transform(\n",
    "    train_X.to_numpy(dtype=int), train_y.to_numpy(dtype=int))\n",
    "pm_test_X = preprocess_w_pm.transform(\n",
    "    test_X.to_numpy(dtype=int))\n"
   ]
  },
  {
   "cell_type": "code",
   "execution_count": 42,
   "metadata": {},
   "outputs": [
    {
     "data": {
      "text/plain": [
       "array([[ 0.        ,  0.        ,  0.        ,  0.        ,  0.        ,\n",
       "         1.        ,  0.        ,  0.        ,  0.        , -0.00107375],\n",
       "       [ 0.        ,  0.        ,  0.        ,  0.        ,  1.        ,\n",
       "         0.        ,  0.        ,  0.        ,  0.        ,  0.00395573],\n",
       "       [ 0.        ,  0.        ,  1.        ,  0.        ,  0.        ,\n",
       "         0.        ,  0.        ,  0.        ,  0.        , -0.00872206],\n",
       "       [ 0.        ,  0.        ,  0.        ,  1.        ,  0.        ,\n",
       "         0.        ,  0.        ,  0.        ,  0.        , -0.07200159],\n",
       "       [ 1.        ,  0.        ,  0.        ,  0.        ,  0.        ,\n",
       "         0.        ,  1.        ,  1.        ,  0.        ,  0.01128726]])"
      ]
     },
     "execution_count": 42,
     "metadata": {},
     "output_type": "execute_result"
    }
   ],
   "source": [
    "pm_train_X[:5]"
   ]
  },
  {
   "cell_type": "markdown",
   "metadata": {},
   "source": [
    "# Build averages model to compare to"
   ]
  },
  {
   "cell_type": "code",
   "execution_count": 45,
   "metadata": {},
   "outputs": [],
   "source": [
    "import tensorflow as tf \n",
    "model = tf.keras.models.Sequential([\n",
    "    tf.keras.layers.Dense(1, activation='sigmoid')\n",
    "])"
   ]
  },
  {
   "cell_type": "code",
   "execution_count": 218,
   "metadata": {},
   "outputs": [
    {
     "data": {
      "text/plain": [
       "array([[10]], dtype=int64)"
      ]
     },
     "execution_count": 218,
     "metadata": {},
     "output_type": "execute_result"
    }
   ],
   "source": [
    "# oe.inverse_transform([[6]])"
   ]
  },
  {
   "cell_type": "code",
   "execution_count": 43,
   "metadata": {},
   "outputs": [
    {
     "data": {
      "text/plain": [
       "((96517, 9), (96517,))"
      ]
     },
     "execution_count": 43,
     "metadata": {},
     "output_type": "execute_result"
    }
   ],
   "source": [
    "processed_train_X.shape, train_y.shape"
   ]
  },
  {
   "cell_type": "code",
   "execution_count": 41,
   "metadata": {},
   "outputs": [
    {
     "data": {
      "text/plain": [
       "(array([1, 1, 0, 0, 0], dtype=int64),\n",
       " array([[0., 0., 0., 0., 0., 1., 0., 0., 0.],\n",
       "        [0., 0., 0., 0., 1., 0., 0., 0., 0.],\n",
       "        [0., 0., 1., 0., 0., 0., 0., 0., 0.],\n",
       "        [0., 0., 0., 1., 0., 0., 0., 0., 0.],\n",
       "        [1., 0., 0., 0., 0., 0., 1., 1., 0.]]))"
      ]
     },
     "execution_count": 41,
     "metadata": {},
     "output_type": "execute_result"
    }
   ],
   "source": [
    "train_y.to_numpy()[:5], processed_train_X[:5]\n"
   ]
  },
  {
   "cell_type": "code",
   "execution_count": 47,
   "metadata": {},
   "outputs": [
    {
     "name": "stdout",
     "output_type": "stream",
     "text": [
      "Epoch 1/3\n",
      "3017/3017 [==============================] - 41s 13ms/step - loss: 0.5700 - accuracy: 0.7273\n",
      "Epoch 2/3\n",
      "3017/3017 [==============================] - 40s 13ms/step - loss: 0.5694 - accuracy: 0.7272\n",
      "Epoch 3/3\n",
      "3017/3017 [==============================] - 40s 13ms/step - loss: 0.5694 - accuracy: 0.7265\n"
     ]
    },
    {
     "data": {
      "text/plain": [
       "<keras.callbacks.History at 0x2ba1351dd00>"
      ]
     },
     "execution_count": 47,
     "metadata": {},
     "output_type": "execute_result"
    }
   ],
   "source": [
    "loss_fn = tf.keras.losses.BinaryCrossentropy(from_logits=True) #tf.keras.losses.SparseCategoricalCrossentropy(from_logits=True)\n",
    "model.compile(\n",
    "    optimizer='adam',\n",
    "    loss='binary_crossentropy',\n",
    "    metrics=['accuracy'])\n",
    "\n",
    "# fit data\n",
    "model.fit(processed_train_X, train_y, epochs=3)\n"
   ]
  },
  {
   "cell_type": "code",
   "execution_count": 48,
   "metadata": {},
   "outputs": [
    {
     "name": "stdout",
     "output_type": "stream",
     "text": [
      "755/755 - 5s - loss: 0.5691 - accuracy: 0.7244 - 5s/epoch - 7ms/step\n"
     ]
    },
    {
     "data": {
      "text/plain": [
       "[0.5690756440162659, 0.7243680357933044]"
      ]
     },
     "execution_count": 48,
     "metadata": {},
     "output_type": "execute_result"
    }
   ],
   "source": [
    "model.evaluate(processed_test_X, test_y, verbose=2)\n"
   ]
  },
  {
   "cell_type": "markdown",
   "metadata": {},
   "source": [
    "# Build rebound chance model with player data"
   ]
  },
  {
   "cell_type": "code",
   "execution_count": 49,
   "metadata": {},
   "outputs": [
    {
     "name": "stdout",
     "output_type": "stream",
     "text": [
      "Epoch 1/3\n",
      "3017/3017 [==============================] - 35s 11ms/step - loss: 0.5832 - accuracy: 0.7111\n",
      "Epoch 2/3\n",
      "3017/3017 [==============================] - 33s 11ms/step - loss: 0.5665 - accuracy: 0.7269\n",
      "Epoch 3/3\n",
      "3017/3017 [==============================] - 33s 11ms/step - loss: 0.5652 - accuracy: 0.7268\n"
     ]
    },
    {
     "data": {
      "text/plain": [
       "<keras.callbacks.History at 0x2ba139f7c70>"
      ]
     },
     "execution_count": 49,
     "metadata": {},
     "output_type": "execute_result"
    }
   ],
   "source": [
    "import tensorflow as tf\n",
    "mean, variance = pm_train_X.mean(), pm_train_X.var()\n",
    "pm_model = tf.keras.models.Sequential([\n",
    "    # tf.keras.layers.Normalization(mean=mean, variance=variance),\n",
    "    # tf.keras.layers.Dense(16, activation='relu'),\n",
    "    tf.keras.layers.Dense(1, activation='sigmoid')\n",
    "])\n",
    "pm_model.compile(\n",
    "    optimizer='adam',\n",
    "    loss='binary_crossentropy',\n",
    "    metrics=['accuracy'])\n",
    "\n",
    "# fit data\n",
    "pm_model.fit(pm_train_X, train_y, epochs=3)\n"
   ]
  },
  {
   "cell_type": "code",
   "execution_count": 50,
   "metadata": {},
   "outputs": [
    {
     "name": "stdout",
     "output_type": "stream",
     "text": [
      "755/755 - 6s - loss: 0.5663 - accuracy: 0.7266 - 6s/epoch - 7ms/step\n"
     ]
    },
    {
     "data": {
      "text/plain": [
       "[0.5662544369697571, 0.7266058921813965]"
      ]
     },
     "execution_count": 50,
     "metadata": {},
     "output_type": "execute_result"
    }
   ],
   "source": [
    "pm_model.evaluate(pm_test_X, test_y, verbose=2)\n"
   ]
  },
  {
   "cell_type": "markdown",
   "metadata": {},
   "source": [
    "compare predictions"
   ]
  },
  {
   "cell_type": "code",
   "execution_count": 229,
   "metadata": {},
   "outputs": [
    {
     "name": "stdout",
     "output_type": "stream",
     "text": [
      "[[0.00134039 0.05730633 0.13375078 0.00380812 0.00187581 0.21288466\n",
      "  0.5890339 ]\n",
      " [0.00395427 0.0581353  0.0581065  0.00215441 0.00379258 0.16888256\n",
      "  0.7049744 ]\n",
      " [0.00505907 0.06223856 0.10497802 0.0007671  0.00322577 0.18744768\n",
      "  0.63628376]\n",
      " [0.00377648 0.04132847 0.03728819 0.00388282 0.00296327 0.23558995\n",
      "  0.67517084]\n",
      " [0.00505907 0.06223856 0.10497802 0.0007671  0.00322577 0.18744768\n",
      "  0.63628376]]\n",
      "[[2.02489481e-03 5.85501306e-02 1.43772364e-01 4.16370900e-03\n",
      "  1.84199691e-03 2.28293180e-01 5.61353743e-01]\n",
      " [3.91879957e-03 5.41324876e-02 5.02987579e-02 1.94767967e-03\n",
      "  3.62257496e-03 1.45336151e-01 7.40743518e-01]\n",
      " [3.58494231e-03 6.26809224e-02 1.08168766e-01 7.41173921e-04\n",
      "  3.25409416e-03 2.16465607e-01 6.05104506e-01]\n",
      " [3.57386866e-03 3.74858864e-02 3.45067866e-02 4.39155288e-03\n",
      "  3.44617898e-03 2.13142738e-01 7.03453064e-01]\n",
      " [3.48156109e-03 6.07872009e-02 1.02972575e-01 7.29075749e-04\n",
      "  3.18953837e-03 1.98538855e-01 6.30301237e-01]]\n"
     ]
    }
   ],
   "source": [
    "predictions = model(processed_train_X[:5]).numpy()\n",
    "\n",
    "predictions2 = pm_model(pm_train_X[:5]).numpy()\n",
    "print(tf.nn.softmax(predictions).numpy())\n",
    "print(tf.nn.softmax(predictions2).numpy())"
   ]
  },
  {
   "cell_type": "code",
   "execution_count": 231,
   "metadata": {},
   "outputs": [
    {
     "data": {
      "text/plain": [
       "array([[5.],\n",
       "       [6.],\n",
       "       [6.],\n",
       "       [6.],\n",
       "       [6.]])"
      ]
     },
     "execution_count": 231,
     "metadata": {},
     "output_type": "execute_result"
    }
   ],
   "source": [
    "processed_train_y[:5]\n"
   ]
  },
  {
   "cell_type": "markdown",
   "metadata": {},
   "source": [
    "# Build Rebound Chance APM"
   ]
  },
  {
   "cell_type": "markdown",
   "metadata": {},
   "source": [
    "build rebound chance by shottype"
   ]
  },
  {
   "cell_type": "code",
   "execution_count": 11,
   "metadata": {},
   "outputs": [
    {
     "data": {
      "text/plain": [
       "{<ShotType.AtRim: 1>: {False: {True: 0.36029926260832124,\n",
       "   False: 0.6397007373916788},\n",
       "  True: {True: 0.4172010562052056, False: 0.5827989437947945}},\n",
       " <ShotType.ShortMidRange: 2>: {False: {True: 0.28560246563279684,\n",
       "   False: 0.7143975343672032},\n",
       "  True: {True: 0.41282375236891977, False: 0.5871762476310802}},\n",
       " <ShotType.LongMidRange: 3>: {False: {True: 0.20750070647127689,\n",
       "   False: 0.7924992935287231},\n",
       "  True: {True: 0.34275618374558303, False: 0.657243816254417}},\n",
       " <ShotType.Arc3: 4>: {False: {True: 0.24870375560538116,\n",
       "   False: 0.7512962443946188},\n",
       "  True: {True: 0.41015625, False: 0.58984375}},\n",
       " <ShotType.Corner3: 5>: {False: {True: 0.24753747323340472,\n",
       "   False: 0.7524625267665953},\n",
       "  True: {True: 0.4918032786885246, False: 0.5081967213114754}},\n",
       " <ShotType.FreeThrowNR: 6>: {False: {True: 0, False: 0},\n",
       "  True: {True: 0, False: 0}},\n",
       " <ShotType.FreeThrowR: 7>: {False: {True: 0.115212042263714,\n",
       "   False: 0.884787957736286},\n",
       "  True: {True: 0, False: 0}}}"
      ]
     },
     "execution_count": 11,
     "metadata": {},
     "output_type": "execute_result"
    }
   ],
   "source": [
    "from nba_dataclasses import ResultClass\n",
    "from build_shot_chance_data import ShotType\n",
    "\n",
    "reb_by_shottype = {st: {is_blkd: {True: 0, False: 0}\n",
    "                        for is_blkd in [False, True]} for st in ShotType}\n",
    "# reb_by_blkd = {is_blkd: {True: 0, False: 0} for is_blkd in [False, True]}\n",
    "total_rebs = len(rebounds)\n",
    "\n",
    "for rebound in rebounds:\n",
    "    if rebound.result.result_class == ResultClass.JUMPBALL:\n",
    "        continue\n",
    "    is_oreb = rebound.result.result_class in {\n",
    "        ResultClass.OFF_REBOUND, ResultClass.FT, ResultClass.SAME_TEAM}\n",
    "    reb_by_shottype[ShotType(rebound.result.shot_type)\n",
    "                    ][rebound.result.is_blocked][is_oreb] += 1\n",
    "    # reb_by_blkd[rebound.result.is_blocked][is_oreb] += 1\n",
    "\n",
    "for st in ShotType:\n",
    "    for is_blkd in [False, True]:\n",
    "        total = reb_by_shottype[st][is_blkd][False] + \\\n",
    "            reb_by_shottype[st][is_blkd][True]\n",
    "        if total == 0:\n",
    "            continue\n",
    "        reb_by_shottype[st][is_blkd][False] = reb_by_shottype[st][is_blkd][False] / total\n",
    "        reb_by_shottype[st][is_blkd][True] = reb_by_shottype[st][is_blkd][True] / total\n",
    "\n",
    "reb_by_shottype\n"
   ]
  },
  {
   "cell_type": "markdown",
   "metadata": {},
   "source": [
    "build and solve reb apm"
   ]
  },
  {
   "cell_type": "code",
   "execution_count": 12,
   "metadata": {},
   "outputs": [],
   "source": [
    "# y = is offenseve rebound chance - chance from shot type\n",
    "# X = player lineups\n",
    "# solve for player rebound +/-\n",
    "\n",
    "from nba_dataclasses import PlayerInfo\n",
    "import numpy as np\n",
    "from sklearn import linear_model\n",
    "\n",
    "player_index = 0\n",
    "player_indicies: dict[int, PlayerInfo] = {}\n",
    "lineup_index = 0\n",
    "lineup_indicies: dict[tuple[tuple[int, int, int, int,\n",
    "                                  int], tuple[int, int, int, int, int]], int] = {}\n",
    "\n",
    "for player, ps in nbaTracker.seasons[season_name].player_seasons.items():\n",
    "    if player not in player_indicies:\n",
    "        player_indicies[player] = PlayerInfo(player_index)\n",
    "        player_index += 1\n",
    "    for team in ps.player_contributions:\n",
    "        player_indicies[player].teams.add(team)\n",
    "for rebound in rebounds:\n",
    "    if rebound.result.result_class == ResultClass.JUMPBALL:\n",
    "        continue\n",
    "    lineup = rebound.lineup.lineup\n",
    "    if lineup not in lineup_indicies:\n",
    "        lineup_indicies[lineup] = lineup_index\n",
    "        lineup_index += 1\n",
    "num_lineups = lineup_index\n",
    "num_players = player_index\n",
    "\n",
    "y = np.zeros(num_lineups)\n",
    "ey = np.zeros(num_lineups)\n",
    "X = np.zeros((num_lineups, num_players*2))\n",
    "sample_weights = np.zeros(num_lineups)\n",
    "\n",
    "for rebound in rebounds:\n",
    "    if rebound.result.result_class == ResultClass.JUMPBALL:\n",
    "        continue\n",
    "    lineup = rebound.lineup.lineup\n",
    "    is_oreb = rebound.result.result_class in {\n",
    "        ResultClass.OFF_REBOUND, ResultClass.FT, ResultClass.SAME_TEAM}\n",
    "    oreb_chance = reb_by_shottype[ShotType(rebound.result.shot_type)\n",
    "                                  ][rebound.result.is_blocked][True]\n",
    "    y[lineup_indicies[lineup]] += (1 if is_oreb else 0) - oreb_chance\n",
    "    ey[lineup_indicies[lineup]] += oreb_chance\n",
    "    sample_weights[lineup_indicies[lineup]] += 1\n",
    "\n",
    "for lineup, lineup_index in lineup_indicies.items():\n",
    "    for team_index in [0, 1]:\n",
    "        for player_index in [0, 1, 2, 3, 4]:\n",
    "            player_id = lineup[team_index][player_index]\n",
    "            i = player_indicies[player_id].index + team_index*num_players\n",
    "            X[lineup_index, i] = 1\n",
    "\n",
    "reg = linear_model.BayesianRidge()\n",
    "reg.fit(X, y, sample_weights)\n",
    "\n",
    "for player in player_indicies.values():\n",
    "    player.oreb_pm = reg.coef_[player.index]\n",
    "    player.dreb_pm = reg.coef_[player.index + num_players]\n"
   ]
  },
  {
   "cell_type": "markdown",
   "metadata": {},
   "source": [
    "Display best and worst rebounders"
   ]
  },
  {
   "cell_type": "code",
   "execution_count": 13,
   "metadata": {},
   "outputs": [
    {
     "name": "stdout",
     "output_type": "stream",
     "text": [
      "Top 20 REB_PM\n",
      "Briante Weber 0.4492725284760221 0.060335966133836724\n",
      "Steven Adams 0.2151893826964091 -0.15052424581813706\n",
      "Zach Randolph 0.3010836669442734 -0.036267832456417015\n",
      "Ryan Hollins 0.20950129841306978 -0.11502712870745921\n",
      "Cristiano Felicio 0.18021016452830613 -0.13504201631584553\n",
      "Noah Vonleh 0.1673449199841731 -0.1413508603893439\n",
      "Dwight Howard 0.1879678500511335 -0.10824087801966858\n",
      "Clint Capela 0.23542551621242028 -0.060258789922858644\n",
      "Robin Lopez 0.1727087205849283 -0.11751434755578145\n",
      "Willie Reed 0.1850612810552634 -0.10104373536817868\n",
      "Lavoy Allen 0.1668373095911683 -0.11894373761894743\n",
      "Andre Roberson 0.19226429183115162 -0.09252962911154458\n",
      "Joakim Noah 0.2051026341889192 -0.07874715213897052\n",
      "Nikola Jokic 0.1378810027206907 -0.14531160862936932\n",
      "Alex Len 0.16697756302821215 -0.1033118190049501\n",
      "Tim Duncan 0.10290011084190467 -0.16607825373438534\n",
      "Jarrett Jack 0.19803616112030487 -0.07027270797498851\n",
      "Rondae Hollis-Jefferson 0.16490752522474525 -0.09970997424281151\n",
      "Omer Asik 0.004490794456635949 -0.259827344866456\n",
      "Tyson Chandler 0.0692537454168784 -0.19206890501042279\n",
      "\n",
      "Bottom 20 REB_PM\n",
      "CJ Miles -0.13604857563717354 0.25674201344488495\n",
      "Paul Pierce -0.23654030227698278 0.14307790575471868\n",
      "Roy Hibbert -0.25862952189240607 0.07878663604950431\n",
      "Courtney Lee -0.24810335688692267 0.054865211155023345\n",
      "Jeff Green -0.2365530331712649 0.06310725442859624\n",
      "Donald Sloan -0.1988177191813501 0.07095177645945844\n",
      "Evan Fournier -0.1445050375146331 0.12235235450281373\n",
      "Eric Gordon -0.23546767516556966 0.028466884107715265\n",
      "Al Horford -0.18579657733741384 0.056496585089860316\n",
      "Mike Conley -0.2118048217182209 0.02632808973155769\n",
      "PJ Hairston -0.28367019708894436 -0.045702691468220195\n",
      "Brandon Rush -0.18586947157741165 0.046371190691863746\n",
      "Chandler Parsons -0.16251279251953996 0.05616406101646773\n",
      "Kendall Marshall -0.1016245235784081 0.11245993903890396\n",
      "Derrick Williams -0.11127466723372587 0.09414755003351331\n",
      "Austin Rivers -0.06648883184099828 0.13543558722081434\n",
      "Anthony Morrow -0.10718885586158071 0.09268196541622398\n",
      "Russ Smith -0.12103743112059431 0.07660235255847059\n",
      "Pat Connaughton -0.04817587536029431 0.14201212310685668\n",
      "Corey Brewer -0.07796676716948445 0.10696299126606823\n"
     ]
    }
   ],
   "source": [
    "max_count = 20\n",
    "count = 0\n",
    "print(\"Top\", max_count, \"REB_PM\")\n",
    "for pid, player in sorted(player_indicies.items(), key=lambda p: p[1].reb_pm, reverse=True):\n",
    "    name = find_player_by_id(pid)['full_name']\n",
    "    print(name, player.oreb_pm, player.dreb_pm)\n",
    "    count += 1\n",
    "    if count == max_count:\n",
    "        break\n",
    "count = 0\n",
    "\n",
    "print()\n",
    "print(\"Bottom\", max_count, \"REB_PM\")\n",
    "for pid, player in sorted(player_indicies.items(), key=lambda p: p[1].reb_pm, reverse=False):\n",
    "    name = find_player_by_id(pid)['full_name']\n",
    "    print(name, player.oreb_pm, player.dreb_pm)\n",
    "    count += 1\n",
    "    if count == max_count:\n",
    "        break\n"
   ]
  }
 ],
 "metadata": {
  "interpreter": {
   "hash": "a8590208259839df94eb6993e24edc5fa127f3c6a8a3318c28674b5b9a9a2d23"
  },
  "kernelspec": {
   "display_name": "Python 3.9.2 ('.venv39': venv)",
   "language": "python",
   "name": "python3"
  },
  "language_info": {
   "codemirror_mode": {
    "name": "ipython",
    "version": 3
   },
   "file_extension": ".py",
   "mimetype": "text/x-python",
   "name": "python",
   "nbconvert_exporter": "python",
   "pygments_lexer": "ipython3",
   "version": "3.9.2"
  },
  "orig_nbformat": 4
 },
 "nbformat": 4,
 "nbformat_minor": 2
}
