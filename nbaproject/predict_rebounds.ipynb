{
 "cells": [
  {
   "cell_type": "code",
   "execution_count": 1,
   "metadata": {},
   "outputs": [],
   "source": [
    "%load_ext autoreload\n",
    "%autoreload 2\n"
   ]
  },
  {
   "cell_type": "markdown",
   "metadata": {},
   "source": [
    "# Load relevent data\n",
    "\n",
    "rosters\n",
    "\n",
    "processed possession data"
   ]
  },
  {
   "cell_type": "code",
   "execution_count": 2,
   "metadata": {},
   "outputs": [],
   "source": [
    "from nba import NbaTracker\n",
    "from nba_api.stats.static.players import find_player_by_id\n",
    "from nba_api.stats.static.teams import find_team_name_by_id\n",
    "\n",
    "nbaTracker = NbaTracker()\n",
    "season_name = \"2015-16\"\n",
    "nbaTracker.add_season(season_name)\n",
    "season = nbaTracker.seasons[season_name]\n",
    "season.load_possession_data()\n",
    "season.build_player_seasons()\n",
    "games = season.games\n"
   ]
  },
  {
   "cell_type": "markdown",
   "metadata": {},
   "source": [
    "# discover rebound data"
   ]
  },
  {
   "cell_type": "code",
   "execution_count": 3,
   "metadata": {},
   "outputs": [],
   "source": [
    "from build_shot_chance_data import EventType\n",
    "from collections import defaultdict\n",
    "\n",
    "rb_result_counts = defaultdict(int)\n",
    "rb_prev_events = defaultdict(int)\n",
    "rb_prev_class = defaultdict(int)\n",
    "rebound_shot_starts = defaultdict(int)\n",
    "rebounds = []\n",
    "rb_count = 0\n",
    "for game_id, game in games.items():\n",
    "    last_game_event = None\n",
    "    for ge in game.game_events:\n",
    "        if ge.event_type == EventType.Rebound:\n",
    "            rb_count += 1\n",
    "            rebounds.append(ge)\n",
    "            rb_result_counts[ge.result.result_class] += 1\n",
    "            rb_prev_events[last_game_event.result.result_type] += 1\n",
    "            rb_prev_class[last_game_event.result.result_class] += 1\n",
    "            rebound_shot_starts[ge.result.shot_type] += 1\n",
    "        last_game_event = ge\n"
   ]
  },
  {
   "cell_type": "code",
   "execution_count": 4,
   "metadata": {},
   "outputs": [],
   "source": [
    "from build_shot_chance_data import EventType\n",
    "from collections import defaultdict\n",
    "\n",
    "rb_result_counts = defaultdict(int)\n",
    "rb_prev_events = defaultdict(int)\n",
    "rb_prev_class = defaultdict(int)\n",
    "rebound_shot_starts = defaultdict(int)\n",
    "rebounds = []\n",
    "rb_count = 0\n",
    "for game_id, game in games.items():\n",
    "    last_game_event = None\n",
    "    for ge in game.game_events:\n",
    "        if ge.event_type == EventType.Rebound:\n",
    "            rb_count += 1\n",
    "            rebounds.append(ge)\n",
    "            rb_result_counts[ge.result.result_class] += 1\n",
    "            rb_prev_events[last_game_event.result.result_type] += 1\n",
    "            rb_prev_class[last_game_event.result.result_class] += 1\n",
    "            rebound_shot_starts[ge.result.shot_type] += 1\n",
    "        last_game_event = ge"
   ]
  },
  {
   "cell_type": "code",
   "execution_count": 5,
   "metadata": {},
   "outputs": [
    {
     "name": "stdout",
     "output_type": "stream",
     "text": [
      "ResultClass.DEF_REBOUND 0.6766197136500112\n",
      "ResultClass.OFF_REBOUND 0.2095268029213985\n",
      "ResultClass.DEAD_TURNOVER 0.046765535438085704\n",
      "ResultClass.SAME_TEAM 0.05947841622484512\n",
      "ResultClass.OTHER_TEAM_FT 0.002696421038701086\n",
      "ResultClass.JUMPBALL 0.002100892465736429\n",
      "ResultClass.FT 0.0028122182612219915\n"
     ]
    }
   ],
   "source": [
    "for key, count in rb_result_counts.items():\n",
    "    print(key, count/rb_count)\n"
   ]
  },
  {
   "cell_type": "code",
   "execution_count": 6,
   "metadata": {},
   "outputs": [
    {
     "name": "stdout",
     "output_type": "stream",
     "text": [
      "ResultClass.REBOUND 1.0\n"
     ]
    }
   ],
   "source": [
    "for key, count in rb_prev_class.items():\n",
    "    print(key, count/rb_count)\n"
   ]
  },
  {
   "cell_type": "code",
   "execution_count": 7,
   "metadata": {},
   "outputs": [
    {
     "name": "stdout",
     "output_type": "stream",
     "text": [
      "TryResultType.BLOCKED_SHOT 0.10085110958552866\n",
      "TryResultType.MISSED_SHOT 0.841945062489144\n",
      "LiveFreeThrowResult.MISS 0.057203827925327334\n"
     ]
    }
   ],
   "source": [
    "for key, count in rb_prev_events.items():\n",
    "    print(key, count/rb_count)\n"
   ]
  },
  {
   "cell_type": "code",
   "execution_count": 8,
   "metadata": {},
   "outputs": [
    {
     "name": "stdout",
     "output_type": "stream",
     "text": [
      "1 0.220461369219444\n",
      "3 0.20979148228716057\n",
      "2 0.19584618820357153\n",
      "7 0.057203827925327334\n",
      "5 0.07836990595611286\n",
      "4 0.23832722640838372\n"
     ]
    }
   ],
   "source": [
    "for key, count in rebound_shot_starts.items():\n",
    "    print(key, count/rb_count)\n"
   ]
  },
  {
   "cell_type": "markdown",
   "metadata": {},
   "source": [
    "# Build rebound chance apm"
   ]
  },
  {
   "cell_type": "markdown",
   "metadata": {},
   "source": [
    "build rebound chance by shottype"
   ]
  },
  {
   "cell_type": "code",
   "execution_count": 9,
   "metadata": {},
   "outputs": [
    {
     "data": {
      "text/plain": [
       "{<ShotType.AtRim: 1>: {False: {True: 0.36029926260832124,\n",
       "   False: 0.6397007373916788},\n",
       "  True: {True: 0.4172010562052056, False: 0.5827989437947945}},\n",
       " <ShotType.ShortMidRange: 2>: {False: {True: 0.28560246563279684,\n",
       "   False: 0.7143975343672032},\n",
       "  True: {True: 0.41282375236891977, False: 0.5871762476310802}},\n",
       " <ShotType.LongMidRange: 3>: {False: {True: 0.20750070647127689,\n",
       "   False: 0.7924992935287231},\n",
       "  True: {True: 0.34275618374558303, False: 0.657243816254417}},\n",
       " <ShotType.Arc3: 4>: {False: {True: 0.24870375560538116,\n",
       "   False: 0.7512962443946188},\n",
       "  True: {True: 0.41015625, False: 0.58984375}},\n",
       " <ShotType.Corner3: 5>: {False: {True: 0.24753747323340472,\n",
       "   False: 0.7524625267665953},\n",
       "  True: {True: 0.4918032786885246, False: 0.5081967213114754}},\n",
       " <ShotType.FreeThrowNR: 6>: {False: {True: 0, False: 0},\n",
       "  True: {True: 0, False: 0}},\n",
       " <ShotType.FreeThrowR: 7>: {False: {True: 0.115212042263714,\n",
       "   False: 0.884787957736286},\n",
       "  True: {True: 0, False: 0}}}"
      ]
     },
     "execution_count": 9,
     "metadata": {},
     "output_type": "execute_result"
    }
   ],
   "source": [
    "from nba_dataclasses import ResultClass\n",
    "from build_shot_chance_data import ShotType\n",
    "\n",
    "reb_by_shottype = {st: {is_blkd: {True: 0, False: 0}\n",
    "                        for is_blkd in [False, True]} for st in ShotType}\n",
    "# reb_by_blkd = {is_blkd: {True: 0, False: 0} for is_blkd in [False, True]}\n",
    "total_rebs = len(rebounds)\n",
    "\n",
    "for rebound in rebounds:\n",
    "    if rebound.result.result_class == ResultClass.JUMPBALL:\n",
    "        continue\n",
    "    is_oreb = rebound.result.result_class in {\n",
    "        ResultClass.OFF_REBOUND, ResultClass.FT, ResultClass.SAME_TEAM}\n",
    "    reb_by_shottype[ShotType(rebound.result.shot_type)\n",
    "                    ][rebound.result.is_blocked][is_oreb] += 1\n",
    "    # reb_by_blkd[rebound.result.is_blocked][is_oreb] += 1\n",
    "\n",
    "for st in ShotType:\n",
    "    for is_blkd in [False, True]:\n",
    "        total = reb_by_shottype[st][is_blkd][False] + \\\n",
    "            reb_by_shottype[st][is_blkd][True]\n",
    "        if total == 0:\n",
    "            continue\n",
    "        reb_by_shottype[st][is_blkd][False] = reb_by_shottype[st][is_blkd][False] / total\n",
    "        reb_by_shottype[st][is_blkd][True] = reb_by_shottype[st][is_blkd][True] / total\n",
    "\n",
    "reb_by_shottype\n"
   ]
  },
  {
   "cell_type": "markdown",
   "metadata": {},
   "source": [
    "build and solve reb apm"
   ]
  },
  {
   "cell_type": "code",
   "execution_count": 10,
   "metadata": {},
   "outputs": [],
   "source": [
    "# y = is offenseve rebound chance - chance from shot type\n",
    "# X = player lineups\n",
    "# solve for player rebound +/-\n",
    "\n",
    "from nba_dataclasses import PlayerInfo\n",
    "import numpy as np\n",
    "from sklearn import linear_model\n",
    "\n",
    "player_index = 0\n",
    "player_indicies: dict[int, PlayerInfo] = {}\n",
    "lineup_index = 0\n",
    "lineup_indicies: dict[tuple[tuple[int, int, int, int,\n",
    "                                  int], tuple[int, int, int, int, int]], int] = {}\n",
    "\n",
    "for player, ps in nbaTracker.seasons[season_name].player_seasons.items():\n",
    "    if player not in player_indicies:\n",
    "        player_indicies[player] = PlayerInfo(player_index)\n",
    "        player_index += 1\n",
    "    for team in ps.player_contributions:\n",
    "        player_indicies[player].teams.add(team)\n",
    "for rebound in rebounds:\n",
    "    if rebound.result.result_class == ResultClass.JUMPBALL:\n",
    "        continue\n",
    "    lineup = rebound.lineup.lineup\n",
    "    if lineup not in lineup_indicies:\n",
    "        lineup_indicies[lineup] = lineup_index\n",
    "        lineup_index += 1\n",
    "num_lineups = lineup_index\n",
    "num_players = player_index\n",
    "\n",
    "y = np.zeros(num_lineups)\n",
    "ey = np.zeros(num_lineups)\n",
    "X = np.zeros((num_lineups, num_players*2))\n",
    "sample_weights = np.zeros(num_lineups)\n",
    "\n",
    "for rebound in rebounds:\n",
    "    if rebound.result.result_class == ResultClass.JUMPBALL:\n",
    "        continue\n",
    "    lineup = rebound.lineup.lineup\n",
    "    is_oreb = rebound.result.result_class in {\n",
    "        ResultClass.OFF_REBOUND, ResultClass.FT, ResultClass.SAME_TEAM}\n",
    "    oreb_chance = reb_by_shottype[ShotType(rebound.result.shot_type)\n",
    "                                  ][rebound.result.is_blocked][True]\n",
    "    y[lineup_indicies[lineup]] += (1 if is_oreb else 0) - oreb_chance\n",
    "    ey[lineup_indicies[lineup]] += oreb_chance\n",
    "    sample_weights[lineup_indicies[lineup]] += 1\n",
    "\n",
    "for lineup, lineup_index in lineup_indicies.items():\n",
    "    for team_index in [0, 1]:\n",
    "        for player_index in [0, 1, 2, 3, 4]:\n",
    "            player_id = lineup[team_index][player_index]\n",
    "            i = player_indicies[player_id].index + team_index*num_players\n",
    "            X[lineup_index, i] = 1\n",
    "\n",
    "reg = linear_model.BayesianRidge()\n",
    "reg.fit(X, y, sample_weights)\n",
    "\n",
    "for player in player_indicies.values():\n",
    "    player.oreb_pm = reg.coef_[player.index]\n",
    "    player.dreb_pm = reg.coef_[player.index + num_players]\n"
   ]
  },
  {
   "cell_type": "markdown",
   "metadata": {},
   "source": [
    "Display best and worst rebounders"
   ]
  },
  {
   "cell_type": "code",
   "execution_count": 11,
   "metadata": {},
   "outputs": [
    {
     "name": "stdout",
     "output_type": "stream",
     "text": [
      "Top 20 REB_PM\n",
      "Briante Weber 0.4492725284760221 0.060335966133836724\n",
      "Steven Adams 0.2151893826964091 -0.15052424581813706\n",
      "Zach Randolph 0.3010836669442734 -0.036267832456417015\n",
      "Ryan Hollins 0.20950129841306978 -0.11502712870745921\n",
      "Cristiano Felicio 0.18021016452830613 -0.13504201631584553\n",
      "Noah Vonleh 0.1673449199841731 -0.1413508603893439\n",
      "Dwight Howard 0.1879678500511335 -0.10824087801966858\n",
      "Clint Capela 0.23542551621242028 -0.060258789922858644\n",
      "Robin Lopez 0.1727087205849283 -0.11751434755578145\n",
      "Willie Reed 0.1850612810552634 -0.10104373536817868\n",
      "Lavoy Allen 0.1668373095911683 -0.11894373761894743\n",
      "Andre Roberson 0.19226429183115162 -0.09252962911154458\n",
      "Joakim Noah 0.2051026341889192 -0.07874715213897052\n",
      "Nikola Jokic 0.1378810027206907 -0.14531160862936932\n",
      "Alex Len 0.16697756302821215 -0.1033118190049501\n",
      "Tim Duncan 0.10290011084190467 -0.16607825373438534\n",
      "Jarrett Jack 0.19803616112030487 -0.07027270797498851\n",
      "Rondae Hollis-Jefferson 0.16490752522474525 -0.09970997424281151\n",
      "Omer Asik 0.004490794456635949 -0.259827344866456\n",
      "Tyson Chandler 0.0692537454168784 -0.19206890501042279\n",
      "Bottom 20 REB_PM\n",
      "CJ Miles -0.13604857563717354 0.25674201344488495\n",
      "Paul Pierce -0.23654030227698278 0.14307790575471868\n",
      "Roy Hibbert -0.25862952189240607 0.07878663604950431\n",
      "Courtney Lee -0.24810335688692267 0.054865211155023345\n",
      "Jeff Green -0.2365530331712649 0.06310725442859624\n",
      "Donald Sloan -0.1988177191813501 0.07095177645945844\n",
      "Evan Fournier -0.1445050375146331 0.12235235450281373\n",
      "Eric Gordon -0.23546767516556966 0.028466884107715265\n",
      "Al Horford -0.18579657733741384 0.056496585089860316\n",
      "Mike Conley -0.2118048217182209 0.02632808973155769\n",
      "PJ Hairston -0.28367019708894436 -0.045702691468220195\n",
      "Brandon Rush -0.18586947157741165 0.046371190691863746\n",
      "Chandler Parsons -0.16251279251953996 0.05616406101646773\n",
      "Kendall Marshall -0.1016245235784081 0.11245993903890396\n",
      "Derrick Williams -0.11127466723372587 0.09414755003351331\n",
      "Austin Rivers -0.06648883184099828 0.13543558722081434\n",
      "Anthony Morrow -0.10718885586158071 0.09268196541622398\n",
      "Russ Smith -0.12103743112059431 0.07660235255847059\n",
      "Pat Connaughton -0.04817587536029431 0.14201212310685668\n",
      "Corey Brewer -0.07796676716948445 0.10696299126606823\n"
     ]
    }
   ],
   "source": [
    "max_count = 20\n",
    "count = 0\n",
    "print(\"Top\", max_count, \"REB_PM\")\n",
    "for pid, player in sorted(player_indicies.items(), key=lambda p: p[1].reb_pm, reverse=True):\n",
    "    name = find_player_by_id(pid)['full_name']\n",
    "    print(name, player.oreb_pm, player.dreb_pm)\n",
    "    count += 1\n",
    "    if count == max_count:\n",
    "        break\n",
    "count = 0\n",
    "\n",
    "print()\n",
    "print(\"Bottom\", max_count, \"REB_PM\")\n",
    "for pid, player in sorted(player_indicies.items(), key=lambda p: p[1].reb_pm, reverse=False):\n",
    "    name = find_player_by_id(pid)['full_name']\n",
    "    print(name, player.oreb_pm, player.dreb_pm)\n",
    "    count += 1\n",
    "    if count == max_count:\n",
    "        break\n"
   ]
  }
 ],
 "metadata": {
  "interpreter": {
   "hash": "a8590208259839df94eb6993e24edc5fa127f3c6a8a3318c28674b5b9a9a2d23"
  },
  "kernelspec": {
   "display_name": "Python 3.9.2 ('.venv39': venv)",
   "language": "python",
   "name": "python3"
  },
  "language_info": {
   "codemirror_mode": {
    "name": "ipython",
    "version": 3
   },
   "file_extension": ".py",
   "mimetype": "text/x-python",
   "name": "python",
   "nbconvert_exporter": "python",
   "pygments_lexer": "ipython3",
   "version": "3.9.2"
  },
  "orig_nbformat": 4
 },
 "nbformat": 4,
 "nbformat_minor": 2
}
