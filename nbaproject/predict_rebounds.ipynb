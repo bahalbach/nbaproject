{
 "cells": [
  {
   "cell_type": "code",
   "execution_count": 1,
   "metadata": {},
   "outputs": [],
   "source": [
    "%load_ext autoreload\n",
    "%autoreload 2\n"
   ]
  },
  {
   "cell_type": "markdown",
   "metadata": {},
   "source": [
    "# Load relevent data\n"
   ]
  },
  {
   "cell_type": "code",
   "execution_count": 2,
   "metadata": {},
   "outputs": [],
   "source": [
    "from nba import NbaTracker\n",
    "from nba_api.stats.static.players import find_player_by_id\n",
    "from nba_api.stats.static.teams import find_team_name_by_id\n",
    "from build_simple_rebound_model import build_simple_rebound_model\n",
    "\n",
    "nbaTracker = NbaTracker()\n",
    "season_name = \"2015-16\"\n",
    "nbaTracker.add_season(season_name)\n",
    "season = nbaTracker.seasons[season_name]\n",
    "season.load_possession_data()\n",
    "preprocess, rebound_model = build_simple_rebound_model(season)\n",
    "# season.build_player_seasons()\n",
    "games = season.games\n"
   ]
  },
  {
   "cell_type": "code",
   "execution_count": 3,
   "metadata": {},
   "outputs": [
    {
     "data": {
      "text/plain": [
       "(1107, 123)"
      ]
     },
     "execution_count": 3,
     "metadata": {},
     "output_type": "execute_result"
    }
   ],
   "source": [
    "from sklearn.model_selection import train_test_split\n",
    "train_game_ids, test_game_ids = train_test_split(list(games.keys()), test_size=0.1, random_state=432536)\n",
    "len(train_game_ids), len(test_game_ids)\n"
   ]
  },
  {
   "cell_type": "code",
   "execution_count": 22,
   "metadata": {},
   "outputs": [],
   "source": [
    "from PlayerTracker import PlayerTracker\n",
    "players = PlayerTracker(season)\n",
    "players.add_games(train_game_ids)\n"
   ]
  },
  {
   "cell_type": "markdown",
   "metadata": {},
   "source": [
    "# Add rebound pbp data to players"
   ]
  },
  {
   "cell_type": "code",
   "execution_count": 5,
   "metadata": {},
   "outputs": [],
   "source": [
    "from build_simple_rebound_model import get_rebound_df_from_games\n",
    "\n",
    "train_games = [games[game_id] for game_id in train_game_ids]\n",
    "train_df = get_rebound_df_from_games(train_games)\n",
    "processed_train_X = preprocess.transform(train_df)\n",
    "predictions = rebound_model.predict(processed_train_X)[0]"
   ]
  },
  {
   "cell_type": "code",
   "execution_count": 47,
   "metadata": {},
   "outputs": [],
   "source": [
    "train_y = train_df[['result_class']].to_numpy() - 1"
   ]
  },
  {
   "cell_type": "code",
   "execution_count": null,
   "metadata": {},
   "outputs": [],
   "source": [
    "rebound_index = 0\n",
    "from nba_dataclasses import EventType\n",
    "for game in train_games:\n",
    "    for ge in game.game_events:\n",
    "        if ge.event_type == EventType.Rebound:\n",
    "            chances = [0, *predictions[rebound_index]]\n",
    "            rebound_index += 1\n",
    "            if rebound_index % 10000 == 0:\n",
    "                print(\"evaled\", rebound_index)\n",
    "            players.add_rebound_event(ge, chances)"
   ]
  },
  {
   "cell_type": "markdown",
   "metadata": {},
   "source": [
    "# Go through train games to generate rebounds with player data"
   ]
  },
  {
   "cell_type": "code",
   "execution_count": 42,
   "metadata": {},
   "outputs": [],
   "source": [
    "import numpy as np\n",
    "\n",
    "rebound_index = 0\n",
    "off_players_rebounds = []\n",
    "def_players_rebounds = []\n",
    "for game in train_games:\n",
    "    players.undo_add_game(game.game_id)\n",
    "    for ge in game.game_events:\n",
    "        if ge.event_type == EventType.Rebound:\n",
    "            chances = [0, *predictions[rebound_index]]\n",
    "            rebound_index += 1\n",
    "            if rebound_index % 10000 == 0:\n",
    "                print(\"evaled\", rebound_index)\n",
    "                \n",
    "            players.undo_add_rebound_event(ge, chances)\n",
    "\n",
    "            # get player data\n",
    "            lineup = ge.lineup.lineup\n",
    "            off_players = []\n",
    "            for player_id in lineup[0]:\n",
    "                off_players.append(players[player_id].get_stats())\n",
    "            off_players_rebounds.append(off_players)\n",
    "            def_players = []\n",
    "            for player_id in lineup[1]:\n",
    "                def_players.append(players[player_id].get_stats())\n",
    "            def_players_rebounds.append(def_players)\n",
    "\n",
    "            players.add_rebound_event(ge, chances)\n",
    "    players.redo_add_game(game.game_id)\n",
    "\n",
    "off_players_rebounds = np.array(off_players_rebounds)\n",
    "def_players_rebounds = np.array(def_players_rebounds)\n"
   ]
  },
  {
   "cell_type": "code",
   "execution_count": 45,
   "metadata": {},
   "outputs": [
    {
     "data": {
      "text/plain": [
       "(108878, 5, 68)"
      ]
     },
     "execution_count": 45,
     "metadata": {},
     "output_type": "execute_result"
    }
   ],
   "source": [
    "def_players_rebounds.shape\n"
   ]
  },
  {
   "cell_type": "code",
   "execution_count": 64,
   "metadata": {},
   "outputs": [],
   "source": [
    "import tensorflow as tf\n",
    "shot_ds = tf.data.Dataset.from_tensor_slices(processed_train_X)\n",
    "off_ds = tf.data.Dataset.from_tensor_slices(off_players_rebounds)\n",
    "def_ds = tf.data.Dataset.from_tensor_slices(def_players_rebounds)\n",
    "y_ds = tf.data.Dataset.from_tensor_slices(train_y)\n",
    "train_ds = tf.data.Dataset.zip(\n",
    "    (tf.data.Dataset.zip((shot_ds, off_ds, def_ds)), \n",
    "    y_ds))\n",
    "train_ds = train_ds.shuffle(1000).batch(32).prefetch(1)\n"
   ]
  },
  {
   "cell_type": "markdown",
   "metadata": {},
   "source": [
    "# Build model to use player data"
   ]
  },
  {
   "cell_type": "code",
   "execution_count": 60,
   "metadata": {},
   "outputs": [],
   "source": [
    "import tensorflow as tf \n",
    "\n",
    "shot_input = tf.keras.Input(processed_train_X.shape[1:])\n",
    "off_players_input = tf.keras.Input(off_players_rebounds.shape[1:])\n",
    "def_players_input = tf.keras.Input(def_players_rebounds.shape[1:])\n",
    "\n",
    "off_conv1 = tf.keras.layers.Conv1D(\n",
    "    64, 1, activation='relu')(off_players_input)\n",
    "off_conv2 = tf.keras.layers.Conv1D(\n",
    "    64, 1, activation='relu')(off_conv1)\n",
    "# off_conv3 = tf.keras.layers.Conv1D(32, 1, activation='relu')(off_conv2)\n",
    "off_conv3 = tf.keras.layers.Conv1D(8, 1, activation='relu')(off_conv2)\n",
    "off_pool = tf.keras.layers.GlobalAveragePooling1D()(off_conv3)\n",
    "\n",
    "def_conv1 = tf.keras.layers.Conv1D(\n",
    "    64, 1, activation='relu')(def_players_input)\n",
    "def_conv2 = tf.keras.layers.Conv1D(\n",
    "    64, 1, activation='relu')(def_conv1)\n",
    "def_conv3 = tf.keras.layers.Conv1D(8, 1, activation='relu')(def_conv2)\n",
    "# def_conv4 = tf.keras.layers.Conv1D(8, 1, activation='relu')(def_conv3)\n",
    "def_pool = tf.keras.layers.GlobalAveragePooling1D()(def_conv3)\n",
    "\n",
    "concat = tf.keras.layers.concatenate([shot_input, off_pool, def_pool])\n",
    "dense1 = tf.keras.layers.Dense(32, activation='relu')(concat)\n",
    "dense2 = tf.keras.layers.Dense(32, activation='relu')(dense1)\n",
    "output = tf.keras.layers.Dense(10, activation='softmax')(dense2)\n",
    "\n",
    "player_rebound_model = tf.keras.Model(inputs=[shot_input, off_players_input, def_players_input], outputs=output)\n",
    "\n",
    "\n"
   ]
  },
  {
   "cell_type": "code",
   "execution_count": 66,
   "metadata": {},
   "outputs": [
    {
     "data": {
      "image/png": "[encoded data removed]",
      "text/plain": [
       "<IPython.core.display.Image object>"
      ]
     },
     "execution_count": 66,
     "metadata": {},
     "output_type": "execute_result"
    }
   ],
   "source": [
    "tf.keras.utils.plot_model(player_rebound_model, rankdir='LR', show_shapes=True)\n"
   ]
  },
  {
   "cell_type": "code",
   "execution_count": 61,
   "metadata": {},
   "outputs": [],
   "source": [
    "player_rebound_model.compile(optimizer='adam', loss='sparse_categorical_crossentropy', metrics=['accuracy'])\n"
   ]
  },
  {
   "cell_type": "code",
   "execution_count": 62,
   "metadata": {},
   "outputs": [
    {
     "name": "stdout",
     "output_type": "stream",
     "text": [
      "3403/3403 [==============================] - 90s 26ms/step - loss: 1.0138 - accuracy: 0.6713\n"
     ]
    },
    {
     "data": {
      "text/plain": [
       "<keras.callbacks.History at 0x239f5e28190>"
      ]
     },
     "execution_count": 62,
     "metadata": {},
     "output_type": "execute_result"
    }
   ],
   "source": [
    "player_rebound_model.fit(\n",
    "    [processed_train_X, off_players_rebounds, def_players_rebounds], train_y, epochs=1)\n"
   ]
  },
  {
   "cell_type": "code",
   "execution_count": 65,
   "metadata": {},
   "outputs": [
    {
     "name": "stdout",
     "output_type": "stream",
     "text": [
      "Epoch 1/10\n",
      "3403/3403 [==============================] - 84s 24ms/step - loss: 0.9353 - accuracy: 0.6757\n",
      "Epoch 2/10\n",
      "3403/3403 [==============================] - 83s 24ms/step - loss: 0.9257 - accuracy: 0.6760\n",
      "Epoch 3/10\n",
      "3403/3403 [==============================] - 80s 24ms/step - loss: 0.9205 - accuracy: 0.6760\n",
      "Epoch 4/10\n",
      "3403/3403 [==============================] - 79s 23ms/step - loss: 0.9180 - accuracy: 0.6760\n",
      "Epoch 5/10\n",
      "3403/3403 [==============================] - 81s 24ms/step - loss: 0.9163 - accuracy: 0.6759\n",
      "Epoch 6/10\n",
      "3403/3403 [==============================] - 82s 24ms/step - loss: 0.9156 - accuracy: 0.6760\n",
      "Epoch 7/10\n",
      "3403/3403 [==============================] - 93s 27ms/step - loss: 0.9152 - accuracy: 0.6760\n",
      "Epoch 8/10\n",
      "3403/3403 [==============================] - 78s 23ms/step - loss: 0.9148 - accuracy: 0.6760\n",
      "Epoch 9/10\n",
      "3403/3403 [==============================] - 81s 24ms/step - loss: 0.9146 - accuracy: 0.6760\n",
      "Epoch 10/10\n",
      "3403/3403 [==============================] - 80s 24ms/step - loss: 0.9145 - accuracy: 0.6760\n"
     ]
    },
    {
     "data": {
      "text/plain": [
       "<keras.callbacks.History at 0x23a0104b550>"
      ]
     },
     "execution_count": 65,
     "metadata": {},
     "output_type": "execute_result"
    }
   ],
   "source": [
    "player_rebound_model.fit(train_ds, epochs=10)\n"
   ]
  },
  {
   "cell_type": "code",
   "execution_count": 25,
   "metadata": {},
   "outputs": [],
   "source": [
    "rebound_stats = {}\n",
    "for pid in players.players:\n",
    "    rebound_stats[pid] = players.get_rebound_stats(pid)\n"
   ]
  },
  {
   "cell_type": "code",
   "execution_count": 36,
   "metadata": {},
   "outputs": [
    {
     "name": "stdout",
     "output_type": "stream",
     "text": [
      "Tony Wroten 0.2865731756361289 -0.23899036164545467\n",
      "Briante Weber 0.06520453512734982 -0.2694149754685345\n",
      "Elton Brand 0.09218291245727836 -0.1828708523932099\n",
      "C.J. Wilcox 0.16517857456239526 -0.08291943116545439\n",
      "Lamar Patterson 0.14047977634059028 -0.10001732179726897\n",
      "Jeff Ayres 0.22325448148768756 -0.010856011093925647\n",
      "Tiago Splitter 0.12243304467244254 -0.10146932485120705\n",
      "Greg Smith 0.060635270203830936 -0.1432936349157593\n",
      "Michael Kidd-Gilchrist 0.34661010200483655 0.16897888747815754\n",
      "Damjan Rudez 0.02274277030227139 -0.14954999829488658\n",
      "Chris Copeland 0.010375592902217796 -0.14406884304329196\n",
      "Mike Muscala 0.10825308455228956 -0.04260424366988645\n",
      "Carl Landry 0.07681166855096438 -0.06736965848527021\n",
      "Salah Mejri 0.15403332892508673 0.01520733331191993\n",
      "Richaun Holmes 0.08650089070856558 -0.05198375414398608\n",
      "Christian Wood 0.11032471759198129 -0.0015327353065695132\n",
      "Phil Pressey 0.0557997246616078 -0.05593522085067874\n",
      "Jeremy Evans 0.06853853977746924 -0.037558463848745866\n",
      "Tarik Black 0.06640225388464868 -0.03761591799123683\n",
      "Jarell Eddie 0.23165299478075507 0.12775736336749827\n"
     ]
    }
   ],
   "source": [
    "\n",
    "count = 0\n",
    "max_count = 20\n",
    "for pid, stats in sorted(rebound_stats.items(), key=lambda item: item[1][0]+item[1][1]-item[1][2]-item[1][3], reverse=True):\n",
    "    if players.players[pid].dreb_events < 100:\n",
    "        continue\n",
    "    print(find_player_by_id(pid)['full_name'], stats[0]+stats[1], stats[2]+stats[3])\n",
    "    count += 1\n",
    "    if count == max_count:\n",
    "        break\n"
   ]
  },
  {
   "cell_type": "code",
   "execution_count": 37,
   "metadata": {},
   "outputs": [
    {
     "data": {
      "text/plain": [
       "[0.2774651445688119,\n",
       " 0.00910803106731702,\n",
       " -0.1658245068883042,\n",
       " -0.07316585475715047]"
      ]
     },
     "execution_count": 37,
     "metadata": {},
     "output_type": "execute_result"
    }
   ],
   "source": [
    "rebound_stats[203100]\n"
   ]
  },
  {
   "cell_type": "code",
   "execution_count": 38,
   "metadata": {},
   "outputs": [
    {
     "data": {
      "text/plain": [
       "[0.2774651445688119,\n",
       " 0.00910803106731702,\n",
       " -0.1658245068883042,\n",
       " -0.07316585475715047]"
      ]
     },
     "execution_count": 38,
     "metadata": {},
     "output_type": "execute_result"
    }
   ],
   "source": [
    "rebound_stats[203100]\n"
   ]
  },
  {
   "cell_type": "code",
   "execution_count": 39,
   "metadata": {},
   "outputs": [
    {
     "data": {
      "text/plain": [
       "PlayerSeasonData(player_id=203100, height=78, weight=205, age=23, exp=3, position=1, games=8, games_started=3, secs=8658, fg2m=19, fg2a=48, fg3m=3, fg3a=17, ftm=20, fta=37, oreb=2, dreb=19, ast=20, stl=3, blk=0, to=29, pf=11, plus_minus=-68.0, pt_games=11, pt_secs=8658, spd=3885998, dist=1073, orbc=16, drbc=33, tchs=402, sast=0, ftast=4, passes=284, pt_ast=20, cfgm=14, cfga=42, ufgm=8, ufga=23, dfgm=3, dfga=3, oreb_events=161, oreb_player_foul=0, oreb_player_fdraw=0, oreb_player_live_oreb=2, oreb_team_foul=0, oreb_team_fdraw=0, oreb_team_jumpballs=3, oreb_team_live_oreb=31, oreb_team_dead_oreb=10, oreb_team_foul_dif=-0.6166181524749845, oreb_team_fdraw_dif=-0.6038167163496837, oreb_team_jumpballs_dif=2.5168876624666154, oreb_team_live_oreb_dif=-2.5344725102186203, oreb_team_dead_oreb_dif=-0.884109865874052, dreb_events=146, dreb_player_foul=0, dreb_player_fdraw=0, dreb_player_live_dreb=19, dreb_team_foul=0, dreb_team_fdraw=0, dreb_team_jumpballs=0, dreb_team_live_oreb=32, dreb_team_dead_oreb=6, dreb_team_foul_dif=-0.8739514307817444, dreb_team_fdraw_dif=-0.9385856587905437, dreb_team_jumpballs_dif=-0.9997095018625259, dreb_team_live_oreb_dif=3.619026727974415, dreb_team_dead_oreb_dif=-3.0519654788076878)"
      ]
     },
     "execution_count": 39,
     "metadata": {},
     "output_type": "execute_result"
    }
   ],
   "source": [
    "players.players[203100]\n"
   ]
  },
  {
   "cell_type": "code",
   "execution_count": 11,
   "metadata": {},
   "outputs": [],
   "source": [
    "for i in sorted(rebound_stats.items():\n",
    "    break"
   ]
  },
  {
   "cell_type": "code",
   "execution_count": 12,
   "metadata": {},
   "outputs": [
    {
     "data": {
      "text/plain": [
       "(201952,\n",
       " [0.0032627956155011476,\n",
       "  -0.011886614860079268,\n",
       "  0.02085725358277581,\n",
       "  -0.016085475198889757])"
      ]
     },
     "execution_count": 12,
     "metadata": {},
     "output_type": "execute_result"
    }
   ],
   "source": [
    "i"
   ]
  },
  {
   "cell_type": "code",
   "execution_count": 14,
   "metadata": {},
   "outputs": [
    {
     "data": {
      "text/plain": [
       "450"
      ]
     },
     "execution_count": 14,
     "metadata": {},
     "output_type": "execute_result"
    }
   ],
   "source": [
    "k = 203515\n",
    "len(players.rebound_opponents)"
   ]
  },
  {
   "cell_type": "code",
   "execution_count": 5,
   "metadata": {},
   "outputs": [],
   "source": [
    "from nba_dataclasses import EventType, ResultClass \n",
    "import pandas as pd \n",
    "\n",
    "\n",
    "columns = ['result_class', 'result_team', 'num_fts', 'shot_type',\n",
    "           'is_blocked', 'is_putback', 'in_penalty', 'offense_is_home', 'score_margin']\n",
    "non_player_columns = columns[:]\n",
    "num_rebound_inputs = 6\n",
    "\n",
    "catagorical_attributes = ['shot_type']\n",
    "binary_attributes = ['is_blocked', 'is_putback',\n",
    "                      'in_penalty', 'offense_is_home']\n",
    "numerical_attributes = ['score_margin']\n",
    "\n",
    "player_id_indices = []\n",
    "off_player_id_indices = []\n",
    "def_player_id_indices = []\n",
    "player_foul_indices = []\n",
    "\n",
    "for team in ['off', 'def']:\n",
    "    for player_num in [0, 1, 2, 3, 4]:\n",
    "        player = 'player' + team + str(player_num)\n",
    "        player_id_indices.append(player)\n",
    "        columns.append(player)\n",
    "team = 'off'\n",
    "for player_num in [0, 1, 2, 3, 4]:\n",
    "    player = 'player' + team + str(player_num)\n",
    "    off_player_id_indices.append(player)\n",
    "team = 'def'\n",
    "for player_num in [0, 1, 2, 3, 4]:\n",
    "    player = 'player' + team + str(player_num)\n",
    "    def_player_id_indices.append(player)\n",
    "for team in ['off', 'def']:\n",
    "    for player_num in [0, 1, 2, 3, 4]:\n",
    "        fouls = 'player' + team + str(player_num) + 'fouls'\n",
    "        player_foul_indices.append(fouls)\n",
    "        columns.append(fouls)\n",
    "\n",
    "def get_rebound_df_from_game_ids(game_ids):\n",
    "    rebounds = []\n",
    "    for game_id in game_ids:\n",
    "        game = games[game_id]\n",
    "        last_game_event = None\n",
    "        for ge in game.game_events:\n",
    "            if ge.event_type == EventType.Rebound:\n",
    "                result_class = ge.result.result_class\n",
    "                # if result_class == ResultClass.JUMPBALL:\n",
    "                #     result_team = 2\n",
    "                if result_class in {\n",
    "                        ResultClass.OFF_REBOUND, ResultClass.FT, ResultClass.SAME_TEAM}:\n",
    "                    result_team = 1\n",
    "                else:\n",
    "                    result_team = 0\n",
    "                num_fts = ge.result.num_fts\n",
    "                shot_type = ge.result.shot_type\n",
    "                is_blocked = ge.result.is_blocked\n",
    "                is_putback = last_game_event.is_putback\n",
    "                in_penalty = ge.in_penalty\n",
    "                offense_is_home = ge.offense_is_home\n",
    "                score_margin = ge.score_margin\n",
    "\n",
    "                rebound = [\n",
    "                    result_class,\n",
    "                    result_team,\n",
    "                    num_fts,\n",
    "                    shot_type,\n",
    "                    is_blocked,\n",
    "                    is_putback,\n",
    "                    in_penalty,\n",
    "                    offense_is_home,\n",
    "                    score_margin,\n",
    "                ]\n",
    "\n",
    "                for team in [0, 1]:\n",
    "                    for player_num in [0, 1, 2, 3, 4]:\n",
    "                        player_id = ge.lineup.lineup[team][player_num]\n",
    "                        rebound.append(player_id)\n",
    "                for team in [ge.lineup.offense_fouls, ge.lineup.defense_fouls]:\n",
    "                    for foul_num in team:\n",
    "                        rebound.append(foul_num)\n",
    "            \n",
    "                rebounds.append(rebound)\n",
    "            last_game_event = ge\n",
    "    return pd.DataFrame(rebounds, columns=columns)\n",
    "\n",
    "\n",
    "train_rebounds = get_rebound_df_from_game_ids(train_games)\n",
    "test_rebounds = get_rebound_df_from_game_ids(test_games)\n",
    "   \n"
   ]
  },
  {
   "cell_type": "code",
   "execution_count": 6,
   "metadata": {},
   "outputs": [],
   "source": [
    "# from sklearn.model_selection import StratifiedShuffleSplit\n",
    "\n",
    "# split = StratifiedShuffleSplit(n_splits=1, test_size=0.2, random_state=43)\n",
    "# for train_index, test_index in split.split(rebounds, rebounds['result_class']):\n",
    "#     train = rebounds.loc[train_index]\n",
    "#     test = rebounds.loc[test_index]\n"
   ]
  },
  {
   "cell_type": "code",
   "execution_count": 7,
   "metadata": {},
   "outputs": [],
   "source": [
    "train_X = train_rebounds.drop(['result_class', 'result_team', 'num_fts'], axis=1)\n",
    "train_y = train_rebounds['result_class']\n",
    "train_is_oreb = train_rebounds['result_team']\n",
    "test_X = test_rebounds.drop(['result_class', 'result_team', 'num_fts'], axis=1)\n",
    "test_y = test_rebounds['result_class']\n",
    "test_is_oreb = test_rebounds['result_team']\n",
    "\n"
   ]
  },
  {
   "cell_type": "markdown",
   "metadata": {},
   "source": [
    "# discover rebound data"
   ]
  },
  {
   "cell_type": "code",
   "execution_count": 8,
   "metadata": {},
   "outputs": [
    {
     "data": {
      "text/plain": [
       "num_fts  result_team\n",
       "0        0              78939\n",
       "         1              29322\n",
       "2        1                315\n",
       "         0                302\n",
       "Name: result_team, dtype: int64"
      ]
     },
     "execution_count": 8,
     "metadata": {},
     "output_type": "execute_result"
    }
   ],
   "source": [
    "train_rebounds.groupby('num_fts')['result_team'].value_counts()"
   ]
  },
  {
   "cell_type": "markdown",
   "metadata": {},
   "source": [
    "# Prepare data"
   ]
  },
  {
   "cell_type": "markdown",
   "metadata": {},
   "source": [
    "build add player data transformer"
   ]
  },
  {
   "cell_type": "code",
   "execution_count": 9,
   "metadata": {},
   "outputs": [],
   "source": [
    "from sklearn.base import BaseEstimator, TransformerMixin\n",
    "from nba_dataclasses import ResultClass\n",
    "from nba_dataclasses import PlayerInfo\n",
    "import numpy as np\n",
    "from sklearn import linear_model\n",
    "from build_shot_chance_data import ShotType\n",
    "\n",
    "shot_type_index = 0\n",
    "is_blocked_index = 1\n",
    "lineup_start_index = 6\n",
    "lineup_fouls_start_index = 16\n",
    "\n",
    "## TODO generate rebound stats and rebound foul rate by player/lineup for off/def and add to PlayerInfo\n",
    "## add those stats to X in transform\n",
    "\n",
    "\n",
    "class AddRebPlusMinus(BaseEstimator, TransformerMixin):\n",
    "    def __init__(self):\n",
    "        pass \n",
    "\n",
    "    def fit(self, X, y):\n",
    "        \"\"\"Generate adjusted rebound plus/minus from data.\n",
    "\n",
    "        Parameters\n",
    "        ----------\n",
    "        X : {array-like, sparse matrix}, shape (n_samples, n_features)\n",
    "            rebound data.\n",
    "        y : {array-like, sparse matrix}, shape (n_samples, )\n",
    "            result_class of rebound.\n",
    "            \n",
    "        Returns\n",
    "        -------\n",
    "        self : object\n",
    "            Returns self.\n",
    "        \"\"\"\n",
    "        player_index = 0\n",
    "        player_indicies: dict[int, PlayerInfo] = {}\n",
    "        for player, ps in nbaTracker.seasons[season_name].player_seasons.items():\n",
    "            if player not in player_indicies:\n",
    "                player_indicies[player] = PlayerInfo(player_index)\n",
    "                player_index += 1\n",
    "            for team in ps.player_contributions:\n",
    "                player_indicies[player].teams.add(team)\n",
    "        num_players = player_index\n",
    "\n",
    "\n",
    "        reb_by_shottype = {st: {is_blkd: {True: 0, False: 0}\n",
    "                                for is_blkd in [False, True]} for st in ShotType}\n",
    "        lineup_index = 0\n",
    "        lineup_indicies: dict[tuple[int, int, int, int,\n",
    "                                  int, int, int, int, int, int], int] = {}\n",
    "\n",
    "        for rebound, result_class in zip(X, y):\n",
    "            # if result_team == 2: #EventType.JumpBall:\n",
    "            #     continue\n",
    "            is_oreb = result_class in {\n",
    "               ResultClass.OFF_REBOUND, ResultClass.FT, ResultClass.SAME_TEAM}\n",
    "            shot_type = rebound[shot_type_index]\n",
    "            is_blocked = rebound[is_blocked_index]\n",
    "\n",
    "            reb_by_shottype[ShotType(shot_type)][is_blocked][is_oreb] += 1\n",
    "\n",
    "            lineup = tuple(rebound[lineup_start_index:lineup_start_index+10])\n",
    "            if lineup not in lineup_indicies:\n",
    "                lineup_indicies[lineup] = lineup_index\n",
    "                lineup_index += 1\n",
    "        num_lineups = lineup_index\n",
    "\n",
    "        for st in ShotType:\n",
    "            for is_blkd in [False, True]:\n",
    "                total = reb_by_shottype[st][is_blkd][False] + \\\n",
    "                    reb_by_shottype[st][is_blkd][True]\n",
    "                if total == 0:\n",
    "                    continue\n",
    "                reb_by_shottype[st][is_blkd][False] = reb_by_shottype[st][is_blkd][False] / total\n",
    "                reb_by_shottype[st][is_blkd][True] = reb_by_shottype[st][is_blkd][True] / total\n",
    "        \n",
    "        oreb_chance_dif = np.zeros(num_lineups)\n",
    "        lineups = np.zeros((num_lineups, num_players*2))\n",
    "        sample_weights = np.zeros(num_lineups)\n",
    "\n",
    "        for rebound, result_class in zip(X, y):\n",
    "            # if result_team == 2: # EventType.JumpBall:\n",
    "            #     continue\n",
    "            is_oreb = result_class in {\n",
    "               ResultClass.OFF_REBOUND, ResultClass.FT, ResultClass.SAME_TEAM}\n",
    "            shot_type = rebound[shot_type_index]\n",
    "            is_blocked = rebound[is_blocked_index]\n",
    "            oreb_chance = reb_by_shottype[ShotType(shot_type)][is_blocked][True]\n",
    "\n",
    "            lineup = tuple(rebound[lineup_start_index:lineup_start_index+10])\n",
    "            oreb_chance_dif[lineup_indicies[lineup]\n",
    "                            ] += (1 if is_oreb else 0) - oreb_chance\n",
    "            sample_weights[lineup_indicies[lineup]] += 1\n",
    "        oreb_chance_dif /= sample_weights\n",
    "        \n",
    "        for lineup, lineup_index in lineup_indicies.items():\n",
    "            for team_index in [0, 1]:\n",
    "                for player_index in [0, 1, 2, 3, 4]:\n",
    "                    player_id = lineup[team_index*5 + player_index]\n",
    "                    i = player_indicies[player_id].index + team_index*num_players\n",
    "                    lineups[lineup_index, i] = 1\n",
    "\n",
    "        reg = linear_model.Ridge(1000)\n",
    "        \n",
    "        reg.fit(lineups, oreb_chance_dif, sample_weights)\n",
    "\n",
    "        for player in player_indicies.values():\n",
    "            player.oreb_pm = reg.coef_[player.index]\n",
    "            player.dreb_pm = reg.coef_[player.index + num_players]\n",
    "\n",
    "        max_count = 5\n",
    "        count = 0\n",
    "        print(\"Top\", max_count, \"REB_PM\")\n",
    "        for pid, player in sorted(player_indicies.items(), key=lambda p: p[1].reb_pm, reverse=True):\n",
    "            name = find_player_by_id(pid)['full_name']\n",
    "            print(name, player.oreb_pm, player.dreb_pm)\n",
    "            count += 1\n",
    "            if count == max_count:\n",
    "                break\n",
    "        count = 0\n",
    "\n",
    "        print()\n",
    "        print(\"Bottom\", max_count, \"REB_PM\")\n",
    "        for pid, player in sorted(player_indicies.items(), key=lambda p: p[1].reb_pm, reverse=False):\n",
    "            name = find_player_by_id(pid)['full_name']\n",
    "            print(name, player.oreb_pm, player.dreb_pm)\n",
    "            count += 1\n",
    "            if count == max_count:\n",
    "                break\n",
    "\n",
    "        self.player_indicies = player_indicies\n",
    "\n",
    "        return self \n",
    "\n",
    "    def transform(self, X, y=None):\n",
    "        pms = np.zeros(len(X))\n",
    "        for i, rebound in enumerate(X):\n",
    "            for pid in rebound[lineup_start_index:lineup_start_index+5]:\n",
    "                pms[i] += self.player_indicies[pid].oreb_pm\n",
    "            for pid in rebound[lineup_start_index+5:lineup_start_index+10]:\n",
    "                pms[i] += self.player_indicies[pid].dreb_pm\n",
    "        return np.c_[pms]\n",
    "\n"
   ]
  },
  {
   "cell_type": "markdown",
   "metadata": {},
   "source": [
    "build data preparing pipelines"
   ]
  },
  {
   "cell_type": "code",
   "execution_count": 10,
   "metadata": {},
   "outputs": [],
   "source": [
    "\n",
    "from sklearn.compose import ColumnTransformer\n",
    "from sklearn.preprocessing import OneHotEncoder, LabelBinarizer, OrdinalEncoder, StandardScaler\n",
    "from sklearn.pipeline import make_pipeline\n",
    "import tensorflow as tf\n",
    "\n",
    "tf.keras.models.load_model()\n",
    "# transform catagorical attributes to one-hot encoding\n",
    "\n",
    "add_pm_attributes = list(range(16)) # columns[2:]\n",
    "\n",
    "oe = OrdinalEncoder()\n",
    "oe.fit(train_y.to_numpy().reshape(-1, 1))\n",
    "\n",
    "preprocess = ColumnTransformer([(\"categorical\", OneHotEncoder(\n",
    "), catagorical_attributes), (\"binary\", 'passthrough', binary_attributes), (\"numerical\", StandardScaler(), numerical_attributes)])\n",
    "\n",
    "# preprocess_w_pm = ColumnTransformer([(\"cat\", OneHotEncoder(\n",
    "# ), catagorical_attributes), (\"pass\", 'passthrough', pass_attributes), (\"add_pm\", AddRebPlusMinus(), add_pm_attributes)])\n",
    "\n",
    "# add_pm_pipe = make_pipeline(AddRebPlusMinus(), preprocess_w_pm)\n"
   ]
  },
  {
   "cell_type": "code",
   "execution_count": 11,
   "metadata": {},
   "outputs": [],
   "source": [
    "processed_train_y = train_y - 1 #oe.transform(train_y.to_numpy().reshape(-1,1))\n",
    "processed_test_y = test_y - 1 #oe.transform(test_y.to_numpy().reshape(-1,1))"
   ]
  },
  {
   "cell_type": "code",
   "execution_count": 12,
   "metadata": {},
   "outputs": [],
   "source": [
    "category_indices = {}\n",
    "for i, category in enumerate(oe.categories_[0]):\n",
    "    category_indices[category] = i # int(oe.transform([[category]])[0][0])\n"
   ]
  },
  {
   "cell_type": "code",
   "execution_count": 13,
   "metadata": {},
   "outputs": [],
   "source": [
    "processed_train_X = tf.cast(\n",
    "    preprocess.fit_transform(train_X), dtype=tf.float32)\n",
    "processed_test_X = tf.cast(preprocess.transform(test_X), dtype=tf.float32)\n"
   ]
  },
  {
   "cell_type": "code",
   "execution_count": 14,
   "metadata": {},
   "outputs": [],
   "source": [
    "# pm_train_X = preprocess_w_pm.fit_transform(\n",
    "#     train_X.to_numpy(dtype=int), train_y.to_numpy(dtype=int))\n",
    "# pm_test_X = preprocess_w_pm.transform(\n",
    "#     test_X.to_numpy(dtype=int))\n"
   ]
  },
  {
   "cell_type": "markdown",
   "metadata": {},
   "source": [
    "# Build averages model to compare to"
   ]
  },
  {
   "cell_type": "code",
   "execution_count": 15,
   "metadata": {},
   "outputs": [],
   "source": [
    "import tensorflow as tf\n",
    "\n",
    "# tf.keras.layers.Normalization\n",
    "\n",
    "# shot_type_one_hot = tf.keras.layers.IntegerLookup(output_mode=\"one_hot\")\n",
    "# shot_type_one_hot.adapt(train_X['shot_type'])\n",
    "\n",
    "inputs = tf.keras.Input(processed_train_X.shape[1:])\n",
    "rebound_type = tf.keras.layers.Dense(10)(inputs)\n",
    "is_oreb = tf.keras.layers.Dense(1, activation='sigmoid')(inputs)\n",
    "\n",
    "rebound_model = tf.keras.Model(inputs=inputs, outputs=[rebound_type, is_oreb])"
   ]
  },
  {
   "cell_type": "code",
   "execution_count": 16,
   "metadata": {},
   "outputs": [
    {
     "name": "stdout",
     "output_type": "stream",
     "text": [
      "Epoch 1/5\n",
      "3403/3403 [==============================] - 60s 17ms/step - loss: 1.7381 - dense_loss: 1.1419 - dense_1_loss: 0.5962 - dense_accuracy: 0.6289 - dense_1_accuracy: 0.7020\n",
      "Epoch 2/5\n",
      "3403/3403 [==============================] - 62s 18ms/step - loss: 1.4993 - dense_loss: 0.9296 - dense_1_loss: 0.5697 - dense_accuracy: 0.6760 - dense_1_accuracy: 0.7274\n",
      "Epoch 3/5\n",
      "3403/3403 [==============================] - 63s 19ms/step - loss: 1.4914 - dense_loss: 0.9220 - dense_1_loss: 0.5694 - dense_accuracy: 0.6760 - dense_1_accuracy: 0.7270\n",
      "Epoch 4/5\n",
      "3403/3403 [==============================] - 58s 17ms/step - loss: 1.4890 - dense_loss: 0.9196 - dense_1_loss: 0.5694 - dense_accuracy: 0.6760 - dense_1_accuracy: 0.7270\n",
      "Epoch 5/5\n",
      "3403/3403 [==============================] - 59s 17ms/step - loss: 1.4880 - dense_loss: 0.9186 - dense_1_loss: 0.5694 - dense_accuracy: 0.6759 - dense_1_accuracy: 0.7270\n"
     ]
    }
   ],
   "source": [
    "loss_fn = tf.keras.losses.SparseCategoricalCrossentropy(from_logits=True)\n",
    "rebound_model.compile(\n",
    "    optimizer='adam',\n",
    "    loss=[loss_fn, 'binary_crossentropy'],\n",
    "    metrics=['accuracy'])\n",
    "\n",
    "# fit data\n",
    "history = rebound_model.fit(processed_train_X, [train_y - 1, train_is_oreb.to_numpy().reshape(-1, 1)], epochs=5)\n"
   ]
  },
  {
   "cell_type": "code",
   "execution_count": 17,
   "metadata": {},
   "outputs": [
    {
     "name": "stdout",
     "output_type": "stream",
     "text": [
      "376/376 - 4s - loss: 1.4627 - dense_loss: 0.8974 - dense_1_loss: 0.5653 - dense_accuracy: 0.6819 - dense_1_accuracy: 0.7312 - 4s/epoch - 11ms/step\n"
     ]
    },
    {
     "data": {
      "text/plain": [
       "[1.4627423286437988,\n",
       " 0.8974490761756897,\n",
       " 0.5652931332588196,\n",
       " 0.6819429397583008,\n",
       " 0.7311819195747375]"
      ]
     },
     "execution_count": 17,
     "metadata": {},
     "output_type": "execute_result"
    }
   ],
   "source": [
    "rebound_model.evaluate(processed_test_X, [\n",
    "                       test_y-1, test_is_oreb.to_numpy().reshape(-1, 1)], verbose=2)\n"
   ]
  },
  {
   "cell_type": "markdown",
   "metadata": {},
   "source": [
    "loss: 0.9182\n",
    "accr: 0.6766"
   ]
  },
  {
   "cell_type": "markdown",
   "metadata": {},
   "source": [
    "Save model"
   ]
  },
  {
   "cell_type": "code",
   "execution_count": 27,
   "metadata": {},
   "outputs": [
    {
     "name": "stdout",
     "output_type": "stream",
     "text": [
      "INFO:tensorflow:Assets written to: saved_model/rebound_model\\assets\n"
     ]
    }
   ],
   "source": [
    "rebound_model.save('saved_model/rebound_model')\n"
   ]
  },
  {
   "cell_type": "markdown",
   "metadata": {},
   "source": [
    "# Build model with player embedding"
   ]
  },
  {
   "cell_type": "code",
   "execution_count": 23,
   "metadata": {},
   "outputs": [],
   "source": [
    "import tensorflow as tf\n",
    "\n",
    "\n",
    "player_indices = tf.keras.layers.IntegerLookup()\n",
    "player_indices.adapt(train_X[player_id_indices])\n"
   ]
  },
  {
   "cell_type": "code",
   "execution_count": 24,
   "metadata": {},
   "outputs": [],
   "source": [
    "shot_type_one_hot = tf.keras.layers.IntegerLookup(output_mode=\"one_hot\")\n",
    "shot_type_one_hot.adapt(train_X['shot_type'])\n"
   ]
  },
  {
   "cell_type": "code",
   "execution_count": 25,
   "metadata": {},
   "outputs": [],
   "source": [
    "num_players = len(player_indices.get_vocabulary())"
   ]
  },
  {
   "cell_type": "code",
   "execution_count": null,
   "metadata": {},
   "outputs": [],
   "source": [
    "shot_type_input = tf.keras.layers.Input([])\n",
    "encoded_shot_type = shot_type_one_hot(shot_type_input)\n",
    "\n",
    "rebound_inputs = tf.keras.layers.Input((len(binary_attributes),))\n",
    "\n",
    "off_player_id_inputs = tf.keras.layers.Input((len(off_player_id_indices), ))\n",
    "encoded_off_players = player_indices(off_player_id_inputs)\n",
    "off_player_embed = tf.keras.layers.Embedding(\n",
    "    num_players, 5, input_length=5)(encoded_off_players)\n",
    "off_player_avg = tf.keras.layers.GlobalAveragePooling1D()(off_player_embed)\n",
    "\n",
    "def_player_id_inputs = tf.keras.layers.Input((len(def_player_id_indices), ))\n",
    "encoded_def_players = player_indices(def_player_id_inputs)\n",
    "def_player_embed = tf.keras.layers.Embedding(\n",
    "    num_players, 5, input_length=5)(encoded_def_players)\n",
    "def_player_avg = tf.keras.layers.GlobalAveragePooling1D()(def_player_embed)\n",
    "\n",
    "concat_inputs = tf.keras.layers.concatenate(\n",
    "    [encoded_shot_type, rebound_inputs, off_player_avg, def_player_avg])\n",
    "\n",
    "internal1 = tf.keras.layers.Dense(16)(concat_inputs)\n",
    "outputs = tf.keras.layers.Dense(7)(internal1)\n",
    "embed_model = tf.keras.models.Model(\n",
    "    inputs=[shot_type_input, rebound_inputs, off_player_id_inputs, def_player_id_inputs], outputs=outputs)\n",
    "\n",
    "loss_fn = tf.keras.losses.SparseCategoricalCrossentropy(from_logits=True)\n",
    "embed_model.compile(\n",
    "    optimizer='adam',\n",
    "    loss=loss_fn,\n",
    "    metrics=['accuracy'])\n",
    "\n",
    "# fit data\n",
    "embed_model.fit([train_X['shot_type'], train_X[binary_attributes].to_numpy(dtype=np.int8), train_X[off_player_id_indices],\n",
    "                train_X[def_player_id_indices]], processed_train_y, epochs=5)\n"
   ]
  },
  {
   "cell_type": "code",
   "execution_count": null,
   "metadata": {},
   "outputs": [
    {
     "name": "stdout",
     "output_type": "stream",
     "text": [
      "756/756 - 8s - loss: 0.9163 - accuracy: 0.6752 - 8s/epoch - 11ms/step\n"
     ]
    },
    {
     "data": {
      "text/plain": [
       "[0.9162596464157104, 0.6751582026481628]"
      ]
     },
     "execution_count": 58,
     "metadata": {},
     "output_type": "execute_result"
    }
   ],
   "source": [
    "embed_model.evaluate([test_X['shot_type'], test_X[binary_attributes].to_numpy(dtype=np.int8), test_X[off_player_id_indices],\n",
    "                test_X[def_player_id_indices]], processed_test_y, verbose=2)\n"
   ]
  },
  {
   "cell_type": "markdown",
   "metadata": {},
   "source": [
    "with 1 internal layer\n",
    "loss: 0.9163\n",
    "accuracy: 0.6752\n",
    "\n",
    "just slightly better than with no player data"
   ]
  },
  {
   "cell_type": "markdown",
   "metadata": {},
   "source": [
    "# Build model with player tracking data"
   ]
  },
  {
   "cell_type": "markdown",
   "metadata": {},
   "source": [
    "build add player data transformer"
   ]
  },
  {
   "cell_type": "code",
   "execution_count": 29,
   "metadata": {},
   "outputs": [],
   "source": [
    "from sklearn.base import BaseEstimator, TransformerMixin\n",
    "import numpy as np \n",
    "\n",
    "class GetPlayerData(BaseEstimator, TransformerMixin):\n",
    "    def __init__(self):\n",
    "        pass \n",
    "\n",
    "    def fit(self, X, y):\n",
    "        return self\n",
    "\n",
    "    def transform(self, X, y=None):\n",
    "        X = X.to_numpy()\n",
    "        return np.frompyfunc(lambda pid: players[pid].get_stats(), 1, 1)(X).reshape(len(X), -1)\n"
   ]
  },
  {
   "cell_type": "code",
   "execution_count": 37,
   "metadata": {},
   "outputs": [
    {
     "data": {
      "text/plain": [
       "(10, 10)"
      ]
     },
     "execution_count": 37,
     "metadata": {},
     "output_type": "execute_result"
    }
   ],
   "source": [
    "np.frompyfunc(lambda pid: players[pid].get_stats(), 1, 1)(train_X[player_id_indices].iloc[0:10].to_numpy()).reshape(10, -1).shape\n"
   ]
  },
  {
   "cell_type": "markdown",
   "metadata": {},
   "source": [
    "added player tracking data to training X"
   ]
  },
  {
   "cell_type": "code",
   "execution_count": null,
   "metadata": {},
   "outputs": [],
   "source": [
    "from sklearn.pipeline import make_pipeline\n",
    "\n",
    "# player_pipeline = make_pipeline(GetPlayerData(), StandardScaler())\n",
    "# add_pd_processor = ColumnTransformer([\n",
    "#     (\"categorical\", OneHotEncoder(), catagorical_attributes), \n",
    "#     (\"binary\", 'passthrough', binary_attributes), \n",
    "#     (\"numerical\", StandardScaler(), numerical_attributes),\n",
    "#     ('players', player_pipeline, player_id_indices),\n",
    "#     ('player_fouls', StandardScaler(), player_foul_indices),\n",
    "# ])\n",
    "\n",
    "# players_train_X = tf.cast(\n",
    "#     add_pd_processor.fit_transform(train_X, train_y), dtype=tf.float32)\n",
    "# players_test_X = tf.cast(\n",
    "#     add_pd_processor.transform(test_X), dtype=tf.float32)\n"
   ]
  },
  {
   "cell_type": "code",
   "execution_count": null,
   "metadata": {},
   "outputs": [],
   "source": []
  },
  {
   "cell_type": "code",
   "execution_count": null,
   "metadata": {},
   "outputs": [],
   "source": [
    "players_train_X.shape"
   ]
  },
  {
   "cell_type": "code",
   "execution_count": null,
   "metadata": {},
   "outputs": [
    {
     "data": {
      "text/plain": [
       "<tf.Tensor: shape=(3, 10), dtype=int64, numpy=\n",
       "array([[ 49, 306, 193, 411, 145, 335, 171, 230, 103, 366],\n",
       "       [ 31,  61,  52, 103, 160, 185,  12,  18, 288, 201],\n",
       "       [ 47, 321,  80, 111, 227, 203, 292,  15,  24,  66]], dtype=int64)>"
      ]
     },
     "execution_count": 19,
     "metadata": {},
     "output_type": "execute_result"
    }
   ],
   "source": [
    "player_indices(train_X[player_id_indices][:3])\n"
   ]
  },
  {
   "cell_type": "markdown",
   "metadata": {},
   "source": [
    "# Build rebound chance model with player data"
   ]
  },
  {
   "cell_type": "code",
   "execution_count": null,
   "metadata": {},
   "outputs": [
    {
     "name": "stdout",
     "output_type": "stream",
     "text": [
      "Epoch 1/3\n",
      "3017/3017 [==============================] - 35s 11ms/step - loss: 0.5832 - accuracy: 0.7111\n",
      "Epoch 2/3\n",
      "3017/3017 [==============================] - 33s 11ms/step - loss: 0.5665 - accuracy: 0.7269\n",
      "Epoch 3/3\n",
      "3017/3017 [==============================] - 33s 11ms/step - loss: 0.5652 - accuracy: 0.7268\n"
     ]
    },
    {
     "data": {
      "text/plain": [
       "<keras.callbacks.History at 0x2ba139f7c70>"
      ]
     },
     "execution_count": 49,
     "metadata": {},
     "output_type": "execute_result"
    }
   ],
   "source": [
    "import tensorflow as tf\n",
    "mean, variance = pm_train_X.mean(), pm_train_X.var()\n",
    "pm_model = tf.keras.models.Sequential([\n",
    "    # tf.keras.layers.Normalization(mean=mean, variance=variance),\n",
    "    # tf.keras.layers.Dense(16, activation='relu'),\n",
    "    tf.keras.layers.Dense(1, activation='sigmoid')\n",
    "])\n",
    "pm_model.compile(\n",
    "    optimizer='adam',\n",
    "    loss=loss_fn,\n",
    "    metrics=['accuracy'])\n",
    "\n",
    "# fit data\n",
    "pm_model.fit(pm_train_X, processed_train_y, epochs=3)\n"
   ]
  },
  {
   "cell_type": "code",
   "execution_count": null,
   "metadata": {},
   "outputs": [
    {
     "name": "stdout",
     "output_type": "stream",
     "text": [
      "755/755 - 6s - loss: 0.5663 - accuracy: 0.7266 - 6s/epoch - 7ms/step\n"
     ]
    },
    {
     "data": {
      "text/plain": [
       "[0.5662544369697571, 0.7266058921813965]"
      ]
     },
     "execution_count": 50,
     "metadata": {},
     "output_type": "execute_result"
    }
   ],
   "source": [
    "pm_model.evaluate(pm_test_X, processed_test_y, verbose=2)\n"
   ]
  },
  {
   "cell_type": "markdown",
   "metadata": {},
   "source": [
    "compare predictions"
   ]
  },
  {
   "cell_type": "code",
   "execution_count": null,
   "metadata": {},
   "outputs": [
    {
     "name": "stdout",
     "output_type": "stream",
     "text": [
      "[[0.00134039 0.05730633 0.13375078 0.00380812 0.00187581 0.21288466\n",
      "  0.5890339 ]\n",
      " [0.00395427 0.0581353  0.0581065  0.00215441 0.00379258 0.16888256\n",
      "  0.7049744 ]\n",
      " [0.00505907 0.06223856 0.10497802 0.0007671  0.00322577 0.18744768\n",
      "  0.63628376]\n",
      " [0.00377648 0.04132847 0.03728819 0.00388282 0.00296327 0.23558995\n",
      "  0.67517084]\n",
      " [0.00505907 0.06223856 0.10497802 0.0007671  0.00322577 0.18744768\n",
      "  0.63628376]]\n",
      "[[2.02489481e-03 5.85501306e-02 1.43772364e-01 4.16370900e-03\n",
      "  1.84199691e-03 2.28293180e-01 5.61353743e-01]\n",
      " [3.91879957e-03 5.41324876e-02 5.02987579e-02 1.94767967e-03\n",
      "  3.62257496e-03 1.45336151e-01 7.40743518e-01]\n",
      " [3.58494231e-03 6.26809224e-02 1.08168766e-01 7.41173921e-04\n",
      "  3.25409416e-03 2.16465607e-01 6.05104506e-01]\n",
      " [3.57386866e-03 3.74858864e-02 3.45067866e-02 4.39155288e-03\n",
      "  3.44617898e-03 2.13142738e-01 7.03453064e-01]\n",
      " [3.48156109e-03 6.07872009e-02 1.02972575e-01 7.29075749e-04\n",
      "  3.18953837e-03 1.98538855e-01 6.30301237e-01]]\n"
     ]
    }
   ],
   "source": [
    "predictions = model(processed_train_X[:5]).numpy()\n",
    "\n",
    "predictions2 = pm_model(pm_train_X[:5]).numpy()\n",
    "print(tf.nn.softmax(predictions).numpy())\n",
    "print(tf.nn.softmax(predictions2).numpy())"
   ]
  },
  {
   "cell_type": "code",
   "execution_count": null,
   "metadata": {},
   "outputs": [
    {
     "data": {
      "text/plain": [
       "array([[5.],\n",
       "       [6.],\n",
       "       [6.],\n",
       "       [6.],\n",
       "       [6.]])"
      ]
     },
     "execution_count": 231,
     "metadata": {},
     "output_type": "execute_result"
    }
   ],
   "source": [
    "processed_train_y[:5]\n"
   ]
  },
  {
   "cell_type": "markdown",
   "metadata": {},
   "source": [
    "# Build Rebound Chance APM"
   ]
  },
  {
   "cell_type": "markdown",
   "metadata": {},
   "source": [
    "build rebound chance by shottype"
   ]
  },
  {
   "cell_type": "code",
   "execution_count": null,
   "metadata": {},
   "outputs": [
    {
     "data": {
      "text/plain": [
       "{<ShotType.AtRim: 1>: {False: {True: 0.36029926260832124,\n",
       "   False: 0.6397007373916788},\n",
       "  True: {True: 0.4172010562052056, False: 0.5827989437947945}},\n",
       " <ShotType.ShortMidRange: 2>: {False: {True: 0.28560246563279684,\n",
       "   False: 0.7143975343672032},\n",
       "  True: {True: 0.41282375236891977, False: 0.5871762476310802}},\n",
       " <ShotType.LongMidRange: 3>: {False: {True: 0.20750070647127689,\n",
       "   False: 0.7924992935287231},\n",
       "  True: {True: 0.34275618374558303, False: 0.657243816254417}},\n",
       " <ShotType.Arc3: 4>: {False: {True: 0.24870375560538116,\n",
       "   False: 0.7512962443946188},\n",
       "  True: {True: 0.41015625, False: 0.58984375}},\n",
       " <ShotType.Corner3: 5>: {False: {True: 0.24753747323340472,\n",
       "   False: 0.7524625267665953},\n",
       "  True: {True: 0.4918032786885246, False: 0.5081967213114754}},\n",
       " <ShotType.FreeThrowNR: 6>: {False: {True: 0, False: 0},\n",
       "  True: {True: 0, False: 0}},\n",
       " <ShotType.FreeThrowR: 7>: {False: {True: 0.115212042263714,\n",
       "   False: 0.884787957736286},\n",
       "  True: {True: 0, False: 0}}}"
      ]
     },
     "execution_count": 11,
     "metadata": {},
     "output_type": "execute_result"
    }
   ],
   "source": [
    "from nba_dataclasses import ResultClass\n",
    "from build_shot_chance_data import ShotType\n",
    "\n",
    "reb_by_shottype = {st: {is_blkd: {True: 0, False: 0}\n",
    "                        for is_blkd in [False, True]} for st in ShotType}\n",
    "# reb_by_blkd = {is_blkd: {True: 0, False: 0} for is_blkd in [False, True]}\n",
    "total_rebs = len(rebounds)\n",
    "\n",
    "for rebound in rebounds:\n",
    "    if rebound.result.result_class == ResultClass.JUMPBALL:\n",
    "        continue\n",
    "    is_oreb = rebound.result.result_class in {\n",
    "        ResultClass.OFF_REBOUND, ResultClass.FT, ResultClass.SAME_TEAM}\n",
    "    reb_by_shottype[ShotType(rebound.result.shot_type)\n",
    "                    ][rebound.result.is_blocked][is_oreb] += 1\n",
    "    # reb_by_blkd[rebound.result.is_blocked][is_oreb] += 1\n",
    "\n",
    "for st in ShotType:\n",
    "    for is_blkd in [False, True]:\n",
    "        total = reb_by_shottype[st][is_blkd][False] + \\\n",
    "            reb_by_shottype[st][is_blkd][True]\n",
    "        if total == 0:\n",
    "            continue\n",
    "        reb_by_shottype[st][is_blkd][False] = reb_by_shottype[st][is_blkd][False] / total\n",
    "        reb_by_shottype[st][is_blkd][True] = reb_by_shottype[st][is_blkd][True] / total\n",
    "\n",
    "reb_by_shottype\n"
   ]
  },
  {
   "cell_type": "markdown",
   "metadata": {},
   "source": [
    "build and solve reb apm"
   ]
  },
  {
   "cell_type": "code",
   "execution_count": null,
   "metadata": {},
   "outputs": [],
   "source": [
    "# y = is offenseve rebound chance - chance from shot type\n",
    "# X = player lineups\n",
    "# solve for player rebound +/-\n",
    "\n",
    "from nba_dataclasses import PlayerInfo\n",
    "import numpy as np\n",
    "from sklearn import linear_model\n",
    "\n",
    "player_index = 0\n",
    "player_indicies: dict[int, PlayerInfo] = {}\n",
    "lineup_index = 0\n",
    "lineup_indicies: dict[tuple[tuple[int, int, int, int,\n",
    "                                  int], tuple[int, int, int, int, int]], int] = {}\n",
    "\n",
    "for player, ps in nbaTracker.seasons[season_name].player_seasons.items():\n",
    "    if player not in player_indicies:\n",
    "        player_indicies[player] = PlayerInfo(player_index)\n",
    "        player_index += 1\n",
    "    for team in ps.player_contributions:\n",
    "        player_indicies[player].teams.add(team)\n",
    "for rebound in rebounds:\n",
    "    if rebound.result.result_class == ResultClass.JUMPBALL:\n",
    "        continue\n",
    "    lineup = rebound.lineup.lineup\n",
    "    if lineup not in lineup_indicies:\n",
    "        lineup_indicies[lineup] = lineup_index\n",
    "        lineup_index += 1\n",
    "num_lineups = lineup_index\n",
    "num_players = player_index\n",
    "\n",
    "y = np.zeros(num_lineups)\n",
    "ey = np.zeros(num_lineups)\n",
    "X = np.zeros((num_lineups, num_players*2))\n",
    "sample_weights = np.zeros(num_lineups)\n",
    "\n",
    "for rebound in rebounds:\n",
    "    if rebound.result.result_class == ResultClass.JUMPBALL:\n",
    "        continue\n",
    "    lineup = rebound.lineup.lineup\n",
    "    is_oreb = rebound.result.result_class in {\n",
    "        ResultClass.OFF_REBOUND, ResultClass.FT, ResultClass.SAME_TEAM}\n",
    "    oreb_chance = reb_by_shottype[ShotType(rebound.result.shot_type)\n",
    "                                  ][rebound.result.is_blocked][True]\n",
    "    y[lineup_indicies[lineup]] += (1 if is_oreb else 0) - oreb_chance\n",
    "    ey[lineup_indicies[lineup]] += oreb_chance\n",
    "    sample_weights[lineup_indicies[lineup]] += 1\n",
    "\n",
    "for lineup, lineup_index in lineup_indicies.items():\n",
    "    for team_index in [0, 1]:\n",
    "        for player_index in [0, 1, 2, 3, 4]:\n",
    "            player_id = lineup[team_index][player_index]\n",
    "            i = player_indicies[player_id].index + team_index*num_players\n",
    "            X[lineup_index, i] = 1\n",
    "\n",
    "reg = linear_model.BayesianRidge()\n",
    "reg.fit(X, y, sample_weights)\n",
    "\n",
    "for player in player_indicies.values():\n",
    "    player.oreb_pm = reg.coef_[player.index]\n",
    "    player.dreb_pm = reg.coef_[player.index + num_players]\n"
   ]
  },
  {
   "cell_type": "markdown",
   "metadata": {},
   "source": [
    "Display best and worst rebounders"
   ]
  },
  {
   "cell_type": "code",
   "execution_count": null,
   "metadata": {},
   "outputs": [
    {
     "name": "stdout",
     "output_type": "stream",
     "text": [
      "Top 20 REB_PM\n",
      "Briante Weber 0.4492725284760221 0.060335966133836724\n",
      "Steven Adams 0.2151893826964091 -0.15052424581813706\n",
      "Zach Randolph 0.3010836669442734 -0.036267832456417015\n",
      "Ryan Hollins 0.20950129841306978 -0.11502712870745921\n",
      "Cristiano Felicio 0.18021016452830613 -0.13504201631584553\n",
      "Noah Vonleh 0.1673449199841731 -0.1413508603893439\n",
      "Dwight Howard 0.1879678500511335 -0.10824087801966858\n",
      "Clint Capela 0.23542551621242028 -0.060258789922858644\n",
      "Robin Lopez 0.1727087205849283 -0.11751434755578145\n",
      "Willie Reed 0.1850612810552634 -0.10104373536817868\n",
      "Lavoy Allen 0.1668373095911683 -0.11894373761894743\n",
      "Andre Roberson 0.19226429183115162 -0.09252962911154458\n",
      "Joakim Noah 0.2051026341889192 -0.07874715213897052\n",
      "Nikola Jokic 0.1378810027206907 -0.14531160862936932\n",
      "Alex Len 0.16697756302821215 -0.1033118190049501\n",
      "Tim Duncan 0.10290011084190467 -0.16607825373438534\n",
      "Jarrett Jack 0.19803616112030487 -0.07027270797498851\n",
      "Rondae Hollis-Jefferson 0.16490752522474525 -0.09970997424281151\n",
      "Omer Asik 0.004490794456635949 -0.259827344866456\n",
      "Tyson Chandler 0.0692537454168784 -0.19206890501042279\n",
      "\n",
      "Bottom 20 REB_PM\n",
      "CJ Miles -0.13604857563717354 0.25674201344488495\n",
      "Paul Pierce -0.23654030227698278 0.14307790575471868\n",
      "Roy Hibbert -0.25862952189240607 0.07878663604950431\n",
      "Courtney Lee -0.24810335688692267 0.054865211155023345\n",
      "Jeff Green -0.2365530331712649 0.06310725442859624\n",
      "Donald Sloan -0.1988177191813501 0.07095177645945844\n",
      "Evan Fournier -0.1445050375146331 0.12235235450281373\n",
      "Eric Gordon -0.23546767516556966 0.028466884107715265\n",
      "Al Horford -0.18579657733741384 0.056496585089860316\n",
      "Mike Conley -0.2118048217182209 0.02632808973155769\n",
      "PJ Hairston -0.28367019708894436 -0.045702691468220195\n",
      "Brandon Rush -0.18586947157741165 0.046371190691863746\n",
      "Chandler Parsons -0.16251279251953996 0.05616406101646773\n",
      "Kendall Marshall -0.1016245235784081 0.11245993903890396\n",
      "Derrick Williams -0.11127466723372587 0.09414755003351331\n",
      "Austin Rivers -0.06648883184099828 0.13543558722081434\n",
      "Anthony Morrow -0.10718885586158071 0.09268196541622398\n",
      "Russ Smith -0.12103743112059431 0.07660235255847059\n",
      "Pat Connaughton -0.04817587536029431 0.14201212310685668\n",
      "Corey Brewer -0.07796676716948445 0.10696299126606823\n"
     ]
    }
   ],
   "source": [
    "max_count = 20\n",
    "count = 0\n",
    "print(\"Top\", max_count, \"REB_PM\")\n",
    "for pid, player in sorted(player_indicies.items(), key=lambda p: p[1].reb_pm, reverse=True):\n",
    "    name = find_player_by_id(pid)['full_name']\n",
    "    print(name, player.oreb_pm, player.dreb_pm)\n",
    "    count += 1\n",
    "    if count == max_count:\n",
    "        break\n",
    "count = 0\n",
    "\n",
    "print()\n",
    "print(\"Bottom\", max_count, \"REB_PM\")\n",
    "for pid, player in sorted(player_indicies.items(), key=lambda p: p[1].reb_pm, reverse=False):\n",
    "    name = find_player_by_id(pid)['full_name']\n",
    "    print(name, player.oreb_pm, player.dreb_pm)\n",
    "    count += 1\n",
    "    if count == max_count:\n",
    "        break\n"
   ]
  }
 ],
 "metadata": {
  "interpreter": {
   "hash": "a8590208259839df94eb6993e24edc5fa127f3c6a8a3318c28674b5b9a9a2d23"
  },
  "kernelspec": {
   "display_name": "Python 3.9.2 ('.venv39': venv)",
   "language": "python",
   "name": "python3"
  },
  "language_info": {
   "codemirror_mode": {
    "name": "ipython",
    "version": 3
   },
   "file_extension": ".py",
   "mimetype": "text/x-python",
   "name": "python",
   "nbconvert_exporter": "python",
   "pygments_lexer": "ipython3",
   "version": "3.9.2"
  },
  "orig_nbformat": 4
 },
 "nbformat": 4,
 "nbformat_minor": 2
}
