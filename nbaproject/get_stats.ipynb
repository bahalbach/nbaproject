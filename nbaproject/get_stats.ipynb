{
 "cells": [
  {
   "cell_type": "code",
   "execution_count": 1,
   "metadata": {},
   "outputs": [],
   "source": [
    "from pbpstats.client import Client\n",
    "season_settings = {\n",
    "    \"dir\": \"C:/Users/bhalb/nbaproject/response_data\",\n",
    "    \"Games\": {\"source\": \"file\", \"data_provider\": \"stats_nba\"},\n",
    "    # \"Boxscore\": {\"source\": \"web\", \"data_provider\": \"data_nba\"},\n",
    "    # \"Possessions\": {\"source\": \"file\", \"data_provider\": \"data_nba\"},\n",
    "}\n",
    "game_settings = {\n",
    "    \"dir\": \"C:/Users/bhalb/nbaproject/response_data\",\n",
    "    \"Boxscore\": {\"source\": \"file\", \"data_provider\": \"stats_nba\"},\n",
    "}\n",
    "game_possessions_settings = {\n",
    "    \"dir\": \"C:/Users/bhalb/nbaproject/response_data\",\n",
    "    # \"Boxscore\": {\"source\": \"file\", \"data_provider\": \"stats_nba\"},\n",
    "    \"Possessions\": {\"source\": \"file\", \"data_provider\": \"stats_nba\"},\n",
    "}\n",
    "season_client = Client(season_settings)\n",
    "game_client = Client(game_settings)\n",
    "possession_client = Client(game_possessions_settings)\n",
    "\n",
    "# season1718 = season_client.Season(\"nba\", \"2017-18\", \"Regular Season\")\n",
    "game = possession_client.Game(\"0020500717\")\n"
   ]
  },
  {
   "cell_type": "code",
   "execution_count": 6,
   "metadata": {},
   "outputs": [
    {
     "name": "stdout",
     "output_type": "stream",
     "text": [
      "29 [<StatsFoul GameId: 0020500717, Description: Howard OFF.Foul (P2), Time: 3:04, EventNum: 58>, <StatsTurnover GameId: 0020500717, Description: Howard Foul Turnover (P1.T2), Time: 3:04, EventNum: 59>]\n"
     ]
    }
   ],
   "source": [
    "from pbpstats.resources.enhanced_pbp import Foul\n",
    "\n",
    "found = False\n",
    "for i, pos in enumerate(game.possessions.items):\n",
    "    for event in pos.events:\n",
    "        if isinstance(event, Foul) and event.is_offensive_foul:\n",
    "            print(i, pos.events)\n",
    "            found = True\n",
    "            break\n",
    "    if found:\n",
    "        break\n"
   ]
  },
  {
   "cell_type": "code",
   "execution_count": 17,
   "metadata": {},
   "outputs": [
    {
     "data": {
      "text/plain": [
       "{'game_id': '0020500717',\n",
       " 'team_id': 1610612753,\n",
       " 'team_abbreviation': 'ORL',\n",
       " 'team_city': 'Orlando',\n",
       " 'player_id': 2052,\n",
       " 'name': 'DeShawn Stevenson',\n",
       " 'start_position': 'G',\n",
       " 'comment': '',\n",
       " 'min': '46:30',\n",
       " 'fgm': 6,\n",
       " 'fga': 16,\n",
       " 'fg_pct': 0.375,\n",
       " 'fg3m': 0,\n",
       " 'fg3a': 1,\n",
       " 'fg3_pct': 0.0,\n",
       " 'ftm': 2,\n",
       " 'fta': 2,\n",
       " 'ft_pct': 1.0,\n",
       " 'oreb': 2,\n",
       " 'dreb': 5,\n",
       " 'reb': 7,\n",
       " 'ast': 2,\n",
       " 'stl': 0,\n",
       " 'blk': 1,\n",
       " 'to': 3,\n",
       " 'pf': 6,\n",
       " 'pts': 14,\n",
       " 'plus_minus': -8.0}"
      ]
     },
     "execution_count": 17,
     "metadata": {},
     "output_type": "execute_result"
    }
   ],
   "source": [
    "game.boxscore.player_items[4]"
   ]
  },
  {
   "cell_type": "code",
   "execution_count": 19,
   "metadata": {},
   "outputs": [
    {
     "data": {
      "text/plain": [
       "{'id': 1917,\n",
       " 'full_name': 'Wang Zhi-zhi',\n",
       " 'first_name': 'Wang',\n",
       " 'last_name': 'Zhi-zhi',\n",
       " 'is_active': False}"
      ]
     },
     "execution_count": 19,
     "metadata": {},
     "output_type": "execute_result"
    }
   ],
   "source": [
    "from nba_api.stats.static import players\n",
    "players.find_player_by_id(1917)\n",
    "\n",
    "# Norm Richardson 1610612741\n",
    "# Wang Zhizhi 1610612742\n",
    "# Stanislav Medvedenko 1610612747\n",
    "# Clarence Weatherspoon 1610612752\n",
    "# Norm Richardson 1610612754\n",
    "# Steve Smith 1610612759\n",
    "# Isaac Austin 1610612763\n",
    "# Isaac Fontaine 1610612763\n"
   ]
  },
  {
   "cell_type": "code",
   "execution_count": 83,
   "metadata": {},
   "outputs": [],
   "source": [
    "from nba_api.stats.static import teams\n",
    "team_abr = teams.find_team_name_by_id(1610612764)['abbreviation']"
   ]
  },
  {
   "cell_type": "code",
   "execution_count": 84,
   "metadata": {},
   "outputs": [
    {
     "data": {
      "text/plain": [
       "'WAS'"
      ]
     },
     "execution_count": 84,
     "metadata": {},
     "output_type": "execute_result"
    }
   ],
   "source": [
    "team_abr"
   ]
  },
  {
   "cell_type": "code",
   "execution_count": 7,
   "metadata": {},
   "outputs": [],
   "source": [
    "import pandas as pd\n",
    "path = f\"C:/Users/bhalb/nbaproject/data/NBA_Player_IDs.csv\"\n",
    "ids_df = pd.read_csv(path, encoding='ANSI')\n",
    "def map_id(br_id):\n",
    "    try:\n",
    "        return int(ids_df[ids_df['BBRefID'] == br_id]['NBAID'].item())\n",
    "    except ValueError:\n",
    "        return 0"
   ]
  },
  {
   "cell_type": "code",
   "execution_count": 89,
   "metadata": {},
   "outputs": [
    {
     "data": {
      "text/plain": [
       "0"
      ]
     },
     "execution_count": 89,
     "metadata": {},
     "output_type": "execute_result"
    }
   ],
   "source": [
    "map_id(\"hicksjj02\")\n"
   ]
  },
  {
   "cell_type": "code",
   "execution_count": 1,
   "metadata": {},
   "outputs": [
    {
     "name": "stdout",
     "output_type": "stream",
     "text": [
      "Loaded  2012-13 12:07:04.893908\n",
      "Loaded  2013-14 12:07:05.278876\n",
      "adding 1610612737\n",
      "adding 1610612738\n",
      "adding 1610612739\n",
      "adding 1610612740\n",
      "adding 1610612741\n",
      "adding 1610612742\n",
      "adding 1610612743\n",
      "adding 1610612744\n",
      "adding 1610612745\n",
      "adding 1610612746\n",
      "adding 1610612747\n",
      "adding 1610612748\n",
      "adding 1610612749\n",
      "adding 1610612750\n",
      "adding 1610612751\n",
      "adding 1610612752\n",
      "adding 1610612753\n",
      "adding 1610612754\n",
      "adding 1610612755\n",
      "adding 1610612756\n",
      "adding 1610612757\n",
      "adding 1610612758\n",
      "adding 1610612759\n",
      "adding 1610612760\n",
      "adding 1610612761\n",
      "adding 1610612762\n",
      "adding 1610612763\n",
      "adding 1610612764\n",
      "adding 1610612765\n",
      "adding 1610612766\n",
      "Loaded  2014-15 12:10:14.150457\n",
      "adding 1610612737\n",
      "adding 1610612738\n",
      "adding 1610612739\n",
      "adding 1610612740\n",
      "adding 1610612741\n",
      "adding 1610612742\n",
      "adding 1610612743\n",
      "adding 1610612744\n",
      "adding 1610612745\n",
      "adding 1610612746\n",
      "adding 1610612747\n",
      "adding 1610612748\n",
      "adding 1610612749\n",
      "adding 1610612750\n",
      "adding 1610612751\n",
      "adding 1610612752\n",
      "adding 1610612753\n",
      "adding 1610612754\n",
      "adding 1610612755\n",
      "adding 1610612756\n",
      "adding 1610612757\n",
      "adding 1610612758\n",
      "adding 1610612759\n",
      "adding 1610612760\n",
      "adding 1610612761\n",
      "adding 1610612762\n",
      "adding 1610612763\n",
      "adding 1610612764\n",
      "adding 1610612765\n",
      "adding 1610612766\n",
      "Loaded  2015-16 12:13:26.134609\n",
      "adding 1610612737\n",
      "adding 1610612738\n",
      "adding 1610612739\n",
      "adding 1610612740\n",
      "adding 1610612741\n",
      "adding 1610612742\n",
      "adding 1610612743\n",
      "adding 1610612744\n",
      "adding 1610612745\n",
      "adding 1610612746\n",
      "adding 1610612747\n",
      "adding 1610612748\n",
      "adding 1610612749\n",
      "adding 1610612750\n",
      "adding 1610612751\n",
      "adding 1610612752\n",
      "adding 1610612753\n",
      "adding 1610612754\n",
      "adding 1610612755\n",
      "adding 1610612756\n",
      "adding 1610612757\n",
      "adding 1610612758\n",
      "adding 1610612759\n",
      "adding 1610612760\n",
      "adding 1610612761\n",
      "adding 1610612762\n",
      "adding 1610612763\n",
      "adding 1610612764\n",
      "adding 1610612765\n",
      "adding 1610612766\n",
      "Loaded  2016-17 12:16:34.572876\n",
      "adding 1610612737\n",
      "adding 1610612738\n",
      "adding 1610612739\n",
      "adding 1610612740\n",
      "adding 1610612741\n",
      "adding 1610612742\n",
      "adding 1610612743\n",
      "adding 1610612744\n",
      "adding 1610612745\n",
      "adding 1610612746\n",
      "adding 1610612747\n",
      "adding 1610612748\n",
      "adding 1610612749\n",
      "adding 1610612750\n",
      "adding 1610612751\n",
      "adding 1610612752\n",
      "adding 1610612753\n",
      "adding 1610612754\n",
      "adding 1610612755\n",
      "adding 1610612756\n",
      "adding 1610612757\n",
      "adding 1610612758\n",
      "adding 1610612759\n",
      "adding 1610612760\n",
      "adding 1610612761\n",
      "adding 1610612762\n",
      "adding 1610612763\n",
      "adding 1610612764\n",
      "adding 1610612765\n",
      "adding 1610612766\n",
      "Loaded  2017-18 12:19:43.371911\n",
      "adding 1610612737\n",
      "adding 1610612738\n",
      "adding 1610612739\n",
      "adding 1610612740\n",
      "adding 1610612741\n",
      "adding 1610612742\n",
      "adding 1610612743\n",
      "adding 1610612744\n",
      "adding 1610612745\n",
      "adding 1610612746\n",
      "adding 1610612747\n",
      "adding 1610612748\n",
      "adding 1610612749\n",
      "adding 1610612750\n",
      "adding 1610612751\n",
      "adding 1610612752\n",
      "adding 1610612753\n",
      "adding 1610612754\n",
      "adding 1610612755\n",
      "adding 1610612756\n",
      "adding 1610612757\n",
      "adding 1610612758\n",
      "adding 1610612759\n",
      "adding 1610612760\n",
      "adding 1610612761\n",
      "adding 1610612762\n",
      "adding 1610612763\n",
      "adding 1610612764\n",
      "adding 1610612765\n",
      "adding 1610612766\n",
      "Loaded  2018-19 12:22:53.844648\n",
      "adding 1610612737\n",
      "adding 1610612738\n",
      "adding 1610612739\n",
      "adding 1610612740\n",
      "adding 1610612741\n",
      "adding 1610612742\n",
      "adding 1610612743\n",
      "adding 1610612744\n",
      "adding 1610612745\n",
      "adding 1610612746\n",
      "adding 1610612747\n",
      "adding 1610612748\n",
      "adding 1610612749\n",
      "adding 1610612750\n",
      "adding 1610612751\n",
      "adding 1610612752\n",
      "adding 1610612753\n",
      "adding 1610612754\n",
      "adding 1610612755\n",
      "adding 1610612756\n",
      "adding 1610612757\n",
      "adding 1610612758\n",
      "adding 1610612759\n",
      "adding 1610612760\n",
      "adding 1610612761\n",
      "adding 1610612762\n",
      "adding 1610612763\n",
      "adding 1610612764\n",
      "adding 1610612765\n",
      "adding 1610612766\n",
      "Loaded  2019-20 12:26:03.000849\n",
      "adding 1610612737\n",
      "adding 1610612738\n",
      "adding 1610612739\n",
      "adding 1610612740\n",
      "adding 1610612741\n",
      "adding 1610612742\n",
      "adding 1610612743\n",
      "adding 1610612744\n",
      "adding 1610612745\n",
      "adding 1610612746\n",
      "adding 1610612747\n",
      "adding 1610612748\n",
      "adding 1610612749\n",
      "adding 1610612750\n",
      "adding 1610612751\n",
      "adding 1610612752\n",
      "adding 1610612753\n",
      "adding 1610612754\n",
      "adding 1610612755\n",
      "adding 1610612756\n",
      "adding 1610612757\n",
      "adding 1610612758\n",
      "adding 1610612759\n",
      "adding 1610612760\n",
      "adding 1610612761\n",
      "adding 1610612762\n",
      "adding 1610612763\n",
      "adding 1610612764\n",
      "adding 1610612765\n",
      "adding 1610612766\n",
      "Loaded  2020-21 12:29:11.947727\n"
     ]
    }
   ],
   "source": [
    "from datetime import datetime\n",
    "\n",
    "import importlib\n",
    "import nba\n",
    "import load_roster_br\n",
    "importlib.reload(nba)\n",
    "importlib.reload(load_roster_br)\n",
    "from nba import NbaTracker\n",
    "\n",
    "# data starts from 2000-01\n",
    "seasons = [\n",
    "    \"2000-01\",\n",
    "    \"2001-02\",\n",
    "    \"2002-03\",\n",
    "    \"2003-04\",\n",
    "    \"2004-05\",\n",
    "    \"2005-06\",\n",
    "    \"2006-07\",\n",
    "    \"2007-08\",\n",
    "    \"2008-09\",\n",
    "    \"2009-10\",\n",
    "    \"2010-11\",\n",
    "    \"2011-12\",\n",
    "    \"2012-13\",\n",
    "    \"2013-14\",\n",
    "    \"2014-15\",\n",
    "    \"2015-16\",\n",
    "    \"2016-17\",\n",
    "    \"2017-18\",\n",
    "    \"2018-19\",\n",
    "    \"2019-20\",\n",
    "    \"2020-21\"\n",
    "]  # 19-20 was bubble season\n",
    "\n",
    "nbaTracker = NbaTracker()\n",
    "for season_name in seasons[12:]:\n",
    "    nbaTracker.add_season(season_name)\n",
    "    print(\"Loaded \", season_name, datetime.now().time())"
   ]
  },
  {
   "cell_type": "code",
   "execution_count": 7,
   "metadata": {},
   "outputs": [
    {
     "name": "stdout",
     "output_type": "stream",
     "text": [
      "                count           mean           std     min        25%  \\\n",
      "id               18.0  174691.777778  67114.124325  1882.0  201321.75   \n",
      "weight           18.0     226.500000     35.224073   172.0     204.25   \n",
      "exp              18.0       3.777778      3.949022     0.0       1.00   \n",
      "age              18.0      26.111111      3.833120    20.0      23.00   \n",
      "games            18.0      46.333333     28.639750     2.0      21.50   \n",
      "games_started    18.0      22.777778     29.486898     0.0       0.00   \n",
      "minutes_played   18.0    1101.722222    896.890629     3.0     268.50   \n",
      "pts              18.0     460.111111    423.434958     0.0      85.00   \n",
      "fg2m             18.0     127.388889    125.185575     0.0      35.75   \n",
      "fg2a             18.0     254.000000    252.063951     1.0      78.00   \n",
      "fg3m             18.0      42.666667     49.976465     0.0       0.75   \n",
      "fg3a             18.0     117.555556    121.850063     0.0       4.75   \n",
      "ftm              18.0      77.333333     92.468755     0.0       9.50   \n",
      "fta              18.0      99.000000    115.839646     2.0      15.50   \n",
      "orb              18.0      39.611111     43.523001     0.0       6.25   \n",
      "drb              18.0     142.500000    126.023457     0.0      40.00   \n",
      "ast              18.0     113.388889    135.203611     0.0      15.25   \n",
      "stl              18.0      37.777778     38.465501     0.0       6.50   \n",
      "blk              18.0      18.111111     26.155393     0.0       1.25   \n",
      "tov              18.0      66.055556     62.042179     0.0      16.25   \n",
      "pf               18.0      87.611111     70.008520     0.0      33.50   \n",
      "\n",
      "                     50%        75%       max  \n",
      "id              202534.0  203113.25  203544.0  \n",
      "weight             217.5     247.50     308.0  \n",
      "exp                  2.5       5.75      14.0  \n",
      "age                 26.0      28.00      34.0  \n",
      "games               51.5      73.00      80.0  \n",
      "games_started        9.0      28.25      79.0  \n",
      "minutes_played     941.5    1488.00    2542.0  \n",
      "pts                385.5     731.50    1328.0  \n",
      "fg2m                85.5     198.50     407.0  \n",
      "fg2a               181.5     363.00     835.0  \n",
      "fg3m                33.0      71.00     185.0  \n",
      "fg3a                94.0     209.00     392.0  \n",
      "ftm                 54.0      99.00     318.0  \n",
      "fta                 70.0     122.50     391.0  \n",
      "orb                 21.5      60.75     154.0  \n",
      "drb                126.5     211.00     473.0  \n",
      "ast                 74.5     189.50     528.0  \n",
      "stl                 26.5      48.75     129.0  \n",
      "blk                  8.5      20.00      88.0  \n",
      "tov                 60.5      86.50     232.0  \n",
      "pf                  66.5     141.75     210.0  \n"
     ]
    }
   ],
   "source": [
    "for season_name in seasons[13:]:\n",
    "    season = nbaTracker.seasons[season_name]\n",
    "    for ts in season.team_seasons.values():\n",
    "        roster = ts.roster\n",
    "        print((roster.describe().T))\n",
    "        break\n",
    "    break\n"
   ]
  },
  {
   "cell_type": "code",
   "execution_count": 8,
   "metadata": {},
   "outputs": [
    {
     "name": "stdout",
     "output_type": "stream",
     "text": [
      "<nba.TeamSeason object at 0x00000165267A26A0>\n",
      "<nba.TeamSeason object at 0x0000016524CD7D60>\n",
      "<nba.TeamSeason object at 0x0000016526C01BB0>\n",
      "<nba.TeamSeason object at 0x00000165272726D0>\n",
      "<nba.TeamSeason object at 0x000001652A5E89A0>\n",
      "<nba.TeamSeason object at 0x0000016529A1AC40>\n",
      "<nba.TeamSeason object at 0x000001652C928190>\n",
      "<nba.TeamSeason object at 0x000001652984DF70>\n",
      "<nba.TeamSeason object at 0x000001652D217220>\n"
     ]
    }
   ],
   "source": [
    "\n",
    "for sn in nbaTracker.seasons:\n",
    "    season = nbaTracker.seasons[sn]\n",
    "    for tn, ts in season.team_seasons.items():\n",
    "        try:\n",
    "            ts.roster\n",
    "        except:\n",
    "            print(sn, tn, \"roster\")\n",
    "        try:\n",
    "            ts.roster_df\n",
    "        except:\n",
    "            print(sn, tn, \"roster_df\")\n",
    "        print(ts)\n",
    "        break\n",
    "    \n",
    "# p1 = season.games[0].players[0]\n",
    "# roster_df = season.team_seasons[p1['team_id']].roster_df\n",
    "# roster = season.team_seasons[p1['team_id']].roster\n",
    "# team = season.team_seasons[p1['team_id']]\n"
   ]
  },
  {
   "cell_type": "code",
   "execution_count": 6,
   "metadata": {},
   "outputs": [
    {
     "data": {
      "text/plain": [
       "<nba.NbaTracker at 0x20e22164520>"
      ]
     },
     "execution_count": 6,
     "metadata": {},
     "output_type": "execute_result"
    }
   ],
   "source": [
    "nbaTracker"
   ]
  },
  {
   "cell_type": "code",
   "execution_count": 38,
   "metadata": {},
   "outputs": [
    {
     "data": {
      "text/html": [
       "<div>\n",
       "<style scoped>\n",
       "    .dataframe tbody tr th:only-of-type {\n",
       "        vertical-align: middle;\n",
       "    }\n",
       "\n",
       "    .dataframe tbody tr th {\n",
       "        vertical-align: top;\n",
       "    }\n",
       "\n",
       "    .dataframe thead th {\n",
       "        text-align: right;\n",
       "    }\n",
       "</style>\n",
       "<table border=\"1\" class=\"dataframe\">\n",
       "  <thead>\n",
       "    <tr style=\"text-align: right;\">\n",
       "      <th></th>\n",
       "      <th>TeamID</th>\n",
       "      <th>SEASON</th>\n",
       "      <th>LeagueID</th>\n",
       "      <th>PLAYER</th>\n",
       "      <th>NICKNAME</th>\n",
       "      <th>PLAYER_SLUG</th>\n",
       "      <th>NUM</th>\n",
       "      <th>POSITION</th>\n",
       "      <th>HEIGHT</th>\n",
       "      <th>WEIGHT</th>\n",
       "      <th>BIRTH_DATE</th>\n",
       "      <th>AGE</th>\n",
       "      <th>EXP</th>\n",
       "      <th>SCHOOL</th>\n",
       "      <th>PLAYER_ID</th>\n",
       "    </tr>\n",
       "  </thead>\n",
       "  <tbody>\n",
       "    <tr>\n",
       "      <th>0</th>\n",
       "      <td>1610612766</td>\n",
       "      <td>2001</td>\n",
       "      <td>00</td>\n",
       "      <td>Baron Davis</td>\n",
       "      <td>Baron</td>\n",
       "      <td>baron-davis</td>\n",
       "      <td>1</td>\n",
       "      <td>G</td>\n",
       "      <td>6-3</td>\n",
       "      <td>223</td>\n",
       "      <td>APR 13, 1979</td>\n",
       "      <td>23.0</td>\n",
       "      <td>2</td>\n",
       "      <td>UCLA</td>\n",
       "      <td>1884</td>\n",
       "    </tr>\n",
       "    <tr>\n",
       "      <th>1</th>\n",
       "      <td>1610612766</td>\n",
       "      <td>2001</td>\n",
       "      <td>00</td>\n",
       "      <td>Stacey Augmon</td>\n",
       "      <td>Stacey</td>\n",
       "      <td>stacey-augmon</td>\n",
       "      <td>2</td>\n",
       "      <td>F-G</td>\n",
       "      <td>6-8</td>\n",
       "      <td>213</td>\n",
       "      <td>AUG 01, 1968</td>\n",
       "      <td>33.0</td>\n",
       "      <td>10</td>\n",
       "      <td>UNLV</td>\n",
       "      <td>278</td>\n",
       "    </tr>\n",
       "    <tr>\n",
       "      <th>2</th>\n",
       "      <td>1610612766</td>\n",
       "      <td>2001</td>\n",
       "      <td>00</td>\n",
       "      <td>David Wesley</td>\n",
       "      <td>David</td>\n",
       "      <td>david-wesley</td>\n",
       "      <td>4</td>\n",
       "      <td>G</td>\n",
       "      <td>6-1</td>\n",
       "      <td>203</td>\n",
       "      <td>NOV 14, 1970</td>\n",
       "      <td>31.0</td>\n",
       "      <td>8</td>\n",
       "      <td>Baylor</td>\n",
       "      <td>133</td>\n",
       "    </tr>\n",
       "    <tr>\n",
       "      <th>3</th>\n",
       "      <td>1610612766</td>\n",
       "      <td>2001</td>\n",
       "      <td>00</td>\n",
       "      <td>Elden Campbell</td>\n",
       "      <td>Elden</td>\n",
       "      <td>elden-campbell</td>\n",
       "      <td>5</td>\n",
       "      <td>C-F</td>\n",
       "      <td>7-0</td>\n",
       "      <td>279</td>\n",
       "      <td>JUL 23, 1968</td>\n",
       "      <td>33.0</td>\n",
       "      <td>11</td>\n",
       "      <td>Clemson</td>\n",
       "      <td>922</td>\n",
       "    </tr>\n",
       "    <tr>\n",
       "      <th>4</th>\n",
       "      <td>1610612766</td>\n",
       "      <td>2001</td>\n",
       "      <td>00</td>\n",
       "      <td>George Lynch</td>\n",
       "      <td>George</td>\n",
       "      <td>george-lynch</td>\n",
       "      <td>9</td>\n",
       "      <td>F</td>\n",
       "      <td>6-8</td>\n",
       "      <td>228</td>\n",
       "      <td>SEP 03, 1970</td>\n",
       "      <td>31.0</td>\n",
       "      <td>8</td>\n",
       "      <td>North Carolina</td>\n",
       "      <td>248</td>\n",
       "    </tr>\n",
       "    <tr>\n",
       "      <th>5</th>\n",
       "      <td>1610612766</td>\n",
       "      <td>2001</td>\n",
       "      <td>00</td>\n",
       "      <td>Bryce Drew</td>\n",
       "      <td>Bryce</td>\n",
       "      <td>bryce-drew</td>\n",
       "      <td>17</td>\n",
       "      <td>G</td>\n",
       "      <td>6-3</td>\n",
       "      <td>184</td>\n",
       "      <td>SEP 21, 1974</td>\n",
       "      <td>27.0</td>\n",
       "      <td>3</td>\n",
       "      <td>Valparaiso</td>\n",
       "      <td>1724</td>\n",
       "    </tr>\n",
       "    <tr>\n",
       "      <th>6</th>\n",
       "      <td>1610612766</td>\n",
       "      <td>2001</td>\n",
       "      <td>00</td>\n",
       "      <td>Jamaal Magloire</td>\n",
       "      <td>Jamaal</td>\n",
       "      <td>jamaal-magloire</td>\n",
       "      <td>21</td>\n",
       "      <td>C</td>\n",
       "      <td>6-11</td>\n",
       "      <td>259</td>\n",
       "      <td>MAY 21, 1978</td>\n",
       "      <td>24.0</td>\n",
       "      <td>1</td>\n",
       "      <td>Kentucky</td>\n",
       "      <td>2048</td>\n",
       "    </tr>\n",
       "    <tr>\n",
       "      <th>7</th>\n",
       "      <td>1610612766</td>\n",
       "      <td>2001</td>\n",
       "      <td>00</td>\n",
       "      <td>Jamal Mashburn</td>\n",
       "      <td>Jamal</td>\n",
       "      <td>jamal-mashburn</td>\n",
       "      <td>24</td>\n",
       "      <td>F</td>\n",
       "      <td>6-8</td>\n",
       "      <td>247</td>\n",
       "      <td>NOV 29, 1972</td>\n",
       "      <td>29.0</td>\n",
       "      <td>8</td>\n",
       "      <td>Kentucky</td>\n",
       "      <td>469</td>\n",
       "    </tr>\n",
       "    <tr>\n",
       "      <th>8</th>\n",
       "      <td>1610612766</td>\n",
       "      <td>2001</td>\n",
       "      <td>00</td>\n",
       "      <td>Robert Traylor</td>\n",
       "      <td>Robert</td>\n",
       "      <td>robert-traylor</td>\n",
       "      <td>34</td>\n",
       "      <td>F-C</td>\n",
       "      <td>6-8</td>\n",
       "      <td>284</td>\n",
       "      <td>FEB 01, 1977</td>\n",
       "      <td>25.0</td>\n",
       "      <td>3</td>\n",
       "      <td>Michigan</td>\n",
       "      <td>1714</td>\n",
       "    </tr>\n",
       "    <tr>\n",
       "      <th>9</th>\n",
       "      <td>1610612766</td>\n",
       "      <td>2001</td>\n",
       "      <td>00</td>\n",
       "      <td>Kirk Haston</td>\n",
       "      <td>Kirk</td>\n",
       "      <td>kirk-haston</td>\n",
       "      <td>35</td>\n",
       "      <td>F</td>\n",
       "      <td>6-9</td>\n",
       "      <td>242</td>\n",
       "      <td>MAR 10, 1979</td>\n",
       "      <td>23.0</td>\n",
       "      <td>R</td>\n",
       "      <td>Indiana</td>\n",
       "      <td>2213</td>\n",
       "    </tr>\n",
       "    <tr>\n",
       "      <th>10</th>\n",
       "      <td>1610612766</td>\n",
       "      <td>2001</td>\n",
       "      <td>00</td>\n",
       "      <td>P.J. Brown</td>\n",
       "      <td>P.J.</td>\n",
       "      <td>pj-brown</td>\n",
       "      <td>42</td>\n",
       "      <td>F</td>\n",
       "      <td>6-11</td>\n",
       "      <td>239</td>\n",
       "      <td>OCT 14, 1969</td>\n",
       "      <td>32.0</td>\n",
       "      <td>8</td>\n",
       "      <td>Louisiana Tech</td>\n",
       "      <td>136</td>\n",
       "    </tr>\n",
       "    <tr>\n",
       "      <th>11</th>\n",
       "      <td>1610612766</td>\n",
       "      <td>2001</td>\n",
       "      <td>00</td>\n",
       "      <td>Lee Nailon</td>\n",
       "      <td>Lee</td>\n",
       "      <td>lee-nailon</td>\n",
       "      <td>54</td>\n",
       "      <td>F</td>\n",
       "      <td>6-9</td>\n",
       "      <td>238</td>\n",
       "      <td>FEB 22, 1975</td>\n",
       "      <td>27.0</td>\n",
       "      <td>1</td>\n",
       "      <td>TCU</td>\n",
       "      <td>1924</td>\n",
       "    </tr>\n",
       "  </tbody>\n",
       "</table>\n",
       "</div>"
      ],
      "text/plain": [
       "        TeamID SEASON LeagueID           PLAYER NICKNAME      PLAYER_SLUG NUM  \\\n",
       "0   1610612766   2001       00      Baron Davis    Baron      baron-davis   1   \n",
       "1   1610612766   2001       00    Stacey Augmon   Stacey    stacey-augmon   2   \n",
       "2   1610612766   2001       00     David Wesley    David     david-wesley   4   \n",
       "3   1610612766   2001       00   Elden Campbell    Elden   elden-campbell   5   \n",
       "4   1610612766   2001       00     George Lynch   George     george-lynch   9   \n",
       "5   1610612766   2001       00       Bryce Drew    Bryce       bryce-drew  17   \n",
       "6   1610612766   2001       00  Jamaal Magloire   Jamaal  jamaal-magloire  21   \n",
       "7   1610612766   2001       00   Jamal Mashburn    Jamal   jamal-mashburn  24   \n",
       "8   1610612766   2001       00   Robert Traylor   Robert   robert-traylor  34   \n",
       "9   1610612766   2001       00      Kirk Haston     Kirk      kirk-haston  35   \n",
       "10  1610612766   2001       00       P.J. Brown     P.J.         pj-brown  42   \n",
       "11  1610612766   2001       00       Lee Nailon      Lee       lee-nailon  54   \n",
       "\n",
       "   POSITION HEIGHT WEIGHT    BIRTH_DATE   AGE EXP          SCHOOL  PLAYER_ID  \n",
       "0         G    6-3    223  APR 13, 1979  23.0   2            UCLA       1884  \n",
       "1       F-G    6-8    213  AUG 01, 1968  33.0  10            UNLV        278  \n",
       "2         G    6-1    203  NOV 14, 1970  31.0   8          Baylor        133  \n",
       "3       C-F    7-0    279  JUL 23, 1968  33.0  11         Clemson        922  \n",
       "4         F    6-8    228  SEP 03, 1970  31.0   8  North Carolina        248  \n",
       "5         G    6-3    184  SEP 21, 1974  27.0   3      Valparaiso       1724  \n",
       "6         C   6-11    259  MAY 21, 1978  24.0   1        Kentucky       2048  \n",
       "7         F    6-8    247  NOV 29, 1972  29.0   8        Kentucky        469  \n",
       "8       F-C    6-8    284  FEB 01, 1977  25.0   3        Michigan       1714  \n",
       "9         F    6-9    242  MAR 10, 1979  23.0   R         Indiana       2213  \n",
       "10        F   6-11    239  OCT 14, 1969  32.0   8  Louisiana Tech        136  \n",
       "11        F    6-9    238  FEB 22, 1975  27.0   1             TCU       1924  "
      ]
     },
     "execution_count": 38,
     "metadata": {},
     "output_type": "execute_result"
    }
   ],
   "source": [
    "roster_df"
   ]
  },
  {
   "cell_type": "code",
   "execution_count": 75,
   "metadata": {},
   "outputs": [
    {
     "name": "stdout",
     "output_type": "stream",
     "text": [
      "2000-01\n",
      "match Clar. Weatherspoon Clarence Weatherspoon\n",
      "Weatherspoon Weatherspoon 1610612739\n",
      "2001-02\n",
      "match Clar. Weatherspoon Clarence Weatherspoon\n",
      "Weatherspoon Weatherspoon 1610612752\n",
      "match Steven Smith Steve Smith\n",
      "Smith Smith 1610612759\n",
      "2002-03\n",
      "2003-04\n",
      "2004-05\n",
      "2005-06\n",
      "2006-07\n",
      "match JR Smith J.R. Smith\n",
      "Smith Smith 1610612743\n",
      "2007-08\n",
      "2008-09\n",
      "2009-10\n",
      "match JR Smith J.R. Smith\n",
      "Smith Smith 1610612743\n",
      "2010-11\n",
      "match DJ White D.J. White\n",
      "White White 1610612766\n",
      "2011-12\n",
      "match Shawne Williams J.J. Hickson\n",
      "Williams Williams 1610612757\n",
      "2012-13\n",
      "2013-14\n",
      "2014-15\n",
      "2015-16\n",
      "2016-17\n",
      "2017-18\n",
      "2018-19\n",
      "2019-20\n",
      "2020-21\n"
     ]
    }
   ],
   "source": [
    "for season in nbaTracker.seasons.values():\n",
    "    print(season.name)\n",
    "    for team in season.team_seasons.values():\n",
    "        roster = team.roster\n",
    "        roster_df = team.roster_df\n",
    "        for row, p in roster_df.iterrows():\n",
    "            for d in roster.values():\n",
    "                if p['PLAYER_ID'] in d['player_info'][1]:\n",
    "                    break\n",
    "            else:\n",
    "                # print(p['PLAYER'])\n",
    "                bday = p['BIRTH_DATE']\n",
    "                bday = datetime.strptime(bday, \"%b %d, %Y\")\n",
    "                # bday == d['player_info'][5] \n",
    "                exp = p['EXP']\n",
    "                exp = 0 if exp == 'R' else int(exp)\n",
    "                lname1 = p['PLAYER'].split(\" \")[-1].strip(\"-\")\n",
    "                lname2 = d['player_info'][0].split(\" \")[-1].strip(\"-\")\n",
    "                match = (lname1 == lname2)\n",
    "                for d in roster.values():\n",
    "                    if len(d['player_info'][1]) == 0:\n",
    "                        if match:\n",
    "                            print(\"match\", p['PLAYER'], d['player_info'][0])\n",
    "                            print(lname1, lname2, team.id)\n",
    "                            # d['player_info'][1].append(p['PLAYER_ID'])\n",
    "                        else:\n",
    "                            pass\n",
    "                            # print(\"No match\", lname1, lname2, team.id)\n",
    "    "
   ]
  },
  {
   "cell_type": "code",
   "execution_count": null,
   "metadata": {},
   "outputs": [],
   "source": []
  },
  {
   "cell_type": "code",
   "execution_count": 7,
   "metadata": {},
   "outputs": [
    {
     "name": "stdout",
     "output_type": "stream",
     "text": [
      "{'player_info': ['Paul Pierce', [1718], 'SG', '6-7', 235, datetime.datetime(1977, 10, 13, 0, 0), 'us', 3, 'Kansas'], 'season_totals': [24, 82, 82, 3302, 2144, 497, 1078, 210, 520, 520, 643, 81, 485, 261, 154, 86, 241, 237]}\n"
     ]
    }
   ],
   "source": [
    "for i, d in enumerate(roster.values()):\n",
    "    if p1['player_id'] in d['player_info'][1]:\n",
    "        print(d)\n",
    "        break\n"
   ]
  },
  {
   "cell_type": "code",
   "execution_count": 13,
   "metadata": {},
   "outputs": [
    {
     "name": "stdout",
     "output_type": "stream",
     "text": [
      "Norm Richardson 1610612741\n",
      "Wang Zhizhi 1610612742\n",
      "Stanislav Medvedenko 1610612747\n",
      "Clarence Weatherspoon 1610612752\n",
      "Norm Richardson 1610612754\n",
      "Steve Smith 1610612759\n",
      "Isaac Austin 1610612763\n",
      "Isaac Fontaine 1610612763\n"
     ]
    }
   ],
   "source": [
    "for team in season.team_seasons.values():\n",
    "    r = team.roster\n",
    "    for player, d in r.items():\n",
    "        if len(d['player_info'][1]) == 0:\n",
    "            print(player, team.id)\n"
   ]
  },
  {
   "cell_type": "code",
   "execution_count": 12,
   "metadata": {},
   "outputs": [
    {
     "name": "stdout",
     "output_type": "stream",
     "text": [
      "Loaded  2000-01 12:41:31.822000\n",
      "Loaded  2001-02 12:41:40.341193\n",
      "Loaded  2002-03 12:41:48.720550\n",
      "Loaded  2003-04 12:41:59.499181\n",
      "Loaded  2004-05 12:42:01.535264\n"
     ]
    }
   ],
   "source": [
    "from datetime import datetime\n",
    "\n",
    "import importlib\n",
    "import nba\n",
    "import load_roster_br\n",
    "importlib.reload(nba)\n",
    "importlib.reload(load_roster_br)\n",
    "from nba import NbaTracker\n",
    "\n",
    "# data starts from 2000-01\n",
    "seasons = [\n",
    "    \"2000-01\",\n",
    "    \"2001-02\",\n",
    "    \"2002-03\",\n",
    "    \"2003-04\",\n",
    "    \"2004-05\",\n",
    "    \"2005-06\",\n",
    "    \"2006-07\",\n",
    "    \"2007-08\",\n",
    "    \"2008-09\",\n",
    "    \"2009-10\",\n",
    "    \"2010-11\",\n",
    "    \"2011-12\",\n",
    "    \"2012-13\",\n",
    "    \"2013-14\",\n",
    "    \"2014-15\",\n",
    "    \"2015-16\",\n",
    "    \"2016-17\",\n",
    "    \"2017-18\",\n",
    "    \"2018-19\",\n",
    "    \"2019-20\",\n",
    "    \"2020-21\"\n",
    "]  # 19-20 was bubble season\n",
    "\n",
    "nbaTracker = NbaTracker()\n",
    "for season_name in seasons[0:5]:\n",
    "    nbaTracker.load_season(season_name)\n",
    "    print(\"Loaded \", season_name, datetime.now().time())"
   ]
  },
  {
   "cell_type": "code",
   "execution_count": 13,
   "metadata": {},
   "outputs": [],
   "source": [
    "games = nbaTracker.build_points_data() # games, players, (stats, targets)"
   ]
  },
  {
   "cell_type": "code",
   "execution_count": 19,
   "metadata": {},
   "outputs": [],
   "source": [
    "num_games = len(games)\n",
    "num_players = 10\n",
    "num_stats = len(games[0][0][0])"
   ]
  },
  {
   "cell_type": "code",
   "execution_count": 26,
   "metadata": {},
   "outputs": [
    {
     "data": {
      "text/plain": [
       "21"
      ]
     },
     "execution_count": 26,
     "metadata": {},
     "output_type": "execute_result"
    }
   ],
   "source": [
    "num_stats"
   ]
  },
  {
   "cell_type": "code",
   "execution_count": 21,
   "metadata": {},
   "outputs": [],
   "source": [
    "import numpy as np"
   ]
  },
  {
   "cell_type": "code",
   "execution_count": 45,
   "metadata": {},
   "outputs": [],
   "source": [
    "X = [[player[0] for player in game] for game in games if len(game) == 10]\n"
   ]
  },
  {
   "cell_type": "code",
   "execution_count": 49,
   "metadata": {},
   "outputs": [],
   "source": [
    "y = [[stat for player in game for stat in player[1]] for game in games if len(game) == 10]\n"
   ]
  },
  {
   "cell_type": "code",
   "execution_count": 46,
   "metadata": {},
   "outputs": [
    {
     "name": "stdout",
     "output_type": "stream",
     "text": [
      "9\n",
      "9\n",
      "9\n",
      "9\n",
      "9\n",
      "9\n",
      "9\n",
      "9\n",
      "9\n",
      "9\n",
      "9\n",
      "9\n",
      "9\n",
      "9\n",
      "9\n",
      "9\n"
     ]
    }
   ],
   "source": [
    "count = 0\n",
    "for game in games:\n",
    "    if len(game) != 10:\n",
    "        print(len(game))\n",
    "        count += 1\n",
    "    for player in game:\n",
    "        if len(player[0]) != num_stats:\n",
    "            print(\"bad player\")\n",
    "            break\n"
   ]
  },
  {
   "cell_type": "code",
   "execution_count": 43,
   "metadata": {},
   "outputs": [
    {
     "data": {
      "text/plain": [
       "16"
      ]
     },
     "execution_count": 43,
     "metadata": {},
     "output_type": "execute_result"
    }
   ],
   "source": [
    "count"
   ]
  },
  {
   "cell_type": "code",
   "execution_count": 47,
   "metadata": {},
   "outputs": [],
   "source": [
    "X = np.array(X)"
   ]
  },
  {
   "cell_type": "code",
   "execution_count": 48,
   "metadata": {},
   "outputs": [
    {
     "data": {
      "text/plain": [
       "(4781, 10, 21)"
      ]
     },
     "execution_count": 48,
     "metadata": {},
     "output_type": "execute_result"
    }
   ],
   "source": [
    "X.shape"
   ]
  },
  {
   "cell_type": "code",
   "execution_count": 51,
   "metadata": {},
   "outputs": [],
   "source": [
    "y = np.array(y)"
   ]
  },
  {
   "cell_type": "code",
   "execution_count": 52,
   "metadata": {},
   "outputs": [
    {
     "data": {
      "text/plain": [
       "(4781, 30)"
      ]
     },
     "execution_count": 52,
     "metadata": {},
     "output_type": "execute_result"
    }
   ],
   "source": [
    "y.shape"
   ]
  },
  {
   "cell_type": "code",
   "execution_count": 76,
   "metadata": {},
   "outputs": [],
   "source": [
    "from sklearn.model_selection import train_test_split\n",
    "X_train, X_text, y_train, y_test = train_test_split(X, y, test_size=0.1)\n",
    "X_train, X_val, y_train, y_val = train_test_split(X_train, y_train, test_size=0.2)\n"
   ]
  },
  {
   "cell_type": "code",
   "execution_count": 79,
   "metadata": {},
   "outputs": [],
   "source": [
    "from sklearn.preprocessing import StandardScaler\n",
    "scaler = StandardScaler()\n",
    "X_tp = scaler.fit_transform(X_train.reshape(\n",
    "    len(X_train)*10, 21)).reshape(len(X_train), 10, 21)\n",
    "X_vp = scaler.transform(X_val.reshape(\n",
    "    len(X_val)*10, 21)).reshape(len(X_val), 10, 21)\n",
    "X_test_p = scaler.transform(X_text.reshape(\n",
    "    len(X_text)*10, 21)).reshape(len(X_text), 10, 21)\n"
   ]
  },
  {
   "cell_type": "code",
   "execution_count": 81,
   "metadata": {},
   "outputs": [
    {
     "data": {
      "text/plain": [
       "(479, 10, 21)"
      ]
     },
     "execution_count": 81,
     "metadata": {},
     "output_type": "execute_result"
    }
   ],
   "source": []
  },
  {
   "cell_type": "code",
   "execution_count": 61,
   "metadata": {},
   "outputs": [],
   "source": [
    "import tensorflow as tf\n",
    "from tensorflow.keras.layers import Conv1D, Dense, Flatten, Input\n",
    "\n",
    "input = Input(shape=X.shape[1:])\n",
    "conv1 = Conv1D(64, 1, activation='relu', use_bias=True)(input)\n",
    "conv2 = Conv1D(64, 1, activation='relu', use_bias=True)(conv1)\n",
    "flat = Flatten()(conv2)\n",
    "d1 = Dense(128, activation='relu')(flat)\n",
    "output = Dense(30)(d1)"
   ]
  },
  {
   "cell_type": "code",
   "execution_count": 87,
   "metadata": {},
   "outputs": [
    {
     "data": {
      "text/plain": [
       "107.53125"
      ]
     },
     "execution_count": 87,
     "metadata": {},
     "output_type": "execute_result"
    }
   ],
   "source": [
    "X_tp.shape[0] / 32"
   ]
  },
  {
   "cell_type": "code",
   "execution_count": 62,
   "metadata": {},
   "outputs": [],
   "source": [
    "from tensorflow.keras.models import Model\n",
    "model = Model(inputs=[input], outputs=[output])\n",
    "model.compile(optimizer='adam', loss='mse')"
   ]
  },
  {
   "cell_type": "code",
   "execution_count": 102,
   "metadata": {},
   "outputs": [
    {
     "data": {
      "text/plain": [
       "(array([6.58333333e+00, 2.35000000e+02, 2.40000000e+01, 3.00000000e+00,\n",
       "        9.50000000e+01, 2.42686872e+03, 1.11079047e-02, 2.84463980e-03,\n",
       "        5.92816488e-03, 1.09329427e-03, 2.59676126e-03, 2.13874231e-03,\n",
       "        2.96344358e-03, 4.77424384e-04, 2.58462631e-03, 1.12311487e-03,\n",
       "        6.65582165e-04, 4.51848200e-04, 1.42212893e-03, 1.47908517e-03,\n",
       "        2.73850212e-04]),\n",
       " array([6.58333333e+00, 2.35000000e+02, 2.40000000e+01, 3.00000000e+00,\n",
       "        9.50000000e+01, 2.42686872e+03, 1.11079047e-02, 2.84463980e-03,\n",
       "        5.92816488e-03, 1.09329427e-03, 2.59676126e-03, 2.13874231e-03,\n",
       "        2.96344358e-03, 4.77424384e-04, 2.58462631e-03, 1.12311487e-03,\n",
       "        6.65582165e-04, 4.51848200e-04, 1.42212893e-03, 1.47908517e-03,\n",
       "        2.73850212e-04]))"
      ]
     },
     "execution_count": 102,
     "metadata": {},
     "output_type": "execute_result"
    }
   ],
   "source": [
    "X_train.reshape(-1, 21)[3], X_train[0][3]\n"
   ]
  },
  {
   "cell_type": "code",
   "execution_count": 104,
   "metadata": {},
   "outputs": [],
   "source": [
    "singleInput = Input(shape=X.shape[2:])\n",
    "singleD1 = Dense(64, activation='relu')(singleInput)\n",
    "singleD2 = Dense(64, activation='relu')(singleD1)\n",
    "singleOutput = Dense(3)(singleD2)\n",
    "singleModel = Model(inputs=[singleInput], outputs=[singleOutput])\n",
    "singleModel.compile(optimizer='adam', loss='mse')\n"
   ]
  },
  {
   "cell_type": "code",
   "execution_count": 105,
   "metadata": {},
   "outputs": [
    {
     "name": "stdout",
     "output_type": "stream",
     "text": [
      "Epoch 1/30\n",
      "1076/1076 [==============================] - 2s 2ms/step - loss: 22.0060 - val_loss: 18.4772\n",
      "Epoch 2/30\n",
      "1076/1076 [==============================] - 2s 2ms/step - loss: 17.8717 - val_loss: 17.8334\n",
      "Epoch 3/30\n",
      "1076/1076 [==============================] - 2s 2ms/step - loss: 17.5556 - val_loss: 17.7269\n",
      "Epoch 4/30\n",
      "1076/1076 [==============================] - 2s 2ms/step - loss: 17.4273 - val_loss: 17.5764\n",
      "Epoch 5/30\n",
      "1076/1076 [==============================] - 2s 2ms/step - loss: 17.3653 - val_loss: 17.9935\n",
      "Epoch 6/30\n",
      "1076/1076 [==============================] - 2s 2ms/step - loss: 17.3412 - val_loss: 17.5615\n",
      "Epoch 7/30\n",
      "1076/1076 [==============================] - 2s 2ms/step - loss: 17.3161 - val_loss: 17.5127\n",
      "Epoch 8/30\n",
      "1076/1076 [==============================] - 2s 2ms/step - loss: 17.2718 - val_loss: 17.9143\n",
      "Epoch 9/30\n",
      "1076/1076 [==============================] - 2s 2ms/step - loss: 17.2574 - val_loss: 17.7039\n",
      "Epoch 10/30\n",
      "1076/1076 [==============================] - 2s 2ms/step - loss: 17.2295 - val_loss: 17.5898\n",
      "Epoch 11/30\n",
      "1076/1076 [==============================] - 2s 2ms/step - loss: 17.1928 - val_loss: 17.5318\n",
      "Epoch 12/30\n",
      "1076/1076 [==============================] - 2s 2ms/step - loss: 17.2152 - val_loss: 17.5673\n",
      "Epoch 13/30\n",
      "1076/1076 [==============================] - 2s 2ms/step - loss: 17.1664 - val_loss: 17.6013\n",
      "Epoch 14/30\n",
      "1076/1076 [==============================] - 2s 2ms/step - loss: 17.1472 - val_loss: 17.4926\n",
      "Epoch 15/30\n",
      "1076/1076 [==============================] - 2s 2ms/step - loss: 17.1232 - val_loss: 17.5171\n",
      "Epoch 16/30\n",
      "1076/1076 [==============================] - 2s 2ms/step - loss: 17.0789 - val_loss: 17.5189\n",
      "Epoch 17/30\n",
      "1076/1076 [==============================] - 2s 2ms/step - loss: 17.1039 - val_loss: 17.5239\n",
      "Epoch 18/30\n",
      "1076/1076 [==============================] - 2s 2ms/step - loss: 17.1023 - val_loss: 17.5716\n",
      "Epoch 19/30\n",
      "1076/1076 [==============================] - 2s 1ms/step - loss: 17.0805 - val_loss: 17.4997\n",
      "Epoch 20/30\n",
      "1076/1076 [==============================] - 2s 2ms/step - loss: 17.0373 - val_loss: 17.5536\n",
      "Epoch 21/30\n",
      "1076/1076 [==============================] - 2s 2ms/step - loss: 17.0170 - val_loss: 17.5658\n",
      "Epoch 22/30\n",
      "1076/1076 [==============================] - 2s 2ms/step - loss: 17.0061 - val_loss: 17.5668\n",
      "Epoch 23/30\n",
      "1076/1076 [==============================] - 2s 2ms/step - loss: 17.0092 - val_loss: 17.5176\n",
      "Epoch 24/30\n",
      "1076/1076 [==============================] - 2s 2ms/step - loss: 16.9866 - val_loss: 17.6275\n",
      "Epoch 25/30\n",
      "1076/1076 [==============================] - 2s 2ms/step - loss: 16.9724 - val_loss: 17.4943\n",
      "Epoch 26/30\n",
      "1076/1076 [==============================] - 2s 2ms/step - loss: 16.9389 - val_loss: 17.4968\n",
      "Epoch 27/30\n",
      "1076/1076 [==============================] - 2s 2ms/step - loss: 16.9217 - val_loss: 17.5062\n",
      "Epoch 28/30\n",
      "1076/1076 [==============================] - 2s 2ms/step - loss: 16.9289 - val_loss: 17.5303\n",
      "Epoch 29/30\n",
      "1076/1076 [==============================] - 2s 2ms/step - loss: 16.9161 - val_loss: 17.6908\n",
      "Epoch 30/30\n",
      "1076/1076 [==============================] - 2s 2ms/step - loss: 16.8761 - val_loss: 17.6671\n"
     ]
    }
   ],
   "source": [
    "singleHistory = singleModel.fit(\n",
    "    x=X_tp.reshape(-1, 21), y=y_train.reshape(-1, 3), epochs=30, validation_data=(X_vp.reshape(-1, 21), y_val.reshape(-1, 3)))\n"
   ]
  },
  {
   "cell_type": "code",
   "execution_count": 84,
   "metadata": {},
   "outputs": [
    {
     "name": "stdout",
     "output_type": "stream",
     "text": [
      "Epoch 1/30\n",
      "108/108 [==============================] - 1s 7ms/step - loss: 30.8871 - val_loss: 21.1901\n",
      "Epoch 2/30\n",
      "108/108 [==============================] - 0s 3ms/step - loss: 19.4070 - val_loss: 19.0830\n",
      "Epoch 3/30\n",
      "108/108 [==============================] - 0s 4ms/step - loss: 18.1932 - val_loss: 18.4172\n",
      "Epoch 4/30\n",
      "108/108 [==============================] - 0s 3ms/step - loss: 17.6963 - val_loss: 18.2551\n",
      "Epoch 5/30\n",
      "108/108 [==============================] - 0s 3ms/step - loss: 17.4339 - val_loss: 18.3299\n",
      "Epoch 6/30\n",
      "108/108 [==============================] - 0s 4ms/step - loss: 17.2434 - val_loss: 18.0185\n",
      "Epoch 7/30\n",
      "108/108 [==============================] - 0s 4ms/step - loss: 17.0473 - val_loss: 18.0121\n",
      "Epoch 8/30\n",
      "108/108 [==============================] - 0s 3ms/step - loss: 16.8771 - val_loss: 18.0164\n",
      "Epoch 9/30\n",
      "108/108 [==============================] - 0s 4ms/step - loss: 16.8166 - val_loss: 17.8863\n",
      "Epoch 10/30\n",
      "108/108 [==============================] - 0s 3ms/step - loss: 16.6570 - val_loss: 17.8936\n",
      "Epoch 11/30\n",
      "108/108 [==============================] - 0s 3ms/step - loss: 16.5848 - val_loss: 18.0424\n",
      "Epoch 12/30\n",
      "108/108 [==============================] - 0s 3ms/step - loss: 16.5090 - val_loss: 18.0526\n",
      "Epoch 13/30\n",
      "108/108 [==============================] - 0s 3ms/step - loss: 16.4218 - val_loss: 17.8949\n",
      "Epoch 14/30\n",
      "108/108 [==============================] - 0s 4ms/step - loss: 16.3560 - val_loss: 18.0300\n",
      "Epoch 15/30\n",
      "108/108 [==============================] - 0s 3ms/step - loss: 16.2585 - val_loss: 17.9939\n",
      "Epoch 16/30\n",
      "108/108 [==============================] - 0s 4ms/step - loss: 16.1663 - val_loss: 18.1218\n",
      "Epoch 17/30\n",
      "108/108 [==============================] - 0s 3ms/step - loss: 16.1372 - val_loss: 18.0812\n",
      "Epoch 18/30\n",
      "108/108 [==============================] - 0s 4ms/step - loss: 16.1334 - val_loss: 18.0874\n",
      "Epoch 19/30\n",
      "108/108 [==============================] - 0s 3ms/step - loss: 16.0906 - val_loss: 18.1454\n",
      "Epoch 20/30\n",
      "108/108 [==============================] - 0s 3ms/step - loss: 15.9720 - val_loss: 18.1821\n",
      "Epoch 21/30\n",
      "108/108 [==============================] - 0s 3ms/step - loss: 15.9214 - val_loss: 18.1327\n",
      "Epoch 22/30\n",
      "108/108 [==============================] - 0s 3ms/step - loss: 15.8406 - val_loss: 18.1762\n",
      "Epoch 23/30\n",
      "108/108 [==============================] - 0s 3ms/step - loss: 15.8154 - val_loss: 18.2347\n",
      "Epoch 24/30\n",
      "108/108 [==============================] - 0s 3ms/step - loss: 15.8284 - val_loss: 18.2253\n",
      "Epoch 25/30\n",
      "108/108 [==============================] - 0s 3ms/step - loss: 15.7367 - val_loss: 18.2891\n",
      "Epoch 26/30\n",
      "108/108 [==============================] - 0s 3ms/step - loss: 15.6511 - val_loss: 18.2554\n",
      "Epoch 27/30\n",
      "108/108 [==============================] - 0s 3ms/step - loss: 15.5964 - val_loss: 18.2606\n",
      "Epoch 28/30\n",
      "108/108 [==============================] - 0s 3ms/step - loss: 15.5673 - val_loss: 18.3626\n",
      "Epoch 29/30\n",
      "108/108 [==============================] - 0s 3ms/step - loss: 15.5358 - val_loss: 18.4925\n",
      "Epoch 30/30\n",
      "108/108 [==============================] - 0s 3ms/step - loss: 15.4562 - val_loss: 18.3384\n"
     ]
    }
   ],
   "source": [
    "history = model.fit(x=X_tp, y=y_train, epochs=30, validation_data=(X_vp, y_val))"
   ]
  },
  {
   "cell_type": "code",
   "execution_count": 88,
   "metadata": {},
   "outputs": [],
   "source": [
    "y_pred = model.predict(X_test_p[:])"
   ]
  },
  {
   "cell_type": "code",
   "execution_count": 106,
   "metadata": {},
   "outputs": [],
   "source": [
    "y_pred = singleModel.predict(X_test_p.reshape(-1,21)[:])\n"
   ]
  },
  {
   "cell_type": "code",
   "execution_count": 89,
   "metadata": {},
   "outputs": [],
   "source": [
    "dif = y_pred - y_test[:]"
   ]
  },
  {
   "cell_type": "code",
   "execution_count": 107,
   "metadata": {},
   "outputs": [],
   "source": [
    "singleDif = y_pred - y_test.reshape(-1,3)[:]\n"
   ]
  },
  {
   "cell_type": "code",
   "execution_count": 91,
   "metadata": {},
   "outputs": [
    {
     "data": {
      "text/plain": [
       "(array([[ 7.7721653,  3.8078358,  1.6662111, 22.473686 , 12.9630995,\n",
       "          3.136601 ,  7.8803043,  6.250808 ,  1.1788315, 16.657135 ,\n",
       "          3.2716944,  6.050258 , 13.907471 ,  3.9993277,  1.8275493,\n",
       "          6.7479615,  4.8825574,  1.4050993,  7.188099 ,  4.8350706,\n",
       "          0.9372112, 13.848506 ,  8.77355  ,  1.4450566, 16.827734 ,\n",
       "          6.221202 ,  6.019349 , 18.577887 ,  4.586609 ,  2.0022175]],\n",
       "       dtype=float32),\n",
       " array([[ 5,  5,  3, 17,  9,  3, 14, 10,  1, 16,  2,  4,  8,  3,  7,  2,\n",
       "          2,  1, 12,  7,  0, 14,  9,  2, 21,  8,  8,  8,  3,  1]]))"
      ]
     },
     "execution_count": 91,
     "metadata": {},
     "output_type": "execute_result"
    }
   ],
   "source": [
    "y_pred[:1], y_test[:1]"
   ]
  },
  {
   "cell_type": "code",
   "execution_count": 112,
   "metadata": {},
   "outputs": [
    {
     "data": {
      "text/plain": [
       "(4.167276121453978, 4.209751736626716)"
      ]
     },
     "execution_count": 112,
     "metadata": {},
     "output_type": "execute_result"
    }
   ],
   "source": [
    "singleDif.std(), dif.std()"
   ]
  },
  {
   "cell_type": "code",
   "execution_count": 90,
   "metadata": {},
   "outputs": [
    {
     "data": {
      "text/plain": [
       "-0.010219343654842492"
      ]
     },
     "execution_count": 90,
     "metadata": {},
     "output_type": "execute_result"
    }
   ],
   "source": [
    "dif.mean()"
   ]
  },
  {
   "cell_type": "code",
   "execution_count": null,
   "metadata": {},
   "outputs": [],
   "source": [
    "# predict points for next game\n",
    "# multiclass or multilabel classification?\n",
    "# what features to use\n"
   ]
  },
  {
   "cell_type": "code",
   "execution_count": 14,
   "metadata": {},
   "outputs": [],
   "source": [
    "# get data\n",
    "\n",
    "points_data = nbaTracker.build_points_data()\n"
   ]
  },
  {
   "cell_type": "code",
   "execution_count": 16,
   "metadata": {},
   "outputs": [],
   "source": [
    "from sklearn.model_selection import train_test_split\n",
    "train, test = train_test_split(points_data)"
   ]
  },
  {
   "cell_type": "code",
   "execution_count": 20,
   "metadata": {},
   "outputs": [
    {
     "data": {
      "text/html": [
       "<div>\n",
       "<style scoped>\n",
       "    .dataframe tbody tr th:only-of-type {\n",
       "        vertical-align: middle;\n",
       "    }\n",
       "\n",
       "    .dataframe tbody tr th {\n",
       "        vertical-align: top;\n",
       "    }\n",
       "\n",
       "    .dataframe thead th {\n",
       "        text-align: right;\n",
       "    }\n",
       "</style>\n",
       "<table border=\"1\" class=\"dataframe\">\n",
       "  <thead>\n",
       "    <tr style=\"text-align: right;\">\n",
       "      <th></th>\n",
       "      <th>points_scored</th>\n",
       "      <th>ave_points_this_season</th>\n",
       "      <th>games_played_this_season</th>\n",
       "      <th>ave_gt_this_season</th>\n",
       "      <th>ave_points_last_season</th>\n",
       "      <th>games_played_last_season</th>\n",
       "      <th>ave_gt_last_season</th>\n",
       "      <th>played_last_game</th>\n",
       "    </tr>\n",
       "  </thead>\n",
       "  <tbody>\n",
       "    <tr>\n",
       "      <th>80322</th>\n",
       "      <td>10</td>\n",
       "      <td>7.866667</td>\n",
       "      <td>30</td>\n",
       "      <td>1782.833333</td>\n",
       "      <td>6.890244</td>\n",
       "      <td>82</td>\n",
       "      <td>1922.365854</td>\n",
       "      <td>False</td>\n",
       "    </tr>\n",
       "    <tr>\n",
       "      <th>311</th>\n",
       "      <td>12</td>\n",
       "      <td>4.000000</td>\n",
       "      <td>1</td>\n",
       "      <td>1465.000000</td>\n",
       "      <td>0.000000</td>\n",
       "      <td>0</td>\n",
       "      <td>0.000000</td>\n",
       "      <td>False</td>\n",
       "    </tr>\n",
       "    <tr>\n",
       "      <th>92618</th>\n",
       "      <td>39</td>\n",
       "      <td>22.969231</td>\n",
       "      <td>65</td>\n",
       "      <td>2187.907692</td>\n",
       "      <td>22.534247</td>\n",
       "      <td>73</td>\n",
       "      <td>2290.000000</td>\n",
       "      <td>False</td>\n",
       "    </tr>\n",
       "    <tr>\n",
       "      <th>45756</th>\n",
       "      <td>3</td>\n",
       "      <td>9.878378</td>\n",
       "      <td>74</td>\n",
       "      <td>1783.054054</td>\n",
       "      <td>4.333333</td>\n",
       "      <td>12</td>\n",
       "      <td>804.166667</td>\n",
       "      <td>False</td>\n",
       "    </tr>\n",
       "    <tr>\n",
       "      <th>42253</th>\n",
       "      <td>36</td>\n",
       "      <td>30.606557</td>\n",
       "      <td>61</td>\n",
       "      <td>2512.819672</td>\n",
       "      <td>25.237500</td>\n",
       "      <td>80</td>\n",
       "      <td>2298.850000</td>\n",
       "      <td>False</td>\n",
       "    </tr>\n",
       "    <tr>\n",
       "      <th>...</th>\n",
       "      <td>...</td>\n",
       "      <td>...</td>\n",
       "      <td>...</td>\n",
       "      <td>...</td>\n",
       "      <td>...</td>\n",
       "      <td>...</td>\n",
       "      <td>...</td>\n",
       "      <td>...</td>\n",
       "    </tr>\n",
       "    <tr>\n",
       "      <th>20261</th>\n",
       "      <td>12</td>\n",
       "      <td>5.789474</td>\n",
       "      <td>19</td>\n",
       "      <td>1035.842105</td>\n",
       "      <td>10.534247</td>\n",
       "      <td>73</td>\n",
       "      <td>1486.041096</td>\n",
       "      <td>False</td>\n",
       "    </tr>\n",
       "    <tr>\n",
       "      <th>76685</th>\n",
       "      <td>15</td>\n",
       "      <td>9.500000</td>\n",
       "      <td>6</td>\n",
       "      <td>957.166667</td>\n",
       "      <td>5.264151</td>\n",
       "      <td>53</td>\n",
       "      <td>851.811321</td>\n",
       "      <td>False</td>\n",
       "    </tr>\n",
       "    <tr>\n",
       "      <th>89805</th>\n",
       "      <td>3</td>\n",
       "      <td>4.948276</td>\n",
       "      <td>58</td>\n",
       "      <td>1448.293103</td>\n",
       "      <td>5.589041</td>\n",
       "      <td>73</td>\n",
       "      <td>1212.123288</td>\n",
       "      <td>False</td>\n",
       "    </tr>\n",
       "    <tr>\n",
       "      <th>66547</th>\n",
       "      <td>1</td>\n",
       "      <td>6.274194</td>\n",
       "      <td>62</td>\n",
       "      <td>1548.241935</td>\n",
       "      <td>4.547945</td>\n",
       "      <td>73</td>\n",
       "      <td>1029.150685</td>\n",
       "      <td>False</td>\n",
       "    </tr>\n",
       "    <tr>\n",
       "      <th>65928</th>\n",
       "      <td>7</td>\n",
       "      <td>7.145455</td>\n",
       "      <td>55</td>\n",
       "      <td>1119.490909</td>\n",
       "      <td>6.185185</td>\n",
       "      <td>81</td>\n",
       "      <td>1429.222222</td>\n",
       "      <td>False</td>\n",
       "    </tr>\n",
       "  </tbody>\n",
       "</table>\n",
       "<p>72419 rows × 8 columns</p>\n",
       "</div>"
      ],
      "text/plain": [
       "       points_scored  ave_points_this_season  games_played_this_season  \\\n",
       "80322             10                7.866667                        30   \n",
       "311               12                4.000000                         1   \n",
       "92618             39               22.969231                        65   \n",
       "45756              3                9.878378                        74   \n",
       "42253             36               30.606557                        61   \n",
       "...              ...                     ...                       ...   \n",
       "20261             12                5.789474                        19   \n",
       "76685             15                9.500000                         6   \n",
       "89805              3                4.948276                        58   \n",
       "66547              1                6.274194                        62   \n",
       "65928              7                7.145455                        55   \n",
       "\n",
       "       ave_gt_this_season  ave_points_last_season  games_played_last_season  \\\n",
       "80322         1782.833333                6.890244                        82   \n",
       "311           1465.000000                0.000000                         0   \n",
       "92618         2187.907692               22.534247                        73   \n",
       "45756         1783.054054                4.333333                        12   \n",
       "42253         2512.819672               25.237500                        80   \n",
       "...                   ...                     ...                       ...   \n",
       "20261         1035.842105               10.534247                        73   \n",
       "76685          957.166667                5.264151                        53   \n",
       "89805         1448.293103                5.589041                        73   \n",
       "66547         1548.241935                4.547945                        73   \n",
       "65928         1119.490909                6.185185                        81   \n",
       "\n",
       "       ave_gt_last_season  played_last_game  \n",
       "80322         1922.365854             False  \n",
       "311              0.000000             False  \n",
       "92618         2290.000000             False  \n",
       "45756          804.166667             False  \n",
       "42253         2298.850000             False  \n",
       "...                   ...               ...  \n",
       "20261         1486.041096             False  \n",
       "76685          851.811321             False  \n",
       "89805         1212.123288             False  \n",
       "66547         1029.150685             False  \n",
       "65928         1429.222222             False  \n",
       "\n",
       "[72419 rows x 8 columns]"
      ]
     },
     "execution_count": 20,
     "metadata": {},
     "output_type": "execute_result"
    }
   ],
   "source": [
    "train"
   ]
  },
  {
   "cell_type": "code",
   "execution_count": 21,
   "metadata": {},
   "outputs": [],
   "source": [
    "import pandas as pd\n",
    "train: pd.DataFrame\n",
    "X_train, y_train = train.drop(\"points_scored\", axis=1), train[\"points_scored\"]"
   ]
  },
  {
   "cell_type": "code",
   "execution_count": 23,
   "metadata": {},
   "outputs": [
    {
     "data": {
      "text/plain": [
       "array([[7.866666666666666, 30, 1782.8333333333333, ..., 82,\n",
       "        1922.3658536585365, False],\n",
       "       [4.0, 1, 1465.0, ..., 0, 0.0, False],\n",
       "       [22.96923076923077, 65, 2187.9076923076923, ..., 73, 2290.0,\n",
       "        False],\n",
       "       ...,\n",
       "       [4.948275862068965, 58, 1448.2931034482758, ..., 73,\n",
       "        1212.123287671233, False],\n",
       "       [6.274193548387097, 62, 1548.241935483871, ..., 73,\n",
       "        1029.150684931507, False],\n",
       "       [7.1454545454545455, 55, 1119.490909090909, ..., 81,\n",
       "        1429.2222222222222, False]], dtype=object)"
      ]
     },
     "execution_count": 23,
     "metadata": {},
     "output_type": "execute_result"
    }
   ],
   "source": [
    "X_train.to_numpy()"
   ]
  },
  {
   "cell_type": "code",
   "execution_count": 18,
   "metadata": {},
   "outputs": [
    {
     "data": {
      "text/plain": [
       "<AxesSubplot:xlabel='ave_points_last_season', ylabel='points_scored'>"
      ]
     },
     "execution_count": 18,
     "metadata": {},
     "output_type": "execute_result"
    },
    {
     "data": {
      "image/png": "[encoded data removed]",
      "text/plain": [
       "<Figure size 432x288 with 1 Axes>"
      ]
     },
     "metadata": {
      "needs_background": "light"
     },
     "output_type": "display_data"
    }
   ],
   "source": [
    "# visualize data\n",
    "train.plot(kind=\"scatter\", x=\"ave_points_last_season\", y=\"points_scored\")"
   ]
  },
  {
   "cell_type": "code",
   "execution_count": 19,
   "metadata": {},
   "outputs": [
    {
     "data": {
      "text/plain": [
       "points_scored               1.000000\n",
       "ave_points_this_season      0.704227\n",
       "ave_gt_this_season          0.615450\n",
       "ave_points_last_season      0.601585\n",
       "ave_gt_last_season          0.479306\n",
       "games_played_last_season    0.276445\n",
       "games_played_this_season    0.152016\n",
       "played_last_game                 NaN\n",
       "Name: points_scored, dtype: float64"
      ]
     },
     "execution_count": 19,
     "metadata": {},
     "output_type": "execute_result"
    }
   ],
   "source": [
    "train.corr()[\"points_scored\"].sort_values(ascending=False)"
   ]
  },
  {
   "cell_type": "code",
   "execution_count": 31,
   "metadata": {},
   "outputs": [],
   "source": [
    "# prepare data, build transformers\n",
    "from sklearn.base import BaseEstimator, TransformerMixin\n",
    "import numpy as np\n",
    "\n",
    "ave_points_this_ix = 0\n",
    "games_played_this_ix = 1\n",
    "ave_gt_this_ix = 2\n",
    "ave_points_last_ix = 3\n",
    "games_played_last_ix = 4\n",
    "ave_gt_last_ix = 5\n",
    "\n",
    "class CalcAverages(BaseEstimator, TransformerMixin):\n",
    "    def __init__(self, this_season_weight=3) -> None:\n",
    "        super().__init__()\n",
    "        self.this_season_weight = this_season_weight\n",
    "\n",
    "    def fit(self, X, y=None):\n",
    "        return self \n",
    "    \n",
    "    def transform(self, X, y=None):\n",
    "        total_weighted_games = X[:, games_played_this_ix] * self.this_season_weight + X[:, games_played_last_ix]\n",
    "        total_weighted_games = np.where(total_weighted_games > 0, total_weighted_games, 1)\n",
    "        ave_pts = (X[:, games_played_this_ix] * self.this_season_weight * X[:, ave_points_this_ix] +\n",
    "                                                      X[:, games_played_last_ix] * X[:, ave_points_last_ix]) / total_weighted_games\n",
    "        ave_gt = (X[:, games_played_this_ix] * self.this_season_weight * X[:, ave_gt_this_ix] +\n",
    "                                                     X[:, games_played_last_ix] * X[:, ave_gt_last_ix]) / total_weighted_games\n",
    "        return np.c_[X[:, 0:6], ave_pts, ave_gt ]\n",
    "\n"
   ]
  },
  {
   "cell_type": "code",
   "execution_count": 32,
   "metadata": {},
   "outputs": [],
   "source": [
    "from sklearn.preprocessing import StandardScaler\n",
    "from sklearn.pipeline import Pipeline\n",
    "\n",
    "pipeline = Pipeline([('add_ave', CalcAverages()), ('std_scaler', StandardScaler())])\n",
    "\n",
    "X_train_p = pipeline.fit_transform(X_train.to_numpy())"
   ]
  },
  {
   "cell_type": "code",
   "execution_count": 34,
   "metadata": {},
   "outputs": [
    {
     "data": {
      "text/plain": [
       "(72419, 8)"
      ]
     },
     "execution_count": 34,
     "metadata": {},
     "output_type": "execute_result"
    }
   ],
   "source": [
    "X_train_p.shape"
   ]
  },
  {
   "cell_type": "code",
   "execution_count": 35,
   "metadata": {},
   "outputs": [],
   "source": [
    "# select a model and train it\n",
    "from sklearn.linear_model import Ridge, LogisticRegression\n",
    "reg = Ridge()\n",
    "clf = LogisticRegression()\n",
    "\n",
    "reg.fit(X_train_p, y_train)\n",
    "\n",
    "some_data, some_labels = X_train_p[:10], y_train[:10]\n"
   ]
  },
  {
   "cell_type": "code",
   "execution_count": 38,
   "metadata": {},
   "outputs": [
    {
     "data": {
      "text/plain": [
       "[(7.559255005591691, 10),\n",
       " (4.32204048808245, 12),\n",
       " (22.89624799866327, 39),\n",
       " (10.300675352895716, 3),\n",
       " (29.79090216529714, 36),\n",
       " (11.166644833363467, 12),\n",
       " (2.6808917889515653, 0),\n",
       " (8.858822912310282, 15),\n",
       " (10.7302144879541, 5),\n",
       " (5.491059469430437, 3)]"
      ]
     },
     "execution_count": 38,
     "metadata": {},
     "output_type": "execute_result"
    }
   ],
   "source": [
    "list(zip(reg.predict(some_data),some_labels))"
   ]
  },
  {
   "cell_type": "code",
   "execution_count": 40,
   "metadata": {},
   "outputs": [
    {
     "data": {
      "text/plain": [
       "array([ 1.78372315,  0.06948985,  0.44356773, -0.64485658,  0.08057369,\n",
       "       -0.0340447 ,  4.78717938, -0.63792315])"
      ]
     },
     "execution_count": 40,
     "metadata": {},
     "output_type": "execute_result"
    }
   ],
   "source": [
    "reg.coef_"
   ]
  },
  {
   "cell_type": "code",
   "execution_count": null,
   "metadata": {},
   "outputs": [],
   "source": [
    "# fine tune model"
   ]
  },
  {
   "cell_type": "code",
   "execution_count": null,
   "metadata": {},
   "outputs": [],
   "source": [
    "# present solution"
   ]
  },
  {
   "cell_type": "code",
   "execution_count": null,
   "metadata": {},
   "outputs": [],
   "source": [
    "# deploy"
   ]
  }
 ],
 "metadata": {
  "interpreter": {
   "hash": "a8590208259839df94eb6993e24edc5fa127f3c6a8a3318c28674b5b9a9a2d23"
  },
  "kernelspec": {
   "display_name": "Python 3.9.2 64-bit ('.venv39': venv)",
   "language": "python",
   "name": "python3"
  },
  "language_info": {
   "codemirror_mode": {
    "name": "ipython",
    "version": 3
   },
   "file_extension": ".py",
   "mimetype": "text/x-python",
   "name": "python",
   "nbconvert_exporter": "python",
   "pygments_lexer": "ipython3",
   "version": "3.9.2"
  },
  "orig_nbformat": 4
 },
 "nbformat": 4,
 "nbformat_minor": 2
}
