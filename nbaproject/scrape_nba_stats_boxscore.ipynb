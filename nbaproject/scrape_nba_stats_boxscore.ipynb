{
 "cells": [
  {
   "cell_type": "markdown",
   "metadata": {},
   "source": [
    "# download example game"
   ]
  },
  {
   "cell_type": "code",
   "execution_count": 2,
   "metadata": {},
   "outputs": [],
   "source": [
    "game_id = \"0021700013\"\n"
   ]
  },
  {
   "cell_type": "code",
   "execution_count": 3,
   "metadata": {},
   "outputs": [
    {
     "data": {
      "text/plain": [
       "[       GAME_ID     TEAM_ID TEAM_ABBREVIATION   TEAM_CITY  PLAYER_ID  \\\n",
       " 0   0021700013  1610612745               HOU     Houston       2772   \n",
       " 1   0021700013  1610612745               HOU     Houston     201583   \n",
       " 2   0021700013  1610612745               HOU     Houston     203991   \n",
       " 3   0021700013  1610612745               HOU     Houston     201569   \n",
       " 4   0021700013  1610612745               HOU     Houston     201935   \n",
       " 5   0021700013  1610612745               HOU     Houston     201601   \n",
       " 6   0021700013  1610612745               HOU     Houston     200782   \n",
       " 7   0021700013  1610612745               HOU     Houston       2403   \n",
       " 8   0021700013  1610612745               HOU     Houston    1627743   \n",
       " 9   0021700013  1610612745               HOU     Houston     204028   \n",
       " 10  0021700013  1610612745               HOU     Houston     201628   \n",
       " 11  0021700013  1610612745               HOU     Houston     101108   \n",
       " 12  0021700013  1610612745               HOU     Houston    1627753   \n",
       " 13  0021700013  1610612758               SAC  Sacramento    1628382   \n",
       " 14  0021700013  1610612758               SAC  Sacramento    1627746   \n",
       " 15  0021700013  1610612758               SAC  Sacramento    1626161   \n",
       " 16  0021700013  1610612758               SAC  Sacramento    1627741   \n",
       " 17  0021700013  1610612758               SAC  Sacramento     201588   \n",
       " 18  0021700013  1610612758               SAC  Sacramento     202066   \n",
       " 19  0021700013  1610612758               SAC  Sacramento    1628368   \n",
       " 20  0021700013  1610612758               SAC  Sacramento     201585   \n",
       " 21  0021700013  1610612758               SAC  Sacramento       1713   \n",
       " 22  0021700013  1610612758               SAC  Sacramento    1627781   \n",
       " 23  0021700013  1610612758               SAC  Sacramento    1628412   \n",
       " 24  0021700013  1610612758               SAC  Sacramento    1627834   \n",
       " 25  0021700013  1610612758               SAC  Sacramento     203960   \n",
       " \n",
       "              PLAYER_NAME START_POSITION                 COMMENT    MIN   SPD  \\\n",
       " 0           Trevor Ariza              F                          32:26  4.06   \n",
       " 1          Ryan Anderson              F                          25:39  4.01   \n",
       " 2           Clint Capela              C                          28:20  4.30   \n",
       " 3            Eric Gordon              G                          34:49  4.02   \n",
       " 4           James Harden              G                          37:46  3.58   \n",
       " 5       Luc Mbah a Moute                                         24:03  4.14   \n",
       " 6            P.J. Tucker                                         29:06  3.98   \n",
       " 7                   Nene                                         17:37  4.21   \n",
       " 8      Demetrius Jackson                                         10:14  4.80   \n",
       " 9            Tarik Black                 DNP - Coach's Decision   0:00  0.00   \n",
       " 10           Bobby Brown                 DNP - Coach's Decision   0:00  0.00   \n",
       " 11            Chris Paul                   DNP - Injury/Illness   0:00  0.00   \n",
       " 12               Zhou Qi                 DNP - Coach's Decision   0:00  0.00   \n",
       " 13        Justin Jackson              F                          19:26  4.45   \n",
       " 14       Skal Labissiere              F                          32:46  4.38   \n",
       " 15   Willie Cauley-Stein              C                          31:38  4.32   \n",
       " 16           Buddy Hield              G                          32:49  4.75   \n",
       " 17           George Hill              G                          32:35  4.45   \n",
       " 18        Garrett Temple                                         29:54  4.21   \n",
       " 19          De'Aaron Fox                                         23:37  4.46   \n",
       " 20          Kosta Koufos                                         17:33  4.43   \n",
       " 21          Vince Carter                                         14:11  3.71   \n",
       " 22    Malachi Richardson                                          5:32  4.28   \n",
       " 23       Frank Mason III                 DNP - Coach's Decision   0:00  0.00   \n",
       " 24  Georgios Papagiannis                 DNP - Coach's Decision   0:00  0.00   \n",
       " 25        JaKarr Sampson                 DNP - Coach's Decision   0:00  0.00   \n",
       " \n",
       "     ...  CFGM  CFGA  CFG_PCT  UFGM  UFGA  UFG_PCT  FG_PCT  DFGM  DFGA  DFG_PCT  \n",
       " 0   ...     0     1    0.000     0     5    0.000   0.000     2     2    1.000  \n",
       " 1   ...     0     0    0.000     2     7    0.286   0.285     2     2    1.000  \n",
       " 2   ...     7     9    0.778     3     3    1.000   0.832     3     5    0.600  \n",
       " 3   ...     2     8    0.250     5    15    0.333   0.303     1     1    1.000  \n",
       " 4   ...     1     7    0.143     7    14    0.500   0.381     2     3    0.667  \n",
       " 5   ...     1     2    0.500     0     2    0.000   0.250     1     1    1.000  \n",
       " 6   ...     0     0    0.000     2     3    0.667   0.667     2     2    1.000  \n",
       " 7   ...     2     4    0.500     1     1    1.000   0.599     2     2    1.000  \n",
       " 8   ...     0     1    0.000     0     1    0.000   0.000     1     2    0.500  \n",
       " 9   ...     0     0    0.000     0     0    0.000   0.000     0     0    0.000  \n",
       " 10  ...     0     0    0.000     0     0    0.000   0.000     0     0    0.000  \n",
       " 11  ...     0     0    0.000     0     0    0.000   0.000     0     0    0.000  \n",
       " 12  ...     0     0    0.000     0     0    0.000   0.000     0     0    0.000  \n",
       " 13  ...     1     3    0.333     1     2    0.500   0.400     0     0    0.000  \n",
       " 14  ...     3     5    0.600     2     4    0.500   0.556     3     5    0.600  \n",
       " 15  ...     5     6    0.833     5     9    0.556   0.667     7     8    0.875  \n",
       " 16  ...     0     0    0.000     8    17    0.471   0.470     1     2    0.500  \n",
       " 17  ...     2     5    0.400     4     6    0.667   0.545     3     3    1.000  \n",
       " 18  ...     0     0    0.000     1     7    0.143   0.142     1     2    0.500  \n",
       " 19  ...     5     9    0.556     2     6    0.333   0.467     1     2    0.500  \n",
       " 20  ...     1     3    0.333     0     0    0.000   0.250     0     5    0.000  \n",
       " 21  ...     0     0    0.000     2     3    0.667   0.667     1     3    0.333  \n",
       " 22  ...     0     1    0.000     0     1    0.000   0.000     1     1    1.000  \n",
       " 23  ...     0     0    0.000     0     0    0.000   0.000     0     0    0.000  \n",
       " 24  ...     0     0    0.000     0     0    0.000   0.000     0     0    0.000  \n",
       " 25  ...     0     0    0.000     0     0    0.000   0.000     0     0    0.000  \n",
       " \n",
       " [26 rows x 29 columns],\n",
       "       GAME_ID     TEAM_ID TEAM_NAME TEAM_ABBREVIATION   TEAM_CITY     MIN  \\\n",
       " 0  0021700013  1610612745   Rockets               HOU     Houston  240:00   \n",
       " 1  0021700013  1610612758     Kings               SAC  Sacramento  240:00   \n",
       " \n",
       "     DIST  ORBC  DRBC  RBC  ...  CFGM  CFGA  CFG_PCT  UFGM  UFGA  UFG_PCT  \\\n",
       " 0  16.15    33    49   80  ...    13    32    0.406    20    51    0.392   \n",
       " 1  17.46    19    59   76  ...    17    32    0.531    25    55    0.455   \n",
       " \n",
       "    FG_PCT  DFGM  DFGA  DFG_PCT  \n",
       " 0   0.398    16    20    0.800  \n",
       " 1   0.477    18    31    0.581  \n",
       " \n",
       " [2 rows x 25 columns]]"
      ]
     },
     "execution_count": 3,
     "metadata": {},
     "output_type": "execute_result"
    }
   ],
   "source": [
    "from nba_api.stats.endpoints import BoxScorePlayerTrackV2\n",
    "\n",
    "info = BoxScorePlayerTrackV2(game_id)\n",
    "info.get_data_frames()\n"
   ]
  },
  {
   "cell_type": "code",
   "execution_count": null,
   "metadata": {},
   "outputs": [],
   "source": []
  }
 ],
 "metadata": {
  "interpreter": {
   "hash": "a8590208259839df94eb6993e24edc5fa127f3c6a8a3318c28674b5b9a9a2d23"
  },
  "kernelspec": {
   "display_name": "Python 3.9.2 ('.venv39': venv)",
   "language": "python",
   "name": "python3"
  },
  "language_info": {
   "codemirror_mode": {
    "name": "ipython",
    "version": 3
   },
   "file_extension": ".py",
   "mimetype": "text/x-python",
   "name": "python",
   "nbconvert_exporter": "python",
   "pygments_lexer": "ipython3",
   "version": "3.9.2"
  },
  "orig_nbformat": 4
 },
 "nbformat": 4,
 "nbformat_minor": 2
}
