{
 "cells": [
  {
   "cell_type": "code",
   "execution_count": 1,
   "metadata": {},
   "outputs": [],
   "source": [
    "from itertools import islice\n",
    "import pbpstats\n",
    "from pbpstats.client import Client\n",
    "import pandas as pd\n",
    "import numpy as np\n",
    "from sklearn import linear_model\n",
    "from sklearn.model_selection import train_test_split, cross_validate\n",
    "from sklearn.metrics import accuracy_score\n",
    "from scipy.optimize import minimize_scalar\n",
    "\n",
    "from math import exp, log\n",
    "def sigmoid(x):\n",
    "    return 1 / (1 + exp(-x))\n",
    "sigmoid = np.frompyfunc(sigmoid, 1, 1)\n",
    "\n",
    "\n",
    "def linear_loss(alpha, true_val, scaler):\n",
    "    return sum(abs(true_val - sigmoid(alpha * scaler))) / len(true_val)\n",
    "\n",
    "def quadratic_loss(alpha, true_val, scaler):\n",
    "    return sum((true_val - sigmoid(alpha * scaler)) ** 2) / len(true_val)\n",
    "\n",
    "def log_loss(alpha, true_val, scaler):\n",
    "    return true_val*log(sigmoid(alpha * scaler)) + (1-true_val)*log(1 - sigmoid(alpha*scaler))\n",
    "    \n",
    "\n",
    "# def quadratic_loss_function(alpha, true_val, scaler):\n",
    "#     return sum((true_val - sigmoid(alpha * scaler)) ** 2) / len(true_val)\n",
    "    \n"
   ]
  },
  {
   "cell_type": "code",
   "execution_count": 85,
   "metadata": {},
   "outputs": [],
   "source": [
    "season_settings = {\n",
    "    \"dir\": \"C:/Users/bhalb/nbaproject/response_data\",\n",
    "    \"Games\": {\"source\": \"file\", \"data_provider\": \"stats_nba\"},\n",
    "    # \"Boxscore\": {\"source\": \"web\", \"data_provider\": \"data_nba\"},\n",
    "    # \"Possessions\": {\"source\": \"file\", \"data_provider\": \"data_nba\"},\n",
    "}\n",
    "game_settings = {\n",
    "    \"dir\": \"C:/Users/bhalb/nbaproject/response_data\",\n",
    "    \"Boxscore\": {\"source\": \"file\", \"data_provider\": \"stats_nba\"},\n",
    "}\n",
    "game_possessions_settings = {\n",
    "    \"dir\": \"C:/Users/bhalb/nbaproject/response_data\",\n",
    "    # \"Boxscore\": {\"source\": \"file\", \"data_provider\": \"stats_nba\"},\n",
    "    \"Possessions\": {\"source\": \"file\", \"data_provider\": \"stats_nba\"},\n",
    "}\n",
    "season_client = Client(season_settings)\n",
    "game_client = Client(game_settings)\n",
    "possession_client = Client(game_possessions_settings)\n",
    "\n",
    "season1718 = season_client.Season(\"nba\", \"2017-18\", \"Regular Season\")"
   ]
  },
  {
   "cell_type": "code",
   "execution_count": 185,
   "metadata": {},
   "outputs": [
    {
     "name": "stdout",
     "output_type": "stream",
     "text": [
      "Loading season 2000-01 Possesions: <pbpstats.objects.season.Season object at 0x0000018BA53FA7A0>\n"
     ]
    },
    {
     "ename": "KeyboardInterrupt",
     "evalue": "",
     "output_type": "error",
     "traceback": [
      "\u001b[1;31m---------------------------------------------------------------------------\u001b[0m",
      "\u001b[1;31mKeyboardInterrupt\u001b[0m                         Traceback (most recent call last)",
      "\u001b[1;32m~\\AppData\\Local\\Temp/ipykernel_17456/3090446205.py\u001b[0m in \u001b[0;36m<module>\u001b[1;34m\u001b[0m\n\u001b[0;32m     37\u001b[0m \u001b[1;32mfor\u001b[0m \u001b[0mseason_name\u001b[0m \u001b[1;32min\u001b[0m \u001b[0mseasons\u001b[0m\u001b[1;33m:\u001b[0m\u001b[1;33m\u001b[0m\u001b[1;33m\u001b[0m\u001b[0m\n\u001b[0;32m     38\u001b[0m     \u001b[0mschedule\u001b[0m \u001b[1;33m=\u001b[0m \u001b[0mseason_client\u001b[0m\u001b[1;33m.\u001b[0m\u001b[0mSeason\u001b[0m\u001b[1;33m(\u001b[0m\u001b[1;34m\"nba\"\u001b[0m\u001b[1;33m,\u001b[0m \u001b[0mseason_name\u001b[0m\u001b[1;33m,\u001b[0m \u001b[1;34m\"Regular Season\"\u001b[0m\u001b[1;33m)\u001b[0m\u001b[1;33m\u001b[0m\u001b[1;33m\u001b[0m\u001b[0m\n\u001b[1;32m---> 39\u001b[1;33m     \u001b[0mnbaTracker\u001b[0m\u001b[1;33m.\u001b[0m\u001b[0mload_season\u001b[0m\u001b[1;33m(\u001b[0m\u001b[0mseason_name\u001b[0m\u001b[1;33m,\u001b[0m \u001b[0mschedule\u001b[0m\u001b[1;33m)\u001b[0m\u001b[1;33m\u001b[0m\u001b[1;33m\u001b[0m\u001b[0m\n\u001b[0m\u001b[0;32m     40\u001b[0m     \u001b[0mprint\u001b[0m\u001b[1;33m(\u001b[0m\u001b[1;34m\"Loaded \"\u001b[0m\u001b[1;33m,\u001b[0m \u001b[0mseason_name\u001b[0m\u001b[1;33m)\u001b[0m\u001b[1;33m\u001b[0m\u001b[1;33m\u001b[0m\u001b[0m\n\u001b[0;32m     41\u001b[0m \u001b[1;33m\u001b[0m\u001b[0m\n",
      "\u001b[1;32mc:\\Users\\bhalb\\nbaproject\\nba.py\u001b[0m in \u001b[0;36mload_season\u001b[1;34m(self, season_name, load_possessions)\u001b[0m\n\u001b[0;32m    430\u001b[0m         \u001b[1;32mfor\u001b[0m \u001b[0mgame_dict\u001b[0m \u001b[1;32min\u001b[0m \u001b[0mschedule\u001b[0m\u001b[1;33m.\u001b[0m\u001b[0mgames\u001b[0m\u001b[1;33m.\u001b[0m\u001b[0mfinal_games\u001b[0m\u001b[1;33m:\u001b[0m\u001b[1;33m\u001b[0m\u001b[1;33m\u001b[0m\u001b[0m\n\u001b[0;32m    431\u001b[0m             \u001b[0mgame_id\u001b[0m \u001b[1;33m=\u001b[0m \u001b[0mgame_dict\u001b[0m\u001b[1;33m[\u001b[0m\u001b[1;34m'game_id'\u001b[0m\u001b[1;33m]\u001b[0m\u001b[1;33m\u001b[0m\u001b[1;33m\u001b[0m\u001b[0m\n\u001b[1;32m--> 432\u001b[1;33m             \u001b[0mgame\u001b[0m \u001b[1;33m=\u001b[0m \u001b[0mgame_client\u001b[0m\u001b[1;33m.\u001b[0m\u001b[0mGame\u001b[0m\u001b[1;33m(\u001b[0m\u001b[0mgame_id\u001b[0m\u001b[1;33m)\u001b[0m\u001b[1;33m\u001b[0m\u001b[1;33m\u001b[0m\u001b[0m\n\u001b[0m\u001b[0;32m    433\u001b[0m             \u001b[1;32mfor\u001b[0m \u001b[0mteam\u001b[0m \u001b[1;32min\u001b[0m \u001b[0mgame\u001b[0m\u001b[1;33m.\u001b[0m\u001b[0mboxscore\u001b[0m\u001b[1;33m.\u001b[0m\u001b[0mteam_items\u001b[0m\u001b[1;33m:\u001b[0m\u001b[1;33m\u001b[0m\u001b[1;33m\u001b[0m\u001b[0m\n\u001b[0;32m    434\u001b[0m                 \u001b[0mteam_id\u001b[0m \u001b[1;33m=\u001b[0m \u001b[0mteam\u001b[0m\u001b[1;33m[\u001b[0m\u001b[1;34m'team_id'\u001b[0m\u001b[1;33m]\u001b[0m\u001b[1;33m\u001b[0m\u001b[1;33m\u001b[0m\u001b[0m\n",
      "\u001b[1;32mc:\\users\\bhalb\\programming\\pbpstats\\pbpstats\\objects\\game.py\u001b[0m in \u001b[0;36m__init__\u001b[1;34m(self, game_id)\u001b[0m\n\u001b[0;32m     46\u001b[0m             \u001b[0msource_loader_cls\u001b[0m \u001b[1;33m=\u001b[0m \u001b[0mdata_source_map\u001b[0m\u001b[1;33m[\u001b[0m\u001b[0mattr_name\u001b[0m\u001b[1;33m]\u001b[0m\u001b[1;33m\u001b[0m\u001b[1;33m\u001b[0m\u001b[0m\n\u001b[0;32m     47\u001b[0m             \u001b[0msource_loader\u001b[0m \u001b[1;33m=\u001b[0m \u001b[0msource_loader_cls\u001b[0m\u001b[1;33m(\u001b[0m\u001b[0mself\u001b[0m\u001b[1;33m.\u001b[0m\u001b[0mdata_directory\u001b[0m\u001b[1;33m)\u001b[0m\u001b[1;33m\u001b[0m\u001b[1;33m\u001b[0m\u001b[0m\n\u001b[1;32m---> 48\u001b[1;33m             \u001b[0mdata\u001b[0m \u001b[1;33m=\u001b[0m \u001b[0mdata_loader\u001b[0m\u001b[1;33m[\u001b[0m\u001b[1;36m1\u001b[0m\u001b[1;33m]\u001b[0m\u001b[1;33m(\u001b[0m\u001b[0mgame_id\u001b[0m\u001b[1;33m,\u001b[0m \u001b[0msource_loader\u001b[0m\u001b[1;33m)\u001b[0m\u001b[1;33m\u001b[0m\u001b[1;33m\u001b[0m\u001b[0m\n\u001b[0m\u001b[0;32m     49\u001b[0m             \u001b[0mresource_cls\u001b[0m \u001b[1;33m=\u001b[0m \u001b[0mgetattr\u001b[0m\u001b[1;33m(\u001b[0m\u001b[0mself\u001b[0m\u001b[1;33m,\u001b[0m \u001b[0mattr_name\u001b[0m\u001b[1;33m)\u001b[0m\u001b[1;33m\u001b[0m\u001b[1;33m\u001b[0m\u001b[0m\n\u001b[0;32m     50\u001b[0m             setattr(\n",
      "\u001b[1;32mc:\\users\\bhalb\\programming\\pbpstats\\pbpstats\\data_loader\\stats_nba\\boxscore\\loader.py\u001b[0m in \u001b[0;36m__init__\u001b[1;34m(self, game_id, source_loader)\u001b[0m\n\u001b[0;32m     34\u001b[0m     \u001b[1;32mdef\u001b[0m \u001b[0m__init__\u001b[0m\u001b[1;33m(\u001b[0m\u001b[0mself\u001b[0m\u001b[1;33m,\u001b[0m \u001b[0mgame_id\u001b[0m\u001b[1;33m,\u001b[0m \u001b[0msource_loader\u001b[0m\u001b[1;33m)\u001b[0m\u001b[1;33m:\u001b[0m\u001b[1;33m\u001b[0m\u001b[1;33m\u001b[0m\u001b[0m\n\u001b[0;32m     35\u001b[0m         \u001b[0mself\u001b[0m\u001b[1;33m.\u001b[0m\u001b[0mgame_id\u001b[0m \u001b[1;33m=\u001b[0m \u001b[0mgame_id\u001b[0m\u001b[1;33m\u001b[0m\u001b[1;33m\u001b[0m\u001b[0m\n\u001b[1;32m---> 36\u001b[1;33m         \u001b[0mself\u001b[0m\u001b[1;33m.\u001b[0m\u001b[0msource_data\u001b[0m \u001b[1;33m=\u001b[0m \u001b[0msource_loader\u001b[0m\u001b[1;33m.\u001b[0m\u001b[0mload_data\u001b[0m\u001b[1;33m(\u001b[0m\u001b[0mself\u001b[0m\u001b[1;33m.\u001b[0m\u001b[0mgame_id\u001b[0m\u001b[1;33m)\u001b[0m\u001b[1;33m\u001b[0m\u001b[1;33m\u001b[0m\u001b[0m\n\u001b[0m\u001b[0;32m     37\u001b[0m         \u001b[0mself\u001b[0m\u001b[1;33m.\u001b[0m\u001b[0m_make_boxscore_items\u001b[0m\u001b[1;33m(\u001b[0m\u001b[1;33m)\u001b[0m\u001b[1;33m\u001b[0m\u001b[1;33m\u001b[0m\u001b[0m\n\u001b[0;32m     38\u001b[0m \u001b[1;33m\u001b[0m\u001b[0m\n",
      "\u001b[1;32mc:\\users\\bhalb\\programming\\pbpstats\\pbpstats\\data_loader\\abs_data_loader.py\u001b[0m in \u001b[0;36mdecorated_method\u001b[1;34m(self, *method_args, **method_kwargs)\u001b[0m\n\u001b[0;32m     14\u001b[0m         \u001b[1;32mif\u001b[0m \u001b[0mself\u001b[0m\u001b[1;33m.\u001b[0m\u001b[0mfile_directory\u001b[0m \u001b[1;32mis\u001b[0m \u001b[1;32mNone\u001b[0m\u001b[1;33m:\u001b[0m\u001b[1;33m\u001b[0m\u001b[1;33m\u001b[0m\u001b[0m\n\u001b[0;32m     15\u001b[0m             \u001b[1;32mraise\u001b[0m \u001b[0mValueError\u001b[0m\u001b[1;33m(\u001b[0m\u001b[1;34mf\"file_directory cannot be None when data source is file\"\u001b[0m\u001b[1;33m)\u001b[0m\u001b[1;33m\u001b[0m\u001b[1;33m\u001b[0m\u001b[0m\n\u001b[1;32m---> 16\u001b[1;33m         \u001b[1;32mreturn\u001b[0m \u001b[0mmethod\u001b[0m\u001b[1;33m(\u001b[0m\u001b[0mself\u001b[0m\u001b[1;33m,\u001b[0m \u001b[1;33m*\u001b[0m\u001b[0mmethod_args\u001b[0m\u001b[1;33m,\u001b[0m \u001b[1;33m**\u001b[0m\u001b[0mmethod_kwargs\u001b[0m\u001b[1;33m)\u001b[0m\u001b[1;33m\u001b[0m\u001b[1;33m\u001b[0m\u001b[0m\n\u001b[0m\u001b[0;32m     17\u001b[0m \u001b[1;33m\u001b[0m\u001b[0m\n\u001b[0;32m     18\u001b[0m     \u001b[1;32mreturn\u001b[0m \u001b[0mdecorated_method\u001b[0m\u001b[1;33m\u001b[0m\u001b[1;33m\u001b[0m\u001b[0m\n",
      "\u001b[1;32mc:\\users\\bhalb\\programming\\pbpstats\\pbpstats\\data_loader\\stats_nba\\boxscore\\file.py\u001b[0m in \u001b[0;36mload_data\u001b[1;34m(self, game_id)\u001b[0m\n\u001b[0;32m     20\u001b[0m             \u001b[1;34mf\"{self.file_directory}/game_details/stats_boxscore_{game_id}.json\"\u001b[0m\u001b[1;33m\u001b[0m\u001b[1;33m\u001b[0m\u001b[0m\n\u001b[0;32m     21\u001b[0m         )\n\u001b[1;32m---> 22\u001b[1;33m         \u001b[1;32mreturn\u001b[0m \u001b[0mself\u001b[0m\u001b[1;33m.\u001b[0m\u001b[0m_load_data_from_file\u001b[0m\u001b[1;33m(\u001b[0m\u001b[1;33m)\u001b[0m\u001b[1;33m\u001b[0m\u001b[1;33m\u001b[0m\u001b[0m\n\u001b[0m",
      "\u001b[1;32mc:\\users\\bhalb\\programming\\pbpstats\\pbpstats\\data_loader\\stats_nba\\file_loader.py\u001b[0m in \u001b[0;36m_load_data_from_file\u001b[1;34m(self)\u001b[0m\n\u001b[0;32m     16\u001b[0m     \u001b[1;32mdef\u001b[0m \u001b[0m_load_data_from_file\u001b[0m\u001b[1;33m(\u001b[0m\u001b[0mself\u001b[0m\u001b[1;33m)\u001b[0m\u001b[1;33m:\u001b[0m\u001b[1;33m\u001b[0m\u001b[1;33m\u001b[0m\u001b[0m\n\u001b[0;32m     17\u001b[0m         \u001b[0mdata_file\u001b[0m \u001b[1;33m=\u001b[0m \u001b[0mPath\u001b[0m\u001b[1;33m(\u001b[0m\u001b[0mself\u001b[0m\u001b[1;33m.\u001b[0m\u001b[0mfile_path\u001b[0m\u001b[1;33m)\u001b[0m\u001b[1;33m\u001b[0m\u001b[1;33m\u001b[0m\u001b[0m\n\u001b[1;32m---> 18\u001b[1;33m         \u001b[1;32mif\u001b[0m \u001b[1;32mnot\u001b[0m \u001b[0mdata_file\u001b[0m\u001b[1;33m.\u001b[0m\u001b[0mis_file\u001b[0m\u001b[1;33m(\u001b[0m\u001b[1;33m)\u001b[0m\u001b[1;33m:\u001b[0m\u001b[1;33m\u001b[0m\u001b[1;33m\u001b[0m\u001b[0m\n\u001b[0m\u001b[0;32m     19\u001b[0m             \u001b[1;32mraise\u001b[0m \u001b[0mException\u001b[0m\u001b[1;33m(\u001b[0m\u001b[1;34mf\"{self.file_path} does not exist\"\u001b[0m\u001b[1;33m)\u001b[0m\u001b[1;33m\u001b[0m\u001b[1;33m\u001b[0m\u001b[0m\n\u001b[0;32m     20\u001b[0m         \u001b[1;32mwith\u001b[0m \u001b[0mopen\u001b[0m\u001b[1;33m(\u001b[0m\u001b[0mself\u001b[0m\u001b[1;33m.\u001b[0m\u001b[0mfile_path\u001b[0m\u001b[1;33m)\u001b[0m \u001b[1;32mas\u001b[0m \u001b[0mjson_data\u001b[0m\u001b[1;33m:\u001b[0m\u001b[1;33m\u001b[0m\u001b[1;33m\u001b[0m\u001b[0m\n",
      "\u001b[1;32m~\\AppData\\Local\\Programs\\Python\\Python310\\lib\\pathlib.py\u001b[0m in \u001b[0;36mis_file\u001b[1;34m(self)\u001b[0m\n\u001b[0;32m   1318\u001b[0m         \"\"\"\n\u001b[0;32m   1319\u001b[0m         \u001b[1;32mtry\u001b[0m\u001b[1;33m:\u001b[0m\u001b[1;33m\u001b[0m\u001b[1;33m\u001b[0m\u001b[0m\n\u001b[1;32m-> 1320\u001b[1;33m             \u001b[1;32mreturn\u001b[0m \u001b[0mS_ISREG\u001b[0m\u001b[1;33m(\u001b[0m\u001b[0mself\u001b[0m\u001b[1;33m.\u001b[0m\u001b[0mstat\u001b[0m\u001b[1;33m(\u001b[0m\u001b[1;33m)\u001b[0m\u001b[1;33m.\u001b[0m\u001b[0mst_mode\u001b[0m\u001b[1;33m)\u001b[0m\u001b[1;33m\u001b[0m\u001b[1;33m\u001b[0m\u001b[0m\n\u001b[0m\u001b[0;32m   1321\u001b[0m         \u001b[1;32mexcept\u001b[0m \u001b[0mOSError\u001b[0m \u001b[1;32mas\u001b[0m \u001b[0me\u001b[0m\u001b[1;33m:\u001b[0m\u001b[1;33m\u001b[0m\u001b[1;33m\u001b[0m\u001b[0m\n\u001b[0;32m   1322\u001b[0m             \u001b[1;32mif\u001b[0m \u001b[1;32mnot\u001b[0m \u001b[0m_ignore_error\u001b[0m\u001b[1;33m(\u001b[0m\u001b[0me\u001b[0m\u001b[1;33m)\u001b[0m\u001b[1;33m:\u001b[0m\u001b[1;33m\u001b[0m\u001b[1;33m\u001b[0m\u001b[0m\n",
      "\u001b[1;32m~\\AppData\\Local\\Programs\\Python\\Python310\\lib\\pathlib.py\u001b[0m in \u001b[0;36mstat\u001b[1;34m(self, follow_symlinks)\u001b[0m\n\u001b[0;32m   1093\u001b[0m         \u001b[0mos\u001b[0m\u001b[1;33m.\u001b[0m\u001b[0mstat\u001b[0m\u001b[1;33m(\u001b[0m\u001b[1;33m)\u001b[0m \u001b[0mdoes\u001b[0m\u001b[1;33m.\u001b[0m\u001b[1;33m\u001b[0m\u001b[1;33m\u001b[0m\u001b[0m\n\u001b[0;32m   1094\u001b[0m         \"\"\"\n\u001b[1;32m-> 1095\u001b[1;33m         \u001b[1;32mreturn\u001b[0m \u001b[0mself\u001b[0m\u001b[1;33m.\u001b[0m\u001b[0m_accessor\u001b[0m\u001b[1;33m.\u001b[0m\u001b[0mstat\u001b[0m\u001b[1;33m(\u001b[0m\u001b[0mself\u001b[0m\u001b[1;33m,\u001b[0m \u001b[0mfollow_symlinks\u001b[0m\u001b[1;33m=\u001b[0m\u001b[0mfollow_symlinks\u001b[0m\u001b[1;33m)\u001b[0m\u001b[1;33m\u001b[0m\u001b[1;33m\u001b[0m\u001b[0m\n\u001b[0m\u001b[0;32m   1096\u001b[0m \u001b[1;33m\u001b[0m\u001b[0m\n\u001b[0;32m   1097\u001b[0m     \u001b[1;32mdef\u001b[0m \u001b[0mowner\u001b[0m\u001b[1;33m(\u001b[0m\u001b[0mself\u001b[0m\u001b[1;33m)\u001b[0m\u001b[1;33m:\u001b[0m\u001b[1;33m\u001b[0m\u001b[1;33m\u001b[0m\u001b[0m\n",
      "\u001b[1;31mKeyboardInterrupt\u001b[0m: "
     ]
    }
   ],
   "source": [
    "\n",
    "import importlib\n",
    "import nba\n",
    "importlib.reload(nba)\n",
    "from nba import NbaTracker, Lineup, LineupCollecter\n",
    "\n",
    "# data starts from 2000-01\n",
    "seasons = [\n",
    "    \"2000-01\",\n",
    "    \"2001-02\",\n",
    "    \"2002-03\",\n",
    "    \"2003-04\",\n",
    "    \"2004-05\",\n",
    "    \"2005-06\",\n",
    "    \"2006-07\",\n",
    "    \"2007-08\",\n",
    "    \"2008-09\",\n",
    "    \"2009-10\",\n",
    "    \"2010-11\",\n",
    "    \"2011-12\",\n",
    "    \"2012-13\",\n",
    "    \"2013-14\",\n",
    "    \"2014-15\",\n",
    "    \"2015-16\",\n",
    "    \"2016-17\",\n",
    "    \"2017-18\",\n",
    "    \"2018-19\",\n",
    "    # \"2019-20\",\n",
    "    # \"2020-21\"\n",
    "] # 19-20 was bubble season\n",
    "# season = season_client.Season(\"nba\", \"2020-21\", \"PlayIn\")\n",
    "# len(season.games.final_games)\n",
    "\n",
    "# all_players = Players()\n",
    "nbaTracker = NbaTracker()\n",
    "# all_seasons = {}\n",
    "\n",
    "for season_name in seasons:\n",
    "    # schedule = season_client.Season(\"nba\", season_name, \"Regular Season\")\n",
    "    nbaTracker.load_season(season_name)\n",
    "    print(\"Loaded \", season_name)\n",
    "\n",
    "    # season = Season(season_name, schedule)\n",
    "    # all_seasons[season.name] = season\n",
    "    # all_players.set_season(season)\n",
    "    # all_teams.set_season(season)\n",
    "\n",
    "    # for game_dict in schedule.games.final_games:\n",
    "    #     game_id = game_dict['game_id']\n",
    "    #     game = possession_client.Game(game_id)\n",
    "    #     for team in game.boxscore.team_items:\n",
    "    #         team_id = team['team_id']\n",
    "    #         players = list(\n",
    "    #             filter(lambda p: p['team_id'] == team_id, game.boxscore.player_items))\n",
    "    #         nbaTracker.add_game(team, players)\n",
    "    #     for possession in game.possessions.items:\n",
    "    #         lineupCollecter.add_possession(possession)\n",
    "        \n",
    "    \n",
    "\n",
    "\n",
    "\n"
   ]
  },
  {
   "cell_type": "code",
   "execution_count": 182,
   "metadata": {},
   "outputs": [
    {
     "data": {
      "text/plain": [
       "226"
      ]
     },
     "execution_count": 182,
     "metadata": {},
     "output_type": "execute_result"
    }
   ],
   "source": [
    "nbaTracker.seasons['2000-01'].player_seasons[238].off_rebounds"
   ]
  },
  {
   "cell_type": "code",
   "execution_count": 121,
   "metadata": {},
   "outputs": [],
   "source": [
    "game = possession_client.Game(\"0021700064\")\n"
   ]
  },
  {
   "cell_type": "code",
   "execution_count": 134,
   "metadata": {},
   "outputs": [
    {
     "data": {
      "text/plain": [
       "[<StatsStartOfPeriod GameId: 0021700064, Description: , Time: 12:00, EventNum: 2>,\n",
       " <StatsJumpBall GameId: 0021700064, Description: Jump Ball Lopez vs. Gortat: Tip to Nance Jr., Time: 12:00, EventNum: 4>,\n",
       " <StatsFieldGoal GameId: 0021700064, Description: MISS Lopez 9' Hook Shot, Time: 11:45, EventNum: 7>,\n",
       " <StatsRebound GameId: 0021700064, Description: Nance Jr. REBOUND (Off:1 Def:0), Time: 11:36, EventNum: 8>,\n",
       " <StatsFieldGoal GameId: 0021700064, Description: Nance Jr. 1' Tip Layup Shot (2 PTS), Time: 11:36, EventNum: 9>]"
      ]
     },
     "execution_count": 134,
     "metadata": {},
     "output_type": "execute_result"
    }
   ],
   "source": [
    "game.possessions.items[0].events\n"
   ]
  },
  {
   "cell_type": "code",
   "execution_count": 156,
   "metadata": {},
   "outputs": [
    {
     "name": "stdout",
     "output_type": "stream",
     "text": [
      "201572\n",
      "1626204\n"
     ]
    }
   ],
   "source": [
    "from pbpstats.resources.enhanced_pbp.enhanced_pbp_item import FieldGoal, EnhancedPbpItem\n",
    "\n",
    "for possession in game.possessions.items:  \n",
    "    for event in possession.events:\n",
    "        if isinstance(event, FieldGoal):\n",
    "            print(event.player1_id)\n",
    "    break"
   ]
  },
  {
   "cell_type": "code",
   "execution_count": 167,
   "metadata": {},
   "outputs": [],
   "source": [
    "a = { 1: 1}\n",
    "for k in a.values():\n",
    "    pass"
   ]
  },
  {
   "cell_type": "code",
   "execution_count": 169,
   "metadata": {},
   "outputs": [
    {
     "ename": "NameError",
     "evalue": "name 'TeamSeason' is not defined",
     "output_type": "error",
     "traceback": [
      "\u001b[1;31m---------------------------------------------------------------------------\u001b[0m",
      "\u001b[1;31mNameError\u001b[0m                                 Traceback (most recent call last)",
      "\u001b[1;32m~\\AppData\\Local\\Temp/ipykernel_17456/2807716466.py\u001b[0m in \u001b[0;36m<module>\u001b[1;34m\u001b[0m\n\u001b[1;32m----> 1\u001b[1;33m \u001b[1;32mclass\u001b[0m \u001b[0mPlayerSeason\u001b[0m\u001b[1;33m:\u001b[0m\u001b[1;33m\u001b[0m\u001b[1;33m\u001b[0m\u001b[0m\n\u001b[0m\u001b[0;32m      2\u001b[0m     \u001b[1;32mdef\u001b[0m \u001b[0m__init__\u001b[0m\u001b[1;33m(\u001b[0m\u001b[0mself\u001b[0m\u001b[1;33m,\u001b[0m \u001b[0mplayer_dict\u001b[0m\u001b[1;33m)\u001b[0m \u001b[1;33m->\u001b[0m \u001b[1;32mNone\u001b[0m\u001b[1;33m:\u001b[0m\u001b[1;33m\u001b[0m\u001b[1;33m\u001b[0m\u001b[0m\n\u001b[0;32m      3\u001b[0m         \u001b[0mself\u001b[0m\u001b[1;33m.\u001b[0m\u001b[0mid\u001b[0m\u001b[1;33m:\u001b[0m \u001b[0mint\u001b[0m \u001b[1;33m=\u001b[0m \u001b[0mplayer_dict\u001b[0m\u001b[1;33m[\u001b[0m\u001b[1;34m'player_id'\u001b[0m\u001b[1;33m]\u001b[0m\u001b[1;33m\u001b[0m\u001b[1;33m\u001b[0m\u001b[0m\n\u001b[0;32m      4\u001b[0m         \u001b[0mself\u001b[0m\u001b[1;33m.\u001b[0m\u001b[0mplayer_contributions\u001b[0m\u001b[1;33m:\u001b[0m \u001b[0mdict\u001b[0m\u001b[1;33m[\u001b[0m\u001b[0mint\u001b[0m\u001b[1;33m,\u001b[0m \u001b[0mPlayerContribution\u001b[0m\u001b[1;33m]\u001b[0m \u001b[1;33m=\u001b[0m \u001b[1;33m{\u001b[0m\u001b[1;33m}\u001b[0m\u001b[1;33m\u001b[0m\u001b[1;33m\u001b[0m\u001b[0m\n\u001b[0;32m      5\u001b[0m \u001b[1;33m\u001b[0m\u001b[0m\n",
      "\u001b[1;32m~\\AppData\\Local\\Temp/ipykernel_17456/2807716466.py\u001b[0m in \u001b[0;36mPlayerSeason\u001b[1;34m()\u001b[0m\n\u001b[0;32m      4\u001b[0m         \u001b[0mself\u001b[0m\u001b[1;33m.\u001b[0m\u001b[0mplayer_contributions\u001b[0m\u001b[1;33m:\u001b[0m \u001b[0mdict\u001b[0m\u001b[1;33m[\u001b[0m\u001b[0mint\u001b[0m\u001b[1;33m,\u001b[0m \u001b[0mPlayerContribution\u001b[0m\u001b[1;33m]\u001b[0m \u001b[1;33m=\u001b[0m \u001b[1;33m{\u001b[0m\u001b[1;33m}\u001b[0m\u001b[1;33m\u001b[0m\u001b[1;33m\u001b[0m\u001b[0m\n\u001b[0;32m      5\u001b[0m \u001b[1;33m\u001b[0m\u001b[0m\n\u001b[1;32m----> 6\u001b[1;33m     \u001b[1;32mdef\u001b[0m \u001b[0madd_team\u001b[0m\u001b[1;33m(\u001b[0m\u001b[0mself\u001b[0m\u001b[1;33m,\u001b[0m \u001b[0mts\u001b[0m\u001b[1;33m:\u001b[0m \u001b[0mTeamSeason\u001b[0m\u001b[1;33m)\u001b[0m\u001b[1;33m:\u001b[0m\u001b[1;33m\u001b[0m\u001b[1;33m\u001b[0m\u001b[0m\n\u001b[0m\u001b[0;32m      7\u001b[0m         \u001b[1;32mif\u001b[0m \u001b[0mts\u001b[0m\u001b[1;33m.\u001b[0m\u001b[0mid\u001b[0m \u001b[1;32mnot\u001b[0m \u001b[1;32min\u001b[0m \u001b[0mself\u001b[0m\u001b[1;33m.\u001b[0m\u001b[0mplayer_contributions\u001b[0m\u001b[1;33m:\u001b[0m\u001b[1;33m\u001b[0m\u001b[1;33m\u001b[0m\u001b[0m\n\u001b[0;32m      8\u001b[0m             \u001b[0mself\u001b[0m\u001b[1;33m.\u001b[0m\u001b[0mplayer_contributions\u001b[0m\u001b[1;33m[\u001b[0m\u001b[0mts\u001b[0m\u001b[1;33m.\u001b[0m\u001b[0mid\u001b[0m\u001b[1;33m]\u001b[0m \u001b[1;33m=\u001b[0m \u001b[0mts\u001b[0m\u001b[1;33m.\u001b[0m\u001b[0mplayer_contributions\u001b[0m\u001b[1;33m[\u001b[0m\u001b[0mself\u001b[0m\u001b[1;33m.\u001b[0m\u001b[0mid\u001b[0m\u001b[1;33m]\u001b[0m\u001b[1;33m\u001b[0m\u001b[1;33m\u001b[0m\u001b[0m\n",
      "\u001b[1;31mNameError\u001b[0m: name 'TeamSeason' is not defined"
     ]
    }
   ],
   "source": [
    "class PlayerSeason:\n",
    "    def __init__(self, player_dict) -> None:\n",
    "        self.id: int = player_dict['player_id']\n",
    "        self.player_contributions: dict[int, PlayerContribution] = {}\n",
    "\n",
    "    def add_team(self, ts: TeamSeason):\n",
    "        if ts.id not in self.player_contributions:\n",
    "            self.player_contributions[ts.id] = ts.player_contributions[self.id]\n",
    "\n",
    "    def __getattr__(self, name):\n",
    "        val = 0\n",
    "        for pc in self.player_contributions.values():\n",
    "            val += getattr(pc, name)\n",
    "\n"
   ]
  },
  {
   "cell_type": "code",
   "execution_count": 92,
   "metadata": {},
   "outputs": [
    {
     "data": {
      "text/plain": [
       "{'76ers': 1610612755,\n",
       " 'Knicks': 1610612752,\n",
       " 'Nets': 1610612751,\n",
       " 'Cavaliers': 1610612739,\n",
       " 'Wizards': 1610612764,\n",
       " 'Magic': 1610612753,\n",
       " 'Hornets': 1610612766,\n",
       " 'Hawks': 1610612737,\n",
       " 'Raptors': 1610612761,\n",
       " 'Pistons': 1610612765,\n",
       " 'Kings': 1610612758,\n",
       " 'Bulls': 1610612741,\n",
       " 'Bucks': 1610612749,\n",
       " 'Mavericks': 1610612742,\n",
       " 'Timberwolves': 1610612750,\n",
       " 'Rockets': 1610612745,\n",
       " 'Spurs': 1610612759,\n",
       " 'Pacers': 1610612754,\n",
       " 'Jazz': 1610612762,\n",
       " 'Clippers': 1610612746,\n",
       " 'Suns': 1610612756,\n",
       " 'Warriors': 1610612744,\n",
       " 'Trail Blazers': 1610612757,\n",
       " 'Lakers': 1610612747,\n",
       " 'Grizzlies': 1610612763,\n",
       " 'SuperSonics': 1610612760,\n",
       " 'Celtics': 1610612738,\n",
       " 'Heat': 1610612748,\n",
       " 'Nuggets': 1610612743}"
      ]
     },
     "execution_count": 92,
     "metadata": {},
     "output_type": "execute_result"
    }
   ],
   "source": [
    "# for team in game.boxscore.team_items:\n",
    "#     team_id = team['team_id']\n",
    "#     for a in filter(lambda p: p['team_id'] ==\n",
    "#                      team_id, game.boxscore.player_items):\n",
    "#         print(1)\n",
    "nbaTracker.team_by_name\n"
   ]
  },
  {
   "cell_type": "code",
   "execution_count": null,
   "metadata": {},
   "outputs": [],
   "source": [
    "def indicates_player_signing(note: str):\n",
    "    \n",
    "    player_signing_starts = (\n",
    "        \"waived\",\n",
    "        \"signed\",\n",
    "        \"re-signed\",\n",
    "        \"deceased\",\n",
    "        \"player became a free agent\",\n",
    "        \"contract expired\",\n",
    "        \"claimed off waivers\",\n",
    "    )\n",
    "    # not re-signed as head coach\n",
    "\n",
    "    if note.startswith(player_signing_starts):\n",
    "        return True\n",
    "\n",
    "    return False\n"
   ]
  },
  {
   "cell_type": "code",
   "execution_count": 83,
   "metadata": {},
   "outputs": [
    {
     "name": "stdout",
     "output_type": "stream",
     "text": [
      "\n",
      "\n",
      "Larry Robinson (b. 1968-01-11)\n",
      "\n",
      "\n",
      "\n",
      "\n",
      "\n",
      "Nate McMillan\n",
      "\n",
      "\n",
      "Jim O'Brien\n",
      "group headed by Howard Schultz\n",
      "2001 or 2002 second round pick (2001 #46-Ousmane Cisse)\n",
      "\n",
      "\n",
      "\n",
      "Charles Smith / Tony Smith\n",
      "\n",
      "\n",
      "James Lloyd\n",
      "\n",
      "\n",
      "\n",
      "\n",
      "2001 first round pick (#27-Jamaal Tinsley)\n",
      "2001 second round pick (#47-Antonis Fotsis)\n",
      "\n",
      "Jerry Sloan\n",
      "Geoff Petrie\n",
      "Mike Smith (b)\n",
      "\n",
      "\n",
      "Larry Robinson (b. 1968-01-11)\n",
      "\n",
      "\n",
      "Juan Sanchez / Pepe Sanchez\n",
      "Tyrone Bogues / Muggsy Bogues\n",
      "first round pick (2005 #11-Fran Vazquez)\n",
      "first round pick (lottery protected in 2001, unprotected in 2002) (2002 #20-Kareem Rush)\n",
      "\n",
      "\n",
      "\n",
      "$3M cash\n",
      "\n",
      "\n",
      "\n",
      "\n",
      "Mike Smith (b)\n",
      "\n",
      "Anthony Miller / Pig Miller\n",
      "\n",
      "\n",
      "Juan Sanchez / Pepe Sanchez\n",
      "Wayne Cooper\n",
      "\n",
      "\n",
      "Nate McMillan\n",
      "George Karl\n",
      "Basketball Club of Seattle (headed by Howard Schultz)\n",
      "Brendan Suhr\n",
      "Wang Zhizhi / Wang Zhi-Zhi\n",
      "\n",
      "\n",
      "\n",
      "\n",
      "\n",
      "\n",
      "Doug Collins\n",
      "Glenn Rivers / Doc Rivers\n",
      "Chris Wallace\n",
      "Jim O'Brien\n",
      "Leo Papile\n",
      "\n",
      "\n",
      "Robert Rowell\n",
      "\n",
      "\n",
      "2001 second round pick (2001 #51-Andre Hutson)\n",
      "\n",
      "\n",
      "Steven Stricker\n",
      "Dick Harter\n",
      "\n",
      "\n",
      "John Hammond\n",
      "Bob Ociepka\n",
      "\n",
      "Rick Carlisle\n",
      "\n",
      "\n",
      "Dean Demopoulos\n",
      "Rick Sund\n",
      "2001 first round pick (#22-Jeryl Sasser)\n",
      "first round pick (2005 #11-Fran Vazquez)\n",
      "Magic agreed to delay decision to take a draft pick owed from Suns from a previous trade (to the benefit of Pistons-it allowed Pistons to defer first round pick owed to them by Grizzlies in Otis Thorpe trade until 2002)\n",
      "2001 first round pick (#23-Brandon Armstrong)\n",
      "Jeff Bower\n",
      "Brian James\n",
      "\n",
      "2001 second round pick (#44-Sean Lampley)\n",
      "rights to Roberto Duenas\n",
      "\n",
      "\n",
      "John Lucas Jr.\n",
      "\n",
      "Phil Saunders / Flip Saunders\n",
      "2001 second round pick (#36-Damone Brown)\n",
      "cash\n",
      "Kevin O'Neill\n",
      "Maurice Cheeks\n",
      "\n",
      "Bill Bertka\n",
      "Kurt Rambis\n",
      "(William) Tony Parker\n",
      "Ruben Boumtje Boumtje\n",
      "Andre Hutson\n",
      "Ken Johnson (Allen)\n",
      "Maurice Jeffers\n",
      "Eric Chenowith\n",
      "Michael Wright\n",
      "Kyle Hill\n",
      "Ousmane Cisse\n",
      "Bryan Bracey\n",
      "Robertas Javtokas\n",
      "2002-2004 first round pick (Pistons choice) (2003 #25-Carlos Delfino)\n",
      "first round pick (top-18 protected for 2 years, lottery protected for 4 years) (2003 #21-Boris Diaw)\n",
      "\n",
      "rights to Brendan Haywood\n",
      "rights to Richard Jefferson\n",
      "rights to Jason Collins\n",
      "rights to Brandon Armstrong\n",
      "rights to Jamaal Tinsley\n",
      "rights to Eddie Griffin\n",
      "rights to Terence Morris\n",
      "rights to Predrag Drobnjak / Peja Drobnjak\n",
      "rights to Bobby Simmons\n",
      "rights to Omar Cook\n",
      "rights to Tyson Chandler\n",
      "Clifford Robinson (R.)\n",
      "Alvin Gentry\n",
      "\n",
      "\n",
      "\n",
      "Lance Blanks\n",
      "\n",
      "\n",
      "\n",
      "\n",
      "\n",
      "Frank Vogel\n",
      "\n",
      "\n",
      "\n",
      "\n",
      "\n",
      "\n",
      "\n",
      "\n",
      "\n",
      "Dave Pendergraft\n",
      "\n",
      "Rob Hennigan\n",
      "Tom Sterner\n",
      "Max Benton\n",
      "\n",
      "\n",
      "\n",
      "\n",
      "\n",
      "Dan Panaggio\n",
      "Tony Brown (William)\n",
      "2002 second round pick (#42-Jason Jennings)\n",
      "\n",
      "\n",
      "\n",
      "\n",
      "\n",
      "Jim Lynam\n",
      "\n",
      "\n",
      "\n",
      "\n",
      "\n",
      "Clarence Weatherspoon\n",
      "\n",
      "\n",
      "\n",
      "\n",
      "\n",
      "\n",
      "Clifford Robinson (R.)\n",
      "rights to Zeljko Rebraca\n",
      "2002 second round pick (#37-Tito Maddox)\n",
      "2002 second round pick (#52-Rasual Butler)\n",
      "$1.6M traded player exception\n",
      "Ronald Jones / Popeye Jones\n",
      "\n",
      "\n",
      "\n",
      "Patrick Ewing Sr.\n",
      "second round pick (protected #51-57 in 2002, unprotected in 2003) (2002 #42-Jason Jennings)\n",
      "rights to Pau Gasol\n",
      "rights to Jamaal Tinsley\n",
      "David Griffin\n",
      "Mark West (Andre)\n",
      "\n",
      "\n",
      "\n",
      "Mike James (Lamont)\n",
      "Bob Donewald Jr.\n",
      "Paul Silas\n",
      "2003 second round pick (#58-Andreas Glyniadakis)\n",
      "Ron Ekker\n",
      "Steve Smith (Delano)\n",
      "\n",
      "\n",
      "Larry Brown\n",
      "\n",
      "\n",
      "\n",
      "\n",
      "\n",
      "\n",
      "Brian Hill\n",
      "\n",
      "Joe Smith (Leynard)\n",
      "\n",
      "\n",
      "\n",
      "Peter Cornell\n",
      "first round pick (unknown protection in 2004, protected top 13 in 2005, top 3 in 2006) (2005 #20-Julius Hodge)\n",
      "\n",
      "\n",
      "rights to Brendan Haywood\n",
      "Larry Harris\n",
      "Charles Smith (Cornelius)\n",
      "first round pick (lottery protected 2002-08) (2002 #15-Bostjan Nachbar)\n",
      "2002 second round pick (#37-Tito Maddox)\n",
      "Robert Traylor / Tractor Traylor\n",
      "Cedric Henderson (E.)\n",
      "first round pick (lottery protected 2003-07) (2003 #20-Dahntay Jones)\n",
      "\n",
      "\n",
      "Mike Bratz\n",
      "Andy Greer\n",
      "Steve Clifford\n",
      "\n",
      "Ronnie Lester\n",
      "\n",
      "\n",
      "\n",
      "\n",
      "\n",
      "\n",
      "Kiki Vandeweghe\n",
      "\n",
      "\n",
      "\n",
      "\n",
      "Tyrone Bogues / Muggsy Bogues\n",
      "$3.2M trade exception\n",
      "Glen Rice Sr.\n",
      "rights to Kyle Hill\n",
      "future considerations from Knicks (added 08-17) (?)\n",
      "future considerations from Mavericks (added 08-17) (?-?)\n",
      "\n",
      "\n",
      "\n",
      "\n",
      "Bob Zuffelato\n",
      "Micah Nori\n",
      "Randy Wilkens\n",
      "\n",
      "future considerations (?)\n",
      "Priest Lauderdale\n",
      "Tim Hardaway Sr.\n",
      "2003 or 2004 second round pick (Mavericks option) (2004 #53-Matt Freije)\n",
      "trade exception\n",
      "Tim Hardaway Sr.\n",
      "Jerry Eaves\n",
      "Lorenzo Coleman\n",
      "\n",
      "\n",
      "Isaac Fontaine\n",
      "Corey Hightower\n",
      "\n",
      "Randy Wittman\n",
      "Dan Kohl\n",
      "Predrag Drobnjak / Peja Drobnjak\n",
      "2003 first round pick (#25-Carlos Delfino)\n",
      "Mike Woodson\n",
      "Mike Smith (b)\n",
      "Ruben Boumtje Boumtje\n",
      "James Collins\n",
      "\n",
      "Dean Cooper\n",
      "Melvin Hunt\n",
      "Mike Smith (b)\n",
      "Norm Richardson\n",
      "William Cunningham\n",
      "(William) Tony Parker\n",
      "\n",
      "\n",
      "\n",
      "\n",
      "\n",
      "\n",
      "\n",
      "\n",
      "2003-2007 (Nuggets option) second round pick (?-?) or future considerations (?)\n",
      "rights to Kenny Satterfield\n",
      "Michael Jordan (J.)\n",
      "Galen Young\n",
      "Ike Nwankwo\n",
      "Joe Brown\n",
      "Chris Anders (a)\n",
      "Makhtar Ndiaye / Makhtar N'Diaye\n",
      "Reggie Salter\n",
      "Rodrick Rhodes\n",
      "Trevor Winter\n",
      "Morris McHone / Mo McHone\n",
      "Dennis Scott\n",
      "Clyde Drexler\n",
      "David Fredman\n",
      "Jeff Weltman\n",
      "John MacLeod\n",
      "Nate Green\n",
      "Reggie Geary\n",
      "Ricky Price\n",
      "Darren Kelly\n",
      "Derek Hood\n",
      "Kendrick Johnson\n",
      "Miles Simon\n",
      "Neil Edwards\n",
      "disabled player exception for injury to Maurice Taylor\n",
      "\n",
      "Steve Hart\n",
      "\n",
      "Brian Taylor\n",
      "Byron Houston\n",
      "\n",
      "Ivano Newbill\n",
      "James Penn / Scoonie Penn\n",
      "Juan Sanchez / Pepe Sanchez\n",
      "\n",
      "\n",
      "\n",
      "\n",
      "\n",
      "Isaiah Rider / J.R. Rider\n",
      "Reed Rawlings\n",
      "Saddi Washington\n",
      "Mark Davis (Anthony)\n",
      "\n",
      "\n",
      "Thomas Hamilton\n",
      "\n",
      "Shelly Clark\n",
      "Quincy Wadley\n",
      "\n",
      "DeJuan Wheat\n",
      "Johnny Taylor\n",
      "2003 conditional second round pick (#53-Tommy Smith)\n",
      "Kevin Salvadori\n",
      "Jerry DeGregorio\n",
      "Adebayo Akinkunle\n",
      "Bryant Notree\n",
      "Lazarus Sims\n",
      "Loren Meyer\n",
      "rights to Sean Lampley\n",
      "\n",
      "Eric Chenowith\n",
      "Jamie Watson\n",
      "Mario Bennett\n",
      "Ed Cota\n",
      "Larry Robinson (b. 1968-01-11)\n",
      "Michael Hicks\n",
      "Michael Wright\n",
      "Chris Robinson\n",
      "Danny Earl\n",
      "Lonnie Harrell\n",
      "Victor Thomas\n",
      "Eddie Elisma\n",
      "Jamal Kendrick\n",
      "JaRon Rush\n",
      "Bryan Bracey\n",
      "Gerald Brown\n",
      "Gregg Popovich\n",
      "\n",
      "\n",
      "\n",
      "Michael Smith (John) (Providence)\n",
      "Ricky Moore\n",
      "Maurice Jeffers\n",
      "\n",
      "\n",
      "Jarrin Akana\n",
      "Arnold Auerbach / Red Auerbach\n",
      "Barry Hecker\n",
      "Caldwell Jones\n",
      "Herb Brown\n",
      "\n",
      "\n",
      "\n",
      "\n",
      "Tim Grgurich\n",
      "\n",
      "\n",
      "\n",
      "\n",
      "\n",
      "\n",
      "\n",
      "\n",
      "\n",
      "Martyn Norris / Moochie Norris\n",
      "\n",
      "\n",
      "\n",
      "\n",
      "\n",
      "\n",
      "\n",
      "\n",
      "\n",
      "\n",
      "\n",
      "\n",
      "\n",
      "\n",
      "\n",
      "\n",
      "\n",
      "\n",
      "\n",
      "\n",
      "\n",
      "Ron Artest / Metta World Peace\n",
      "\n",
      "\n",
      "\n",
      "\n",
      "\n",
      "\n",
      "\n",
      "Kimani Ffriend\n",
      "\n",
      "\n",
      "\n",
      "\n",
      "\n",
      "\n",
      "\n",
      "\n",
      "\n",
      "\n",
      "\n",
      "Dee Brown (a)\n",
      "\n",
      "\n",
      "\n",
      "2002 second round pick (#33-Dan Gadzuric)\n",
      "\n",
      "\n",
      "\n",
      "\n",
      "first round pick (from Bucks) (2004 #17-Josh Smith)\n",
      "\n",
      "\n",
      "\n",
      "\n",
      "\n",
      "\n",
      "\n",
      "\n",
      "\n",
      "\n",
      "\n",
      "\n",
      "\n",
      "\n",
      "\n",
      "Anthony Mason Sr.\n",
      "\n",
      "\n",
      "\n",
      "\n",
      "\n",
      "\n",
      "\n",
      "\n",
      "\n",
      "Robert Traylor / Tractor Traylor\n",
      "\n",
      "\n",
      "\n",
      "\n",
      "\n",
      "\n",
      "\n",
      "\n",
      "\n",
      "\n",
      "\n",
      "\n",
      "\n",
      "\n",
      "\n",
      "Cedric Henderson (E.)\n",
      "first round pick (from 76ers) (protected top 8 in 2005, top 5 in 2006) (2005 #16-Joey Graham)\n",
      "cash\n",
      "\n",
      "\n",
      "\n",
      "Gene Bartow\n",
      "\n",
      "\n",
      "\n",
      "cash\n",
      "\n",
      "\n",
      "\n",
      "\n",
      "\n",
      "rights to Doron Sheffer\n",
      "\n",
      "\n",
      "\n",
      "Soumalia Samake\n",
      "2003 second round pick (#45-Matt Bonner)\n",
      "\n",
      "\n",
      "\n",
      "\n",
      "\n",
      "\n",
      "\n",
      "\n",
      "\n",
      "\n",
      "\n",
      "\n",
      "\n",
      "\n",
      "\n",
      "\n",
      "\n",
      "\n",
      "\n",
      "\n",
      "\n",
      "\n",
      "cash\n",
      "Magic option to swap 2005 second round picks with Clippers (not exercised)\n",
      "Charles Outlaw / Bo Outlaw\n",
      "2002 first round pick (#9-Amare Stoudemire / Amar'e Stoudemire)\n",
      "\n",
      "\n",
      "\n",
      "\n",
      "\n",
      "\n",
      "\n",
      "\n",
      "\n",
      "\n",
      "\n",
      "\n",
      "\n",
      "$4M injury exception\n",
      "\n",
      "\n",
      "\n",
      "Chuck Person\n",
      "\n",
      "Don Chaney\n",
      "\n",
      "\n",
      "John Gabriel\n",
      "\n",
      "Brian Winters\n",
      "Mike James (Lamont)\n",
      "\n",
      "\n",
      "Bill Berry\n",
      "\n",
      "Mike Evans\n",
      "John MacLeod\n",
      "\n",
      "Bill Cartwright\n",
      "Pete Myers\n",
      "\n",
      "Herb Williams\n",
      "Clyde Drexler\n"
     ]
    }
   ],
   "source": [
    "year = 2000\n",
    "for year in range(2001, 2002):\n",
    "    path = f\"C:/Users/bhalb/nbaproject/data/transactions{str(year)}.json\"\n",
    "    df = pd.read_json(path)\n",
    "    for row in df.itertuples():\n",
    "        found = False\n",
    "        if\n",
    "        for pn in row.acquired:\n",
    "            if pn in nbaTracker.players_by_name:\n",
    "                if len(nbaTracker.players_by_name[pn]) > 1:\n",
    "                    print(pn, nbaTracker.players_by_name[pn])\n",
    "                    found = True\n",
    "                    break\n",
    "            else:\n",
    "                print(pn)\n",
    "            if found:\n",
    "                break\n"
   ]
  },
  {
   "cell_type": "code",
   "execution_count": 19,
   "metadata": {},
   "outputs": [
    {
     "data": {
      "text/plain": [
       "datetime.date(2018, 10, 16)"
      ]
     },
     "execution_count": 19,
     "metadata": {},
     "output_type": "execute_result"
    }
   ],
   "source": [
    "from datetime import date\n",
    "date.fromisoformat(schedule.games.data[0]['date']) "
   ]
  },
  {
   "cell_type": "code",
   "execution_count": 23,
   "metadata": {},
   "outputs": [
    {
     "data": {
      "text/plain": [
       "False"
      ]
     },
     "execution_count": 23,
     "metadata": {},
     "output_type": "execute_result"
    }
   ],
   "source": [
    "a = { 1: 1 }\n",
    "1 not in a"
   ]
  },
  {
   "cell_type": "code",
   "execution_count": 10,
   "metadata": {},
   "outputs": [],
   "source": [
    "num_seasons = len(seasons[1:])\n",
    "num_features = 2\n",
    "win_rates = [] # np.zeros(all_teams.num_teams * num_seasons)\n",
    "ave_pms = [] # np.zeros(all_teams.num_teams * num_seasons)\n",
    "index = 0\n",
    "X = [] # np.zeros((all_teams.num_teams * num_seasons, num_features))\n",
    "for season_name in nbaTracker.seasons:\n",
    "    season = nbaTracker.seasons[season_name]\n",
    "    if not season.previous_season:\n",
    "        continue\n",
    "\n",
    "    for team_id in season.team_seasons:\n",
    "        if team_id in season.previous_season.team_seasons:\n",
    "            current_season = season.team_seasons[team_id]\n",
    "            previous_season = season.previous_season.team_seasons[team_id]\n",
    "\n",
    "            win_rates.append(current_season.win_rate)\n",
    "            ave_pms.append(current_season.ave_pm)\n",
    "            X.append((previous_season.win_rate, previous_season.ave_pm))\n",
    "\n",
    "# for i, season in enumerate(seasons[1:]):\n",
    "#     # all_teams.set_season(season)\n",
    "#     # print(season, seasons[i])\n",
    "#     for j, team in enumerate(all_teams.teams):\n",
    "#         current_season = team[season]\n",
    "#         previous_season = team[seasons[i]]\n",
    "#         if current_season.total_games == 0 or previous_season.total_games == 0:\n",
    "#             print(\"missing: \", team.name, season)\n",
    "#             continue\n",
    "\n",
    "#         index += 1\n",
    "\n",
    "#         win_rates[index] = current_season.win_rate\n",
    "#         ave_pms[index] = current_season.ave_pm\n",
    "#         X[index, 0] = previous_season.win_rate\n",
    "#         X[index, 1] = previous_season.ave_pm\n",
    "\n",
    "# index"
   ]
  },
  {
   "cell_type": "code",
   "execution_count": 13,
   "metadata": {},
   "outputs": [
    {
     "data": {
      "text/plain": [
       "(0.006381452076685482, array([0.00403341, 0.62833516]))"
      ]
     },
     "execution_count": 13,
     "metadata": {},
     "output_type": "execute_result"
    }
   ],
   "source": [
    "reg = linear_model.BayesianRidge()\n",
    "reg.fit(X, ave_pms)\n",
    "(reg.intercept_, reg.coef_)\n"
   ]
  },
  {
   "cell_type": "code",
   "execution_count": 14,
   "metadata": {},
   "outputs": [
    {
     "data": {
      "text/plain": [
       "0.39406932928517036"
      ]
     },
     "execution_count": 14,
     "metadata": {},
     "output_type": "execute_result"
    }
   ],
   "source": [
    "reg.score(X, ave_pms)\n"
   ]
  },
  {
   "cell_type": "code",
   "execution_count": 15,
   "metadata": {},
   "outputs": [
    {
     "data": {
      "text/plain": [
       "535"
      ]
     },
     "execution_count": 15,
     "metadata": {},
     "output_type": "execute_result"
    }
   ],
   "source": [
    "len(win_rates)"
   ]
  },
  {
   "cell_type": "code",
   "execution_count": 143,
   "metadata": {},
   "outputs": [
    {
     "data": {
      "text/plain": [
       "10"
      ]
     },
     "execution_count": 143,
     "metadata": {},
     "output_type": "execute_result"
    }
   ],
   "source": [
    "\n",
    "# for game in season.games.final_games:\n",
    "#     game_id = game['game_id']\n",
    "    # game = game_client.Game(game_id)\n",
    "    # if game.boxscore.team_items[0]['min'] != '240:00':\n",
    "    #     print(game.boxscore.team_items[0])\n",
    "    #     break\n",
    "# game = game_client.Game('0021700064')\n",
    "len(list(filter(lambda p: p['team_id'] == 1610612764, game.boxscore.player_items)))\n",
    "# game.boxscore.player_items\n"
   ]
  },
  {
   "cell_type": "code",
   "execution_count": 124,
   "metadata": {},
   "outputs": [
    {
     "ename": "IndexError",
     "evalue": "list index out of range",
     "output_type": "error",
     "traceback": [
      "\u001b[1;31m---------------------------------------------------------------------------\u001b[0m",
      "\u001b[1;31mIndexError\u001b[0m                                Traceback (most recent call last)",
      "\u001b[1;32m~\\AppData\\Local\\Temp/ipykernel_20116/4209666930.py\u001b[0m in \u001b[0;36m<module>\u001b[1;34m\u001b[0m\n\u001b[1;32m----> 1\u001b[1;33m \u001b[0mgame\u001b[0m\u001b[1;33m.\u001b[0m\u001b[0mboxscore\u001b[0m\u001b[1;33m.\u001b[0m\u001b[0mplayer_items\u001b[0m\u001b[1;33m[\u001b[0m\u001b[1;36m21\u001b[0m\u001b[1;33m]\u001b[0m\u001b[1;33m\u001b[0m\u001b[1;33m\u001b[0m\u001b[0m\n\u001b[0m",
      "\u001b[1;31mIndexError\u001b[0m: list index out of range"
     ]
    }
   ],
   "source": [
    "game.boxscore.player_items[21]\n"
   ]
  },
  {
   "cell_type": "code",
   "execution_count": 5,
   "metadata": {},
   "outputs": [],
   "source": [
    "players = Players()\n",
    "players.set_season(season.season)\n",
    "teams = Teams()\n",
    "teams.set_season(season.season)\n",
    "\n",
    "for game_dict in season1718.games.final_games:\n",
    "    game_id = game_dict['game_id']\n",
    "    game = game_client.Game(game_id)\n",
    "    for player in game.boxscore.player_items:\n",
    "        players.add_game(player)\n",
    "    for team in game.boxscore.team_items:\n",
    "        teams.add_game(team)\n",
    "        \n"
   ]
  },
  {
   "cell_type": "code",
   "execution_count": 125,
   "metadata": {},
   "outputs": [
    {
     "data": {
      "text/plain": [
       "{'game_id': '0021700064',\n",
       " 'team_id': 1610612747,\n",
       " 'team_name': 'Lakers',\n",
       " 'team_abbreviation': 'LAL',\n",
       " 'team_city': 'Los Angeles',\n",
       " 'min': '265:00',\n",
       " 'fgm': 41,\n",
       " 'fga': 92,\n",
       " 'fg_pct': 0.446,\n",
       " 'fg3m': 7,\n",
       " 'fg3a': 30,\n",
       " 'fg3_pct': 0.233,\n",
       " 'ftm': 13,\n",
       " 'fta': 16,\n",
       " 'ft_pct': 0.813,\n",
       " 'oreb': 6,\n",
       " 'dreb': 47,\n",
       " 'reb': 53,\n",
       " 'ast': 27,\n",
       " 'stl': 9,\n",
       " 'blk': 5,\n",
       " 'to': 21,\n",
       " 'pf': 26,\n",
       " 'pts': 102,\n",
       " 'plus_minus': 3.0}"
      ]
     },
     "execution_count": 125,
     "metadata": {},
     "output_type": "execute_result"
    }
   ],
   "source": [
    "game.boxscore.team_items[1]\n"
   ]
  },
  {
   "cell_type": "code",
   "execution_count": 6,
   "metadata": {},
   "outputs": [],
   "source": [
    "num_teams = len(all_teams)  # 30\n",
    "num_games = len(season.games.final_games)\n",
    "home_team_wins = np.zeros(num_games)\n",
    "score_margins = np.zeros(num_games)\n",
    "who_played = np.zeros((num_games, num_teams))\n",
    "for i, game_dict in enumerate(season.games.final_games):\n",
    "    game_id = game_dict['game_id']\n",
    "    game = game_client.Game(game_id)\n",
    "    home_team = game.boxscore.team_items[0]\n",
    "    home_team_index = all_teams[home_team['team_id']].index\n",
    "    away_team = game.boxscore.team_items[1]\n",
    "    away_team_index = all_teams[away_team['team_id']].index\n",
    "    score_margin: int = home_team['plus_minus']\n",
    "\n",
    "    who_played[i, home_team_index] = 1\n",
    "    who_played[i, away_team_index] = -1\n",
    "    score_margins[i] = score_margin\n",
    "    home_team_wins[i] = score_margin > 0"
   ]
  },
  {
   "cell_type": "code",
   "execution_count": 7,
   "metadata": {},
   "outputs": [],
   "source": [
    "X_train, X_test, y1_train, y1_test, y2_train, y2_test = train_test_split(who_played, score_margins, home_team_wins, random_state=24232150)"
   ]
  },
  {
   "cell_type": "code",
   "execution_count": 8,
   "metadata": {},
   "outputs": [
    {
     "data": {
      "text/plain": [
       "0.6331168831168831"
      ]
     },
     "execution_count": 8,
     "metadata": {},
     "output_type": "execute_result"
    }
   ],
   "source": [
    "reg = linear_model.LogisticRegression()\n",
    "reg.fit(X_train, y2_train)\n",
    "# y_test\n",
    "accuracy_score(y2_test, reg.predict(X_test))\n",
    "# result = cross_validate(reg, who_played, score_margins)"
   ]
  },
  {
   "cell_type": "code",
   "execution_count": 9,
   "metadata": {},
   "outputs": [
    {
     "data": {
      "text/plain": [
       "0.6785714285714286"
      ]
     },
     "execution_count": 9,
     "metadata": {},
     "output_type": "execute_result"
    }
   ],
   "source": [
    "reg = linear_model.BayesianRidge()\n",
    "reg.fit(X_train, y1_train)\n",
    "accuracy_score(y1_test>0, reg.predict(X_test)>0)"
   ]
  },
  {
   "cell_type": "code",
   "execution_count": 267,
   "metadata": {},
   "outputs": [
    {
     "data": {
      "text/plain": [
       "array([ 1.59660484,  3.55439992,  8.09406783,  5.38919483,  0.14383489,\n",
       "        1.96295655,  2.40185033, -1.96377491, -4.78438548, -0.20128476,\n",
       "       -0.78102698,  3.39258465,  0.18873979,  0.83925098, -4.86960674,\n",
       "       -0.96409986, -2.64246973,  0.20883354,  1.1439332 ,  0.85555759,\n",
       "        2.20118756,  1.63269334, -8.28034109, -6.67854096,  5.54842464,\n",
       "       -5.8709114 ,  2.32391275, -3.96404501, -0.54139785,  0.06385754])"
      ]
     },
     "execution_count": 267,
     "metadata": {},
     "output_type": "execute_result"
    }
   ],
   "source": [
    "reg.coef_"
   ]
  },
  {
   "cell_type": "code",
   "execution_count": 11,
   "metadata": {},
   "outputs": [
    {
     "name": "stdout",
     "output_type": "stream",
     "text": [
      "Home team 1.554609579256593\n",
      "Rockets 8.094067832640375\n",
      "Raptors 5.548424643715959\n",
      "Warriors 5.389194825050135\n",
      "Celtics 3.5543999249532305\n",
      "76ers 3.3925846486393425\n",
      "Pacers 2.4018503252954595\n",
      "Thunder 2.3239127494520915\n",
      "Timberwolves 2.2011875557633584\n",
      "Hornets 1.9629565548148442\n",
      "Trail Blazers 1.6326933396964838\n",
      "Cavaliers 1.5966048436534352\n",
      "Nuggets 1.1439331985107875\n",
      "Spurs 0.8555575858526203\n",
      "Pelicans 0.8392509815989472\n",
      "Jazz 0.20883354338026672\n",
      "Bucks 0.18873978866015698\n",
      "Pistons 0.14383489224329266\n",
      "Clippers 0.06385754312574916\n",
      "Heat -0.2012847597733915\n",
      "Lakers -0.5413978522132127\n",
      "Wizards -0.7810269817640252\n",
      "Mavericks -0.96409985582532\n",
      "Nets -1.9637749123855726\n",
      "Hawks -2.6424697250866\n",
      "Knicks -3.964045006415872\n",
      "Magic -4.784385479075016\n",
      "Grizzlies -4.869606744656084\n",
      "Bulls -5.870911401228765\n",
      "Kings -6.6785409639329565\n",
      "Suns -8.280341094689263\n"
     ]
    }
   ],
   "source": [
    "for team in all_teams.values():\n",
    "    j = team.index  # num_players\n",
    "    team.margin = reg.coef_[j]\n",
    "\n",
    "print(\"Home team\", reg.intercept_)\n",
    "for team in sorted(all_teams.values(), key=lambda t: t.margin, reverse=True):\n",
    "    print(team.name, team.margin)\n"
   ]
  },
  {
   "cell_type": "code",
   "execution_count": 12,
   "metadata": {},
   "outputs": [],
   "source": [
    "predicted_margin = np.zeros(num_games)\n",
    "\n",
    "for i, game_dict in enumerate(season.games.final_games):\n",
    "    game_id = game_dict['game_id']\n",
    "    game = game_client.Game(game_id)\n",
    "    \n",
    "    home_team = game.boxscore.team_items[0]\n",
    "    home_team_margin = all_teams[home_team['team_id']].margin\n",
    "    away_team = game.boxscore.team_items[1]\n",
    "    away_team_margin = all_teams[away_team['team_id']].margin\n",
    "\n",
    "    predicted_margin[i] = reg.intercept_ + home_team_margin - away_team_margin\n"
   ]
  },
  {
   "cell_type": "code",
   "execution_count": 13,
   "metadata": {},
   "outputs": [],
   "source": [
    "X_train, X_test, y1_train, y1_test, y2_train, y2_test = train_test_split(\n",
    "    predicted_margin, score_margins, home_team_wins, random_state=24232150)"
   ]
  },
  {
   "cell_type": "code",
   "execution_count": 14,
   "metadata": {},
   "outputs": [
    {
     "data": {
      "text/plain": [
       "     fun: 0.2139278068333884\n",
       "    nfev: 20\n",
       "     nit: 16\n",
       " success: True\n",
       "       x: 0.16072304265283802"
      ]
     },
     "execution_count": 14,
     "metadata": {},
     "output_type": "execute_result"
    }
   ],
   "source": [
    "# argmin(x) { |home_team_wins - sigmoid(x*predicted_margin)| }\n",
    "\n",
    "# alpha 2.465 for linear loss\n",
    "# alpha 0.16 for quadratic loss\n",
    "res = minimize_scalar(quadratic_loss_function, args=(y2_train, X_train))\n",
    "res\n"
   ]
  },
  {
   "cell_type": "code",
   "execution_count": 37,
   "metadata": {},
   "outputs": [
    {
     "data": {
      "text/plain": [
       "{'game_id': '0021700593',\n",
       " 'date': '2018-01-08',\n",
       " 'home_team_id': 1610612741,\n",
       " 'visitor_team_id': 1610612745,\n",
       " 'status': 'Final'}"
      ]
     },
     "execution_count": 37,
     "metadata": {},
     "output_type": "execute_result"
    }
   ],
   "source": [
    "\n",
    "np.argmax(sigmoid(0.16 * predicted_margin))\n",
    "season.games.final_games[592]\n",
    "# predicted_margin[242]"
   ]
  },
  {
   "cell_type": "code",
   "execution_count": 39,
   "metadata": {},
   "outputs": [
    {
     "data": {
      "text/plain": [
       "8.094067832640375"
      ]
     },
     "execution_count": 39,
     "metadata": {},
     "output_type": "execute_result"
    }
   ],
   "source": [
    "all_teams[1610612745].margin\n"
   ]
  },
  {
   "cell_type": "code",
   "execution_count": 197,
   "metadata": {},
   "outputs": [],
   "source": [
    "\n",
    "lineupCollecter = LineupCollecter()\n",
    "for game_dict in season.games.final_games:\n",
    "    game_id = game_dict['game_id']\n",
    "    game = possession_client.Game(game_id)\n",
    "            \n",
    "    for possession in game.possessions.items:\n",
    "        lineupCollecter.add_possession(possession)\n",
    "            \n",
    "\n"
   ]
  },
  {
   "cell_type": "code",
   "execution_count": 122,
   "metadata": {},
   "outputs": [
    {
     "data": {
      "text/plain": [
       "1.0902178998730032"
      ]
     },
     "execution_count": 122,
     "metadata": {},
     "output_type": "execute_result"
    }
   ],
   "source": [
    "lineupCollecter.ave_ppp"
   ]
  },
  {
   "cell_type": "code",
   "execution_count": 225,
   "metadata": {},
   "outputs": [],
   "source": [
    "num_players = len(all_players) # 540\n",
    "num_teams = len(all_teams) # 30\n",
    "num_lineups = len(lineupCollecter.lineups) # 60950\n",
    "X = np.zeros((num_lineups, (num_players+num_teams)*2))\n",
    "y = np.zeros(num_lineups)\n",
    "sample_weights = np.zeros(num_lineups)\n",
    "\n",
    "for i, (lineup, lineupStats) in enumerate(lineupCollecter.lineups.items()):\n",
    "    y[i] = lineupStats.points/lineupStats.possessions - lineupCollecter.ave_ppp # () * possessions\n",
    "    sample_weights[i] = lineupStats.possessions\n",
    "    j = all_teams[lineup.off_team].index  # num_players +\n",
    "    X[i, 2*j] = 1\n",
    "    j = all_teams[lineup.def_team].index  # num_players +\n",
    "    X[i, 2*j+1] = 1\n",
    "    # for player_id in lineup.off_players.split(\"-\"):  # Off\n",
    "    #     j = all_players[int(player_id)].index\n",
    "    #     X[i, 2*j] = 1 # lineupStats.possessions\n",
    "    # for player_id in lineup.def_players.split(\"-\"):  # Def\n",
    "    #     j = all_players[int(player_id)].index\n",
    "    #     X[i, 2*j+1] = 1 # lineupStats.possessions\n",
    "\n",
    "# For offense and defence seperately\n",
    "        "
   ]
  },
  {
   "cell_type": "code",
   "execution_count": 172,
   "metadata": {},
   "outputs": [],
   "source": [
    "prior = 1000\n",
    "player_interactions = X.T @ X + np.eye(num_players*2)*prior\n",
    "converter = np.linalg.inv(player_interactions) @ X.T\n",
    "apms = converter @ y"
   ]
  },
  {
   "cell_type": "code",
   "execution_count": 173,
   "metadata": {},
   "outputs": [],
   "source": [
    "for player in all_players.values():\n",
    "    j = player.index\n",
    "    player.opm = apms[j*2]*100 \n",
    "    player.dpm = apms[j*2+1]*100\n"
   ]
  },
  {
   "cell_type": "code",
   "execution_count": null,
   "metadata": {},
   "outputs": [],
   "source": [
    "for player in sorted(all_players.values(), key=lambda p: p.opm, reverse=True):\n",
    "    print(player.name, player.opm, player.dpm, player.pm)\n"
   ]
  },
  {
   "cell_type": "code",
   "execution_count": null,
   "metadata": {},
   "outputs": [],
   "source": [
    "# reg = linear_model.Ridge(alpha=100, fit_intercept=False)\n",
    "reg = linear_model.Ridge(fit_intercept=False, alpha=1)\n",
    "reg.fit(X, y, sample_weight=sample_weights)\n",
    "\n",
    "# for player in all_players.values():\n",
    "#     j = player.index\n",
    "#     player.opm = reg.coef_[j*2]*100\n",
    "#     player.dpm = reg.coef_[j*2+1]*100\n",
    "\n",
    "# for player in sorted(all_players.values(), key=lambda p: p.pm, reverse=True):\n",
    "#     print(player.name, player.opm, player.dpm, player.pm)\n",
    "\n",
    "for team in all_teams.values():\n",
    "    j = team.index  # num_players\n",
    "    team.opm = reg.coef_[j*2]*100\n",
    "    team.dpm = reg.coef_[j*2+1]*100\n",
    "\n",
    "for team in sorted(all_teams.values(), key=lambda t: t.pm, reverse=True):\n",
    "    print(team.name, team.opm, team.dpm, team.pm)\n",
    "\n"
   ]
  },
  {
   "cell_type": "code",
   "execution_count": null,
   "metadata": {},
   "outputs": [],
   "source": [
    "\n",
    "for player in all_players.values():\n",
    "    j = player.index\n",
    "    player.opm = reg.estimator_.coef_[j*2]*100\n",
    "    player.dpm = reg.estimator_.coef_[j*2+1]*100\n",
    "\n",
    "for player in sorted(all_players.values(), key=lambda p: p.pm, reverse=True):\n",
    "    print(player.name, player.opm, player.dpm, player.pm)\n"
   ]
  },
  {
   "cell_type": "code",
   "execution_count": 224,
   "metadata": {},
   "outputs": [
    {
     "data": {
      "text/plain": [
       "1"
      ]
     },
     "execution_count": 224,
     "metadata": {},
     "output_type": "execute_result"
    }
   ],
   "source": [
    "# stats: defaultdict[str, set] = defaultdict(set)\n",
    "# for pos in game.possessions.items:\n",
    "#     for stat in pos.possession_stats:\n",
    "#         stats[stat['stat_key']].add(stat['stat_value'])\n",
    "# stats\n",
    "game.possessions.items[8].period\n"
   ]
  },
  {
   "cell_type": "code",
   "execution_count": null,
   "metadata": {},
   "outputs": [],
   "source": [
    "# team ratings\n",
    "# from just this season\n"
   ]
  },
  {
   "cell_type": "code",
   "execution_count": null,
   "metadata": {},
   "outputs": [],
   "source": [
    "# chance to win \n",
    "# y = if the team won\n",
    "# X = point differential, time left, have ball?, home?, team rating, opponent team rating"
   ]
  }
 ],
 "metadata": {
  "interpreter": {
   "hash": "91bf7612c7ed8d2f84c49e6080371137b1ceb87e3d1dfcf598275b8f66797bc1"
  },
  "kernelspec": {
   "display_name": "Python 3.10.0 64-bit ('.venv': venv)",
   "language": "python",
   "name": "python3"
  },
  "language_info": {
   "codemirror_mode": {
    "name": "ipython",
    "version": 3
   },
   "file_extension": ".py",
   "mimetype": "text/x-python",
   "name": "python",
   "nbconvert_exporter": "python",
   "pygments_lexer": "ipython3",
   "version": "3.10.0"
  },
  "orig_nbformat": 4
 },
 "nbformat": 4,
 "nbformat_minor": 2
}
